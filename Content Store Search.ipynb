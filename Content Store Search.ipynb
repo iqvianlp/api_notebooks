{
 "cells": [
  {
   "cell_type": "markdown",
   "id": "0a73f289",
   "metadata": {},
   "source": [
    "# IQVIA NLP - Content Store Search\n",
    "\n",
    "## API Description\n",
    "In today’s complex and competitive environment finding the right data to generate the right insight matters. External sources contain vast amounts of rich data but going source by source, searching for and ingesting the right data is time consuming and takes vital time away from developing impactful insights. The IQVIA NLP Content Store APIs are your go-to resource for keeping your team’s focus out of the data weeds and where it belongs: making strategic decisions to achieve your goals.\n",
    "\n",
    "## Accessing the API\n",
    "In order to consume this API, you will first need to request access to the Content Store API via this link:\n",
    "https://api-marketplace.work.iqvia.com/s/communityapi/a085w00000yu12lAAA/external-api-marketplaceiqvianlpcontentstoresearch .\n",
    "\n",
    "Please refer to \"API Documentation\" to learn more about accessing and using the API.\n",
    "\n",
    "## Notebook Description\n",
    "This notebook is designed to show users an example of using the IQVIA NLP - Content Store Search API.\n",
    "\n",
    "### Authorization\n",
    "The instructions for getting your credentials and the API endpoint URL can be found under the section \"Get Started\" and \"How to use the API\" following this link: https://api-marketplace.work.iqvia.com/s/communityapi/a085w00000yu12lAAA/external-api-marketplaceiqvianlpcontentstoresearch"
   ]
  },
  {
   "cell_type": "code",
   "execution_count": null,
   "id": "301249eb",
   "metadata": {
    "pycharm": {
     "name": "#%%\n"
    }
   },
   "outputs": [],
   "source": [
    "import getpass\n",
    "import requests\n",
    "\n",
    "# In this demo scenario, URL for US based customers\n",
    "# api_marketplace_url = 'https://vt.us-rds.solutions.iqvia.com/easl/api/v1/easl'\n",
    "# In this demo scenario, URL for EU based customers\n",
    "api_marketplace_url = 'https://vt.eu-apim.solutions.iqvia.com/eu/easl/api/v1/easl'\n",
    "\n",
    "mkp_user = input(\"Marketplace clientId: \")\n",
    "mkp_password = getpass.getpass(\"Marketplace clientSecret: \")\n",
    "mkp_headers = {'clientId': mkp_user, 'clientSecret': mkp_password}\n",
    "\n",
    "# Check credentials by making a dummy request\n",
    "print(\"Thanks for inputting your user name and password!\")"
   ]
  },
  {
   "cell_type": "markdown",
   "id": "3c190075",
   "metadata": {
    "pycharm": {
     "name": "#%% md\n"
    }
   },
   "source": [
    "### Example: Make a request with I2E query on selected I2E index\n",
    "Content Store Search API expects an I2E query and an Index name as input parameter. This example shows how to make a request to the API with a pre-configured API from  as input."
   ]
  },
  {
   "cell_type": "code",
   "execution_count": 4,
   "id": "c0413fe6",
   "metadata": {
    "pycharm": {
     "name": "#%%\n"
    }
   },
   "outputs": [
    {
     "name": "stdout",
     "output_type": "stream",
     "text": [
      "Posting query request...\n",
      "Success!\n",
      "Raw JSON response from the API is: {'id': '0cffce8a-f9b7-4024-8429-2d48dd091d2f', 'status': 'PENDING', 'submission_time': '2022-09-28T11:03:06.066308Z', 'completion_time': None}\n"
     ]
    }
   ],
   "source": [
    "import requests\n",
    "import os\n",
    "\n",
    "# Define input query and index to run\n",
    "input_query = os.path.join(os.getcwd(), \"demo_queries/Content_Store_Search-Post_EASL_Run/biomkr_reln-covid19_disease.i2qy\")\n",
    "index_name = \"medline-full\"\n",
    "\n",
    "# Make a request\n",
    "print(\"Posting query request...\")\n",
    "with open(input_query, \"r\") as query:\n",
    "    response = requests.post(api_marketplace_url, headers=mkp_headers, files=dict(query=(input_query, query, \"application/vnd.linguamatics.i2e.i2qy\")), data=dict(index_name=index_name))\n",
    "\n",
    "# Check the response\n",
    "if response.status_code == 200:\n",
    "    print(\"Success!\")\n",
    "    body_json = response.json()\n",
    "    print(f\"Raw JSON response from the API is: {body_json}\")\n",
    "else:\n",
    "    raise Exception(f\"Error: {response}\")\n"
   ]
  },
  {
   "cell_type": "markdown",
   "id": "c667db66",
   "metadata": {
    "pycharm": {
     "name": "#%% md\n"
    }
   },
   "source": [
    "Now that we have got the JSON response from the Post EASL Run API, we could get the response with the GET endpoint for the run id returned."
   ]
  },
  {
   "cell_type": "code",
   "execution_count": 6,
   "id": "64dce785",
   "metadata": {
    "pycharm": {
     "name": "#%%\n"
    }
   },
   "outputs": [
    {
     "name": "stdout",
     "output_type": "stream",
     "text": [
      "Success!\n",
      "Raw JSON response from the API is: {'id': '0cffce8a-f9b7-4024-8429-2d48dd091d2f', 'results': [{'Doc': '36149303', 'IndexName': 'medline-full'}, {'Doc': '36146835', 'IndexName': 'medline-full'}, {'Doc': '36143448', 'IndexName': 'medline-full'}, {'Doc': '36143338', 'IndexName': 'medline-full'}, {'Doc': '36143280', 'IndexName': 'medline-full'}, {'Doc': '36143211', 'IndexName': 'medline-full'}, {'Doc': '36143072', 'IndexName': 'medline-full'}, {'Doc': '36142913', 'IndexName': 'medline-full'}, {'Doc': '36142336', 'IndexName': 'medline-full'}, {'Doc': '36140771', 'IndexName': 'medline-full'}, {'Doc': '36140551', 'IndexName': 'medline-full'}, {'Doc': '36140543', 'IndexName': 'medline-full'}, {'Doc': '36140490', 'IndexName': 'medline-full'}, {'Doc': '36140471', 'IndexName': 'medline-full'}, {'Doc': '36140453', 'IndexName': 'medline-full'}, {'Doc': '36140055', 'IndexName': 'medline-full'}, {'Doc': '36139946', 'IndexName': 'medline-full'}, {'Doc': '36139597', 'IndexName': 'medline-full'}, {'Doc': '36139072', 'IndexName': 'medline-full'}, {'Doc': '36138306', 'IndexName': 'medline-full'}, {'Doc': '36138150', 'IndexName': 'medline-full'}, {'Doc': '36136251', 'IndexName': 'medline-full'}, {'Doc': '36136238', 'IndexName': 'medline-full'}, {'Doc': '36135003', 'IndexName': 'medline-full'}, {'Doc': '36134517', 'IndexName': 'medline-full'}, {'Doc': '36131504', 'IndexName': 'medline-full'}, {'Doc': '36131342', 'IndexName': 'medline-full'}, {'Doc': '36129404', 'IndexName': 'medline-full'}, {'Doc': '36129169', 'IndexName': 'medline-full'}, {'Doc': '36129046', 'IndexName': 'medline-full'}, {'Doc': '36126729', 'IndexName': 'medline-full'}, {'Doc': '36125534', 'IndexName': 'medline-full'}, {'Doc': '36125526', 'IndexName': 'medline-full'}, {'Doc': '36125152', 'IndexName': 'medline-full'}, {'Doc': '36125149', 'IndexName': 'medline-full'}, {'Doc': '36124586', 'IndexName': 'medline-full'}, {'Doc': '36124564', 'IndexName': 'medline-full'}, {'Doc': '36124254', 'IndexName': 'medline-full'}, {'Doc': '36123837', 'IndexName': 'medline-full'}, {'Doc': '36123740', 'IndexName': 'medline-full'}, {'Doc': '36123519', 'IndexName': 'medline-full'}, {'Doc': '36123384', 'IndexName': 'medline-full'}, {'Doc': '36119415', 'IndexName': 'medline-full'}, {'Doc': '36117150', 'IndexName': 'medline-full'}, {'Doc': '36116608', 'IndexName': 'medline-full'}, {'Doc': '36116582', 'IndexName': 'medline-full'}, {'Doc': '36114671', 'IndexName': 'medline-full'}, {'Doc': '36114180', 'IndexName': 'medline-full'}, {'Doc': '36112136', 'IndexName': 'medline-full'}, {'Doc': '36111943', 'IndexName': 'medline-full'}, {'Doc': '36111942', 'IndexName': 'medline-full'}, {'Doc': '36111789', 'IndexName': 'medline-full'}, {'Doc': '36111618', 'IndexName': 'medline-full'}, {'Doc': '36111511', 'IndexName': 'medline-full'}, {'Doc': '36111172', 'IndexName': 'medline-full'}, {'Doc': '36109825', 'IndexName': 'medline-full'}, {'Doc': '36106817', 'IndexName': 'medline-full'}, {'Doc': '36106293', 'IndexName': 'medline-full'}, {'Doc': '36104754', 'IndexName': 'medline-full'}, {'Doc': '36104292', 'IndexName': 'medline-full'}, {'Doc': '36104128', 'IndexName': 'medline-full'}, {'Doc': '36104051', 'IndexName': 'medline-full'}, {'Doc': '36102943', 'IndexName': 'medline-full'}, {'Doc': '36102684', 'IndexName': 'medline-full'}, {'Doc': '36102258', 'IndexName': 'medline-full'}, {'Doc': '36099790', 'IndexName': 'medline-full'}, {'Doc': '36099709', 'IndexName': 'medline-full'}, {'Doc': '36097650', 'IndexName': 'medline-full'}, {'Doc': '36097568', 'IndexName': 'medline-full'}, {'Doc': '36097300', 'IndexName': 'medline-full'}, {'Doc': '36096223', 'IndexName': 'medline-full'}, {'Doc': '36093351', 'IndexName': 'medline-full'}, {'Doc': '36090302', 'IndexName': 'medline-full'}, {'Doc': '36089786', 'IndexName': 'medline-full'}, {'Doc': '36086941', 'IndexName': 'medline-full'}, {'Doc': '36086888', 'IndexName': 'medline-full'}, {'Doc': '36084236', 'IndexName': 'medline-full'}, {'Doc': '36083979', 'IndexName': 'medline-full'}, {'Doc': '36080827', 'IndexName': 'medline-full'}, {'Doc': '36079087', 'IndexName': 'medline-full'}, {'Doc': '36078166', 'IndexName': 'medline-full'}, {'Doc': '36077708', 'IndexName': 'medline-full'}, {'Doc': '36077506', 'IndexName': 'medline-full'}, {'Doc': '36077133', 'IndexName': 'medline-full'}, {'Doc': '36076479', 'IndexName': 'medline-full'}, {'Doc': '36076201', 'IndexName': 'medline-full'}, {'Doc': '36075519', 'IndexName': 'medline-full'}, {'Doc': '36073142', 'IndexName': 'medline-full'}, {'Doc': '36072696', 'IndexName': 'medline-full'}, {'Doc': '36069646', 'IndexName': 'medline-full'}, {'Doc': '36067902', 'IndexName': 'medline-full'}, {'Doc': '36066651', 'IndexName': 'medline-full'}, {'Doc': '36065322', 'IndexName': 'medline-full'}, {'Doc': '36065116', 'IndexName': 'medline-full'}, {'Doc': '36065102', 'IndexName': 'medline-full'}, {'Doc': '36064600', 'IndexName': 'medline-full'}, {'Doc': '36062360', 'IndexName': 'medline-full'}, {'Doc': '36058981', 'IndexName': 'medline-full'}, {'Doc': '36058945', 'IndexName': 'medline-full'}, {'Doc': '36058144', 'IndexName': 'medline-full'}, {'Doc': '36057526', 'IndexName': 'medline-full'}, {'Doc': '36056748', 'IndexName': 'medline-full'}, {'Doc': '36056655', 'IndexName': 'medline-full'}, {'Doc': '36056114', 'IndexName': 'medline-full'}, {'Doc': '36055751', 'IndexName': 'medline-full'}, {'Doc': '36054369', 'IndexName': 'medline-full'}, {'Doc': '36053846', 'IndexName': 'medline-full'}, {'Doc': '36052466', 'IndexName': 'medline-full'}, {'Doc': '36050372', 'IndexName': 'medline-full'}, {'Doc': '36049601', 'IndexName': 'medline-full'}, {'Doc': '36042524', 'IndexName': 'medline-full'}, {'Doc': '36042189', 'IndexName': 'medline-full'}, {'Doc': '36041621', 'IndexName': 'medline-full'}, {'Doc': '36040475', 'IndexName': 'medline-full'}, {'Doc': '36039844', 'IndexName': 'medline-full'}, {'Doc': '36039655', 'IndexName': 'medline-full'}, {'Doc': '36038841', 'IndexName': 'medline-full'}, {'Doc': '36038496', 'IndexName': 'medline-full'}, {'Doc': '36038172', 'IndexName': 'medline-full'}, {'Doc': '36038109', 'IndexName': 'medline-full'}, {'Doc': '36037760', 'IndexName': 'medline-full'}, {'Doc': '36037521', 'IndexName': 'medline-full'}, {'Doc': '36037469', 'IndexName': 'medline-full'}, {'Doc': '36036173', 'IndexName': 'medline-full'}, {'Doc': '36036090', 'IndexName': 'medline-full'}, {'Doc': '36035633', 'IndexName': 'medline-full'}, {'Doc': '36032214', 'IndexName': 'medline-full'}, {'Doc': '36031619', 'IndexName': 'medline-full'}, {'Doc': '36030781', 'IndexName': 'medline-full'}, {'Doc': '36030667', 'IndexName': 'medline-full'}, {'Doc': '36029484', 'IndexName': 'medline-full'}, {'Doc': '36029386', 'IndexName': 'medline-full'}, {'Doc': '36029180', 'IndexName': 'medline-full'}, {'Doc': '36029131', 'IndexName': 'medline-full'}, {'Doc': '36029073', 'IndexName': 'medline-full'}, {'Doc': '36028776', 'IndexName': 'medline-full'}, {'Doc': '36026599', 'IndexName': 'medline-full'}, {'Doc': '36018729', 'IndexName': 'medline-full'}, {'Doc': '36016187', 'IndexName': 'medline-full'}, {'Doc': '36016121', 'IndexName': 'medline-full'}, {'Doc': '36014912', 'IndexName': 'medline-full'}, {'Doc': '36012423', 'IndexName': 'medline-full'}, {'Doc': '36011997', 'IndexName': 'medline-full'}, {'Doc': '36010630', 'IndexName': 'medline-full'}, {'Doc': '36010557', 'IndexName': 'medline-full'}, {'Doc': '36010321', 'IndexName': 'medline-full'}, {'Doc': '36009579', 'IndexName': 'medline-full'}, {'Doc': '36009555', 'IndexName': 'medline-full'}, {'Doc': '36008772', 'IndexName': 'medline-full'}, {'Doc': '36008193', 'IndexName': 'medline-full'}, {'Doc': '36006559', 'IndexName': 'medline-full'}, {'Doc': '36006288', 'IndexName': 'medline-full'}, {'Doc': '36005018', 'IndexName': 'medline-full'}, {'Doc': '36002874', 'IndexName': 'medline-full'}, {'Doc': '35999991', 'IndexName': 'medline-full'}, {'Doc': '35999871', 'IndexName': 'medline-full'}, {'Doc': '35998023', 'IndexName': 'medline-full'}, {'Doc': '35996885', 'IndexName': 'medline-full'}, {'Doc': '35995830', 'IndexName': 'medline-full'}, {'Doc': '35994163', 'IndexName': 'medline-full'}, {'Doc': '35994017', 'IndexName': 'medline-full'}, {'Doc': '35993654', 'IndexName': 'medline-full'}, {'Doc': '35993433', 'IndexName': 'medline-full'}, {'Doc': '35992221', 'IndexName': 'medline-full'}, {'Doc': '35989498', 'IndexName': 'medline-full'}, {'Doc': '35989496', 'IndexName': 'medline-full'}, {'Doc': '35983930', 'IndexName': 'medline-full'}, {'Doc': '35983268', 'IndexName': 'medline-full'}, {'Doc': '35982667', 'IndexName': 'medline-full'}, {'Doc': '35982068', 'IndexName': 'medline-full'}, {'Doc': '35981973', 'IndexName': 'medline-full'}, {'Doc': '35980828', 'IndexName': 'medline-full'}, {'Doc': '35980161', 'IndexName': 'medline-full'}, {'Doc': '35979935', 'IndexName': 'medline-full'}, {'Doc': '35978159', 'IndexName': 'medline-full'}, {'Doc': '35976444', 'IndexName': 'medline-full'}, {'Doc': '35976136', 'IndexName': 'medline-full'}, {'Doc': '35975512', 'IndexName': 'medline-full'}, {'Doc': '35975379', 'IndexName': 'medline-full'}, {'Doc': '35975339', 'IndexName': 'medline-full'}, {'Doc': '35973116', 'IndexName': 'medline-full'}, {'Doc': '35972987', 'IndexName': 'medline-full'}, {'Doc': '35971810', 'IndexName': 'medline-full'}, {'Doc': '35971789', 'IndexName': 'medline-full'}, {'Doc': '35970970', 'IndexName': 'medline-full'}, {'Doc': '35970928', 'IndexName': 'medline-full'}, {'Doc': '35969726', 'IndexName': 'medline-full'}, {'Doc': '35968795', 'IndexName': 'medline-full'}, {'Doc': '35968255', 'IndexName': 'medline-full'}, {'Doc': '35965430', 'IndexName': 'medline-full'}, {'Doc': '35964839', 'IndexName': 'medline-full'}, {'Doc': '35962405', 'IndexName': 'medline-full'}, {'Doc': '35962146', 'IndexName': 'medline-full'}, {'Doc': '35960307', 'IndexName': 'medline-full'}, {'Doc': '35959906', 'IndexName': 'medline-full'}, {'Doc': '35959207', 'IndexName': 'medline-full'}, {'Doc': '35958514', 'IndexName': 'medline-full'}, {'Doc': '35956159', 'IndexName': 'medline-full'}, {'Doc': '35950953', 'IndexName': 'medline-full'}, {'Doc': '35950823', 'IndexName': 'medline-full'}, {'Doc': '35950722', 'IndexName': 'medline-full'}, {'Doc': '35950481', 'IndexName': 'medline-full'}, {'Doc': '35950263', 'IndexName': 'medline-full'}, {'Doc': '35949116', 'IndexName': 'medline-full'}, {'Doc': '35948809', 'IndexName': 'medline-full'}, {'Doc': '35948305', 'IndexName': 'medline-full'}, {'Doc': '35947059', 'IndexName': 'medline-full'}, {'Doc': '35946904', 'IndexName': 'medline-full'}, {'Doc': '35945769', 'IndexName': 'medline-full'}, {'Doc': '35945626', 'IndexName': 'medline-full'}, {'Doc': '35944880', 'IndexName': 'medline-full'}, {'Doc': '35944718', 'IndexName': 'medline-full'}, {'Doc': '35944663', 'IndexName': 'medline-full'}, {'Doc': '35941084', 'IndexName': 'medline-full'}, {'Doc': '35940203', 'IndexName': 'medline-full'}, {'Doc': '35939907', 'IndexName': 'medline-full'}, {'Doc': '35939103', 'IndexName': 'medline-full'}, {'Doc': '35938314', 'IndexName': 'medline-full'}, {'Doc': '35937954', 'IndexName': 'medline-full'}, {'Doc': '35937953', 'IndexName': 'medline-full'}, {'Doc': '35937587', 'IndexName': 'medline-full'}, {'Doc': '35937088', 'IndexName': 'medline-full'}, {'Doc': '35929818', 'IndexName': 'medline-full'}, {'Doc': '35929757', 'IndexName': 'medline-full'}, {'Doc': '35926945', 'IndexName': 'medline-full'}, {'Doc': '35922752', 'IndexName': 'medline-full'}, {'Doc': '35922738', 'IndexName': 'medline-full'}, {'Doc': '35922152', 'IndexName': 'medline-full'}, {'Doc': '35920837', 'IndexName': 'medline-full'}, {'Doc': '35920823', 'IndexName': 'medline-full'}, {'Doc': '35918160', 'IndexName': 'medline-full'}, {'Doc': '35916189', 'IndexName': 'medline-full'}, {'Doc': '35915975', 'IndexName': 'medline-full'}, {'Doc': '35915642', 'IndexName': 'medline-full'}, {'Doc': '35915565', 'IndexName': 'medline-full'}, {'Doc': '35912863', 'IndexName': 'medline-full'}, {'Doc': '35912413', 'IndexName': 'medline-full'}, {'Doc': '35909187', 'IndexName': 'medline-full'}, {'Doc': '35908372', 'IndexName': 'medline-full'}, {'Doc': '35905000', 'IndexName': 'medline-full'}, {'Doc': '35904995', 'IndexName': 'medline-full'}, {'Doc': '35902374', 'IndexName': 'medline-full'}, {'Doc': '35900380', 'IndexName': 'medline-full'}, {'Doc': '35900077', 'IndexName': 'medline-full'}, {'Doc': '35894709', 'IndexName': 'medline-full'}, {'Doc': '35881214', 'IndexName': 'medline-full'}, {'Doc': '35878844', 'IndexName': 'medline-full'}, {'Doc': '35870694', 'IndexName': 'medline-full'}, {'Doc': '35868344', 'IndexName': 'medline-full'}, {'Doc': '35868205', 'IndexName': 'medline-full'}, {'Doc': '35867189', 'IndexName': 'medline-full'}, {'Doc': '35855966', 'IndexName': 'medline-full'}, {'Doc': '35855633', 'IndexName': 'medline-full'}, {'Doc': '35855515', 'IndexName': 'medline-full'}, {'Doc': '35852851', 'IndexName': 'medline-full'}, {'Doc': '35852546', 'IndexName': 'medline-full'}, {'Doc': '35852070', 'IndexName': 'medline-full'}, {'Doc': '35842055', 'IndexName': 'medline-full'}, {'Doc': '35841187', 'IndexName': 'medline-full'}, {'Doc': '35840817', 'IndexName': 'medline-full'}, {'Doc': '35840771', 'IndexName': 'medline-full'}, {'Doc': '35839342', 'IndexName': 'medline-full'}, {'Doc': '35837843', 'IndexName': 'medline-full'}, {'Doc': '35835712', 'IndexName': 'medline-full'}, {'Doc': '35834150', 'IndexName': 'medline-full'}, {'Doc': '35833360', 'IndexName': 'medline-full'}, {'Doc': '35829723', 'IndexName': 'medline-full'}, {'Doc': '35818571', 'IndexName': 'medline-full'}, {'Doc': '35816990', 'IndexName': 'medline-full'}, {'Doc': '35810548', 'IndexName': 'medline-full'}, {'Doc': '35809024', 'IndexName': 'medline-full'}, {'Doc': '35804273', 'IndexName': 'medline-full'}, {'Doc': '35798564', 'IndexName': 'medline-full'}, {'Doc': '35796878', 'IndexName': 'medline-full'}, {'Doc': '35789499', 'IndexName': 'medline-full'}, {'Doc': '35787998', 'IndexName': 'medline-full'}, {'Doc': '35787147', 'IndexName': 'medline-full'}, {'Doc': '35781591', 'IndexName': 'medline-full'}, {'Doc': '35781017', 'IndexName': 'medline-full'}, {'Doc': '35780481', 'IndexName': 'medline-full'}, {'Doc': '35773208', 'IndexName': 'medline-full'}, {'Doc': '35772223', 'IndexName': 'medline-full'}, {'Doc': '35768051', 'IndexName': 'medline-full'}, {'Doc': '35767287', 'IndexName': 'medline-full'}, {'Doc': '35765707', 'IndexName': 'medline-full'}, {'Doc': '35765218', 'IndexName': 'medline-full'}, {'Doc': '35753029', 'IndexName': 'medline-full'}, {'Doc': '35752131', 'IndexName': 'medline-full'}, {'Doc': '35751656', 'IndexName': 'medline-full'}, {'Doc': '35751642', 'IndexName': 'medline-full'}, {'Doc': '35749754', 'IndexName': 'medline-full'}, {'Doc': '35748906', 'IndexName': 'medline-full'}, {'Doc': '35748857', 'IndexName': 'medline-full'}, {'Doc': '35748316', 'IndexName': 'medline-full'}, {'Doc': '35747786', 'IndexName': 'medline-full'}, {'Doc': '35734900', 'IndexName': 'medline-full'}, {'Doc': '35730635', 'IndexName': 'medline-full'}, {'Doc': '35728365', 'IndexName': 'medline-full'}, {'Doc': '35727491', 'IndexName': 'medline-full'}, {'Doc': '35723351', 'IndexName': 'medline-full'}, {'Doc': '35721225', 'IndexName': 'medline-full'}, {'Doc': '35719030', 'IndexName': 'medline-full'}, {'Doc': '35717836', 'IndexName': 'medline-full'}, {'Doc': '35709568', 'IndexName': 'medline-full'}, {'Doc': '35706352', 'IndexName': 'medline-full'}, {'Doc': '35705514', 'IndexName': 'medline-full'}, {'Doc': '35704707', 'IndexName': 'medline-full'}, {'Doc': '35704169', 'IndexName': 'medline-full'}, {'Doc': '35698744', 'IndexName': 'medline-full'}, {'Doc': '35695907', 'IndexName': 'medline-full'}, {'Doc': '35691587', 'IndexName': 'medline-full'}, {'Doc': '35690992', 'IndexName': 'medline-full'}, {'Doc': '35688720', 'IndexName': 'medline-full'}, {'Doc': '35687925', 'IndexName': 'medline-full'}, {'Doc': '35680610', 'IndexName': 'medline-full'}, {'Doc': '35674283', 'IndexName': 'medline-full'}, {'Doc': '35672014', 'IndexName': 'medline-full'}, {'Doc': '35667877', 'IndexName': 'medline-full'}, {'Doc': '35667065', 'IndexName': 'medline-full'}, {'Doc': '35657437', 'IndexName': 'medline-full'}, {'Doc': '35647937', 'IndexName': 'medline-full'}, {'Doc': '35643306', 'IndexName': 'medline-full'}, {'Doc': '35636966', 'IndexName': 'medline-full'}, {'Doc': '35635888', 'IndexName': 'medline-full'}, {'Doc': '35635676', 'IndexName': 'medline-full'}, {'Doc': '35623254', 'IndexName': 'medline-full'}, {'Doc': '35622504', 'IndexName': 'medline-full'}, {'Doc': '35618148', 'IndexName': 'medline-full'}, {'Doc': '35607951', 'IndexName': 'medline-full'}, {'Doc': '35607844', 'IndexName': 'medline-full'}, {'Doc': '35597450', 'IndexName': 'medline-full'}, {'Doc': '35596104', 'IndexName': 'medline-full'}, {'Doc': '35581532', 'IndexName': 'medline-full'}, {'Doc': '35576015', 'IndexName': 'medline-full'}, {'Doc': '35569273', 'IndexName': 'medline-full'}, {'Doc': '35562628', 'IndexName': 'medline-full'}, {'Doc': '35561781', 'IndexName': 'medline-full'}, {'Doc': '35558638', 'IndexName': 'medline-full'}, {'Doc': '35552501', 'IndexName': 'medline-full'}, {'Doc': '35531750', 'IndexName': 'medline-full'}, {'Doc': '35522239', 'IndexName': 'medline-full'}, {'Doc': '35510650', 'IndexName': 'medline-full'}, {'Doc': '35506823', 'IndexName': 'medline-full'}, {'Doc': '35505820', 'IndexName': 'medline-full'}, {'Doc': '35503130', 'IndexName': 'medline-full'}, {'Doc': '35501615', 'IndexName': 'medline-full'}, {'Doc': '35490788', 'IndexName': 'medline-full'}, {'Doc': '35482929', 'IndexName': 'medline-full'}, {'Doc': '35478470', 'IndexName': 'medline-full'}, {'Doc': '35460539', 'IndexName': 'medline-full'}, {'Doc': '35451557', 'IndexName': 'medline-full'}, {'Doc': '35445260', 'IndexName': 'medline-full'}, {'Doc': '35437316', 'IndexName': 'medline-full'}, {'Doc': '35421481', 'IndexName': 'medline-full'}, {'Doc': '35418695', 'IndexName': 'medline-full'}, {'Doc': '35367933', 'IndexName': 'medline-full'}, {'Doc': '35366343', 'IndexName': 'medline-full'}, {'Doc': '35364700', 'IndexName': 'medline-full'}, {'Doc': '35362751', 'IndexName': 'medline-full'}, {'Doc': '35357063', 'IndexName': 'medline-full'}, {'Doc': '35351411', 'IndexName': 'medline-full'}, {'Doc': '35323932', 'IndexName': 'medline-full'}, {'Doc': '35322409', 'IndexName': 'medline-full'}, {'Doc': '35304621', 'IndexName': 'medline-full'}, {'Doc': '35294611', 'IndexName': 'medline-full'}, {'Doc': '35290573', 'IndexName': 'medline-full'}, {'Doc': '35277828', 'IndexName': 'medline-full'}, {'Doc': '35257465', 'IndexName': 'medline-full'}, {'Doc': '35243690', 'IndexName': 'medline-full'}, {'Doc': '35235130', 'IndexName': 'medline-full'}, {'Doc': '35199931', 'IndexName': 'medline-full'}, {'Doc': '35199888', 'IndexName': 'medline-full'}, {'Doc': '35199285', 'IndexName': 'medline-full'}, {'Doc': '35181849', 'IndexName': 'medline-full'}, {'Doc': '35165040', 'IndexName': 'medline-full'}, {'Doc': '35068245', 'IndexName': 'medline-full'}, {'Doc': '35066575', 'IndexName': 'medline-full'}, {'Doc': '35046517', 'IndexName': 'medline-full'}, {'Doc': '34990070', 'IndexName': 'medline-full'}, {'Doc': '34986035', 'IndexName': 'medline-full'}, {'Doc': '34894121', 'IndexName': 'medline-full'}, {'Doc': '34741678', 'IndexName': 'medline-full'}, {'Doc': '34698871', 'IndexName': 'medline-full'}, {'Doc': '34617343', 'IndexName': 'medline-full'}, {'Doc': '34562193', 'IndexName': 'medline-full'}, {'Doc': '34560701', 'IndexName': 'medline-full'}, {'Doc': '34535885', 'IndexName': 'medline-full'}, {'Doc': '34529237', 'IndexName': 'medline-full'}, {'Doc': '34510311', 'IndexName': 'medline-full'}, {'Doc': '34378814', 'IndexName': 'medline-full'}, {'Doc': '34374938', 'IndexName': 'medline-full'}], 'status': {'label': 'SUCCESS', 'details': None}, 'submission_time': '2022-09-28T11:03:06.066308Z', 'completion_time': '2022-09-28T11:03:26.657176Z'}\n"
     ]
    }
   ],
   "source": [
    "run_id = body_json[\"id\"]\n",
    "run_url = api_marketplace_url+\"/\"+run_id\n",
    "\n",
    "response = requests.get(run_url, headers=mkp_headers)\n",
    "\n",
    "# Check the response\n",
    "if response.status_code == 200:\n",
    "    print(\"Success!\")\n",
    "    body = response.json()\n",
    "    print(f\"Raw JSON response from the API is: {body}\")\n",
    "else:\n",
    "    raise Exception(f\"Error: {response}\")\n"
   ]
  },
  {
   "cell_type": "markdown",
   "id": "64eeb2d3",
   "metadata": {},
   "source": [
    "Get the list of document ID returned by the API."
   ]
  },
  {
   "cell_type": "code",
   "execution_count": 7,
   "id": "afdcdad8",
   "metadata": {
    "pycharm": {
     "name": "#%%\n"
    }
   },
   "outputs": [
    {
     "name": "stdout",
     "output_type": "stream",
     "text": [
      "Document IDs are: ['36149303', '36146835', '36143448', '36143338', '36143280', '36143211', '36143072', '36142913', '36142336', '36140771', '36140551', '36140543', '36140490', '36140471', '36140453', '36140055', '36139946', '36139597', '36139072', '36138306', '36138150', '36136251', '36136238', '36135003', '36134517', '36131504', '36131342', '36129404', '36129169', '36129046', '36126729', '36125534', '36125526', '36125152', '36125149', '36124586', '36124564', '36124254', '36123837', '36123740', '36123519', '36123384', '36119415', '36117150', '36116608', '36116582', '36114671', '36114180', '36112136', '36111943', '36111942', '36111789', '36111618', '36111511', '36111172', '36109825', '36106817', '36106293', '36104754', '36104292', '36104128', '36104051', '36102943', '36102684', '36102258', '36099790', '36099709', '36097650', '36097568', '36097300', '36096223', '36093351', '36090302', '36089786', '36086941', '36086888', '36084236', '36083979', '36080827', '36079087', '36078166', '36077708', '36077506', '36077133', '36076479', '36076201', '36075519', '36073142', '36072696', '36069646', '36067902', '36066651', '36065322', '36065116', '36065102', '36064600', '36062360', '36058981', '36058945', '36058144', '36057526', '36056748', '36056655', '36056114', '36055751', '36054369', '36053846', '36052466', '36050372', '36049601', '36042524', '36042189', '36041621', '36040475', '36039844', '36039655', '36038841', '36038496', '36038172', '36038109', '36037760', '36037521', '36037469', '36036173', '36036090', '36035633', '36032214', '36031619', '36030781', '36030667', '36029484', '36029386', '36029180', '36029131', '36029073', '36028776', '36026599', '36018729', '36016187', '36016121', '36014912', '36012423', '36011997', '36010630', '36010557', '36010321', '36009579', '36009555', '36008772', '36008193', '36006559', '36006288', '36005018', '36002874', '35999991', '35999871', '35998023', '35996885', '35995830', '35994163', '35994017', '35993654', '35993433', '35992221', '35989498', '35989496', '35983930', '35983268', '35982667', '35982068', '35981973', '35980828', '35980161', '35979935', '35978159', '35976444', '35976136', '35975512', '35975379', '35975339', '35973116', '35972987', '35971810', '35971789', '35970970', '35970928', '35969726', '35968795', '35968255', '35965430', '35964839', '35962405', '35962146', '35960307', '35959906', '35959207', '35958514', '35956159', '35950953', '35950823', '35950722', '35950481', '35950263', '35949116', '35948809', '35948305', '35947059', '35946904', '35945769', '35945626', '35944880', '35944718', '35944663', '35941084', '35940203', '35939907', '35939103', '35938314', '35937954', '35937953', '35937587', '35937088', '35929818', '35929757', '35926945', '35922752', '35922738', '35922152', '35920837', '35920823', '35918160', '35916189', '35915975', '35915642', '35915565', '35912863', '35912413', '35909187', '35908372', '35905000', '35904995', '35902374', '35900380', '35900077', '35894709', '35881214', '35878844', '35870694', '35868344', '35868205', '35867189', '35855966', '35855633', '35855515', '35852851', '35852546', '35852070', '35842055', '35841187', '35840817', '35840771', '35839342', '35837843', '35835712', '35834150', '35833360', '35829723', '35818571', '35816990', '35810548', '35809024', '35804273', '35798564', '35796878', '35789499', '35787998', '35787147', '35781591', '35781017', '35780481', '35773208', '35772223', '35768051', '35767287', '35765707', '35765218', '35753029', '35752131', '35751656', '35751642', '35749754', '35748906', '35748857', '35748316', '35747786', '35734900', '35730635', '35728365', '35727491', '35723351', '35721225', '35719030', '35717836', '35709568', '35706352', '35705514', '35704707', '35704169', '35698744', '35695907', '35691587', '35690992', '35688720', '35687925', '35680610', '35674283', '35672014', '35667877', '35667065', '35657437', '35647937', '35643306', '35636966', '35635888', '35635676', '35623254', '35622504', '35618148', '35607951', '35607844', '35597450', '35596104', '35581532', '35576015', '35569273', '35562628', '35561781', '35558638', '35552501', '35531750', '35522239', '35510650', '35506823', '35505820', '35503130', '35501615', '35490788', '35482929', '35478470', '35460539', '35451557', '35445260', '35437316', '35421481', '35418695', '35367933', '35366343', '35364700', '35362751', '35357063', '35351411', '35323932', '35322409', '35304621', '35294611', '35290573', '35277828', '35257465', '35243690', '35235130', '35199931', '35199888', '35199285', '35181849', '35165040', '35068245', '35066575', '35046517', '34990070', '34986035', '34894121', '34741678', '34698871', '34617343', '34562193', '34560701', '34535885', '34529237', '34510311', '34378814', '34374938']\n"
     ]
    }
   ],
   "source": [
    "doc_id_list = [result[\"Doc\"] for result in body[\"results\"]]\n",
    "print(f\"Document IDs are: {doc_id_list}\")"
   ]
  },
  {
   "cell_type": "markdown",
   "id": "9d2650a7",
   "metadata": {
    "pycharm": {
     "name": "#%% md\n"
    }
   },
   "source": [
    "Fetch features"
   ]
  },
  {
   "cell_type": "code",
   "execution_count": 11,
   "id": "90e9ea97",
   "metadata": {
    "pycharm": {
     "name": "#%%\n"
    }
   },
   "outputs": [
    {
     "name": "stdout",
     "output_type": "stream",
     "text": [
      "Making requests to get features...\n",
      "Success!\n",
      "Raw JSON response from the API is: [{'doc_id': '36149303', 'results': [{'Concept': {'logical_column_id': 0, 'value': 'drug', 'indexed_spans_outer': [[1494, 1498]], 'indexed_spans_inner': [[1494, 1498]], 'text_spans_outer': [[54, 58]], 'text_spans_inner': [[54, 58]]}, '[PT] Concept': {'logical_column_id': 0, 'value': 'drug'}, '[SID] Concept': {'logical_column_id': 0, 'value': 'chebi'}, '[NID] Concept': {'logical_column_id': 0, 'value': '23888'}, 'Ontology': {'logical_column_id': 1, 'value': 'Chemicals (ChEBI)', 'indexed_spans_outer': [[1494, 1498]], 'indexed_spans_inner': [[1494, 1498]], 'text_spans_outer': [[54, 58]], 'text_spans_inner': [[54, 58]]}, 'text': {'value': '... interindividual and intraindividual variations in drug efficacy and safety.'}}, {'Concept': {'logical_column_id': 0, 'value': 'drug', 'indexed_spans_outer': [[1575, 1579]], 'indexed_spans_inner': [[1575, 1579]], 'text_spans_outer': [[38, 42]], 'text_spans_inner': [[38, 42]]}, '[PT] Concept': {'logical_column_id': 0, 'value': 'drug'}, '[SID] Concept': {'logical_column_id': 0, 'value': 'chebi'}, '[NID] Concept': {'logical_column_id': 0, 'value': '23888'}, 'Ontology': {'logical_column_id': 1, 'value': 'Chemicals (ChEBI)', 'indexed_spans_outer': [[1575, 1579]], 'indexed_spans_inner': [[1575, 1579]], 'text_spans_outer': [[38, 42]], 'text_spans_inner': [[38, 42]]}, 'text': {'value': '... also contributes to prediction of drug treatment outcomes on the basis ...'}}, {'Concept': {'logical_column_id': 0, 'value': 'drug', 'indexed_spans_outer': [[2190, 2194]], 'indexed_spans_inner': [[2190, 2194]], 'text_spans_outer': [[44, 48]], 'text_spans_inner': [[44, 48]]}, '[PT] Concept': {'logical_column_id': 0, 'value': 'drug'}, '[SID] Concept': {'logical_column_id': 0, 'value': 'chebi'}, '[NID] Concept': {'logical_column_id': 0, 'value': '23888'}, 'Ontology': {'logical_column_id': 1, 'value': 'Chemicals (ChEBI)', 'indexed_spans_outer': [[2190, 2194]], 'indexed_spans_inner': [[2190, 2194]], 'text_spans_outer': [[44, 48]], 'text_spans_inner': [[44, 48]]}, 'text': {'value': '... scale of interindividual variability in drug effects, (2) ...'}}, {'Concept': {'logical_column_id': 0, 'value': 'drug', 'indexed_spans_outer': [[2311, 2315]], 'indexed_spans_inner': [[2311, 2315]], 'text_spans_outer': [[20, 24]], 'text_spans_inner': [[20, 24]]}, '[PT] Concept': {'logical_column_id': 0, 'value': 'drug'}, '[SID] Concept': {'logical_column_id': 0, 'value': 'chebi'}, '[NID] Concept': {'logical_column_id': 0, 'value': '23888'}, 'Ontology': {'logical_column_id': 1, 'value': 'Chemicals (ChEBI)', 'indexed_spans_outer': [[2311, 2315]], 'indexed_spans_inner': [[2311, 2315]], 'text_spans_outer': [[20, 24]], 'text_spans_inner': [[20, 24]]}, 'text': {'value': '... and (4) empower drug repurposing, a field that ...'}}, {'Concept': {'logical_column_id': 0, 'value': 'drug', 'indexed_spans_outer': [[2887, 2891]], 'indexed_spans_inner': [[2887, 2891]], 'text_spans_outer': [[39, 43]], 'text_spans_inner': [[39, 43]]}, '[PT] Concept': {'logical_column_id': 0, 'value': 'drug'}, '[SID] Concept': {'logical_column_id': 0, 'value': 'chebi'}, '[NID] Concept': {'logical_column_id': 0, 'value': '23888'}, 'Ontology': {'logical_column_id': 1, 'value': 'Chemicals (ChEBI)', 'indexed_spans_outer': [[2887, 2891]], 'indexed_spans_inner': [[2887, 2891]], 'text_spans_outer': [[39, 43]], 'text_spans_inner': [[39, 43]]}, 'text': {'value': '... crucial for precision medicine and drug development that stand the test ...'}}, {'Concept': {'logical_column_id': 0, 'value': 'drug', 'indexed_spans_outer': [[4561, 4565]], 'indexed_spans_inner': [[4561, 4565]], 'text_spans_outer': [[0, 4]], 'text_spans_inner': [[0, 4]]}, '[PT] Concept': {'logical_column_id': 0, 'value': 'drug'}, '[SID] Concept': {'logical_column_id': 0, 'value': 'chebi'}, '[NID] Concept': {'logical_column_id': 0, 'value': '23888'}, 'Ontology': {'logical_column_id': 1, 'value': 'Chemicals (ChEBI)', 'indexed_spans_outer': [[4561, 4565]], 'indexed_spans_inner': [[4561, 4565]], 'text_spans_outer': [[0, 4]], 'text_spans_inner': [[0, 4]]}, 'text': {'value': 'drug development'}}, {'Concept': {'logical_column_id': 0, 'value': 'drug', 'indexed_spans_outer': [[4622, 4626]], 'indexed_spans_inner': [[4622, 4626]], 'text_spans_outer': [[0, 4]], 'text_spans_inner': [[0, 4]]}, '[PT] Concept': {'logical_column_id': 0, 'value': 'drug'}, '[SID] Concept': {'logical_column_id': 0, 'value': 'chebi'}, '[NID] Concept': {'logical_column_id': 0, 'value': '23888'}, 'Ontology': {'logical_column_id': 1, 'value': 'Chemicals (ChEBI)', 'indexed_spans_outer': [[4622, 4626]], 'indexed_spans_inner': [[4622, 4626]], 'text_spans_outer': [[0, 4]], 'text_spans_inner': [[0, 4]]}, 'text': {'value': 'drug repurposing'}}, {'Concept': {'logical_column_id': 0, 'value': 'medicine', 'indexed_spans_outer': [[1854, 1862]], 'indexed_spans_inner': [[1854, 1862]], 'text_spans_outer': [[46, 54]], 'text_spans_inner': [[46, 54]]}, '[PT] Concept': {'logical_column_id': 0, 'value': 'drug'}, '[SID] Concept': {'logical_column_id': 0, 'value': 'chebi'}, '[NID] Concept': {'logical_column_id': 0, 'value': '23888'}, 'Ontology': {'logical_column_id': 1, 'value': 'Chemicals (ChEBI)', 'indexed_spans_outer': [[1854, 1862]], 'indexed_spans_inner': [[1854, 1862]], 'text_spans_outer': [[46, 54]], 'text_spans_inner': [[46, 54]]}, 'text': {'value': '... evidence-based and precision/personalized medicine: academic researchers, public ...'}}, {'Concept': {'logical_column_id': 0, 'value': 'medicine', 'indexed_spans_outer': [[2874, 2882]], 'indexed_spans_inner': [[2874, 2882]], 'text_spans_outer': [[38, 46]], 'text_spans_inner': [[38, 46]]}, '[PT] Concept': {'logical_column_id': 0, 'value': 'drug'}, '[SID] Concept': {'logical_column_id': 0, 'value': 'chebi'}, '[NID] Concept': {'logical_column_id': 0, 'value': '23888'}, 'Ontology': {'logical_column_id': 1, 'value': 'Chemicals (ChEBI)', 'indexed_spans_outer': [[2874, 2882]], 'indexed_spans_inner': [[2874, 2882]], 'text_spans_outer': [[38, 46]], 'text_spans_inner': [[38, 46]]}, 'text': {'value': '... data remain crucial for precision medicine and drug development that stand ...'}}, {'Concept': {'logical_column_id': 0, 'value': 'medicine', 'indexed_spans_outer': [[4813, 4821]], 'indexed_spans_inner': [[4813, 4821]], 'text_spans_outer': [[10, 18]], 'text_spans_inner': [[10, 18]]}, '[PT] Concept': {'logical_column_id': 0, 'value': 'drug'}, '[SID] Concept': {'logical_column_id': 0, 'value': 'chebi'}, '[NID] Concept': {'logical_column_id': 0, 'value': '23888'}, 'Ontology': {'logical_column_id': 1, 'value': 'Chemicals (ChEBI)', 'indexed_spans_outer': [[4813, 4821]], 'indexed_spans_inner': [[4813, 4821]], 'text_spans_outer': [[10, 18]], 'text_spans_inner': [[10, 18]]}, 'text': {'value': 'precision medicine'}}, {'Concept': {'logical_column_id': 0, 'value': 'pharmaceutical', 'indexed_spans_outer': [[1932, 1946]], 'indexed_spans_inner': [[1932, 1946]], 'text_spans_outer': [[36, 50]], 'text_spans_inner': [[36, 50]]}, '[PT] Concept': {'logical_column_id': 0, 'value': 'pharmaceutical'}, '[SID] Concept': {'logical_column_id': 0, 'value': 'chebi'}, '[NID] Concept': {'logical_column_id': 0, 'value': '52217'}, 'Ontology': {'logical_column_id': 1, 'value': 'Chemicals (ChEBI)', 'indexed_spans_outer': [[1932, 1946]], 'indexed_spans_inner': [[1932, 1946]], 'text_spans_outer': [[36, 50]], 'text_spans_inner': [[36, 50]]}, 'text': {'value': '... scholars, health professionals, pharmaceutical, diagnostics, and biotechnology ...'}}]}]\n",
      "Making requests to get features...\n",
      "Success!\n",
      "Raw JSON response from the API is: [{'doc_id': '36146835', 'results': [{'Concept': {'logical_column_id': 0, 'value': 'RNA', 'indexed_spans_outer': [[1611, 1614]], 'indexed_spans_inner': [[1611, 1614]], 'text_spans_outer': [[44, 47]], 'text_spans_inner': [[44, 47]]}, '[PT] Concept': {'logical_column_id': 0, 'value': 'ribonucleic acid'}, '[SID] Concept': {'logical_column_id': 0, 'value': 'chebi'}, '[NID] Concept': {'logical_column_id': 0, 'value': '33697'}, 'Ontology': {'logical_column_id': 1, 'value': 'Chemicals (ChEBI)', 'indexed_spans_outer': [[1611, 1614]], 'indexed_spans_inner': [[1611, 1614]], 'text_spans_outer': [[44, 47]], 'text_spans_inner': [[44, 47]]}, 'text': {'value': '... cases, sequencing of wastewater-derived RNA for the viral mutants, ...'}}]}]\n",
      "Making requests to get features...\n"
     ]
    },
    {
     "name": "stdout",
     "output_type": "stream",
     "text": [
      "Success!\n",
      "Raw JSON response from the API is: []\n",
      "Making requests to get features...\n",
      "Success!\n",
      "Raw JSON response from the API is: [{'doc_id': '36143338', 'results': [{'Concept': {'logical_column_id': 0, 'value': 'protein-coding', 'indexed_spans_outer': [[1412, 1426]], 'indexed_spans_inner': [[1412, 1426]], 'text_spans_outer': [[36, 50]], 'text_spans_inner': [[36, 50]]}, '[PT] Concept': {'logical_column_id': 0, 'value': 'protein'}, '[SID] Concept': {'logical_column_id': 0, 'value': 'chebi'}, '[NID] Concept': {'logical_column_id': 0, 'value': '36080'}, 'Ontology': {'logical_column_id': 1, 'value': 'Chemicals (ChEBI)', 'indexed_spans_outer': [[1412, 1426]], 'indexed_spans_inner': [[1412, 1426]], 'text_spans_outer': [[36, 50]], 'text_spans_inner': [[36, 50]]}, 'text': {'value': 'Despite the functional relevance of protein-coding regions, rare variants located ...'}}, {'Concept': {'logical_column_id': 0, 'value': 'protein-coding', 'indexed_spans_outer': [[1412, 1426]], 'indexed_spans_inner': [[1412, 1426]], 'text_spans_outer': [[36, 50]], 'text_spans_inner': [[36, 50]]}, '[PT] Concept': {'logical_column_id': 0, 'value': 'protein polypeptide chain'}, '[SID] Concept': {'logical_column_id': 0, 'value': 'chebi'}, '[NID] Concept': {'logical_column_id': 0, 'value': '16541'}, 'Ontology': {'logical_column_id': 1, 'value': 'Chemicals (ChEBI)', 'indexed_spans_outer': [[1412, 1426]], 'indexed_spans_inner': [[1412, 1426]], 'text_spans_outer': [[36, 50]], 'text_spans_inner': [[36, 50]]}, 'text': {'value': 'Despite the functional relevance of protein-coding regions, rare variants located ...'}}]}]\n",
      "Making requests to get features...\n",
      "Success!\n",
      "Raw JSON response from the API is: [{'doc_id': '36143280', 'results': [{'Concept': {'logical_column_id': 0, 'value': 'Angiotensin', 'indexed_spans_outer': [[953, 964]], 'indexed_spans_inner': [[953, 964]], 'text_spans_outer': [[7, 18]], 'text_spans_inner': [[7, 18]]}, '[PT] Concept': {'logical_column_id': 0, 'value': 'angiotensin'}, '[SID] Concept': {'logical_column_id': 0, 'value': 'chebi'}, '[NID] Concept': {'logical_column_id': 0, 'value': '48433'}, 'Ontology': {'logical_column_id': 1, 'value': 'Chemicals (ChEBI)', 'indexed_spans_outer': [[953, 964]], 'indexed_spans_inner': [[953, 964]], 'text_spans_outer': [[7, 18]], 'text_spans_inner': [[7, 18]]}, 'text': {'value': 'Plasma Angiotensin Converting Enzyme 2 (ACE2...'}}, {'Concept': {'logical_column_id': 0, 'value': 'Angiotensin', 'indexed_spans_outer': [[1288, 1299]], 'indexed_spans_inner': [[1288, 1299]], 'text_spans_outer': [[0, 11]], 'text_spans_inner': [[0, 11]]}, '[PT] Concept': {'logical_column_id': 0, 'value': 'angiotensin'}, '[SID] Concept': {'logical_column_id': 0, 'value': 'chebi'}, '[NID] Concept': {'logical_column_id': 0, 'value': '48433'}, 'Ontology': {'logical_column_id': 1, 'value': 'Chemicals (ChEBI)', 'indexed_spans_outer': [[1288, 1299]], 'indexed_spans_inner': [[1288, 1299]], 'text_spans_outer': [[0, 11]], 'text_spans_inner': [[0, 11]]}, 'text': {'value': 'Angiotensin converting enzyme 2 (ACE2...'}}, {'Concept': {'logical_column_id': 0, 'value': 'Angiotensin', 'indexed_spans_outer': [[953, 964]], 'indexed_spans_inner': [[953, 964]], 'text_spans_outer': [[7, 18]], 'text_spans_inner': [[7, 18]]}, '[PT] Concept': {'logical_column_id': 0, 'value': 'Ile(5)-angiotensin II'}, '[SID] Concept': {'logical_column_id': 0, 'value': 'chebi'}, '[NID] Concept': {'logical_column_id': 0, 'value': '2719'}, 'Ontology': {'logical_column_id': 1, 'value': 'Chemicals (ChEBI)', 'indexed_spans_outer': [[953, 964]], 'indexed_spans_inner': [[953, 964]], 'text_spans_outer': [[7, 18]], 'text_spans_inner': [[7, 18]]}, 'text': {'value': 'Plasma Angiotensin Converting Enzyme 2 (ACE2...'}}, {'Concept': {'logical_column_id': 0, 'value': 'Angiotensin', 'indexed_spans_outer': [[1288, 1299]], 'indexed_spans_inner': [[1288, 1299]], 'text_spans_outer': [[0, 11]], 'text_spans_inner': [[0, 11]]}, '[PT] Concept': {'logical_column_id': 0, 'value': 'Ile(5)-angiotensin II'}, '[SID] Concept': {'logical_column_id': 0, 'value': 'chebi'}, '[NID] Concept': {'logical_column_id': 0, 'value': '2719'}, 'Ontology': {'logical_column_id': 1, 'value': 'Chemicals (ChEBI)', 'indexed_spans_outer': [[1288, 1299]], 'indexed_spans_inner': [[1288, 1299]], 'text_spans_outer': [[0, 11]], 'text_spans_inner': [[0, 11]]}, 'text': {'value': 'Angiotensin converting enzyme 2 (ACE2...'}}, {'Concept': {'logical_column_id': 0, 'value': 'angiotensin', 'indexed_spans_outer': [[9402, 9413]], 'indexed_spans_inner': [[9402, 9413]], 'text_spans_outer': [[0, 11]], 'text_spans_inner': [[0, 11]]}, '[PT] Concept': {'logical_column_id': 0, 'value': 'angiotensin'}, '[SID] Concept': {'logical_column_id': 0, 'value': 'chebi'}, '[NID] Concept': {'logical_column_id': 0, 'value': '48433'}, 'Ontology': {'logical_column_id': 1, 'value': 'Chemicals (ChEBI)', 'indexed_spans_outer': [[9402, 9413]], 'indexed_spans_inner': [[9402, 9413]], 'text_spans_outer': [[0, 11]], 'text_spans_inner': [[0, 11]]}, 'text': {'value': 'angiotensin converting enzyme 2'}}, {'Concept': {'logical_column_id': 0, 'value': 'angiotensin', 'indexed_spans_outer': [[9607, 9618]], 'indexed_spans_inner': [[9607, 9618]], 'text_spans_outer': [[6, 17]], 'text_spans_inner': [[6, 17]]}, '[PT] Concept': {'logical_column_id': 0, 'value': 'angiotensin'}, '[SID] Concept': {'logical_column_id': 0, 'value': 'chebi'}, '[NID] Concept': {'logical_column_id': 0, 'value': '48433'}, 'Ontology': {'logical_column_id': 1, 'value': 'Chemicals (ChEBI)', 'indexed_spans_outer': [[9607, 9618]], 'indexed_spans_inner': [[9607, 9618]], 'text_spans_outer': [[6, 17]], 'text_spans_inner': [[6, 17]]}, 'text': {'value': 'renin angiotensin system'}}, {'Concept': {'logical_column_id': 0, 'value': 'angiotensin', 'indexed_spans_outer': [[9402, 9413]], 'indexed_spans_inner': [[9402, 9413]], 'text_spans_outer': [[0, 11]], 'text_spans_inner': [[0, 11]]}, '[PT] Concept': {'logical_column_id': 0, 'value': 'Ile(5)-angiotensin II'}, '[SID] Concept': {'logical_column_id': 0, 'value': 'chebi'}, '[NID] Concept': {'logical_column_id': 0, 'value': '2719'}, 'Ontology': {'logical_column_id': 1, 'value': 'Chemicals (ChEBI)', 'indexed_spans_outer': [[9402, 9413]], 'indexed_spans_inner': [[9402, 9413]], 'text_spans_outer': [[0, 11]], 'text_spans_inner': [[0, 11]]}, 'text': {'value': 'angiotensin converting enzyme 2'}}, {'Concept': {'logical_column_id': 0, 'value': 'angiotensin', 'indexed_spans_outer': [[9607, 9618]], 'indexed_spans_inner': [[9607, 9618]], 'text_spans_outer': [[6, 17]], 'text_spans_inner': [[6, 17]]}, '[PT] Concept': {'logical_column_id': 0, 'value': 'Ile(5)-angiotensin II'}, '[SID] Concept': {'logical_column_id': 0, 'value': 'chebi'}, '[NID] Concept': {'logical_column_id': 0, 'value': '2719'}, 'Ontology': {'logical_column_id': 1, 'value': 'Chemicals (ChEBI)', 'indexed_spans_outer': [[9607, 9618]], 'indexed_spans_inner': [[9607, 9618]], 'text_spans_outer': [[6, 17]], 'text_spans_inner': [[6, 17]]}, 'text': {'value': 'renin angiotensin system'}}, {'Concept': {'logical_column_id': 0, 'value': 'biomarker', 'indexed_spans_outer': [[2901, 2910]], 'indexed_spans_inner': [[2901, 2910]], 'text_spans_outer': [[27, 36]], 'text_spans_inner': [[27, 36]]}, '[PT] Concept': {'logical_column_id': 0, 'value': 'biomarker'}, '[SID] Concept': {'logical_column_id': 0, 'value': 'chebi'}, '[NID] Concept': {'logical_column_id': 0, 'value': '59163'}, 'Ontology': {'logical_column_id': 1, 'value': 'Chemicals (ChEBI)', 'indexed_spans_outer': [[2901, 2910]], 'indexed_spans_inner': [[2901, 2910]], 'text_spans_outer': [[27, 36]], 'text_spans_inner': [[27, 36]]}, 'text': {'value': '... it may be an important biomarker of endothelial dysfunction and atherosclerosis...'}}, {'Concept': {'logical_column_id': 0, 'value': 'fibrin', 'indexed_spans_outer': [[1808, 1814]], 'indexed_spans_inner': [[1808, 1814]], 'text_spans_outer': [[39, 45]], 'text_spans_inner': [[39, 45]]}, '[PT] Concept': {'logical_column_id': 0, 'value': 'Fibrin'}, '[SID] Concept': {'logical_column_id': 0, 'value': 'chebi'}, '[NID] Concept': {'logical_column_id': 0, 'value': '5054'}, 'Ontology': {'logical_column_id': 1, 'value': 'Chemicals (ChEBI)', 'indexed_spans_outer': [[1808, 1814]], 'indexed_spans_inner': [[1808, 1814]], 'text_spans_outer': [[39, 45]], 'text_spans_inner': [[39, 45]]}, 'text': {'value': '... thromboelastography, thrombin, and fibrin generation were measured in adult ...'}}, {'Concept': {'logical_column_id': 0, 'value': 'GCA', 'indexed_spans_outer': [[1758, 1761]], 'indexed_spans_inner': [[1758, 1761]], 'text_spans_outer': [[35, 38]], 'text_spans_inner': [[35, 38]]}, '[PT] Concept': {'logical_column_id': 0, 'value': 'golgicide A'}, '[SID] Concept': {'logical_column_id': 0, 'value': 'chebi'}, '[NID] Concept': {'logical_column_id': 0, 'value': '139037'}, 'Ontology': {'logical_column_id': 1, 'value': 'Chemicals (ChEBI)', 'indexed_spans_outer': [[1758, 1761]], 'indexed_spans_inner': [[1758, 1761]], 'text_spans_outer': [[35, 38]], 'text_spans_inner': [[35, 38]]}, 'text': {'value': '... and global coagulation assays (GCA) including thromboelastography, thrombin...'}}, {'Concept': {'logical_column_id': 0, 'value': 'GCA', 'indexed_spans_outer': [[2763, 2766]], 'indexed_spans_inner': [[2763, 2766]], 'text_spans_outer': [[48, 51]], 'text_spans_inner': [[48, 51]]}, '[PT] Concept': {'logical_column_id': 0, 'value': 'golgicide A'}, '[SID] Concept': {'logical_column_id': 0, 'value': 'chebi'}, '[NID] Concept': {'logical_column_id': 0, 'value': '139037'}, 'Ontology': {'logical_column_id': 1, 'value': 'Chemicals (ChEBI)', 'indexed_spans_outer': [[2763, 2766]], 'indexed_spans_inner': [[2763, 2766]], 'text_spans_outer': [[48, 51]], 'text_spans_inner': [[48, 51]]}, 'text': {'value': '... minimal clinically relevant associations to GCA.'}}, {'Concept': {'logical_column_id': 0, 'value': 'medicine', 'indexed_spans_outer': [[832, 840]], 'indexed_spans_inner': [[832, 840]], 'text_spans_outer': [[24, 32]], 'text_spans_inner': [[24, 32]]}, '[PT] Concept': {'logical_column_id': 0, 'value': 'drug'}, '[SID] Concept': {'logical_column_id': 0, 'value': 'chebi'}, '[NID] Concept': {'logical_column_id': 0, 'value': '23888'}, 'Ontology': {'logical_column_id': 1, 'value': 'Chemicals (ChEBI)', 'indexed_spans_outer': [[832, 840]], 'indexed_spans_inner': [[832, 840]], 'text_spans_outer': [[24, 32]], 'text_spans_inner': [[24, 32]]}, 'text': {'value': 'Journal of personalized medicine'}}, {'Concept': {'logical_column_id': 0, 'value': 'renin-angiotensin', 'indexed_spans_outer': [[1370, 1387]], 'indexed_spans_inner': [[1370, 1387]], 'text_spans_outer': [[41, 58]], 'text_spans_inner': [[41, 58]]}, '[PT] Concept': {'logical_column_id': 0, 'value': 'angiotensin'}, '[SID] Concept': {'logical_column_id': 0, 'value': 'chebi'}, '[NID] Concept': {'logical_column_id': 0, 'value': '48433'}, 'Ontology': {'logical_column_id': 1, 'value': 'Chemicals (ChEBI)', 'indexed_spans_outer': [[1370, 1387]], 'indexed_spans_inner': [[1370, 1387]], 'text_spans_outer': [[41, 58]], 'text_spans_inner': [[41, 58]]}, 'text': {'value': '... endogenous negative regulator of the renin-angiotensin system, a key factor ...'}}, {'Concept': {'logical_column_id': 0, 'value': 'renin-angiotensin', 'indexed_spans_outer': [[1370, 1387]], 'indexed_spans_inner': [[1370, 1387]], 'text_spans_outer': [[41, 58]], 'text_spans_inner': [[41, 58]]}, '[PT] Concept': {'logical_column_id': 0, 'value': 'Ile(5)-angiotensin II'}, '[SID] Concept': {'logical_column_id': 0, 'value': 'chebi'}, '[NID] Concept': {'logical_column_id': 0, 'value': '2719'}, 'Ontology': {'logical_column_id': 1, 'value': 'Chemicals (ChEBI)', 'indexed_spans_outer': [[1370, 1387]], 'indexed_spans_inner': [[1370, 1387]], 'text_spans_outer': [[41, 58]], 'text_spans_inner': [[41, 58]]}, 'text': {'value': '... endogenous negative regulator of the renin-angiotensin system, a key factor ...'}}, {'Concept': {'logical_column_id': 0, 'value': 'thrombin', 'indexed_spans_outer': [[1794, 1802]], 'indexed_spans_inner': [[1794, 1802]], 'text_spans_outer': [[40, 48]], 'text_spans_inner': [[40, 48]]}, '[PT] Concept': {'logical_column_id': 0, 'value': 'Thrombin'}, '[SID] Concept': {'logical_column_id': 0, 'value': 'chebi'}, '[NID] Concept': {'logical_column_id': 0, 'value': '9574'}, 'Ontology': {'logical_column_id': 1, 'value': 'Chemicals (ChEBI)', 'indexed_spans_outer': [[1794, 1802]], 'indexed_spans_inner': [[1794, 1802]], 'text_spans_outer': [[40, 48]], 'text_spans_inner': [[40, 48]]}, 'text': {'value': '... GCA) including thromboelastography, thrombin, and fibrin generation were ...'}}]}]\n"
     ]
    }
   ],
   "source": [
    "features = \"chebi\"\n",
    "body_json = []\n",
    "for doc_id in doc_id_list[:2]:\n",
    "    fetch_url = f\"https://vt.eu-apim.solutions.iqvia.com/eu/fetch-features/api/v1/fetch-features?index={index_name}&features={features}&docIds={doc_id}\"\n",
    "    print(f\"Making requests to get features for {doc_id}...\")\n",
    "    response = requests.get(fetch_url, headers=mkp_headers)\n",
    "    # Check the response\n",
    "    if response.status_code == 200:\n",
    "        print(\"Success!\")\n",
    "        json_response = response.json()\n",
    "        body_json.append(json_response)\n",
    "    else:\n",
    "        raise Exception(f\"Error: {response}\")\n",
    "print(f\"Raw JSON response from the API for documents of interest: {body_json}\")"
   ]
  },
  {
   "cell_type": "markdown",
   "id": "04387a91",
   "metadata": {
    "pycharm": {
     "name": "#%% md\n"
    }
   },
   "source": [
    "Convert to pandas dataframe"
   ]
  },
  {
   "cell_type": "code",
   "execution_count": 13,
   "id": "12b23660",
   "metadata": {
    "pycharm": {
     "name": "#%%\n"
    }
   },
   "outputs": [
    {
     "data": {
      "text/html": [
       "<div>\n",
       "<style scoped>\n",
       "    .dataframe tbody tr th:only-of-type {\n",
       "        vertical-align: middle;\n",
       "    }\n",
       "\n",
       "    .dataframe tbody tr th {\n",
       "        vertical-align: top;\n",
       "    }\n",
       "\n",
       "    .dataframe thead th {\n",
       "        text-align: right;\n",
       "    }\n",
       "</style>\n",
       "<table border=\"1\" class=\"dataframe\">\n",
       "  <thead>\n",
       "    <tr style=\"text-align: right;\">\n",
       "      <th></th>\n",
       "      <th>doc_id</th>\n",
       "      <th>Concept</th>\n",
       "      <th>[PT] Concept</th>\n",
       "      <th>[SID] Concept</th>\n",
       "      <th>[NID] Concept</th>\n",
       "      <th>Ontology</th>\n",
       "      <th>text</th>\n",
       "    </tr>\n",
       "  </thead>\n",
       "  <tbody>\n",
       "    <tr>\n",
       "      <th>0</th>\n",
       "      <td>36149303</td>\n",
       "      <td>pharmaceutical</td>\n",
       "      <td>pharmaceutical</td>\n",
       "      <td>chebi</td>\n",
       "      <td>52217</td>\n",
       "      <td>Chemicals (ChEBI)</td>\n",
       "      <td>... scholars, health professionals, pharmaceut...</td>\n",
       "    </tr>\n",
       "    <tr>\n",
       "      <th>1</th>\n",
       "      <td>36146835</td>\n",
       "      <td>RNA</td>\n",
       "      <td>ribonucleic acid</td>\n",
       "      <td>chebi</td>\n",
       "      <td>33697</td>\n",
       "      <td>Chemicals (ChEBI)</td>\n",
       "      <td>... cases, sequencing of wastewater-derived RN...</td>\n",
       "    </tr>\n",
       "    <tr>\n",
       "      <th>2</th>\n",
       "      <td>36143338</td>\n",
       "      <td>protein-coding</td>\n",
       "      <td>protein polypeptide chain</td>\n",
       "      <td>chebi</td>\n",
       "      <td>16541</td>\n",
       "      <td>Chemicals (ChEBI)</td>\n",
       "      <td>Despite the functional relevance of protein-co...</td>\n",
       "    </tr>\n",
       "    <tr>\n",
       "      <th>3</th>\n",
       "      <td>36143280</td>\n",
       "      <td>thrombin</td>\n",
       "      <td>Thrombin</td>\n",
       "      <td>chebi</td>\n",
       "      <td>9574</td>\n",
       "      <td>Chemicals (ChEBI)</td>\n",
       "      <td>... GCA) including thromboelastography, thromb...</td>\n",
       "    </tr>\n",
       "  </tbody>\n",
       "</table>\n",
       "</div>"
      ],
      "text/plain": [
       "     doc_id         Concept               [PT] Concept [SID] Concept [NID] Concept           Ontology                                               text\n",
       "0  36149303  pharmaceutical             pharmaceutical         chebi         52217  Chemicals (ChEBI)  ... scholars, health professionals, pharmaceut...\n",
       "1  36146835             RNA           ribonucleic acid         chebi         33697  Chemicals (ChEBI)  ... cases, sequencing of wastewater-derived RN...\n",
       "2  36143338  protein-coding  protein polypeptide chain         chebi         16541  Chemicals (ChEBI)  Despite the functional relevance of protein-co...\n",
       "3  36143280        thrombin                   Thrombin         chebi          9574  Chemicals (ChEBI)  ... GCA) including thromboelastography, thromb..."
      ]
     },
     "execution_count": 13,
     "metadata": {},
     "output_type": "execute_result"
    }
   ],
   "source": [
    "import pandas as pd\n",
    "\n",
    "# initiate an empty dataframe\n",
    "df = pd.DataFrame()\n",
    "pd.set_option(\"display.max_rows\", None, \"display.max_columns\", None, \"display.width\", 1000)\n",
    "\n",
    "# Retrieve main results from the JSON response, please note this cell would fail if the request failed in the last step\n",
    "\n",
    "for result_list in body_json:\n",
    "    for result_dict in result_list:\n",
    "        results = result_dict[\"results\"]\n",
    "        df_dict = {\"doc_id\": result_dict[\"doc_id\"]}\n",
    "        for output_dict in results:\n",
    "            for key, value_dict in output_dict.items():\n",
    "                df_dict[key] = value_dict['value']\n",
    "        df = pd.concat([df, pd.DataFrame.from_records([{**df_dict}])], ignore_index=True)\n",
    "\n",
    "# df.to_csv(\"content_store_search_output_demo.csv\", index=False)\n",
    "\n",
    "# Check the dataframe\n",
    "df"
   ]
  },
  {
   "cell_type": "markdown",
   "id": "ea414f49",
   "metadata": {
    "pycharm": {
     "name": "#%% md\n"
    }
   },
   "source": [
    "That's it! Hope you find this tutorial useful! Bye!"
   ]
  },
  {
   "cell_type": "code",
   "execution_count": null,
   "id": "2f707884",
   "metadata": {},
   "outputs": [],
   "source": []
  }
 ],
 "metadata": {
  "kernelspec": {
   "display_name": "Python 3 (ipykernel)",
   "language": "python",
   "name": "python3"
  },
  "language_info": {
   "codemirror_mode": {
    "name": "ipython",
    "version": 3
   },
   "file_extension": ".py",
   "mimetype": "text/x-python",
   "name": "python",
   "nbconvert_exporter": "python",
   "pygments_lexer": "ipython3",
   "version": "3.8.10"
  }
 },
 "nbformat": 4,
 "nbformat_minor": 5
}