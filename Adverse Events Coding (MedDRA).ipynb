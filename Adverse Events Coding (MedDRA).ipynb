{
 "cells": [
  {
   "cell_type": "markdown",
   "metadata": {},
   "source": [
    "# IQVIA NLP - Adverse Events Coding (MedDRA)\n",
    "\n",
    "## API Description\n",
    "The unstructured format of biomedical Journals, abstracts in Medline, PMC, CT.gov and FDA make Adverse Event Detection hard to capture.\n",
    "\n",
    "For Data Scientists, MedDRA NLP API solves this problem by offering a fast and accurate automated identification and coding of adverse events from a range of publications in Medline, PMC, CT.gov and TDA into standardized MedDRA concepts.\n",
    "\n",
    "## Accessing the API\n",
    "In order to consume this API, you will first need to Request access to the Adverse Events Coding (MedDRA) API\n",
    "via this link:\n",
    "<LINK PLACEHOLDER> .\n",
    "\n",
    "Please refer to \"API Documentation\" to learn more about accessing and using the API.\n",
    "\n",
    "## Notebook Description\n",
    "This notebook is designed to extract adverse events and associated MedDRA codes from MEDLINE, PMC, FDA Drug Labels and/or Clinical Trials. Users could specify records of interest by supplying document identifiers in the 'docIds' parameter when posting the request.\n",
    "\n",
    "### Authorization\n",
    "The instructions for getting your credentials and the API endpoint URL can be found under the section \"Get Started\" and \"How to use the API\" following this link: <LINK PLACEHOLDER> ."
   ]
  },
  {
   "cell_type": "code",
   "execution_count": 1,
   "metadata": {
    "pycharm": {
     "name": "#%%\n"
    }
   },
   "outputs": [
    {
     "name": "stdout",
     "output_type": "stream",
     "text": [
      "Please enter the API URL including the source data endpoints: https://vt.eu-apim-devtest.solutions.iqvia.com/eu/fetch-meddra/api/v2/meddra/clinicaltrials\n",
      "Marketplace clientId: 555fd2145a8a43ba8c204ea9f846078d\n",
      "Marketplace clientSecret: ········\n",
      "Thanks for inputting URL, your user name and password!\n"
     ]
    }
   ],
   "source": [
    "import getpass\n",
    "\n",
    "# Get URL and credentials from customers\n",
    "api_endpoint_url = input('Please enter the API URL including the source data endpoints: ').rstrip('/')\n",
    "\n",
    "mkp_user = input(\"Marketplace clientId: \")\n",
    "mkp_password = getpass.getpass(\"Marketplace clientSecret: \")\n",
    "mkp_headers = {'clientId': mkp_user, 'clientSecret': mkp_password}\n",
    "\n",
    "print(\"Thanks for inputting URL, your user name and password!\")"
   ]
  },
  {
   "cell_type": "markdown",
   "metadata": {},
   "source": [
    "### Example: Make a request for a list of known documents\n",
    "\n",
    "Make a GET request to the URL to fetch MedDRA coded adverse events from documents corresponding to the user specified docIDs.\n",
    "\n",
    "Please note that PMIDs are expected docIds for MEDLINE endpoint. For PMC endpoint, it is expected to be the PubMed Central ID number, which is 'PMC' followed by 6-9 digits, multiple PMCIDs can be specified per request. For FDA Drug Labels, the docIds expected are DailyMed Set ID, and multiple Set IDs can be specified per request; for Clinical Trials, it is the ClinicalTrials.gov registry number expected, which is 'NCT' followed by 8 digits, and multiple NCTIDs can be specified per request."
   ]
  },
  {
   "cell_type": "code",
   "execution_count": 2,
   "metadata": {
    "pycharm": {
     "name": "#%%\n"
    }
   },
   "outputs": [
    {
     "name": "stdout",
     "output_type": "stream",
     "text": [
      "Posting request to extract adverse events and associated MedDRA codes from specified documents...\n",
      "Processing ['NCT04875351', 'NCT03180086']...\n",
      "Results are not available yet. Waiting 5 seconds before polling again...\n",
      "Results are not available yet. Waiting 5 seconds before polling again...\n",
      "Results are not available yet. Waiting 5 seconds before polling again...\n",
      "Results are not available yet. Waiting 5 seconds before polling again...\n",
      "Results are not available yet. Waiting 5 seconds before polling again...\n",
      "Results are not available yet. Waiting 5 seconds before polling again...\n",
      "Results are not available yet. Waiting 5 seconds before polling again...\n",
      "Results are not available yet. Waiting 5 seconds before polling again...\n",
      "Results are not available yet. Waiting 5 seconds before polling again...\n",
      "Success!\n",
      "Results: \n",
      "[{'doc_id': 'NCT04875351', 'results': [{'Certainty': {'logical_column_id': 0, 'value': 'Hypothetical', 'indexed_spans_outer': [[4224, 4241]], 'indexed_spans_inner': [[4233, 4241]], 'text_spans_outer': [[87, 98]], 'text_spans_inner': [[90, 98]]}, '[PT] MedDRA PT': {'logical_column_id': 1, 'value': 'Breast cancer', 'indexed_spans_outer': [[4310, 4323]], 'indexed_spans_inner': [[4310, 4323]], 'text_spans_outer': [[167, 180]], 'text_spans_inner': [[167, 180]]}, '[NID] MedDRA PT': {'logical_column_id': 2, 'value': '10006187', 'indexed_spans_outer': [[4310, 4323]], 'indexed_spans_inner': [[4310, 4323]], 'text_spans_outer': [[167, 180]], 'text_spans_inner': [[167, 180]]}, 'Flag': {'logical_column_id': 3, 'value': ''}, 'Section': {'logical_column_id': 4, 'value': 'Detailed Description', 'indexed_spans_outer': [[4137, 8681]], 'indexed_spans_inner': [[4137, 8681]], 'text_spans_outer': [[0, 285]], 'text_spans_inner': [[0, 285]]}, 'text': {'value': 'The BCI Registry is designed as a large-scale data registry and biospecimen repository to evaluate the clinical outcome of hormone receptor positive (HR+) early-stage breast cancer patients completing primary adjuvant endocrine therapy and are considering extended endocrine treatment. ...'}}, {'Certainty': {'logical_column_id': 0, 'value': 'Negated', 'indexed_spans_outer': [[15363, 15371]], 'indexed_spans_inner': [[15363, 15371]], 'text_spans_outer': [[179, 187]], 'text_spans_inner': [[179, 187]]}, '[PT] MedDRA PT': {'logical_column_id': 1, 'value': 'Human epidermal growth factor receptor negative', 'indexed_spans_outer': [[15358, 15371]], 'indexed_spans_inner': [[15358, 15371]], 'text_spans_outer': [[174, 187]], 'text_spans_inner': [[174, 187]]}, '[NID] MedDRA PT': {'logical_column_id': 2, 'value': '10077481', 'indexed_spans_outer': [[15358, 15371]], 'indexed_spans_inner': [[15358, 15371]], 'text_spans_outer': [[174, 187]], 'text_spans_inner': [[174, 187]]}, 'Flag': {'logical_column_id': 3, 'value': ''}, 'Section': {'logical_column_id': 4, 'value': 'Inclusion Criteria', 'indexed_spans_outer': [[14873, 15708]], 'indexed_spans_inner': [[14873, 15708]], 'text_spans_outer': [[0, 20], [20, 146]], 'text_spans_inner': [[0, 20], [20, 146]]}, 'text': {'value': 'Inclusion Criteria: - Early stage (I, II or III) female breast cancer patients, who have completed 4-7 years of primary adjuvant endocrine therapy... - The primary tumor was HER2 negative or positive and node-negative or ...'}}, {'Certainty': {'logical_column_id': 0, 'value': 'Negated', 'indexed_spans_outer': [[15363, 15371]], 'indexed_spans_inner': [[15363, 15371]], 'text_spans_outer': [[179, 187]], 'text_spans_inner': [[179, 187]]}, '[PT] MedDRA PT': {'logical_column_id': 1, 'value': 'Neoplasm', 'indexed_spans_outer': [[15348, 15353]], 'indexed_spans_inner': [[15348, 15353]], 'text_spans_outer': [[164, 169]], 'text_spans_inner': [[164, 169]]}, '[NID] MedDRA PT': {'logical_column_id': 2, 'value': '10028980', 'indexed_spans_outer': [[15348, 15353]], 'indexed_spans_inner': [[15348, 15353]], 'text_spans_outer': [[164, 169]], 'text_spans_inner': [[164, 169]]}, 'Flag': {'logical_column_id': 3, 'value': ''}, 'Section': {'logical_column_id': 4, 'value': 'Inclusion Criteria', 'indexed_spans_outer': [[14873, 15708]], 'indexed_spans_inner': [[14873, 15708]], 'text_spans_outer': [[0, 20], [20, 146]], 'text_spans_inner': [[0, 20], [20, 146]]}, 'text': {'value': 'Inclusion Criteria: - Early stage (I, II or III) female breast cancer patients, who have completed 4-7 years of primary adjuvant endocrine therapy... - The primary tumor was HER2 negative or positive and node-negative or ...'}}, {'Certainty': {'logical_column_id': 0, 'value': ''}, '[PT] MedDRA PT': {'logical_column_id': 1, 'value': 'Adenoid cystic carcinoma', 'indexed_spans_outer': [[15999, 16023]], 'indexed_spans_inner': [[15999, 16023]], 'text_spans_outer': [[105, 129]], 'text_spans_inner': [[105, 129]]}, '[NID] MedDRA PT': {'logical_column_id': 2, 'value': '10053231', 'indexed_spans_outer': [[15999, 16023]], 'indexed_spans_inner': [[15999, 16023]], 'text_spans_outer': [[105, 129]], 'text_spans_inner': [[105, 129]]}, 'Flag': {'logical_column_id': 3, 'value': ''}, 'Section': {'logical_column_id': 4, 'value': 'Exclusion Criteria', 'indexed_spans_outer': [[15788, 16044]], 'indexed_spans_inner': [[15788, 16044]], 'text_spans_outer': [[0, 20], [20, 66]], 'text_spans_inner': [[0, 20], [20, 66]]}, 'text': {'value': 'Exclusion Criteria: - Patient has distant metastatic disease (M1).... sarcoma, neuroendocrine carcinoma, adenoid cystic carcinoma, or phyllodes tumor.'}}, {'Certainty': {'logical_column_id': 0, 'value': ''}, '[PT] MedDRA PT': {'logical_column_id': 1, 'value': 'Breast cancer', 'indexed_spans_outer': [[4978, 4991]], 'indexed_spans_inner': [[4978, 4991]], 'text_spans_outer': [[308, 321]], 'text_spans_inner': [[308, 321]]}, '[NID] MedDRA PT': {'logical_column_id': 2, 'value': '10006187', 'indexed_spans_outer': [[4978, 4991]], 'indexed_spans_inner': [[4978, 4991]], 'text_spans_outer': [[308, 321]], 'text_spans_inner': [[308, 321]]}, 'Flag': {'logical_column_id': 3, 'value': 'Adverse Event', 'indexed_spans_outer': [[4992, 5040]], 'indexed_spans_inner': [[4992, 5040]], 'text_spans_outer': [[322, 364]], 'text_spans_inner': [[322, 364]]}, 'Section': {'logical_column_id': 4, 'value': 'Detailed Description', 'indexed_spans_outer': [[4137, 8681]], 'indexed_spans_inner': [[4137, 8681]], 'text_spans_outer': [[0, 285]], 'text_spans_inner': [[0, 285]]}, 'text': {'value': 'The BCI Registry is designed as a large-scale data registry and biospecimen repository to evaluate the clinical outcome of hormone receptor positive (HR+) early-stage breast cancer patients completing primary adjuvant endocrine therapy and are considering extended endocrine treatment.... HR+ stage I to III breast cancer following an initial 4-7 years of adjuvant endocrine therapy that will have ...'}}, {'Certainty': {'logical_column_id': 0, 'value': ''}, '[PT] MedDRA PT': {'logical_column_id': 1, 'value': 'Breast cancer', 'indexed_spans_outer': [[15920, 15933]], 'indexed_spans_inner': [[15920, 15933]], 'text_spans_outer': [[108, 121]], 'text_spans_inner': [[108, 121]]}, '[NID] MedDRA PT': {'logical_column_id': 2, 'value': '10006187', 'indexed_spans_outer': [[15920, 15933]], 'indexed_spans_inner': [[15920, 15933]], 'text_spans_outer': [[108, 121]], 'text_spans_inner': [[108, 121]]}, 'Flag': {'logical_column_id': 3, 'value': 'Indication', 'indexed_spans_outer': [[15881, 15888]], 'indexed_spans_inner': [[15881, 15888]], 'text_spans_outer': [[69, 76]], 'text_spans_inner': [[69, 76]]}, 'Section': {'logical_column_id': 4, 'value': 'Exclusion Criteria', 'indexed_spans_outer': [[15788, 16044]], 'indexed_spans_inner': [[15788, 16044]], 'text_spans_outer': [[0, 20], [20, 66]], 'text_spans_inner': [[0, 20], [20, 66]]}, 'text': {'value': 'Exclusion Criteria: - Patient has distant metastatic disease (M1). - Patient was diagnosed with metaplastic breast cancer, carcinosarcoma, sarcoma, ...'}}, {'Certainty': {'logical_column_id': 0, 'value': ''}, '[PT] MedDRA PT': {'logical_column_id': 1, 'value': 'Breast cancer', 'indexed_spans_outer': [[15920, 15933]], 'indexed_spans_inner': [[15920, 15933]], 'text_spans_outer': [[108, 121]], 'text_spans_inner': [[108, 121]]}, '[NID] MedDRA PT': {'logical_column_id': 2, 'value': '10006187', 'indexed_spans_outer': [[15920, 15933]], 'indexed_spans_inner': [[15920, 15933]], 'text_spans_outer': [[108, 121]], 'text_spans_inner': [[108, 121]]}, 'Flag': {'logical_column_id': 3, 'value': 'Indication', 'indexed_spans_outer': [[15893, 15907]], 'indexed_spans_inner': [[15893, 15907]], 'text_spans_outer': [[81, 95]], 'text_spans_inner': [[81, 95]]}, 'Section': {'logical_column_id': 4, 'value': 'Exclusion Criteria', 'indexed_spans_outer': [[15788, 16044]], 'indexed_spans_inner': [[15788, 16044]], 'text_spans_outer': [[0, 20], [20, 66]], 'text_spans_inner': [[0, 20], [20, 66]]}, 'text': {'value': 'Exclusion Criteria: - Patient has distant metastatic disease (M1). - Patient was diagnosed with metaplastic breast cancer, carcinosarcoma, sarcoma, ...'}}, {'Certainty': {'logical_column_id': 0, 'value': ''}, '[PT] MedDRA PT': {'logical_column_id': 1, 'value': 'Breast cancer', 'indexed_spans_outer': [[14941, 14954]], 'indexed_spans_inner': [[14941, 14954]], 'text_spans_outer': [[56, 69]], 'text_spans_inner': [[56, 69]]}, '[NID] MedDRA PT': {'logical_column_id': 2, 'value': '10006187', 'indexed_spans_outer': [[14941, 14954]], 'indexed_spans_inner': [[14941, 14954]], 'text_spans_outer': [[56, 69]], 'text_spans_inner': [[56, 69]]}, 'Flag': {'logical_column_id': 3, 'value': 'Indication', 'indexed_spans_outer': [[14934, 14940]], 'indexed_spans_inner': [[14934, 14940]], 'text_spans_outer': [[49, 55]], 'text_spans_inner': [[49, 55]]}, 'Section': {'logical_column_id': 4, 'value': 'Inclusion Criteria', 'indexed_spans_outer': [[14873, 15708]], 'indexed_spans_inner': [[14873, 15708]], 'text_spans_outer': [[0, 20], [20, 146]], 'text_spans_inner': [[0, 20], [20, 146]]}, 'text': {'value': 'Inclusion Criteria: - Early stage (I, II or III) female breast cancer patients, who have completed 4-7 years of primary adjuvant endocrine therapy ...'}}, {'Certainty': {'logical_column_id': 0, 'value': ''}, '[PT] MedDRA PT': {'logical_column_id': 1, 'value': 'Breast cancer', 'indexed_spans_outer': [[3629, 3642]], 'indexed_spans_inner': [[3629, 3642]], 'text_spans_outer': [[19, 32]], 'text_spans_inner': [[19, 32]]}, '[NID] MedDRA PT': {'logical_column_id': 2, 'value': '10006187', 'indexed_spans_outer': [[3629, 3642]], 'indexed_spans_inner': [[3629, 3642]], 'text_spans_outer': [[19, 32]], 'text_spans_inner': [[19, 32]]}, 'Flag': {'logical_column_id': 3, 'value': ''}, 'Section': {'logical_column_id': 4, 'value': 'Brief Summary', 'indexed_spans_outer': [[3610, 4021]], 'indexed_spans_inner': [[3610, 4021]], 'text_spans_outer': [[0, 387]], 'text_spans_inner': [[0, 387]]}, 'text': {'value': 'The purpose of the Breast Cancer Index (BCI) Registry study is to conduct a large scale, population-based prospective registry to evaluate long-term clinical outcome, clinical impact, medication adherence and quality of life in hormone receptor positive (HR+) early-stage breast cancer patients receiving BCI testing as part of routine clinical care to inform extended endocrine therapy.'}}, {'Certainty': {'logical_column_id': 0, 'value': ''}, '[PT] MedDRA PT': {'logical_column_id': 1, 'value': 'Breast cancer', 'indexed_spans_outer': [[3900, 3913]], 'indexed_spans_inner': [[3900, 3913]], 'text_spans_outer': [[272, 285]], 'text_spans_inner': [[272, 285]]}, '[NID] MedDRA PT': {'logical_column_id': 2, 'value': '10006187', 'indexed_spans_outer': [[3900, 3913]], 'indexed_spans_inner': [[3900, 3913]], 'text_spans_outer': [[272, 285]], 'text_spans_inner': [[272, 285]]}, 'Flag': {'logical_column_id': 3, 'value': ''}, 'Section': {'logical_column_id': 4, 'value': 'Brief Summary', 'indexed_spans_outer': [[3610, 4021]], 'indexed_spans_inner': [[3610, 4021]], 'text_spans_outer': [[0, 387]], 'text_spans_inner': [[0, 387]]}, 'text': {'value': 'The purpose of the Breast Cancer Index (BCI) Registry study is to conduct a large scale, population-based prospective registry to evaluate long-term clinical outcome, clinical impact, medication adherence and quality of life in hormone receptor positive (HR+) early-stage breast cancer patients receiving BCI testing as part of routine clinical care to inform extended endocrine therapy.'}}]}]\n",
      "\n"
     ]
    }
   ],
   "source": [
    "import requests\n",
    "import time\n",
    "\n",
    "# Define input IDs, here using clinicaltrials as an example\n",
    "docids = [\"NCT04875351\", \"NCT03180086\"]\n",
    "\n",
    "# Make a request\n",
    "print(\"Posting request to extract adverse events and associated MedDRA codes from specified documents...\")\n",
    "\n",
    "print(f\"Processing {docids}...\")\n",
    "response = requests.post(url=api_endpoint_url, headers=mkp_headers, json={'params': {'docIds': docids}, 'row_limit': 10})\n",
    "\n",
    "# Poll the API until results are available\n",
    "while response.status_code == 202:\n",
    "    print('Results are not available yet. Waiting 5 seconds before polling again...')\n",
    "    time.sleep(5)\n",
    "    # Use the run id from the Post request to get results\n",
    "    run_identifier = response.json()['id']    \n",
    "    response = requests.get(url=f'{api_endpoint_url}/{run_identifier}', headers=mkp_headers)\n",
    "    \n",
    "# Check the response\n",
    "if response.status_code == 200:\n",
    "    print(\"Success!\")\n",
    "    results_json = response.json()\n",
    "else:\n",
    "    raise Exception(f\"Unexpected status code: {response.status_code}\")\n",
    "\n",
    "print(f'Results: \\n{results_json}\\n')"
   ]
  },
  {
   "cell_type": "markdown",
   "metadata": {},
   "source": [
    "Now that we have got the JSON responses from the Adverse Events Coding API, we could convert the useful information associated with the keys into a pandas dataframe."
   ]
  },
  {
   "cell_type": "code",
   "execution_count": 4,
   "metadata": {
    "pycharm": {
     "name": "#%%\n"
    }
   },
   "outputs": [
    {
     "data": {
      "text/html": [
       "<div>\n",
       "<style scoped>\n",
       "    .dataframe tbody tr th:only-of-type {\n",
       "        vertical-align: middle;\n",
       "    }\n",
       "\n",
       "    .dataframe tbody tr th {\n",
       "        vertical-align: top;\n",
       "    }\n",
       "\n",
       "    .dataframe thead th {\n",
       "        text-align: right;\n",
       "    }\n",
       "</style>\n",
       "<table border=\"1\" class=\"dataframe\">\n",
       "  <thead>\n",
       "    <tr style=\"text-align: right;\">\n",
       "      <th></th>\n",
       "      <th>Certainty</th>\n",
       "      <th>[PT] MedDRA PT</th>\n",
       "      <th>[NID] MedDRA PT</th>\n",
       "      <th>Flag</th>\n",
       "      <th>Section</th>\n",
       "      <th>text</th>\n",
       "      <th>Doc Id</th>\n",
       "    </tr>\n",
       "  </thead>\n",
       "  <tbody>\n",
       "    <tr>\n",
       "      <th>0</th>\n",
       "      <td>Hypothetical</td>\n",
       "      <td>Breast cancer</td>\n",
       "      <td>10006187</td>\n",
       "      <td></td>\n",
       "      <td>Detailed Description</td>\n",
       "      <td>The BCI Registry is designed as a large-scale ...</td>\n",
       "      <td>NCT04875351</td>\n",
       "    </tr>\n",
       "    <tr>\n",
       "      <th>1</th>\n",
       "      <td>Negated</td>\n",
       "      <td>Human epidermal growth factor receptor negative</td>\n",
       "      <td>10077481</td>\n",
       "      <td></td>\n",
       "      <td>Inclusion Criteria</td>\n",
       "      <td>Inclusion Criteria: - Early stage (I, II or II...</td>\n",
       "      <td>NCT04875351</td>\n",
       "    </tr>\n",
       "    <tr>\n",
       "      <th>2</th>\n",
       "      <td>Negated</td>\n",
       "      <td>Neoplasm</td>\n",
       "      <td>10028980</td>\n",
       "      <td></td>\n",
       "      <td>Inclusion Criteria</td>\n",
       "      <td>Inclusion Criteria: - Early stage (I, II or II...</td>\n",
       "      <td>NCT04875351</td>\n",
       "    </tr>\n",
       "    <tr>\n",
       "      <th>3</th>\n",
       "      <td></td>\n",
       "      <td>Adenoid cystic carcinoma</td>\n",
       "      <td>10053231</td>\n",
       "      <td></td>\n",
       "      <td>Exclusion Criteria</td>\n",
       "      <td>Exclusion Criteria: - Patient has distant meta...</td>\n",
       "      <td>NCT04875351</td>\n",
       "    </tr>\n",
       "    <tr>\n",
       "      <th>4</th>\n",
       "      <td></td>\n",
       "      <td>Breast cancer</td>\n",
       "      <td>10006187</td>\n",
       "      <td>Adverse Event</td>\n",
       "      <td>Detailed Description</td>\n",
       "      <td>The BCI Registry is designed as a large-scale ...</td>\n",
       "      <td>NCT04875351</td>\n",
       "    </tr>\n",
       "    <tr>\n",
       "      <th>5</th>\n",
       "      <td></td>\n",
       "      <td>Breast cancer</td>\n",
       "      <td>10006187</td>\n",
       "      <td>Indication</td>\n",
       "      <td>Exclusion Criteria</td>\n",
       "      <td>Exclusion Criteria: - Patient has distant meta...</td>\n",
       "      <td>NCT04875351</td>\n",
       "    </tr>\n",
       "    <tr>\n",
       "      <th>6</th>\n",
       "      <td></td>\n",
       "      <td>Breast cancer</td>\n",
       "      <td>10006187</td>\n",
       "      <td>Indication</td>\n",
       "      <td>Exclusion Criteria</td>\n",
       "      <td>Exclusion Criteria: - Patient has distant meta...</td>\n",
       "      <td>NCT04875351</td>\n",
       "    </tr>\n",
       "    <tr>\n",
       "      <th>7</th>\n",
       "      <td></td>\n",
       "      <td>Breast cancer</td>\n",
       "      <td>10006187</td>\n",
       "      <td>Indication</td>\n",
       "      <td>Inclusion Criteria</td>\n",
       "      <td>Inclusion Criteria: - Early stage (I, II or II...</td>\n",
       "      <td>NCT04875351</td>\n",
       "    </tr>\n",
       "    <tr>\n",
       "      <th>8</th>\n",
       "      <td></td>\n",
       "      <td>Breast cancer</td>\n",
       "      <td>10006187</td>\n",
       "      <td></td>\n",
       "      <td>Brief Summary</td>\n",
       "      <td>The purpose of the Breast Cancer Index (BCI) R...</td>\n",
       "      <td>NCT04875351</td>\n",
       "    </tr>\n",
       "    <tr>\n",
       "      <th>9</th>\n",
       "      <td></td>\n",
       "      <td>Breast cancer</td>\n",
       "      <td>10006187</td>\n",
       "      <td></td>\n",
       "      <td>Brief Summary</td>\n",
       "      <td>The purpose of the Breast Cancer Index (BCI) R...</td>\n",
       "      <td>NCT04875351</td>\n",
       "    </tr>\n",
       "  </tbody>\n",
       "</table>\n",
       "</div>"
      ],
      "text/plain": [
       "      Certainty                                   [PT] MedDRA PT [NID] MedDRA PT           Flag               Section                                               text       Doc Id\n",
       "0  Hypothetical                                    Breast cancer        10006187                 Detailed Description  The BCI Registry is designed as a large-scale ...  NCT04875351\n",
       "1       Negated  Human epidermal growth factor receptor negative        10077481                   Inclusion Criteria  Inclusion Criteria: - Early stage (I, II or II...  NCT04875351\n",
       "2       Negated                                         Neoplasm        10028980                   Inclusion Criteria  Inclusion Criteria: - Early stage (I, II or II...  NCT04875351\n",
       "3                                       Adenoid cystic carcinoma        10053231                   Exclusion Criteria  Exclusion Criteria: - Patient has distant meta...  NCT04875351\n",
       "4                                                  Breast cancer        10006187  Adverse Event  Detailed Description  The BCI Registry is designed as a large-scale ...  NCT04875351\n",
       "5                                                  Breast cancer        10006187     Indication    Exclusion Criteria  Exclusion Criteria: - Patient has distant meta...  NCT04875351\n",
       "6                                                  Breast cancer        10006187     Indication    Exclusion Criteria  Exclusion Criteria: - Patient has distant meta...  NCT04875351\n",
       "7                                                  Breast cancer        10006187     Indication    Inclusion Criteria  Inclusion Criteria: - Early stage (I, II or II...  NCT04875351\n",
       "8                                                  Breast cancer        10006187                        Brief Summary  The purpose of the Breast Cancer Index (BCI) R...  NCT04875351\n",
       "9                                                  Breast cancer        10006187                        Brief Summary  The purpose of the Breast Cancer Index (BCI) R...  NCT04875351"
      ]
     },
     "execution_count": 4,
     "metadata": {},
     "output_type": "execute_result"
    }
   ],
   "source": [
    "import pandas as pd\n",
    "\n",
    "# initiate an empty dataframe\n",
    "df = pd.DataFrame()\n",
    "pd.set_option(\"display.max_rows\", None, \"display.max_columns\", None, \"display.width\", 1000)\n",
    "\n",
    "# Retrieve main results from the JSON response, please note this cell would fail if the request failed in the last step\n",
    "for inner_results in results_json:\n",
    "    for result_dict in inner_results['results']:\n",
    "        df_dict = {}\n",
    "        for key, value_dict in result_dict.items():                                                                                                                                                                                                                                                                                                                           \n",
    "            df_dict[key] = value_dict['value']                                                                                                                                                                                                                                                                                                                                \n",
    "        df_dict['Doc Id'] = inner_results['doc_id']                                                                                                                                                                                                                                                                                                                           \n",
    "        df = pd.concat([df, pd.DataFrame.from_records([{**df_dict}])], ignore_index=True)                                                                                                                                                                                                                                                                                     \n",
    "\n",
    "# Print the DataFrame                                                                                                                                                                                                                                                                                                                                                         \n",
    "df.head(10)"
   ]
  },
  {
   "cell_type": "markdown",
   "metadata": {},
   "source": [
    "That's it! Hope you find this tutorial useful! Bye!"
   ]
  },
  {
   "cell_type": "code",
   "execution_count": null,
   "metadata": {
    "pycharm": {
     "name": "#%%\n"
    }
   },
   "outputs": [],
   "source": []
  }
 ],
 "metadata": {
  "kernelspec": {
   "display_name": "Python 3 (ipykernel)",
   "language": "python",
   "name": "python3"
  },
  "language_info": {
   "codemirror_mode": {
    "name": "ipython",
    "version": 3
   },
   "file_extension": ".py",
   "mimetype": "text/x-python",
   "name": "python",
   "nbconvert_exporter": "python",
   "pygments_lexer": "ipython3",
   "version": "3.8.10"
  }
 },
 "nbformat": 4,
 "nbformat_minor": 1
}
