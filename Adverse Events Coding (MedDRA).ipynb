{
 "cells": [
  {
   "cell_type": "markdown",
   "metadata": {},
   "source": [
    "# IQVIA NLP - Adverse Events Coding (MedDRA)\n",
    "\n",
    "## API Description\n",
    "The unstructured format of biomedical Journals, abstracts in Medline, PMC, CT.gov and FDA make Adverse Event Detection hard to capture.\n",
    "\n",
    "For Data Scientists, MedDRA NLP API solves this problem by offering a fast and accurate automated identification and coding of adverse events from a range of publications in Medline, PMC, CT.gov and TDA into standardized MedDRA concepts.\n",
    "\n",
    "## Accessing the API\n",
    "In order to consume this API, you will first need to Request access to the Adverse Events Coding (MedDRA) API\n",
    "via this link:\n",
    "<LINK PLACEHOLDER> .\n",
    "\n",
    "Please refer to \"API Documentation\" to learn more about accessing and using the API.\n",
    "\n",
    "## Notebook Description\n",
    "This notebook is designed to extract adverse events and associated MedDRA codes from MEDLINE, PMC, FDA Drug Labels and/or Clinical Trials. Users could specify records of interest by supplying document identifiers in the 'docIds' parameter when posting the request.\n",
    "\n",
    "### Authorization\n",
    "The instructions for getting your credentials and the API endpoint URL can be found under the section \"Get Started\" and \"How to use the API\" following this link: <LINK PLACEHOLDER> ."
   ]
  },
  {
   "cell_type": "code",
   "execution_count": 1,
   "metadata": {
    "pycharm": {
     "name": "#%%\n"
    }
   },
   "outputs": [
    {
     "name": "stdout",
     "output_type": "stream",
     "text": [
      "Please enter the API URL including the source data endpoints: https://vt.eu-apim-devtest.solutions.iqvia.com/eu/fetch-meddra/api/v2/meddra/clinicaltrials\n",
      "Marketplace clientId: 555fd2145a8a43ba8c204ea9f846078d\n",
      "Marketplace clientSecret: ········\n",
      "Thanks for inputting URL, your user name and password!\n"
     ]
    }
   ],
   "source": [
    "import getpass\n",
    "\n",
    "# Get URL and credentials from customers\n",
    "api_endpoint_url = input('Please enter the API URL including the source data endpoints: ').rstrip('/')\n",
    "\n",
    "mkp_user = input(\"Marketplace clientId: \")\n",
    "mkp_password = getpass.getpass(\"Marketplace clientSecret: \")\n",
    "mkp_headers = {'clientId': mkp_user, 'clientSecret': mkp_password}\n",
    "\n",
    "print(\"Thanks for inputting URL, your user name and password!\")"
   ]
  },
  {
   "cell_type": "markdown",
   "metadata": {},
   "source": [
    "### Example: Make a request for a list of known documents\n",
    "\n",
    "Make a GET request to the URL to fetch MedDRA coded adverse events from documents corresponding to the user specified docIDs.\n",
    "\n",
    "Please note that PMIDs are expected docIds for MEDLINE endpoint. For PMC endpoint, it is expected to be the PubMed Central ID number, which is 'PMC' followed by 6-9 digits, multiple PMCIDs can be specified per request. For FDA Drug Labels, the docIds expected are DailyMed Set ID, and multiple Set IDs can be specified per request; for Clinical Trials, it is the ClinicalTrials.gov registry number expected, which is 'NCT' followed by 8 digits, and multiple NCTIDs can be specified per request."
   ]
  },
  {
   "cell_type": "code",
   "execution_count": 2,
   "metadata": {
    "pycharm": {
     "name": "#%%\n"
    }
   },
   "outputs": [
    {
     "name": "stdout",
     "output_type": "stream",
     "text": [
      "Posting request to extract adverse events and associated MedDRA codes from specified documents...\n",
      "Processing ['NCT04875351', 'NCT03180086']...\n",
      "Success!\n",
      "Results: \n",
      "{'id': '85ac0ad6-c182-4bab-aac0-6bf7a4d0c361', 'status': 'STARTED', 'submission_time': '2022-12-19T16:11:54.541078Z', 'completion_time': None}\n",
      "\n"
     ]
    }
   ],
   "source": [
    "import requests\n",
    "import time\n",
    "\n",
    "# Define input IDs, here using clinicaltrials as an example\n",
    "docids = ['NCT04875351', 'NCT03180086']\n",
    "\n",
    "# Make a request\n",
    "print(\"Posting request to extract adverse events and associated MedDRA codes from specified documents...\")\n",
    "\n",
    "print(f\"Processing {docids}...\")\n",
    "response = requests.post(url=api_endpoint_url, headers=mkp_headers, json={'params': {'docIds': docids}, 'row_limit': 10})\n",
    "\n",
    "# Poll the API until results are available\n",
    "while response.status_code == 202:\n",
    "    print('Results are not available yet. Waiting 5 seconds before polling again...')\n",
    "    time.sleep(5)\n",
    "    # Use the run id from the Post request to get results\n",
    "    run_identifier = response.json()['id']    \n",
    "    response = requests.get(url=f'{api_endpoint_url}/{run_identifier}', headers=mkp_headers)\n",
    "    \n",
    "# Check the response\n",
    "if response.status_code == 200:\n",
    "    print(\"Success!\")\n",
    "    results_json = response.json()\n",
    "else:\n",
    "    raise Exception(f\"Unexpected status code: {response.status_code}\")\n",
    "\n",
    "print(f'Results: \\n{results_json}\\n')"
   ]
  },
  {
   "cell_type": "markdown",
   "metadata": {},
   "source": [
    "Now that we have got the JSON responses from the Adverse Events Coding API, we could convert the useful information associated with the keys into a pandas dataframe."
   ]
  },
  {
   "cell_type": "code",
   "execution_count": 3,
   "metadata": {
    "pycharm": {
     "name": "#%%\n"
    }
   },
   "outputs": [
    {
     "ename": "TypeError",
     "evalue": "string indices must be integers",
     "output_type": "error",
     "traceback": [
      "\u001b[1;31m---------------------------------------------------------------------------\u001b[0m",
      "\u001b[1;31mTypeError\u001b[0m                                 Traceback (most recent call last)",
      "Input \u001b[1;32mIn [3]\u001b[0m, in \u001b[0;36m<cell line: 8>\u001b[1;34m()\u001b[0m\n\u001b[0;32m      7\u001b[0m \u001b[38;5;66;03m# Retrieve main results from the JSON response, please note this cell would fail if the request failed in the last step\u001b[39;00m\n\u001b[0;32m      8\u001b[0m \u001b[38;5;28;01mfor\u001b[39;00m inner_results \u001b[38;5;129;01min\u001b[39;00m results_json:\n\u001b[1;32m----> 9\u001b[0m     \u001b[38;5;28;01mfor\u001b[39;00m result_dict \u001b[38;5;129;01min\u001b[39;00m \u001b[43minner_results\u001b[49m\u001b[43m[\u001b[49m\u001b[38;5;124;43m'\u001b[39;49m\u001b[38;5;124;43mresults\u001b[39;49m\u001b[38;5;124;43m'\u001b[39;49m\u001b[43m]\u001b[49m:\n\u001b[0;32m     10\u001b[0m         df_dict \u001b[38;5;241m=\u001b[39m {}\n\u001b[0;32m     11\u001b[0m         \u001b[38;5;28;01mfor\u001b[39;00m key, value_dict \u001b[38;5;129;01min\u001b[39;00m result_dict\u001b[38;5;241m.\u001b[39mitems():                                                                                                                                                                                                                                                                                                                           \n",
      "\u001b[1;31mTypeError\u001b[0m: string indices must be integers"
     ]
    }
   ],
   "source": [
    "import pandas as pd\n",
    "\n",
    "# initiate an empty dataframe\n",
    "df = pd.DataFrame()\n",
    "pd.set_option(\"display.max_rows\", None, \"display.max_columns\", None, \"display.width\", 1000)\n",
    "\n",
    "# Retrieve main results from the JSON response, please note this cell would fail if the request failed in the last step\n",
    "for inner_results in results_json:\n",
    "    for result_dict in inner_results['results']:\n",
    "        df_dict = {}\n",
    "        for key, value_dict in result_dict.items():                                                                                                                                                                                                                                                                                                                           \n",
    "            df_dict[key] = value_dict['value']                                                                                                                                                                                                                                                                                                                                \n",
    "        df_dict['Doc Id'] = inner_results['doc_id']                                                                                                                                                                                                                                                                                                                           \n",
    "        df = pd.concat([df, pd.DataFrame.from_records([{**df_dict}])], ignore_index=True)                                                                                                                                                                                                                                                                                     \n",
    "\n",
    "# Print the DataFrame                                                                                                                                                                                                                                                                                                                                                         \n",
    "print(f'DataFrame: \\n{df.head(10)}\\n')"
   ]
  },
  {
   "cell_type": "markdown",
   "metadata": {},
   "source": [
    "That's it! Hope you find this tutorial useful! Bye!"
   ]
  },
  {
   "cell_type": "code",
   "execution_count": null,
   "metadata": {
    "pycharm": {
     "name": "#%%\n"
    }
   },
   "outputs": [],
   "source": []
  }
 ],
 "metadata": {
  "kernelspec": {
   "display_name": "Python 3 (ipykernel)",
   "language": "python",
   "name": "python3"
  },
  "language_info": {
   "codemirror_mode": {
    "name": "ipython",
    "version": 3
   },
   "file_extension": ".py",
   "mimetype": "text/x-python",
   "name": "python",
   "nbconvert_exporter": "python",
   "pygments_lexer": "ipython3",
   "version": "3.8.10"
  }
 },
 "nbformat": 4,
 "nbformat_minor": 1
}
