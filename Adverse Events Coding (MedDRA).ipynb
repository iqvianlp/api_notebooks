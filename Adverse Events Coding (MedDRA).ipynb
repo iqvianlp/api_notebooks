{
 "cells": [
  {
   "cell_type": "markdown",
   "metadata": {},
   "source": [
    "# IQVIA NLP - Adverse Events Coding (MedDRA)\n",
    "\n",
    "## API Description\n",
    "The unstructured format of biomedical Journals, abstracts in Medline, PMC, CT.gov and FDA make Adverse Event Detection hard to capture.\n",
    "\n",
    "For Data Scientists, MedDRA NLP API solves this problem by offering a fast and accurate automated identification and coding of adverse events from a range of publications in Medline, PMC, CT.gov and TDA into standardized MedDRA concepts.\n",
    "\n",
    "## Accessing the API\n",
    "In order to consume this API, you will first need to Request access to the Adverse Events Coding (MedDRA) API\n",
    "via this link:\n",
    "<LINK PLACEHOLDER> .\n",
    "\n",
    "Please refer to \"API Documentation\" to learn more about accessing and using the API.\n",
    "\n",
    "## Notebook Description\n",
    "This notebook is designed to extract adverse events and associated MedDRA codes from MEDLINE, PMC, FDA Drug Labels and/or Clinical Trials. Users could specify records of interest by supplying document identifiers in the 'docIds' parameter when posting the request.\n",
    "\n",
    "### Authorization\n",
    "The instructions for getting your credentials and the API endpoint URL can be found under the section \"Get Started\" and \"How to use the API\" following this link: <LINK PLACEHOLDER> ."
   ]
  },
  {
   "cell_type": "code",
   "execution_count": 12,
   "metadata": {
    "pycharm": {
     "name": "#%%\n"
    }
   },
   "outputs": [
    {
     "name": "stdout",
     "output_type": "stream",
     "text": [
      "Marketplace clientId: e936390e2dc340fcbeebf29e8f8b14e4\n",
      "Marketplace clientSecret: ········\n",
      "Thanks for inputting your user name and password!\n"
     ]
    }
   ],
   "source": [
    "import getpass\n",
    "\n",
    "# In this demo scenario, URL for EU based customers\n",
    "api_base_url = 'https://vt.eu-apim-devtest.solutions.iqvia.com/eu/fetch-meddra/api/v1/meddra/'\n",
    "\n",
    "mkp_user = input(\"Marketplace clientId: \")\n",
    "mkp_password = getpass.getpass(\"Marketplace clientSecret: \")\n",
    "mkp_headers = {'clientId': mkp_user, 'clientSecret': mkp_password}\n",
    "\n",
    "print(\"Thanks for inputting your user name and password!\")"
   ]
  },
  {
   "cell_type": "markdown",
   "metadata": {},
   "source": [
    "### Example: Make a request for a list of known dd documents\n",
    "docid as input parameter. This example shows how to make a request to the API on MEDLINE with a list of PMIDs."
   ]
  },
  {
   "cell_type": "markdown",
   "metadata": {
    "pycharm": {
     "name": "#%% md\n"
    }
   },
   "source": [
    "Choose the data source of your interest. Choices for data source are MEDLINE, PMC, FDA Drug Labels, and Clinical Trials. In this case, we choose MEDLINE as an example by typing \"a\" to the prompt."
   ]
  },
  {
   "cell_type": "code",
   "execution_count": 13,
   "metadata": {
    "pycharm": {
     "name": "#%%\n"
    }
   },
   "outputs": [
    {
     "name": "stdout",
     "output_type": "stream",
     "text": [
      "Please choose the alphabetic id for the source data of your interest:\n",
      "a: MEDLINE\n",
      "b: PMC\n",
      "c: FDA Drug Labels\n",
      "d: Clinical Trials\n",
      "Source ID:a\n",
      "URL for the endpoint you choose is https://vt.eu-apim-devtest.solutions.iqvia.com/eu/fetch-meddra/api/v1/meddra/medline.\n"
     ]
    }
   ],
   "source": [
    "# Define source data\n",
    "source_dict = {\"a\": \"medline\", \"b\": \"pmc\", \"c\": \"fdadruglabels\", \"d\": \"clinicaltrials\"}\n",
    "source_selected = input(\"Please choose the alphabetic id for the source data of your interest:\\n\"\n",
    "      \"a: MEDLINE\\nb: PMC\\nc: FDA Drug Labels\\nd: Clinical Trials\\nSource ID:\")\n",
    "\n",
    "api_endpoint_url = api_base_url + source_dict[source_selected]\n",
    "print(f\"URL for the endpoint you choose is {api_endpoint_url}.\")"
   ]
  },
  {
   "cell_type": "markdown",
   "metadata": {
    "pycharm": {
     "name": "#%% md\n"
    }
   },
   "source": [
    "Make a GET request to the URL to fetch MedDRA coded adverse events from documents corresponding to the user specified PMIDs.\n",
    "\n",
    "Please note that PMIDs are expected docIds only for MEDLINE endpoint. For PMC endpoint, it is expected to be the PubMed Central ID number, which is 'PMC' followed by 6-9 digits, multiple PMCIDs can be specified per request. For FDA Drug Labels, the docIds expected are DailyMed Set ID, and multiple Set IDs can be specified per request; for Clinical Trials, it is the ClinicalTrials.gov registry number expected, which is 'NCT' followed by 8 digits, and multiple NCTIDs can be specified per request."
   ]
  },
  {
   "cell_type": "code",
   "execution_count": 15,
   "metadata": {
    "pycharm": {
     "name": "#%%\n"
    }
   },
   "outputs": [
    {
     "name": "stdout",
     "output_type": "stream",
     "text": [
      "Posting request to extract adverse events and associated MedDRA codes from specified documents...\n",
      "Processing ['33302693', '33302276', '33302636']...\n",
      "Success!\n",
      "[{'doc_id': '33302693', 'results': [{'Certainty': {'logical_column_id': 0, 'value': ''}, '[PT] MedDRA PT': {'logical_column_id': 1, 'value': 'Cardiac failure congestive', 'indexed_spans_outer': [[1892, 1916]], 'indexed_spans_inner': [[1892, 1916]], 'text_spans_outer': [[184, 208]], 'text_spans_inner': [[184, 208]]}, '[NID] MedDRA PT': {'logical_column_id': 2, 'value': '10007559', 'indexed_spans_outer': [[1892, 1916]], 'indexed_spans_inner': [[1892, 1916]], 'text_spans_outer': [[184, 208]], 'text_spans_inner': [[184, 208]]}, 'Flag': {'logical_column_id': 3, 'value': ''}, 'Section': {'logical_column_id': 4, 'value': 'Standard Abstract', 'indexed_spans_outer': [[1403, 2199]], 'indexed_spans_inner': [[1403, 2199]], 'text_spans_outer': [[0, 150]], 'text_spans_inner': [[0, 150]]}, 'text': {'value': 'The Impella device is used routinely during coronary interventions, and device-related iatrogenic injury requiring surgical repair is rarely reported.... months later, she experienced congestive heart failure; transthoracic echocardiography revealed new-onset ...'}}, {'Certainty': {'logical_column_id': 0, 'value': ''}, '[PT] MedDRA PT': {'logical_column_id': 1, 'value': 'Iatrogenic injury', 'indexed_spans_outer': [[1490, 1507]], 'indexed_spans_inner': [[1490, 1507]], 'text_spans_outer': [[87, 104]], 'text_spans_inner': [[87, 104]]}, '[NID] MedDRA PT': {'logical_column_id': 2, 'value': '10061213', 'indexed_spans_outer': [[1490, 1507]], 'indexed_spans_inner': [[1490, 1507]], 'text_spans_outer': [[87, 104]], 'text_spans_inner': [[87, 104]]}, 'Flag': {'logical_column_id': 3, 'value': 'Indication', 'indexed_spans_outer': [[1425, 1446]], 'indexed_spans_inner': [[1425, 1446]], 'text_spans_outer': [[22, 43]], 'text_spans_inner': [[22, 43]]}, 'Section': {'logical_column_id': 4, 'value': 'Standard Abstract', 'indexed_spans_outer': [[1403, 2199]], 'indexed_spans_inner': [[1403, 2199]], 'text_spans_outer': [[0, 150]], 'text_spans_inner': [[0, 150]]}, 'text': {'value': 'The Impella device is used routinely during coronary interventions, and device-related iatrogenic injury requiring surgical repair is rarely reported. ...'}}, {'Certainty': {'logical_column_id': 0, 'value': ''}, '[PT] MedDRA PT': {'logical_column_id': 1, 'value': 'Iatrogenic injury', 'indexed_spans_outer': [[1125, 1142]], 'indexed_spans_inner': [[1125, 1142]], 'text_spans_outer': [[31, 48]], 'text_spans_inner': [[31, 48]]}, '[NID] MedDRA PT': {'logical_column_id': 2, 'value': '10061213', 'indexed_spans_outer': [[1125, 1142]], 'indexed_spans_inner': [[1125, 1142]], 'text_spans_outer': [[31, 48]], 'text_spans_inner': [[31, 48]]}, 'Flag': {'logical_column_id': 3, 'value': ''}, 'Section': {'logical_column_id': 4, 'value': 'Title', 'indexed_spans_outer': [[1094, 1172]], 'indexed_spans_inner': [[1094, 1172]], 'text_spans_outer': [[0, 78]], 'text_spans_inner': [[0, 78]]}, 'text': {'value': 'Aortic valve replacement after iatrogenic injury related to an Impella device.'}}, {'Certainty': {'logical_column_id': 0, 'value': ''}, '[PT] MedDRA PT': {'logical_column_id': 1, 'value': 'Injury', 'indexed_spans_outer': [[1598, 1604]], 'indexed_spans_inner': [[1598, 1604]], 'text_spans_outer': [[186, 192]], 'text_spans_inner': [[186, 192]]}, '[NID] MedDRA PT': {'logical_column_id': 2, 'value': '10022116', 'indexed_spans_outer': [[1598, 1604]], 'indexed_spans_inner': [[1598, 1604]], 'text_spans_outer': [[186, 192]], 'text_spans_inner': [[186, 192]]}, 'Flag': {'logical_column_id': 3, 'value': 'Adverse Event', 'indexed_spans_outer': [[1605, 1636]], 'indexed_spans_inner': [[1605, 1636]], 'text_spans_outer': [[193, 224]], 'text_spans_inner': [[193, 224]]}, 'Section': {'logical_column_id': 4, 'value': 'Standard Abstract', 'indexed_spans_outer': [[1403, 2199]], 'indexed_spans_inner': [[1403, 2199]], 'text_spans_outer': [[0, 150]], 'text_spans_inner': [[0, 150]]}, 'text': {'value': 'The Impella device is used routinely during coronary interventions, and device-related iatrogenic injury requiring surgical repair is rarely reported.... case of iatrogenic aortic valve injury due to Impella device insertion, necessitating aortic valve replacement ...'}}, {'Certainty': {'logical_column_id': 0, 'value': ''}, '[PT] MedDRA PT': {'logical_column_id': 1, 'value': 'Myocardial infarction', 'indexed_spans_outer': [[1730, 1751]], 'indexed_spans_inner': [[1730, 1751]], 'text_spans_outer': [[198, 219]], 'text_spans_inner': [[198, 219]]}, '[NID] MedDRA PT': {'logical_column_id': 2, 'value': '10028596', 'indexed_spans_outer': [[1730, 1751]], 'indexed_spans_inner': [[1730, 1751]], 'text_spans_outer': [[198, 219]], 'text_spans_inner': [[198, 219]]}, 'Flag': {'logical_column_id': 3, 'value': 'Indication', 'indexed_spans_outer': [[1700, 1710]], 'indexed_spans_inner': [[1700, 1710]], 'text_spans_outer': [[168, 178]], 'text_spans_inner': [[168, 178]]}, 'Section': {'logical_column_id': 4, 'value': 'Standard Abstract', 'indexed_spans_outer': [[1403, 2199]], 'indexed_spans_inner': [[1403, 2199]], 'text_spans_outer': [[0, 150]], 'text_spans_inner': [[0, 150]]}, 'text': {'value': 'The Impella device is used routinely during coronary interventions, and device-related iatrogenic injury requiring surgical repair is rarely reported.... A 55-year-old woman with acute anteroseptal myocardial infarction underwent a successful percutaneous coronary ...'}}]}, {'doc_id': '33302636', 'results': [{'Certainty': {'logical_column_id': 0, 'value': 'Hypothetical', 'indexed_spans_outer': [[1496, 1519]], 'indexed_spans_inner': [[1500, 1519]], 'text_spans_outer': [[38, 61]], 'text_spans_inner': [[42, 50]]}, '[PT] MedDRA PT': {'logical_column_id': 1, 'value': 'Nephropathy toxic', 'indexed_spans_outer': [[1548, 1562]], 'indexed_spans_inner': [[1548, 1562]], 'text_spans_outer': [[90, 104]], 'text_spans_inner': [[90, 104]]}, '[NID] MedDRA PT': {'logical_column_id': 2, 'value': '10029155', 'indexed_spans_outer': [[1548, 1562]], 'indexed_spans_inner': [[1548, 1562]], 'text_spans_outer': [[90, 104]], 'text_spans_inner': [[90, 104]]}, 'Flag': {'logical_column_id': 3, 'value': ''}, 'Section': {'logical_column_id': 4, 'value': 'Standard Abstract', 'indexed_spans_outer': [[1432, 3008]], 'indexed_spans_inner': [[1432, 3008]], 'text_spans_outer': [[0, 11], [11, 105]], 'text_spans_inner': [[0, 11], [11, 105]]}, 'text': {'value': 'BACKGROUND Oxidative stress is one of the possible mechanisms in vancomycin (VCM) induced nephrotoxicity.  ...'}}, {'Certainty': {'logical_column_id': 0, 'value': 'Hypothetical', 'indexed_spans_outer': [[1748, 1769]], 'indexed_spans_inner': [[1752, 1769]], 'text_spans_outer': [[125, 146]], 'text_spans_inner': [[129, 138]]}, '[PT] MedDRA PT': {'logical_column_id': 1, 'value': 'Oxidative stress', 'indexed_spans_outer': [[1794, 1810]], 'indexed_spans_inner': [[1794, 1810]], 'text_spans_outer': [[171, 187]], 'text_spans_inner': [[171, 187]]}, '[NID] MedDRA PT': {'logical_column_id': 2, 'value': '10080562', 'indexed_spans_outer': [[1794, 1810]], 'indexed_spans_inner': [[1794, 1810]], 'text_spans_outer': [[171, 187]], 'text_spans_inner': [[171, 187]]}, 'Flag': {'logical_column_id': 3, 'value': 'Adverse Event', 'indexed_spans_outer': [[1828, 1876]], 'indexed_spans_inner': [[1828, 1876]], 'text_spans_outer': [[205, 253]], 'text_spans_inner': [[205, 253]]}, 'Section': {'logical_column_id': 4, 'value': 'Standard Abstract', 'indexed_spans_outer': [[1432, 3008]], 'indexed_spans_inner': [[1432, 3008]], 'text_spans_outer': [[0, 11], [11, 105]], 'text_spans_inner': [[0, 11], [11, 105]]}, 'text': {'value': 'BACKGROUND Oxidative stress is one of the possible mechanisms in vancomycin (VCM) induced nephrotoxicity.... We investigated the potential targets of high dose VC against oxidative stress and inflammation induced by VCM in renal tubular epithelial cells.  ...'}}, {'Certainty': {'logical_column_id': 0, 'value': ''}, '[PT] MedDRA PT': {'logical_column_id': 1, 'value': 'Cell death', 'indexed_spans_outer': [[2209, 2219]], 'indexed_spans_inner': [[2209, 2219]], 'text_spans_outer': [[137, 147]], 'text_spans_inner': [[137, 147]]}, '[NID] MedDRA PT': {'logical_column_id': 2, 'value': '10057248', 'indexed_spans_outer': [[2209, 2219]], 'indexed_spans_inner': [[2209, 2219]], 'text_spans_outer': [[137, 147]], 'text_spans_inner': [[137, 147]]}, 'Flag': {'logical_column_id': 3, 'value': ''}, 'Section': {'logical_column_id': 4, 'value': 'Standard Abstract', 'indexed_spans_outer': [[1432, 3008]], 'indexed_spans_inner': [[1432, 3008]], 'text_spans_outer': [[0, 11], [11, 105]], 'text_spans_inner': [[0, 11], [11, 105]]}, 'text': {'value': 'BACKGROUND Oxidative stress is one of the possible mechanisms in vancomycin (VCM) induced nephrotoxicity.... cells caused an increase of cell death, oxidative stress and expression ...'}}, {'Certainty': {'logical_column_id': 0, 'value': ''}, '[PT] MedDRA PT': {'logical_column_id': 1, 'value': 'Cell death', 'indexed_spans_outer': [[2344, 2354]], 'indexed_spans_inner': [[2344, 2354]], 'text_spans_outer': [[139, 149]], 'text_spans_inner': [[139, 149]]}, '[NID] MedDRA PT': {'logical_column_id': 2, 'value': '10057248', 'indexed_spans_outer': [[2344, 2354]], 'indexed_spans_inner': [[2344, 2354]], 'text_spans_outer': [[139, 149]], 'text_spans_inner': [[139, 149]]}, 'Flag': {'logical_column_id': 3, 'value': ''}, 'Section': {'logical_column_id': 4, 'value': 'Standard Abstract', 'indexed_spans_outer': [[1432, 3008]], 'indexed_spans_inner': [[1432, 3008]], 'text_spans_outer': [[0, 11], [11, 105]], 'text_spans_inner': [[0, 11], [11, 105]]}, 'text': {'value': 'BACKGROUND Oxidative stress is one of the possible mechanisms in vancomycin (VCM) induced nephrotoxicity.... attenuated 4-8 mM VCM induced cell death and increased the cell viability ...'}}, {'Certainty': {'logical_column_id': 0, 'value': ''}, '[PT] MedDRA PT': {'logical_column_id': 1, 'value': 'Inflammation', 'indexed_spans_outer': [[1815, 1827]], 'indexed_spans_inner': [[1815, 1827]], 'text_spans_outer': [[141, 153]], 'text_spans_inner': [[141, 153]]}, '[NID] MedDRA PT': {'logical_column_id': 2, 'value': '10061218', 'indexed_spans_outer': [[1815, 1827]], 'indexed_spans_inner': [[1815, 1827]], 'text_spans_outer': [[141, 153]], 'text_spans_inner': [[141, 153]]}, 'Flag': {'logical_column_id': 3, 'value': 'Adverse Event', 'indexed_spans_outer': [[1828, 1876]], 'indexed_spans_inner': [[1828, 1876]], 'text_spans_outer': [[154, 202]], 'text_spans_inner': [[154, 202]]}, 'Section': {'logical_column_id': 4, 'value': 'Standard Abstract', 'indexed_spans_outer': [[1432, 3008]], 'indexed_spans_inner': [[1432, 3008]], 'text_spans_outer': [[0, 11], [11, 105]], 'text_spans_inner': [[0, 11], [11, 105]]}, 'text': {'value': 'BACKGROUND Oxidative stress is one of the possible mechanisms in vancomycin (VCM) induced nephrotoxicity.... VC against oxidative stress and inflammation induced by VCM in renal tubular epithelial cells.  ...'}}, {'Certainty': {'logical_column_id': 0, 'value': ''}, '[PT] MedDRA PT': {'logical_column_id': 1, 'value': 'Inflammation', 'indexed_spans_outer': [[1170, 1182]], 'indexed_spans_inner': [[1170, 1182]], 'text_spans_outer': [[101, 113]], 'text_spans_inner': [[101, 113]]}, '[NID] MedDRA PT': {'logical_column_id': 2, 'value': '10061218', 'indexed_spans_outer': [[1170, 1182]], 'indexed_spans_inner': [[1170, 1182]], 'text_spans_outer': [[101, 113]], 'text_spans_inner': [[101, 113]]}, 'Flag': {'logical_column_id': 3, 'value': 'Indication', 'indexed_spans_outer': [[1136, 1148]], 'indexed_spans_inner': [[1136, 1148]], 'text_spans_outer': [[67, 79]], 'text_spans_inner': [[67, 79]]}, 'Section': {'logical_column_id': 4, 'value': 'Title', 'indexed_spans_outer': [[1069, 1197]], 'indexed_spans_inner': [[1069, 1197]], 'text_spans_outer': [[0, 128]], 'text_spans_inner': [[0, 128]]}, 'text': {'value': 'Vitamin C attenuates vancomycin induced nephrotoxicity through the reduction of oxidative stress and inflammation in HK-2 cells.'}}, {'Certainty': {'logical_column_id': 0, 'value': ''}, '[PT] MedDRA PT': {'logical_column_id': 1, 'value': 'Lipids decreased', 'indexed_spans_outer': [[2426, 2431], [2426, 2431]], 'indexed_spans_inner': [[2426, 2431], [2426, 2431]], 'text_spans_outer': [[136, 141], [136, 141]], 'text_spans_inner': [[136, 141], [136, 141]]}, '[NID] MedDRA PT': {'logical_column_id': 2, 'value': '10024591', 'indexed_spans_outer': [[2426, 2431], [2426, 2431]], 'indexed_spans_inner': [[2426, 2431], [2426, 2431]], 'text_spans_outer': [[136, 141], [136, 141]], 'text_spans_inner': [[136, 141], [136, 141]]}, 'Flag': {'logical_column_id': 3, 'value': ''}, 'Section': {'logical_column_id': 4, 'value': 'Standard Abstract', 'indexed_spans_outer': [[1432, 3008]], 'indexed_spans_inner': [[1432, 3008]], 'text_spans_outer': [[0, 11], [11, 105]], 'text_spans_inner': [[0, 11], [11, 105]]}, 'text': {'value': 'BACKGROUND Oxidative stress is one of the possible mechanisms in vancomycin (VCM) induced nephrotoxicity.... VC significantly decreased lipid peroxidation and increased superoxide dismutase ...'}}, {'Certainty': {'logical_column_id': 0, 'value': ''}, '[PT] MedDRA PT': {'logical_column_id': 1, 'value': 'Lipids decreased', 'indexed_spans_outer': [[2829, 2834], [2829, 2834]], 'indexed_spans_inner': [[2829, 2834], [2829, 2834]], 'text_spans_outer': [[154, 159], [154, 159]], 'text_spans_inner': [[154, 159], [154, 159]]}, '[NID] MedDRA PT': {'logical_column_id': 2, 'value': '10024591', 'indexed_spans_outer': [[2829, 2834], [2829, 2834]], 'indexed_spans_inner': [[2829, 2834], [2829, 2834]], 'text_spans_outer': [[154, 159], [154, 159]], 'text_spans_inner': [[154, 159], [154, 159]]}, 'Flag': {'logical_column_id': 3, 'value': ''}, 'Section': {'logical_column_id': 4, 'value': 'Standard Abstract', 'indexed_spans_outer': [[1432, 3008]], 'indexed_spans_inner': [[1432, 3008]], 'text_spans_outer': [[0, 11], [11, 105]], 'text_spans_inner': [[0, 11], [11, 105]]}, 'text': {'value': 'BACKGROUND Oxidative stress is one of the possible mechanisms in vancomycin (VCM) induced nephrotoxicity.... the VCM induced nephrotoxicity by decreasing lipid peroxidation and expression of inflammatory ...'}}, {'Certainty': {'logical_column_id': 0, 'value': ''}, '[PT] MedDRA PT': {'logical_column_id': 1, 'value': 'Lipids increased', 'indexed_spans_outer': [[2449, 2458]], 'indexed_spans_inner': [[2449, 2458]], 'text_spans_outer': [[156, 165]], 'text_spans_inner': [[156, 165]]}, '[NID] MedDRA PT': {'logical_column_id': 2, 'value': '10024592', 'indexed_spans_outer': [[2449, 2458]], 'indexed_spans_inner': [[2449, 2458]], 'text_spans_outer': [[156, 165]], 'text_spans_inner': [[156, 165]]}, 'Flag': {'logical_column_id': 3, 'value': ''}, 'Section': {'logical_column_id': 4, 'value': 'Standard Abstract', 'indexed_spans_outer': [[1432, 3008]], 'indexed_spans_inner': [[1432, 3008]], 'text_spans_outer': [[0, 11], [11, 105]], 'text_spans_inner': [[0, 11], [11, 105]]}, 'text': {'value': 'BACKGROUND Oxidative stress is one of the possible mechanisms in vancomycin (VCM) induced nephrotoxicity.... significantly decreased lipid peroxidation and increased superoxide dismutase activity.  ...'}}, {'Certainty': {'logical_column_id': 0, 'value': ''}, '[PT] MedDRA PT': {'logical_column_id': 1, 'value': 'Nephropathy toxic', 'indexed_spans_outer': [[1651, 1665]], 'indexed_spans_inner': [[1651, 1665]], 'text_spans_outer': [[143, 157]], 'text_spans_inner': [[143, 157]]}, '[NID] MedDRA PT': {'logical_column_id': 2, 'value': '10029155', 'indexed_spans_outer': [[1651, 1665]], 'indexed_spans_inner': [[1651, 1665]], 'text_spans_outer': [[143, 157]], 'text_spans_inner': [[143, 157]]}, 'Flag': {'logical_column_id': 3, 'value': ''}, 'Section': {'logical_column_id': 4, 'value': 'Standard Abstract', 'indexed_spans_outer': [[1432, 3008]], 'indexed_spans_inner': [[1432, 3008]], 'text_spans_outer': [[0, 11], [11, 105]], 'text_spans_inner': [[0, 11], [11, 105]]}, 'text': {'value': 'BACKGROUND Oxidative stress is one of the possible mechanisms in vancomycin (VCM) induced nephrotoxicity.... has protective effect against the nephrotoxicity in mice, but the ...'}}, {'Certainty': {'logical_column_id': 0, 'value': ''}, '[PT] MedDRA PT': {'logical_column_id': 1, 'value': 'Nephropathy toxic', 'indexed_spans_outer': [[2800, 2814]], 'indexed_spans_inner': [[2800, 2814]], 'text_spans_outer': [[139, 153]], 'text_spans_inner': [[139, 153]]}, '[NID] MedDRA PT': {'logical_column_id': 2, 'value': '10029155', 'indexed_spans_outer': [[2800, 2814]], 'indexed_spans_inner': [[2800, 2814]], 'text_spans_outer': [[139, 153]], 'text_spans_inner': [[139, 153]]}, 'Flag': {'logical_column_id': 3, 'value': ''}, 'Section': {'logical_column_id': 4, 'value': 'Standard Abstract', 'indexed_spans_outer': [[1432, 3008]], 'indexed_spans_inner': [[1432, 3008]], 'text_spans_outer': [[0, 11], [11, 105]], 'text_spans_inner': [[0, 11], [11, 105]]}, 'text': {'value': 'BACKGROUND Oxidative stress is one of the possible mechanisms in vancomycin (VCM) induced nephrotoxicity.... can attenuate the VCM induced nephrotoxicity by decreasing lipid peroxidation and ...'}}, {'Certainty': {'logical_column_id': 0, 'value': ''}, '[PT] MedDRA PT': {'logical_column_id': 1, 'value': 'Nephropathy toxic', 'indexed_spans_outer': [[1109, 1123]], 'indexed_spans_inner': [[1109, 1123]], 'text_spans_outer': [[40, 54]], 'text_spans_inner': [[40, 54]]}, '[NID] MedDRA PT': {'logical_column_id': 2, 'value': '10029155', 'indexed_spans_outer': [[1109, 1123]], 'indexed_spans_inner': [[1109, 1123]], 'text_spans_outer': [[40, 54]], 'text_spans_inner': [[40, 54]]}, 'Flag': {'logical_column_id': 3, 'value': ''}, 'Section': {'logical_column_id': 4, 'value': 'Title', 'indexed_spans_outer': [[1069, 1197]], 'indexed_spans_inner': [[1069, 1197]], 'text_spans_outer': [[0, 128]], 'text_spans_inner': [[0, 128]]}, 'text': {'value': 'Vitamin C attenuates vancomycin induced nephrotoxicity through the reduction of oxidative stress and inflammation in HK-2 cells.'}}, {'Certainty': {'logical_column_id': 0, 'value': ''}, '[PT] MedDRA PT': {'logical_column_id': 1, 'value': 'Oxidative stress', 'indexed_spans_outer': [[1149, 1165]], 'indexed_spans_inner': [[1149, 1165]], 'text_spans_outer': [[80, 96]], 'text_spans_inner': [[80, 96]]}, '[NID] MedDRA PT': {'logical_column_id': 2, 'value': '10080562', 'indexed_spans_outer': [[1149, 1165]], 'indexed_spans_inner': [[1149, 1165]], 'text_spans_outer': [[80, 96]], 'text_spans_inner': [[80, 96]]}, 'Flag': {'logical_column_id': 3, 'value': 'Indication', 'indexed_spans_outer': [[1090, 1131]], 'indexed_spans_inner': [[1090, 1131]], 'text_spans_outer': [[21, 62]], 'text_spans_inner': [[21, 62]]}, 'Section': {'logical_column_id': 4, 'value': 'Title', 'indexed_spans_outer': [[1069, 1197]], 'indexed_spans_inner': [[1069, 1197]], 'text_spans_outer': [[0, 128]], 'text_spans_inner': [[0, 128]]}, 'text': {'value': 'Vitamin C attenuates vancomycin induced nephrotoxicity through the reduction of oxidative stress and inflammation in HK-2 cells.'}}, {'Certainty': {'logical_column_id': 0, 'value': ''}, '[PT] MedDRA PT': {'logical_column_id': 1, 'value': 'Oxidative stress', 'indexed_spans_outer': [[1149, 1165]], 'indexed_spans_inner': [[1149, 1165]], 'text_spans_outer': [[80, 96]], 'text_spans_inner': [[80, 96]]}, '[NID] MedDRA PT': {'logical_column_id': 2, 'value': '10080562', 'indexed_spans_outer': [[1149, 1165]], 'indexed_spans_inner': [[1149, 1165]], 'text_spans_outer': [[80, 96]], 'text_spans_inner': [[80, 96]]}, 'Flag': {'logical_column_id': 3, 'value': 'Indication', 'indexed_spans_outer': [[1136, 1148]], 'indexed_spans_inner': [[1136, 1148]], 'text_spans_outer': [[67, 79]], 'text_spans_inner': [[67, 79]]}, 'Section': {'logical_column_id': 4, 'value': 'Title', 'indexed_spans_outer': [[1069, 1197]], 'indexed_spans_inner': [[1069, 1197]], 'text_spans_outer': [[0, 128]], 'text_spans_inner': [[0, 128]]}, 'text': {'value': 'Vitamin C attenuates vancomycin induced nephrotoxicity through the reduction of oxidative stress and inflammation in HK-2 cells.'}}, {'Certainty': {'logical_column_id': 0, 'value': ''}, '[PT] MedDRA PT': {'logical_column_id': 1, 'value': 'Oxidative stress', 'indexed_spans_outer': [[1469, 1485]], 'indexed_spans_inner': [[1469, 1485]], 'text_spans_outer': [[11, 27]], 'text_spans_inner': [[11, 27]]}, '[NID] MedDRA PT': {'logical_column_id': 2, 'value': '10080562', 'indexed_spans_outer': [[1469, 1485]], 'indexed_spans_inner': [[1469, 1485]], 'text_spans_outer': [[11, 27]], 'text_spans_inner': [[11, 27]]}, 'Flag': {'logical_column_id': 3, 'value': ''}, 'Section': {'logical_column_id': 4, 'value': 'Standard Abstract', 'indexed_spans_outer': [[1432, 3008]], 'indexed_spans_inner': [[1432, 3008]], 'text_spans_outer': [[0, 11], [11, 105]], 'text_spans_inner': [[0, 11], [11, 105]]}, 'text': {'value': 'BACKGROUND Oxidative stress is one of the possible mechanisms in vancomycin (VCM) induced nephrotoxicity. ...'}}]}]\n"
     ]
    }
   ],
   "source": [
    "import requests\n",
    "\n",
    "# Define input IDs\n",
    "docids = ['33302693', '33302276', '33302636']\n",
    "\n",
    "# Make a request\n",
    "print(\"Posting request to extract adverse events and associated MedDRA codes from specified documents...\")\n",
    "\n",
    "\n",
    "print(f\"Processing {docids}...\")\n",
    "response = requests.get(api_endpoint_url, headers=mkp_headers, params={'docIds': docids, \"rowLimit\": 20})\n",
    "# Check the response\n",
    "if response.status_code == 200:\n",
    "    print(\"Success!\")\n",
    "    results_json = response.json()\n",
    "else:\n",
    "    raise Exception(f\"Error: {response}\")\n",
    "\n",
    "print(results_json)"
   ]
  },
  {
   "cell_type": "markdown",
   "metadata": {},
   "source": [
    "Now that we have got the JSON responses from the Adverse Events Coding API, we could convert the useful information associated with the keys into a pandas dataframe."
   ]
  },
  {
   "cell_type": "code",
   "execution_count": 16,
   "metadata": {
    "pycharm": {
     "name": "#%%\n"
    }
   },
   "outputs": [
    {
     "data": {
      "text/html": [
       "<div>\n",
       "<style scoped>\n",
       "    .dataframe tbody tr th:only-of-type {\n",
       "        vertical-align: middle;\n",
       "    }\n",
       "\n",
       "    .dataframe tbody tr th {\n",
       "        vertical-align: top;\n",
       "    }\n",
       "\n",
       "    .dataframe thead th {\n",
       "        text-align: right;\n",
       "    }\n",
       "</style>\n",
       "<table border=\"1\" class=\"dataframe\">\n",
       "  <thead>\n",
       "    <tr style=\"text-align: right;\">\n",
       "      <th></th>\n",
       "      <th>Certainty</th>\n",
       "      <th>[PT] MedDRA PT</th>\n",
       "      <th>[NID] MedDRA PT</th>\n",
       "      <th>Flag</th>\n",
       "      <th>Section</th>\n",
       "      <th>text</th>\n",
       "      <th>Doc Id</th>\n",
       "    </tr>\n",
       "  </thead>\n",
       "  <tbody>\n",
       "    <tr>\n",
       "      <th>0</th>\n",
       "      <td></td>\n",
       "      <td>Myocardial infarction</td>\n",
       "      <td>10028596</td>\n",
       "      <td>Indication</td>\n",
       "      <td>Standard Abstract</td>\n",
       "      <td>The Impella device is used routinely during co...</td>\n",
       "      <td>33302693</td>\n",
       "    </tr>\n",
       "    <tr>\n",
       "      <th>1</th>\n",
       "      <td></td>\n",
       "      <td>Oxidative stress</td>\n",
       "      <td>10080562</td>\n",
       "      <td></td>\n",
       "      <td>Standard Abstract</td>\n",
       "      <td>BACKGROUND Oxidative stress is one of the poss...</td>\n",
       "      <td>33302636</td>\n",
       "    </tr>\n",
       "  </tbody>\n",
       "</table>\n",
       "</div>"
      ],
      "text/plain": [
       "  Certainty         [PT] MedDRA PT [NID] MedDRA PT        Flag            Section                                               text    Doc Id\n",
       "0            Myocardial infarction        10028596  Indication  Standard Abstract  The Impella device is used routinely during co...  33302693\n",
       "1                 Oxidative stress        10080562              Standard Abstract  BACKGROUND Oxidative stress is one of the poss...  33302636"
      ]
     },
     "execution_count": 16,
     "metadata": {},
     "output_type": "execute_result"
    }
   ],
   "source": [
    "import pandas as pd\n",
    "\n",
    "# initiate an empty dataframe\n",
    "df = pd.DataFrame()\n",
    "pd.set_option(\"display.max_rows\", None, \"display.max_columns\", None, \"display.width\", 1000)\n",
    "\n",
    "# Retrieve main results from the JSON response, please note this cell would fail if the request failed in the last step\n",
    "for results in results_json:\n",
    "    df_dict = {}\n",
    "    for result_dict in results[\"results\"]:\n",
    "        for key, value_dict in result_dict.items():\n",
    "            df_dict[key] = value_dict['value']\n",
    "    df_dict[\"Doc Id\"] = results[\"doc_id\"]\n",
    "    df = pd.concat([df, pd.DataFrame.from_records([{**df_dict}])], ignore_index=True)\n",
    "\n",
    "# Check the dataframe\n",
    "df"
   ]
  },
  {
   "cell_type": "markdown",
   "metadata": {},
   "source": [
    "That's it! Hope you find this tutorial useful! Bye!"
   ]
  },
  {
   "cell_type": "code",
   "execution_count": null,
   "metadata": {
    "pycharm": {
     "name": "#%%\n"
    }
   },
   "outputs": [],
   "source": []
  }
 ],
 "metadata": {
  "kernelspec": {
   "display_name": "Python 3 (ipykernel)",
   "language": "python",
   "name": "python3"
  },
  "language_info": {
   "codemirror_mode": {
    "name": "ipython",
    "version": 3
   },
   "file_extension": ".py",
   "mimetype": "text/x-python",
   "name": "python",
   "nbconvert_exporter": "python",
   "pygments_lexer": "ipython3",
   "version": "3.8.10"
  }
 },
 "nbformat": 4,
 "nbformat_minor": 1
}