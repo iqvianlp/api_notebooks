{
 "cells": [
  {
   "cell_type": "markdown",
   "id": "d995c525",
   "metadata": {},
   "source": [
    "# IQVIA NLP - FDA Drug Label Biomarkers\n",
    "\n",
    "## API Description\n",
    "Understanding biomarkers for drug efficacy or disease progression is critical in clinical development. Relevant data is often in unstructured text, such as clinical trial records, and drug labels.   For Data Scientists, the FDA Drug Label Biomarkers API solves this problem by offering an API that extracts gene/protein biomarkers from specific regions of FDA Drug labels (Indications and Usages section). Biomarker-disease relationships are provided (e.g.positive, negative); diseases are mapped to MedDRA, and mechanism of action data are also extracted.\n",
    "\n",
    "## Accessing the API\n",
    "In order to consume this API, you will first need to Request access to the FDA Drug Label Biomarkers API \n",
    "via this link:\n",
    "https://api-marketplace.work.iqvia.com/s/communityapi/a085w00000ytJqMAAU/api-marketplaceiqvianlpfdadruglabelbiomarkerspreview .\n",
    "\n",
    "Please refer to \"API Documentation\" to learn more about accessing and using the API.\n",
    "\n",
    "## Notebook Description\n",
    "This notebook is designed to biomarkers and their related diseases from from openFDA drug product labeling records. Users could specify records of interest by supplying FDA Drug Label document identifiers in the 'FDAID' parameter when posting the request.\n",
    "\n",
    "### Authorization\n",
    "The instructions for getting your credentials and the API endpoint URL can be found under the section \"Get Started\" and \"How to use the API\" following this link: https://api-marketplace.work.iqvia.com/s/communityapi/a085w00000ytJqMAAU/api-marketplaceiqvianlpfdadruglabelbiomarkerspreview ."
   ]
  },
  {
   "cell_type": "code",
   "execution_count": 1,
   "id": "6043edcd",
   "metadata": {
    "pycharm": {
     "name": "#%%\n"
    }
   },
   "outputs": [
    {
     "name": "stdout",
     "output_type": "stream",
     "text": [
      "Please enter the API URL: https://vt.eu-apim-devtest.solutions.iqvia.com/eu/fdadruglabels/api/v2/fdadruglabels/biomarkers\n",
      "Marketplace clientId: f7fd16f8f6684068a6c17e8eee17fda6\n",
      "Marketplace clientSecret: ········\n",
      "Thanks for inputting URL, your user name and password!\n"
     ]
    }
   ],
   "source": [
    "import getpass\n",
    "\n",
    "# Get URL and credentials from customers\n",
    "api_endpoint_url = input('Please enter the API URL: ').rstrip('/')\n",
    "\n",
    "mkp_user = input(\"Marketplace clientId: \")\n",
    "mkp_password = getpass.getpass(\"Marketplace clientSecret: \")\n",
    "mkp_headers = {'clientId': mkp_user, 'clientSecret': mkp_password}\n",
    "\n",
    "print(\"Thanks for inputting URL, your user name and password!\")"
   ]
  },
  {
   "cell_type": "markdown",
   "id": "ad2293f4",
   "metadata": {},
   "source": [
    "### Example: Make a request for a list of known FDA Drug Label documents\n",
    "FDA Drug Label Biomarker NLP API expects openFDA application number (FDAID) as input parameter. This example shows how to make a request to the API with a list of FDAIDs.\n"
   ]
  },
  {
   "cell_type": "code",
   "execution_count": 2,
   "id": "9cfca417",
   "metadata": {
    "pycharm": {
     "name": "#%%\n"
    }
   },
   "outputs": [
    {
     "name": "stdout",
     "output_type": "stream",
     "text": [
      "Posting request to extract biomarkers and related diseases from specified FDA Drug Labels documents...\n",
      "Results are not available yet. Waiting 10 seconds before polling again...\n",
      "Results are not available yet. Waiting 10 seconds before polling again...\n",
      "Results are not available yet. Waiting 10 seconds before polling again...\n",
      "Success!\n",
      "Results: \n",
      "[{'doc_id': 'cdb2c4b4-a20a-3f8f-e053-2a95a90aaf72', 'results': [{'Biomarker': {'logical_column_id': 0, 'value': 'CYP3A4', 'indexed_spans_outer': [[69637, 69644]], 'indexed_spans_inner': [[69637, 69644]], 'text_spans_outer': [[71, 78]], 'text_spans_inner': [[71, 78]]}, 'Relation': {'logical_column_id': 1, 'value': 'inducer', 'indexed_spans_outer': [[69645, 69653]], 'indexed_spans_inner': [[69645, 69653]], 'text_spans_outer': [[79, 87]], 'text_spans_inner': [[79, 87]]}, '[SID] Diseases and Disorder': {'logical_column_id': 2, 'value': 'meddra', 'indexed_spans_outer': [[28552, 28558]], 'indexed_spans_inner': [[28552, 28558]], 'text_spans_outer': [[18, 24]], 'text_spans_inner': [[18, 24]]}, '[NID] Diseases and Disorder': {'logical_column_id': 2, 'value': '10028997'}, '[PT] Diseases and Disorder': {'logical_column_id': 2, 'value': 'Neoplasm malignant'}, 'Section': {'logical_column_id': 3, 'value': 'Clinical Pharmacology & Indications & Usage'}, 'FDAID': {'logical_column_id': 4, 'value': 'ANDA076183'}, 'Label Revision Date': {'logical_column_id': 5, 'value': '20211006'}, 'text': {'value': 'highly emetogenic cancer chemotherapy, including cisplatin greater ... CYP 3A4 Inducers: Ondansetron elimination may be ...'}}, {'Biomarker': {'logical_column_id': 0, 'value': 'CYP3A4', 'indexed_spans_outer': [[69637, 69644]], 'indexed_spans_inner': [[69637, 69644]], 'text_spans_outer': [[69, 76]], 'text_spans_inner': [[69, 76]]}, 'Relation': {'logical_column_id': 1, 'value': 'inducer', 'indexed_spans_outer': [[69645, 69653]], 'indexed_spans_inner': [[69645, 69653]], 'text_spans_outer': [[77, 85]], 'text_spans_inner': [[77, 85]]}, '[SID] Diseases and Disorder': {'logical_column_id': 2, 'value': 'meddra', 'indexed_spans_outer': [[28755, 28761]], 'indexed_spans_inner': [[28755, 28761]], 'text_spans_outer': [[44, 50]], 'text_spans_inner': [[44, 50]]}, '[NID] Diseases and Disorder': {'logical_column_id': 2, 'value': '10028997'}, '[PT] Diseases and Disorder': {'logical_column_id': 2, 'value': 'Neoplasm malignant'}, 'Section': {'logical_column_id': 3, 'value': 'Clinical Pharmacology & Indications & Usage'}, 'FDAID': {'logical_column_id': 4, 'value': 'ANDA076183'}, 'Label Revision Date': {'logical_column_id': 5, 'value': '20211006'}, 'text': {'value': '... repeat courses of moderately emetogenic cancer chemotherapy. ... CYP 3A4 Inducers: Ondansetron elimination may be ...'}}, {'Biomarker': {'logical_column_id': 0, 'value': 'CYP3A4', 'indexed_spans_outer': [[69803, 69809]], 'indexed_spans_inner': [[69803, 69809]], 'text_spans_outer': [[116, 122]], 'text_spans_inner': [[116, 122]]}, 'Relation': {'logical_column_id': 1, 'value': 'inducer', 'indexed_spans_outer': [[69810, 69818]], 'indexed_spans_inner': [[69810, 69818]], 'text_spans_outer': [[123, 131]], 'text_spans_inner': [[123, 131]]}, '[SID] Diseases and Disorder': {'logical_column_id': 2, 'value': 'meddra', 'indexed_spans_outer': [[28552, 28558]], 'indexed_spans_inner': [[28552, 28558]], 'text_spans_outer': [[18, 24]], 'text_spans_inner': [[18, 24]]}, '[NID] Diseases and Disorder': {'logical_column_id': 2, 'value': '10028997'}, '[PT] Diseases and Disorder': {'logical_column_id': 2, 'value': 'Neoplasm malignant'}, 'Section': {'logical_column_id': 3, 'value': 'Clinical Pharmacology & Indications & Usage'}, 'FDAID': {'logical_column_id': 4, 'value': 'ANDA076183'}, 'Label Revision Date': {'logical_column_id': 5, 'value': '20211006'}, 'text': {'value': 'highly emetogenic cancer chemotherapy, including cisplatin greater ... epileptic patients maintained chronically on CYP3A4 inducers, carbamazepine, or phenytoin...'}}, {'Biomarker': {'logical_column_id': 0, 'value': 'CYP3A4', 'indexed_spans_outer': [[69803, 69809]], 'indexed_spans_inner': [[69803, 69809]], 'text_spans_outer': [[114, 120]], 'text_spans_inner': [[114, 120]]}, 'Relation': {'logical_column_id': 1, 'value': 'inducer', 'indexed_spans_outer': [[69810, 69818]], 'indexed_spans_inner': [[69810, 69818]], 'text_spans_outer': [[121, 129]], 'text_spans_inner': [[121, 129]]}, '[SID] Diseases and Disorder': {'logical_column_id': 2, 'value': 'meddra', 'indexed_spans_outer': [[28755, 28761]], 'indexed_spans_inner': [[28755, 28761]], 'text_spans_outer': [[44, 50]], 'text_spans_inner': [[44, 50]]}, '[NID] Diseases and Disorder': {'logical_column_id': 2, 'value': '10028997'}, '[PT] Diseases and Disorder': {'logical_column_id': 2, 'value': 'Neoplasm malignant'}, 'Section': {'logical_column_id': 3, 'value': 'Clinical Pharmacology & Indications & Usage'}, 'FDAID': {'logical_column_id': 4, 'value': 'ANDA076183'}, 'Label Revision Date': {'logical_column_id': 5, 'value': '20211006'}, 'text': {'value': '... repeat courses of moderately emetogenic cancer chemotherapy. ... epileptic patients maintained chronically on CYP3A4 inducers, carbamazepine, or phenytoin...'}}, {'Biomarker': {'logical_column_id': 0, 'value': 'CYP3A4', 'indexed_spans_outer': [[48478, 48484]], 'indexed_spans_inner': [[48478, 48484]], 'text_spans_outer': [[115, 121]], 'text_spans_inner': [[115, 121]]}, 'Relation': {'logical_column_id': 1, 'value': 'inducer', 'indexed_spans_outer': [[48466, 48474]], 'indexed_spans_inner': [[48466, 48474]], 'text_spans_outer': [[103, 111]], 'text_spans_inner': [[103, 111]]}, '[SID] Diseases and Disorder': {'logical_column_id': 2, 'value': 'meddra', 'indexed_spans_outer': [[28552, 28558]], 'indexed_spans_inner': [[28552, 28558]], 'text_spans_outer': [[18, 24]], 'text_spans_inner': [[18, 24]]}, '[NID] Diseases and Disorder': {'logical_column_id': 2, 'value': '10028997'}, '[PT] Diseases and Disorder': {'logical_column_id': 2, 'value': 'Neoplasm malignant'}, 'Section': {'logical_column_id': 3, 'value': 'Drug Interaction & Indications & Usage'}, 'FDAID': {'logical_column_id': 4, 'value': 'ANDA076183'}, 'Label Revision Date': {'logical_column_id': 5, 'value': '20211006'}, 'text': {'value': 'highly emetogenic cancer chemotherapy, including cisplatin greater ... In patients treated with potent inducers of CYP3A4 (i.e., phenytoin, ...'}}, {'Biomarker': {'logical_column_id': 0, 'value': 'CYP3A4', 'indexed_spans_outer': [[48478, 48484]], 'indexed_spans_inner': [[48478, 48484]], 'text_spans_outer': [[113, 119]], 'text_spans_inner': [[113, 119]]}, 'Relation': {'logical_column_id': 1, 'value': 'inducer', 'indexed_spans_outer': [[48466, 48474]], 'indexed_spans_inner': [[48466, 48474]], 'text_spans_outer': [[101, 109]], 'text_spans_inner': [[101, 109]]}, '[SID] Diseases and Disorder': {'logical_column_id': 2, 'value': 'meddra', 'indexed_spans_outer': [[28755, 28761]], 'indexed_spans_inner': [[28755, 28761]], 'text_spans_outer': [[44, 50]], 'text_spans_inner': [[44, 50]]}, '[NID] Diseases and Disorder': {'logical_column_id': 2, 'value': '10028997'}, '[PT] Diseases and Disorder': {'logical_column_id': 2, 'value': 'Neoplasm malignant'}, 'Section': {'logical_column_id': 3, 'value': 'Drug Interaction & Indications & Usage'}, 'FDAID': {'logical_column_id': 4, 'value': 'ANDA076183'}, 'Label Revision Date': {'logical_column_id': 5, 'value': '20211006'}, 'text': {'value': '... repeat courses of moderately emetogenic cancer chemotherapy. ... In patients treated with potent inducers of CYP3A4 (i.e., phenytoin, ...'}}, {'Biomarker': {'logical_column_id': 0, 'value': 'CYP3A4', 'indexed_spans_outer': [[69637, 69644]], 'indexed_spans_inner': [[69637, 69644]], 'text_spans_outer': [[77, 84]], 'text_spans_inner': [[77, 84]]}, 'Relation': {'logical_column_id': 1, 'value': 'inducer', 'indexed_spans_outer': [[69645, 69653]], 'indexed_spans_inner': [[69645, 69653]], 'text_spans_outer': [[85, 93]], 'text_spans_inner': [[85, 93]]}, '[SID] Diseases and Disorder': {'logical_column_id': 2, 'value': 'meddra', 'indexed_spans_outer': [[28424, 28430]], 'indexed_spans_inner': [[28424, 28430]], 'text_spans_outer': [[36, 55]], 'text_spans_inner': [[36, 55]]}, '[NID] Diseases and Disorder': {'logical_column_id': 2, 'value': '10047700'}, '[PT] Diseases and Disorder': {'logical_column_id': 2, 'value': 'Vomiting'}, 'Section': {'logical_column_id': 3, 'value': 'Clinical Pharmacology & Indications & Usage'}, 'FDAID': {'logical_column_id': 4, 'value': 'ANDA076183'}, 'Label Revision Date': {'logical_column_id': 5, 'value': '20211006'}, 'text': {'value': '... indicated for the prevention of nausea and vomiting associated with: ... CYP 3A4 Inducers: Ondansetron elimination may be ...'}}, {'Biomarker': {'logical_column_id': 0, 'value': 'CYP3A4', 'indexed_spans_outer': [[69803, 69809]], 'indexed_spans_inner': [[69803, 69809]], 'text_spans_outer': [[122, 128]], 'text_spans_inner': [[122, 128]]}, 'Relation': {'logical_column_id': 1, 'value': 'inducer', 'indexed_spans_outer': [[69810, 69818]], 'indexed_spans_inner': [[69810, 69818]], 'text_spans_outer': [[129, 137]], 'text_spans_inner': [[129, 137]]}, '[SID] Diseases and Disorder': {'logical_column_id': 2, 'value': 'meddra', 'indexed_spans_outer': [[28424, 28430]], 'indexed_spans_inner': [[28424, 28430]], 'text_spans_outer': [[36, 55]], 'text_spans_inner': [[36, 55]]}, '[NID] Diseases and Disorder': {'logical_column_id': 2, 'value': '10047700'}, '[PT] Diseases and Disorder': {'logical_column_id': 2, 'value': 'Vomiting'}, 'Section': {'logical_column_id': 3, 'value': 'Clinical Pharmacology & Indications & Usage'}, 'FDAID': {'logical_column_id': 4, 'value': 'ANDA076183'}, 'Label Revision Date': {'logical_column_id': 5, 'value': '20211006'}, 'text': {'value': '... indicated for the prevention of nausea and vomiting associated with: ... epileptic patients maintained chronically on CYP3A4 inducers, carbamazepine, or phenytoin...'}}, {'Biomarker': {'logical_column_id': 0, 'value': 'CYP3A4', 'indexed_spans_outer': [[48478, 48484]], 'indexed_spans_inner': [[48478, 48484]], 'text_spans_outer': [[121, 127]], 'text_spans_inner': [[121, 127]]}, 'Relation': {'logical_column_id': 1, 'value': 'inducer', 'indexed_spans_outer': [[48466, 48474]], 'indexed_spans_inner': [[48466, 48474]], 'text_spans_outer': [[109, 117]], 'text_spans_inner': [[109, 117]]}, '[SID] Diseases and Disorder': {'logical_column_id': 2, 'value': 'meddra', 'indexed_spans_outer': [[28424, 28430]], 'indexed_spans_inner': [[28424, 28430]], 'text_spans_outer': [[36, 55]], 'text_spans_inner': [[36, 55]]}, '[NID] Diseases and Disorder': {'logical_column_id': 2, 'value': '10047700'}, '[PT] Diseases and Disorder': {'logical_column_id': 2, 'value': 'Vomiting'}, 'Section': {'logical_column_id': 3, 'value': 'Drug Interaction & Indications & Usage'}, 'FDAID': {'logical_column_id': 4, 'value': 'ANDA076183'}, 'Label Revision Date': {'logical_column_id': 5, 'value': '20211006'}, 'text': {'value': '... indicated for the prevention of nausea and vomiting associated with: ... In patients treated with potent inducers of CYP3A4 (i.e., phenytoin, ...'}}, {'Biomarker': {'logical_column_id': 0, 'value': 'CYP3A4', 'indexed_spans_outer': [[69637, 69644]], 'indexed_spans_inner': [[69637, 69644]], 'text_spans_outer': [[78, 85]], 'text_spans_inner': [[78, 85]]}, 'Relation': {'logical_column_id': 1, 'value': 'inducer', 'indexed_spans_outer': [[69645, 69653]], 'indexed_spans_inner': [[69645, 69653]], 'text_spans_outer': [[86, 94]], 'text_spans_inner': [[86, 94]]}, '[SID] Diseases and Disorder': {'logical_column_id': 2, 'value': 'meddra', 'indexed_spans_outer': [[29096, 29116]], 'indexed_spans_inner': [[29096, 29116]], 'text_spans_outer': [[36, 56]], 'text_spans_inner': [[36, 56]]}, '[NID] Diseases and Disorder': {'logical_column_id': 2, 'value': '10066962'}, '[PT] Diseases and Disorder': {'logical_column_id': 2, 'value': 'Procedural nausea'}, 'Section': {'logical_column_id': 3, 'value': 'Clinical Pharmacology & Indications & Usage'}, 'FDAID': {'logical_column_id': 4, 'value': 'ANDA076183'}, 'Label Revision Date': {'logical_column_id': 5, 'value': '20211006'}, 'text': {'value': '... indicated for the prevention of postoperative nausea and/or vomiting. ... CYP 3A4 Inducers: Ondansetron elimination may be ...'}}]}]\n",
      "\n"
     ]
    }
   ],
   "source": [
    "import requests\n",
    "import time\n",
    "\n",
    "# Define input FDAIDs\n",
    "input_fdaids = ['NDA204114', 'ANDA076183']\n",
    "\n",
    "# Make a request\n",
    "print(\"Posting request to extract biomarkers and related diseases from specified FDA Drug Labels documents...\")\n",
    "\n",
    "response = requests.post(api_endpoint_url, headers=mkp_headers, json={'params': {'FDAID': input_fdaids}, 'row_limit': 10})\n",
    "\n",
    "# Poll the API until results are available\n",
    "while response.status_code == 202:\n",
    "    print('Results are not available yet. Waiting 10 seconds before polling again...')\n",
    "    time.sleep(10)\n",
    "    # Use the run id from the Post request to get results\n",
    "    run_identifier = response.json()['id']    \n",
    "    response = requests.get(url=f'{api_endpoint_url}/{run_identifier}', headers=mkp_headers)\n",
    "    \n",
    "# Check the response\n",
    "if response.status_code == 200:\n",
    "    print(\"Success!\")\n",
    "    results_json = response.json()\n",
    "else:\n",
    "    raise Exception(f\"Unexpected status code: {response.status_code}\")\n",
    "\n",
    "print(f'Results: \\n{results_json}\\n')"
   ]
  },
  {
   "cell_type": "markdown",
   "id": "cbba2236",
   "metadata": {},
   "source": [
    "Now that we have got the JSON responses from the FDA Drug Label Biomarker API, we could convert the useful information associated with the keys into a pandas dataframe."
   ]
  },
  {
   "cell_type": "code",
   "execution_count": 3,
   "id": "1810155f",
   "metadata": {
    "pycharm": {
     "name": "#%%\n"
    }
   },
   "outputs": [
    {
     "data": {
      "text/html": [
       "<div>\n",
       "<style scoped>\n",
       "    .dataframe tbody tr th:only-of-type {\n",
       "        vertical-align: middle;\n",
       "    }\n",
       "\n",
       "    .dataframe tbody tr th {\n",
       "        vertical-align: top;\n",
       "    }\n",
       "\n",
       "    .dataframe thead th {\n",
       "        text-align: right;\n",
       "    }\n",
       "</style>\n",
       "<table border=\"1\" class=\"dataframe\">\n",
       "  <thead>\n",
       "    <tr style=\"text-align: right;\">\n",
       "      <th></th>\n",
       "      <th>Biomarker</th>\n",
       "      <th>Relation</th>\n",
       "      <th>[SID] Diseases and Disorder</th>\n",
       "      <th>[NID] Diseases and Disorder</th>\n",
       "      <th>[PT] Diseases and Disorder</th>\n",
       "      <th>Section</th>\n",
       "      <th>FDAID</th>\n",
       "      <th>Label Revision Date</th>\n",
       "      <th>text</th>\n",
       "      <th>Doc Id</th>\n",
       "    </tr>\n",
       "  </thead>\n",
       "  <tbody>\n",
       "    <tr>\n",
       "      <th>0</th>\n",
       "      <td>CYP3A4</td>\n",
       "      <td>inducer</td>\n",
       "      <td>meddra</td>\n",
       "      <td>10028997</td>\n",
       "      <td>Neoplasm malignant</td>\n",
       "      <td>Clinical Pharmacology &amp; Indications &amp; Usage</td>\n",
       "      <td>ANDA076183</td>\n",
       "      <td>20211006</td>\n",
       "      <td>highly emetogenic cancer chemotherapy, includi...</td>\n",
       "      <td>cdb2c4b4-a20a-3f8f-e053-2a95a90aaf72</td>\n",
       "    </tr>\n",
       "    <tr>\n",
       "      <th>1</th>\n",
       "      <td>CYP3A4</td>\n",
       "      <td>inducer</td>\n",
       "      <td>meddra</td>\n",
       "      <td>10028997</td>\n",
       "      <td>Neoplasm malignant</td>\n",
       "      <td>Clinical Pharmacology &amp; Indications &amp; Usage</td>\n",
       "      <td>ANDA076183</td>\n",
       "      <td>20211006</td>\n",
       "      <td>... repeat courses of moderately emetogenic ca...</td>\n",
       "      <td>cdb2c4b4-a20a-3f8f-e053-2a95a90aaf72</td>\n",
       "    </tr>\n",
       "    <tr>\n",
       "      <th>2</th>\n",
       "      <td>CYP3A4</td>\n",
       "      <td>inducer</td>\n",
       "      <td>meddra</td>\n",
       "      <td>10028997</td>\n",
       "      <td>Neoplasm malignant</td>\n",
       "      <td>Clinical Pharmacology &amp; Indications &amp; Usage</td>\n",
       "      <td>ANDA076183</td>\n",
       "      <td>20211006</td>\n",
       "      <td>highly emetogenic cancer chemotherapy, includi...</td>\n",
       "      <td>cdb2c4b4-a20a-3f8f-e053-2a95a90aaf72</td>\n",
       "    </tr>\n",
       "    <tr>\n",
       "      <th>3</th>\n",
       "      <td>CYP3A4</td>\n",
       "      <td>inducer</td>\n",
       "      <td>meddra</td>\n",
       "      <td>10028997</td>\n",
       "      <td>Neoplasm malignant</td>\n",
       "      <td>Clinical Pharmacology &amp; Indications &amp; Usage</td>\n",
       "      <td>ANDA076183</td>\n",
       "      <td>20211006</td>\n",
       "      <td>... repeat courses of moderately emetogenic ca...</td>\n",
       "      <td>cdb2c4b4-a20a-3f8f-e053-2a95a90aaf72</td>\n",
       "    </tr>\n",
       "    <tr>\n",
       "      <th>4</th>\n",
       "      <td>CYP3A4</td>\n",
       "      <td>inducer</td>\n",
       "      <td>meddra</td>\n",
       "      <td>10028997</td>\n",
       "      <td>Neoplasm malignant</td>\n",
       "      <td>Drug Interaction &amp; Indications &amp; Usage</td>\n",
       "      <td>ANDA076183</td>\n",
       "      <td>20211006</td>\n",
       "      <td>highly emetogenic cancer chemotherapy, includi...</td>\n",
       "      <td>cdb2c4b4-a20a-3f8f-e053-2a95a90aaf72</td>\n",
       "    </tr>\n",
       "    <tr>\n",
       "      <th>5</th>\n",
       "      <td>CYP3A4</td>\n",
       "      <td>inducer</td>\n",
       "      <td>meddra</td>\n",
       "      <td>10028997</td>\n",
       "      <td>Neoplasm malignant</td>\n",
       "      <td>Drug Interaction &amp; Indications &amp; Usage</td>\n",
       "      <td>ANDA076183</td>\n",
       "      <td>20211006</td>\n",
       "      <td>... repeat courses of moderately emetogenic ca...</td>\n",
       "      <td>cdb2c4b4-a20a-3f8f-e053-2a95a90aaf72</td>\n",
       "    </tr>\n",
       "    <tr>\n",
       "      <th>6</th>\n",
       "      <td>CYP3A4</td>\n",
       "      <td>inducer</td>\n",
       "      <td>meddra</td>\n",
       "      <td>10047700</td>\n",
       "      <td>Vomiting</td>\n",
       "      <td>Clinical Pharmacology &amp; Indications &amp; Usage</td>\n",
       "      <td>ANDA076183</td>\n",
       "      <td>20211006</td>\n",
       "      <td>... indicated for the prevention of nausea and...</td>\n",
       "      <td>cdb2c4b4-a20a-3f8f-e053-2a95a90aaf72</td>\n",
       "    </tr>\n",
       "    <tr>\n",
       "      <th>7</th>\n",
       "      <td>CYP3A4</td>\n",
       "      <td>inducer</td>\n",
       "      <td>meddra</td>\n",
       "      <td>10047700</td>\n",
       "      <td>Vomiting</td>\n",
       "      <td>Clinical Pharmacology &amp; Indications &amp; Usage</td>\n",
       "      <td>ANDA076183</td>\n",
       "      <td>20211006</td>\n",
       "      <td>... indicated for the prevention of nausea and...</td>\n",
       "      <td>cdb2c4b4-a20a-3f8f-e053-2a95a90aaf72</td>\n",
       "    </tr>\n",
       "    <tr>\n",
       "      <th>8</th>\n",
       "      <td>CYP3A4</td>\n",
       "      <td>inducer</td>\n",
       "      <td>meddra</td>\n",
       "      <td>10047700</td>\n",
       "      <td>Vomiting</td>\n",
       "      <td>Drug Interaction &amp; Indications &amp; Usage</td>\n",
       "      <td>ANDA076183</td>\n",
       "      <td>20211006</td>\n",
       "      <td>... indicated for the prevention of nausea and...</td>\n",
       "      <td>cdb2c4b4-a20a-3f8f-e053-2a95a90aaf72</td>\n",
       "    </tr>\n",
       "    <tr>\n",
       "      <th>9</th>\n",
       "      <td>CYP3A4</td>\n",
       "      <td>inducer</td>\n",
       "      <td>meddra</td>\n",
       "      <td>10066962</td>\n",
       "      <td>Procedural nausea</td>\n",
       "      <td>Clinical Pharmacology &amp; Indications &amp; Usage</td>\n",
       "      <td>ANDA076183</td>\n",
       "      <td>20211006</td>\n",
       "      <td>... indicated for the prevention of postoperat...</td>\n",
       "      <td>cdb2c4b4-a20a-3f8f-e053-2a95a90aaf72</td>\n",
       "    </tr>\n",
       "  </tbody>\n",
       "</table>\n",
       "</div>"
      ],
      "text/plain": [
       "  Biomarker Relation [SID] Diseases and Disorder [NID] Diseases and Disorder [PT] Diseases and Disorder                                      Section       FDAID Label Revision Date                                               text                                Doc Id\n",
       "0    CYP3A4  inducer                      meddra                    10028997         Neoplasm malignant  Clinical Pharmacology & Indications & Usage  ANDA076183            20211006  highly emetogenic cancer chemotherapy, includi...  cdb2c4b4-a20a-3f8f-e053-2a95a90aaf72\n",
       "1    CYP3A4  inducer                      meddra                    10028997         Neoplasm malignant  Clinical Pharmacology & Indications & Usage  ANDA076183            20211006  ... repeat courses of moderately emetogenic ca...  cdb2c4b4-a20a-3f8f-e053-2a95a90aaf72\n",
       "2    CYP3A4  inducer                      meddra                    10028997         Neoplasm malignant  Clinical Pharmacology & Indications & Usage  ANDA076183            20211006  highly emetogenic cancer chemotherapy, includi...  cdb2c4b4-a20a-3f8f-e053-2a95a90aaf72\n",
       "3    CYP3A4  inducer                      meddra                    10028997         Neoplasm malignant  Clinical Pharmacology & Indications & Usage  ANDA076183            20211006  ... repeat courses of moderately emetogenic ca...  cdb2c4b4-a20a-3f8f-e053-2a95a90aaf72\n",
       "4    CYP3A4  inducer                      meddra                    10028997         Neoplasm malignant       Drug Interaction & Indications & Usage  ANDA076183            20211006  highly emetogenic cancer chemotherapy, includi...  cdb2c4b4-a20a-3f8f-e053-2a95a90aaf72\n",
       "5    CYP3A4  inducer                      meddra                    10028997         Neoplasm malignant       Drug Interaction & Indications & Usage  ANDA076183            20211006  ... repeat courses of moderately emetogenic ca...  cdb2c4b4-a20a-3f8f-e053-2a95a90aaf72\n",
       "6    CYP3A4  inducer                      meddra                    10047700                   Vomiting  Clinical Pharmacology & Indications & Usage  ANDA076183            20211006  ... indicated for the prevention of nausea and...  cdb2c4b4-a20a-3f8f-e053-2a95a90aaf72\n",
       "7    CYP3A4  inducer                      meddra                    10047700                   Vomiting  Clinical Pharmacology & Indications & Usage  ANDA076183            20211006  ... indicated for the prevention of nausea and...  cdb2c4b4-a20a-3f8f-e053-2a95a90aaf72\n",
       "8    CYP3A4  inducer                      meddra                    10047700                   Vomiting       Drug Interaction & Indications & Usage  ANDA076183            20211006  ... indicated for the prevention of nausea and...  cdb2c4b4-a20a-3f8f-e053-2a95a90aaf72\n",
       "9    CYP3A4  inducer                      meddra                    10066962          Procedural nausea  Clinical Pharmacology & Indications & Usage  ANDA076183            20211006  ... indicated for the prevention of postoperat...  cdb2c4b4-a20a-3f8f-e053-2a95a90aaf72"
      ]
     },
     "execution_count": 3,
     "metadata": {},
     "output_type": "execute_result"
    }
   ],
   "source": [
    "import pandas as pd\n",
    "\n",
    "# initiate an empty dataframe\n",
    "df = pd.DataFrame()\n",
    "pd.set_option(\"display.max_rows\", None, \"display.max_columns\", None, \"display.width\", 1000)\n",
    "\n",
    "# Retrieve main results from the JSON response, please note this cell would fail if the request failed in the last step\n",
    "for inner_results in results_json:\n",
    "    for result_dict in inner_results['results']:\n",
    "        df_dict = {}\n",
    "        for key, value_dict in result_dict.items():                                                                                                                                                                                                                                                                                                                           \n",
    "            df_dict[key] = value_dict['value']                                                                                                                                                                                                                                                                                                                                \n",
    "        df_dict['Doc Id'] = inner_results['doc_id']                                                                                                                                                                                                                                                                                                                           \n",
    "        df = pd.concat([df, pd.DataFrame.from_records([{**df_dict}])], ignore_index=True)                                                                                                                                                                                                                                                                                     \n",
    "\n",
    "# Print the DataFrame                                                                                                                                                                                                                                                                                                                                                         \n",
    "df.head(10)"
   ]
  },
  {
   "cell_type": "markdown",
   "id": "264856f7",
   "metadata": {},
   "source": [
    "### Optional: Make a request to openFDA drug product labeling API to get FDAIDs associated with a specific criteria\n",
    "\n",
    "Search URL for the openFDA drug product labeling API that allows user to search for the FDAId's of 10 documents. Search can be customized by modifying the search parameters. In this example, the search will return 10 FDAIds of FDA Drug Labels about prescription drugs with indications and usage for cancer.\n"
   ]
  },
  {
   "cell_type": "code",
   "execution_count": 4,
   "id": "c6aaf6df",
   "metadata": {},
   "outputs": [
    {
     "name": "stdout",
     "output_type": "stream",
     "text": [
      "No openFDA application number found for response results id: ae413477-0e46-4763-8005-091f81dd6070\n",
      "['NDA204114', 'ANDA076183', 'ANDA075798', 'ANDA040584', 'NDA050629', 'ANDA204345', 'ANDA212399', 'NDA021116', 'BLA761310']\n"
     ]
    }
   ],
   "source": [
    "import json\n",
    "\n",
    "# Search URL for the openFDA drug product labeling API\n",
    "# Search can be customized by modifying the search parameters in the URL\n",
    "\n",
    "url = \"https://api.fda.gov/drug/label.json?search=openfda.product_type:prescription+AND+indications_and_usage:'cancer'&limit=10\"\n",
    "\n",
    "# load in JSON reponse from the openFDA API\n",
    "response = requests.get(url)\n",
    "body = json.loads(response.text)\n",
    "\n",
    "# initialize list for FDAID\n",
    "fdaids = []\n",
    "\n",
    "# find the openfda application number in response (if exists) and add to FDAID list\n",
    "for i in body['results']:\n",
    "    try:\n",
    "        #extract the document id (ANDA, ANADA, BA, BLA, BN, BP, DMF,K, MIF, NDA, NADA, P or VM)\n",
    "        x = i[\"openfda\"]\n",
    "        fdaids.append(x['application_number'][0])\n",
    "    except KeyError:\n",
    "        print(f\"No openFDA application number found for response results id: {i['id']}\")\n",
    "        continue\n",
    "\n",
    "print(fdaids)"
   ]
  },
  {
   "cell_type": "markdown",
   "id": "c2b66d4b",
   "metadata": {},
   "source": [
    "That's it! Hope you find this tutorial useful! Bye!"
   ]
  },
  {
   "cell_type": "code",
   "execution_count": null,
   "id": "9b5a2363",
   "metadata": {},
   "outputs": [],
   "source": []
  }
 ],
 "metadata": {
  "kernelspec": {
   "display_name": "Python 3 (ipykernel)",
   "language": "python",
   "name": "python3"
  },
  "language_info": {
   "codemirror_mode": {
    "name": "ipython",
    "version": 3
   },
   "file_extension": ".py",
   "mimetype": "text/x-python",
   "name": "python",
   "nbconvert_exporter": "python",
   "pygments_lexer": "ipython3",
   "version": "3.8.10"
  }
 },
 "nbformat": 4,
 "nbformat_minor": 5
}
