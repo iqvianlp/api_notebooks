{
 "cells": [
  {
   "cell_type": "markdown",
   "id": "85ef04c1",
   "metadata": {},
   "source": [
    "# IQVIA NLP - Social Determinants of Health (SDoH)\n",
    "\n",
    "## API Description\n",
    "An increasing focus on health equity and awareness of the role of social determinants of health has created a growing need for population health analysis and predictive analytics. Social Determinants of Health (SDoH) are often documented in patients unstructured medical records but are poorly represented in structured data, therefore systematically surfacing this information is challenging.\n",
    "\n",
    "This API transforms unstructured medical records into structured normalized SDoH information, organized into classes and groups.\n",
    "\n",
    "## Accessing the API\n",
    "In order to consume this API, you will first need to Request access to the SDoH API via this link:\n",
    "https://api-marketplace.work.iqvia.com/s/communityapi/a085w00000ytJqIAAU/api-marketplaceiqvianlpsocialdeterminantsofhealthpreview\n",
    "\n",
    "Please refer to \"API Documentation\" to learn more about accessing and using the API.\n",
    "\n",
    "## Notebook Description\n",
    "This notebook is designed to show users an example of using the Social Determinents of Health NLP API to extract information such as Healthcare Systems, Education, Environment, Social Context, Food Insecurity, and Economic Stability. Each SDoH has several sub-classifications that are identified via this endpoint.\n",
    "\n",
    "### Authorization\n",
    "The instructions for getting your credentials and the API endpoint URL can be found under the section \"Get Started\" and \"How to use the API\" following this link: https://api-marketplace.work.iqvia.com/s/communityapi/a085w00000ytJqIAAU/api-marketplaceiqvianlpsocialdeterminantsofhealthpreview"
   ]
  },
  {
   "cell_type": "code",
   "execution_count": 1,
   "id": "fbd09f9f",
   "metadata": {
    "pycharm": {
     "name": "#%%\n"
    }
   },
   "outputs": [
    {
     "name": "stdout",
     "output_type": "stream",
     "text": [
      "Please enter the API URL: https://vt.eu-apim-devtest.solutions.iqvia.com/eu/sdoh/api/v2/coding/sdoh\n",
      "Marketplace clientId: 30ede5e819ff44cd98376167b8ab4625\n",
      "Marketplace clientSecret: ········\n",
      "Thanks for inputting URL, your user name and password!\n"
     ]
    }
   ],
   "source": [
    "import getpass\n",
    "\n",
    "# Getting credentials\n",
    "api_marketplace_url = input('Please enter the API URL: ').rstrip('/')\n",
    "\n",
    "mkp_user = input(\"Marketplace clientId: \")\n",
    "mkp_password = getpass.getpass(\"Marketplace clientSecret: \")\n",
    "mkp_headers = {'clientId': mkp_user, 'clientSecret': mkp_password}\n",
    "\n",
    "print(\"Thanks for inputting URL, your user name and password!\")"
   ]
  },
  {
   "cell_type": "markdown",
   "id": "ca80886d",
   "metadata": {
    "pycharm": {
     "name": "#%% md\n"
    }
   },
   "source": [
    "### Example one: Make a request with text string as input\n",
    "SDoH NLP API expects the String as Request Data Type. This example shows how to make a request to the API with text strings as input."
   ]
  },
  {
   "cell_type": "code",
   "execution_count": 3,
   "id": "b2ed2f9e",
   "metadata": {
    "pycharm": {
     "name": "#%%\n"
    }
   },
   "outputs": [
    {
     "name": "stdout",
     "output_type": "stream",
     "text": [
      "Posting text strings...\n",
      "Results: \n",
      "[{'doc_id': 'source_data', 'results': [{'topic_class': {'logical_column_id': 0, 'value': 'Depression'}, 'topic': {'logical_column_id': 1, 'value': 'Depression NOS', 'original_spans_outer': [[92, 102]], 'original_spans_inner': [[92, 102]], 'indexed_spans_outer': [[3976, 4339]], 'indexed_spans_inner': [[3976, 4339]], 'text_spans_outer': [[31, 41]], 'text_spans_inner': [[31, 41]]}, 'polarity': {'logical_column_id': 2, 'value': 'TRUE'}, 'text': {'value': '... history of mild sadness or depression , which was relatively stable ...'}, 'suggested_codes': {'logical_column_id': 3, 'value': [{'ontology': 'snomed', 'code': '35489007', 'description': 'Depressive disorder (disorder)', 'url': 'https://snomedbrowser.com/Codes/Details/35489007'}, {'ontology': 'icd10cm', 'code': 'F32.9', 'description': 'Major depressive disorder, single episode, unspecified', 'url': 'https://icd10cmtool.cdc.gov/?fy=FY2021&q=F32.9'}]}}, {'topic_class': {'logical_column_id': 0, 'value': 'Depression'}, 'topic': {'logical_column_id': 1, 'value': 'Signs and symptoms of depression', 'original_spans_outer': [[256, 317]], 'original_spans_inner': [[256, 317]], 'indexed_spans_outer': [[10693, 13154]], 'indexed_spans_inner': [[10693, 13154]], 'text_spans_outer': [[4, 65]], 'text_spans_inner': [[4, 65]]}, 'polarity': {'logical_column_id': 2, 'value': 'FALSE'}, 'text': {'value': 'She denied any history of suicidal ideation or homicidal ideation .'}, 'suggested_codes': {'logical_column_id': 3, 'value': []}}, {'topic_class': {'logical_column_id': 0, 'value': 'Depression'}, 'topic': {'logical_column_id': 1, 'value': 'Signs and symptoms of depression', 'original_spans_outer': [[81, 88]], 'original_spans_inner': [[81, 88]], 'indexed_spans_outer': [[3536, 3777]], 'indexed_spans_inner': [[3536, 3777]], 'text_spans_outer': [[30, 37]], 'text_spans_inner': [[30, 37]]}, 'polarity': {'logical_column_id': 2, 'value': 'TRUE'}, 'text': {'value': '... a chronic history of mild sadness or depression , which was ...'}, 'suggested_codes': {'logical_column_id': 3, 'value': [{'ontology': 'snomed', 'code': '394924000', 'description': 'Symptoms of depression (finding)', 'url': 'https://snomedbrowser.com/Codes/Details/394924000'}, {'ontology': 'icd10cm', 'code': 'F32.9', 'description': 'Major depressive disorder, single episode, unspecified', 'url': 'https://icd10cmtool.cdc.gov/?fy=FY2021&q=F32.9'}]}}, {'topic_class': {'logical_column_id': 0, 'value': 'Living Condition'}, 'topic': {'logical_column_id': 1, 'value': 'Live alone', 'original_spans_outer': [[17, 40]], 'original_spans_inner': [[17, 40]], 'indexed_spans_outer': [[976, 1857]], 'indexed_spans_inner': [[976, 1857]], 'text_spans_outer': [[17, 40]], 'text_spans_inner': [[17, 40]]}, 'polarity': {'logical_column_id': 2, 'value': 'FALSE'}, 'text': {'value': 'She said she was living with her husband .'}, 'suggested_codes': {'logical_column_id': 3, 'value': [{'ontology': 'snomed', 'code': '365481000', 'description': 'Finding of household composition (finding)', 'url': 'https://snomedbrowser.com/Codes/Details/365481000'}]}}, {'topic_class': {'logical_column_id': 0, 'value': 'Substance Abuse', 'original_spans_outer': [[323, 337]], 'original_spans_inner': [[323, 337]], 'indexed_spans_outer': [[13440, 13974]], 'indexed_spans_inner': [[13440, 13974]], 'text_spans_outer': [[4, 18]], 'text_spans_inner': [[4, 18]]}, 'topic': {'logical_column_id': 1, 'value': 'Alcohol abuse', 'original_spans_outer': [[323, 337]], 'original_spans_inner': [[323, 337]], 'indexed_spans_outer': [[13440, 13974]], 'indexed_spans_inner': [[13440, 13974]], 'text_spans_outer': [[4, 18]], 'text_spans_inner': [[4, 18]]}, 'polarity': {'logical_column_id': 2, 'value': 'FALSE'}, 'text': {'value': 'She denied alcohol or illicit drug use .'}, 'suggested_codes': {'logical_column_id': 3, 'value': [{'ontology': 'snomed', 'code': '228273003', 'description': 'Finding relating to alcohol drinking behavior (finding)', 'url': 'https://snomedbrowser.com/Codes/Details/228273003'}]}}]}]\n",
      "\n"
     ]
    }
   ],
   "source": [
    "import requests\n",
    "import time\n",
    "\n",
    "# Define input text\n",
    "input_text = \"She said she was living with her husband. She reported a chronic history of mild sadness or depression, which was relatively stable. When asked about her current psychological experience, she said that she was somewhat sad, but not dwelling on things. She denied any history of suicidal ideation or homicidal ideation. She denied alcohol or illicit drug use.\"\n",
    "\n",
    "# Make a request\n",
    "print(\"Posting text strings...\")\n",
    "response = requests.post(api_marketplace_url, headers=mkp_headers, files={'source_data': input_text})\n",
    "\n",
    "# Poll the API until results are available\n",
    "while response.status_code == 202:\n",
    "    print('Results are not available yet. Waiting 5 seconds before polling again...')\n",
    "    time.sleep(5)\n",
    "    run_identifier = response.json()['id']\n",
    "    response = requests.get(url=f'{api_marketplace_url}/{run_identifier}', headers=headers)\n",
    "\n",
    "# Check the response\n",
    "if response.status_code != 200:\n",
    "    raise Exception(f'Unexpected status code: {response.status_code}')\n",
    "results = response.json()\n",
    "\n",
    "# Print the results\n",
    "print(f'Results: \\n{results}\\n')\n"
   ]
  },
  {
   "cell_type": "markdown",
   "id": "ac948ae5",
   "metadata": {
    "pycharm": {
     "name": "#%% md\n"
    }
   },
   "source": [
    "Now that we have got the JSON response from the SDoH NLP API, we could convert the useful information associated with the keys into a pandas dataframe."
   ]
  },
  {
   "cell_type": "code",
   "execution_count": 4,
   "id": "cf809901",
   "metadata": {
    "pycharm": {
     "name": "#%%\n"
    }
   },
   "outputs": [
    {
     "data": {
      "text/html": [
       "<div>\n",
       "<style scoped>\n",
       "    .dataframe tbody tr th:only-of-type {\n",
       "        vertical-align: middle;\n",
       "    }\n",
       "\n",
       "    .dataframe tbody tr th {\n",
       "        vertical-align: top;\n",
       "    }\n",
       "\n",
       "    .dataframe thead th {\n",
       "        text-align: right;\n",
       "    }\n",
       "</style>\n",
       "<table border=\"1\" class=\"dataframe\">\n",
       "  <thead>\n",
       "    <tr style=\"text-align: right;\">\n",
       "      <th></th>\n",
       "      <th>topic_class</th>\n",
       "      <th>topic</th>\n",
       "      <th>polarity</th>\n",
       "      <th>text</th>\n",
       "      <th>suggested_codes</th>\n",
       "    </tr>\n",
       "  </thead>\n",
       "  <tbody>\n",
       "    <tr>\n",
       "      <th>0</th>\n",
       "      <td>Depression</td>\n",
       "      <td>Depression NOS</td>\n",
       "      <td>TRUE</td>\n",
       "      <td>... history of mild sadness or depression , wh...</td>\n",
       "      <td>[{'ontology': 'snomed', 'code': '35489007', 'd...</td>\n",
       "    </tr>\n",
       "    <tr>\n",
       "      <th>1</th>\n",
       "      <td>Depression</td>\n",
       "      <td>Signs and symptoms of depression</td>\n",
       "      <td>FALSE</td>\n",
       "      <td>She denied any history of suicidal ideation or...</td>\n",
       "      <td>[]</td>\n",
       "    </tr>\n",
       "    <tr>\n",
       "      <th>2</th>\n",
       "      <td>Depression</td>\n",
       "      <td>Signs and symptoms of depression</td>\n",
       "      <td>TRUE</td>\n",
       "      <td>... a chronic history of mild sadness or depre...</td>\n",
       "      <td>[{'ontology': 'snomed', 'code': '394924000', '...</td>\n",
       "    </tr>\n",
       "    <tr>\n",
       "      <th>3</th>\n",
       "      <td>Living Condition</td>\n",
       "      <td>Live alone</td>\n",
       "      <td>FALSE</td>\n",
       "      <td>She said she was living with her husband .</td>\n",
       "      <td>[{'ontology': 'snomed', 'code': '365481000', '...</td>\n",
       "    </tr>\n",
       "    <tr>\n",
       "      <th>4</th>\n",
       "      <td>Substance Abuse</td>\n",
       "      <td>Alcohol abuse</td>\n",
       "      <td>FALSE</td>\n",
       "      <td>She denied alcohol or illicit drug use .</td>\n",
       "      <td>[{'ontology': 'snomed', 'code': '228273003', '...</td>\n",
       "    </tr>\n",
       "  </tbody>\n",
       "</table>\n",
       "</div>"
      ],
      "text/plain": [
       "        topic_class                             topic polarity                                               text                                    suggested_codes\n",
       "0        Depression                    Depression NOS     TRUE  ... history of mild sadness or depression , wh...  [{'ontology': 'snomed', 'code': '35489007', 'd...\n",
       "1        Depression  Signs and symptoms of depression    FALSE  She denied any history of suicidal ideation or...                                                 []\n",
       "2        Depression  Signs and symptoms of depression     TRUE  ... a chronic history of mild sadness or depre...  [{'ontology': 'snomed', 'code': '394924000', '...\n",
       "3  Living Condition                        Live alone    FALSE         She said she was living with her husband .  [{'ontology': 'snomed', 'code': '365481000', '...\n",
       "4   Substance Abuse                     Alcohol abuse    FALSE           She denied alcohol or illicit drug use .  [{'ontology': 'snomed', 'code': '228273003', '..."
      ]
     },
     "execution_count": 4,
     "metadata": {},
     "output_type": "execute_result"
    }
   ],
   "source": [
    "import pandas as pd\n",
    "\n",
    "# initiate an empty dataframe\n",
    "df = pd.DataFrame()\n",
    "pd.set_option(\"display.max_rows\", None, \"display.max_columns\", None, \"display.width\", 1000)\n",
    "\n",
    "# Retrieve main results from the JSON response, please note this cell would fail if the request failed in the last step\n",
    "for inner_results in results:\n",
    "    for result_dict in inner_results['results']:\n",
    "        df_dict = {}\n",
    "        for key, value_dict in result_dict.items():\n",
    "            df_dict[key] = value_dict['value']\n",
    "        df = pd.concat([df, pd.DataFrame.from_records([{**df_dict}])], ignore_index=True)\n",
    "\n",
    "# Check the dataframe\n",
    "df"
   ]
  },
  {
   "cell_type": "markdown",
   "id": "325b533a",
   "metadata": {},
   "source": [
    "### Example two: Make a request with a zip file as input"
   ]
  },
  {
   "cell_type": "code",
   "execution_count": 5,
   "id": "1f1b2417",
   "metadata": {
    "pycharm": {
     "name": "#%%\n"
    }
   },
   "outputs": [
    {
     "name": "stdout",
     "output_type": "stream",
     "text": [
      "Documents extracted to: C:\\Users\\Hui.Feng\\Documents\\Git\\api-marketplace-demo\\demo_docs/SDoH/SDoH_demo\n",
      "Posting text files from the zip file...\n",
      "Posting M10.txt...\n",
      "Posting M1008.txt...\n",
      "All done!\n",
      "All JSON responses are: [[{'doc_id': 'M10', 'results': [{'topic_class': {'logical_column_id': 0, 'value': 'Employment Status', 'original_spans_outer': [[2572, 2593]], 'original_spans_inner': [[2572, 2593]], 'indexed_spans_outer': [[106968, 107809]], 'indexed_spans_inner': [[106968, 107809]], 'text_spans_outer': [[0, 21]], 'text_spans_inner': [[0, 21]]}, 'topic': {'logical_column_id': 1, 'value': 'Not employed', 'original_spans_outer': [[2575, 2593]], 'original_spans_inner': [[2575, 2593]], 'indexed_spans_outer': [[107094, 107809]], 'indexed_spans_inner': [[107094, 107809]], 'text_spans_outer': [[3, 21]], 'text_spans_inner': [[3, 21]]}, 'polarity': {'logical_column_id': 2, 'value': 'FALSE'}, 'text': {'value': 'He works as a payroll representative and previously did lot ...'}, 'suggested_codes': {'logical_column_id': 3, 'value': [{'ontology': 'snomed', 'code': '224363007', 'description': 'Employed (finding)', 'url': 'https://snomedbrowser.com/Codes/Details/224363007'}]}}, {'topic_class': {'logical_column_id': 0, 'value': 'Substance Abuse', 'original_spans_outer': [[2493, 2513]], 'original_spans_inner': [[2493, 2513]], 'indexed_spans_outer': [[103650, 104449]], 'indexed_spans_inner': [[103650, 104449]], 'text_spans_outer': [[22, 42]], 'text_spans_inner': [[22, 42]]}, 'topic': {'logical_column_id': 1, 'value': 'Tobacco abuse', 'original_spans_outer': [[2493, 2513]], 'original_spans_inner': [[2493, 2513]], 'indexed_spans_outer': [[103650, 104449]], 'indexed_spans_inner': [[103650, 104449]], 'text_spans_outer': [[22, 42]], 'text_spans_inner': [[22, 42]]}, 'polarity': {'logical_column_id': 2, 'value': 'FALSE'}, 'text': {'value': '... HISTORY : He is a non-cigarette smoker and non-ETOH user .'}, 'suggested_codes': {'logical_column_id': 3, 'value': [{'ontology': 'snomed', 'code': '8392000', 'description': 'Non-smoker (finding)', 'url': 'https://snomedbrowser.com/Codes/Details/8392000'}]}}, {'topic_class': {'logical_column_id': 0, 'value': 'Weight Range Category'}, 'topic': {'logical_column_id': 1, 'value': 'Obesity NOS', 'original_spans_outer': [[2959, 2964]], 'original_spans_inner': [[2959, 2964]], 'indexed_spans_outer': [[123166, 123335]], 'indexed_spans_inner': [[123166, 123335]], 'text_spans_outer': [[29, 34]], 'text_spans_inner': [[29, 34]]}, 'polarity': {'logical_column_id': 2, 'value': 'TRUE'}, 'text': {'value': '... GENERAL : Presents as an obese 60-year-old white male , who appears to be ...'}, 'suggested_codes': {'logical_column_id': 3, 'value': [{'ontology': 'snomed', 'code': '414915002', 'description': 'Obese (finding)', 'url': 'https://snomedbrowser.com/Codes/Details/414915002'}, {'ontology': 'icd10cm', 'code': 'E66.9', 'description': 'Obesity, unspecified', 'url': 'https://icd10cmtool.cdc.gov/?fy=FY2021&q=E66.9'}]}}, {'topic_class': {'logical_column_id': 0, 'value': 'Weight Range Category'}, 'topic': {'logical_column_id': 1, 'value': 'Obesity NOS', 'original_spans_outer': [[3304, 3309]], 'original_spans_inner': [[3304, 3309]], 'indexed_spans_outer': [[137514, 137683]], 'indexed_spans_inner': [[137514, 137683]], 'text_spans_outer': [[10, 15]], 'text_spans_inner': [[10, 15]]}, 'polarity': {'logical_column_id': 2, 'value': 'TRUE'}, 'text': {'value': 'ABDOMEN : Obese .'}, 'suggested_codes': {'logical_column_id': 3, 'value': [{'ontology': 'snomed', 'code': '414915002', 'description': 'Obese (finding)', 'url': 'https://snomedbrowser.com/Codes/Details/414915002'}, {'ontology': 'icd10cm', 'code': 'E66.9', 'description': 'Obesity, unspecified', 'url': 'https://icd10cmtool.cdc.gov/?fy=FY2021&q=E66.9'}]}}]}], [{'doc_id': 'M1008', 'results': [{'topic_class': {'logical_column_id': 0, 'value': 'Depression'}, 'topic': {'logical_column_id': 1, 'value': 'Signs and symptoms of depression', 'original_spans_outer': [[2009, 2017]], 'original_spans_inner': [[2009, 2017]], 'indexed_spans_outer': [[83215, 83510]], 'indexed_spans_inner': [[83215, 83510]], 'text_spans_outer': [[23, 31]], 'text_spans_inner': [[23, 31]]}, 'polarity': {'logical_column_id': 2, 'value': 'TRUE'}, 'text': {'value': '... , reflux in 2000 , insomnia , but no snoring or ...'}, 'suggested_codes': {'logical_column_id': 3, 'value': [{'ontology': 'snomed', 'code': '394924000', 'description': 'Symptoms of depression (finding)', 'url': 'https://snomedbrowser.com/Codes/Details/394924000'}, {'ontology': 'icd10cm', 'code': 'F32.9', 'description': 'Major depressive disorder, single episode, unspecified', 'url': 'https://icd10cmtool.cdc.gov/?fy=FY2021&q=F32.9'}]}}, {'topic_class': {'logical_column_id': 0, 'value': 'Limited English', 'original_spans_outer': [[484, 498]], 'original_spans_inner': [[484, 498]], 'indexed_spans_outer': [[19930, 20464]], 'indexed_spans_inner': [[19930, 20464]], 'text_spans_outer': [[31, 45]], 'text_spans_inner': [[31, 45]]}, 'topic': {'logical_column_id': 1, 'value': 'Limited English NOS', 'original_spans_outer': [[484, 498]], 'original_spans_inner': [[484, 498]], 'indexed_spans_outer': [[19930, 20464]], 'indexed_spans_inner': [[19930, 20464]], 'text_spans_outer': [[31, 45]], 'text_spans_inner': [[31, 45]]}, 'polarity': {'logical_column_id': 2, 'value': 'FALSE'}, 'text': {'value': '... many many years and speaks fluent English , as does her husband ...'}, 'suggested_codes': {'logical_column_id': 3, 'value': [{'ontology': 'snomed', 'code': '161147007', 'description': 'Speaks English well (finding)', 'url': 'https://snomedbrowser.com/Codes/Details/161147007'}]}}, {'topic_class': {'logical_column_id': 0, 'value': 'Living Condition'}, 'topic': {'logical_column_id': 1, 'value': 'Live alone', 'original_spans_outer': [[2627, 2649]], 'original_spans_inner': [[2627, 2649]], 'indexed_spans_outer': [[109115, 109998]], 'indexed_spans_inner': [[109115, 109998]], 'text_spans_outer': [[21, 43]], 'text_spans_inner': [[21, 43]]}, 'polarity': {'logical_column_id': 2, 'value': 'FALSE'}, 'text': {'value': 'SOCIAL HISTORY : She lives with her husband .'}, 'suggested_codes': {'logical_column_id': 3, 'value': [{'ontology': 'snomed', 'code': '365481000', 'description': 'Finding of household composition (finding)', 'url': 'https://snomedbrowser.com/Codes/Details/365481000'}]}}, {'topic_class': {'logical_column_id': 0, 'value': 'Substance Abuse', 'original_spans_outer': [[2675, 2710]], 'original_spans_inner': [[2675, 2710]], 'indexed_spans_outer': [[111131, 112560]], 'indexed_spans_inner': [[111131, 112560]], 'text_spans_outer': [[23, 58]], 'text_spans_inner': [[23, 58]]}, 'topic': {'logical_column_id': 1, 'value': 'Alcohol abuse', 'original_spans_outer': [[2675, 2710]], 'original_spans_inner': [[2675, 2710]], 'indexed_spans_outer': [[111131, 112560]], 'indexed_spans_inner': [[111131, 112560]], 'text_spans_outer': [[23, 58]], 'text_spans_inner': [[23, 58]]}, 'polarity': {'logical_column_id': 2, 'value': 'FALSE'}, 'text': {'value': 'She is a nonsmoker and no history of drug or alcohol abuse .'}, 'suggested_codes': {'logical_column_id': 3, 'value': [{'ontology': 'snomed', 'code': '228273003', 'description': 'Finding relating to alcohol drinking behavior (finding)', 'url': 'https://snomedbrowser.com/Codes/Details/228273003'}]}}, {'topic_class': {'logical_column_id': 0, 'value': 'Substance Abuse', 'original_spans_outer': [[2675, 2710]], 'original_spans_inner': [[2675, 2710]], 'indexed_spans_outer': [[111131, 112560]], 'indexed_spans_inner': [[111131, 112560]], 'text_spans_outer': [[23, 58]], 'text_spans_inner': [[23, 58]]}, 'topic': {'logical_column_id': 1, 'value': 'Illicit drug abuse', 'original_spans_outer': [[2689, 2710]], 'original_spans_inner': [[2689, 2710]], 'indexed_spans_outer': [[111719, 112560]], 'indexed_spans_inner': [[111719, 112560]], 'text_spans_outer': [[37, 58]], 'text_spans_inner': [[37, 58]]}, 'polarity': {'logical_column_id': 2, 'value': 'FALSE'}, 'text': {'value': 'She is a nonsmoker and no history of drug or alcohol abuse .'}, 'suggested_codes': {'logical_column_id': 3, 'value': [{'ontology': 'snomed', 'code': '707848009', 'description': 'Patient denies drug use (finding)', 'url': 'https://snomedbrowser.com/Codes/Details/707848009'}]}}, {'topic_class': {'logical_column_id': 0, 'value': 'Substance Abuse', 'original_spans_outer': [[2661, 2670]], 'original_spans_inner': [[2661, 2670]], 'indexed_spans_outer': [[110543, 110880]], 'indexed_spans_inner': [[110543, 110880]], 'text_spans_outer': [[9, 18]], 'text_spans_inner': [[9, 18]]}, 'topic': {'logical_column_id': 1, 'value': 'Tobacco abuse', 'original_spans_outer': [[2661, 2670]], 'original_spans_inner': [[2661, 2670]], 'indexed_spans_outer': [[110543, 110880]], 'indexed_spans_inner': [[110543, 110880]], 'text_spans_outer': [[9, 18]], 'text_spans_inner': [[9, 18]]}, 'polarity': {'logical_column_id': 2, 'value': 'FALSE'}, 'text': {'value': 'She is a nonsmoker and no history of drug ...'}, 'suggested_codes': {'logical_column_id': 3, 'value': [{'ontology': 'snomed', 'code': '8392000', 'description': 'Non-smoker (finding)', 'url': 'https://snomedbrowser.com/Codes/Details/8392000'}]}}]}]]\n"
     ]
    }
   ],
   "source": [
    "import os\n",
    "import shutil\n",
    "import zipfile\n",
    "import time\n",
    "\n",
    "# Define input zip location\n",
    "input_zip = os.path.join(os.getcwd(), \"demo_docs/SDoH/SDoH_demo.zip\")\n",
    "\n",
    "# Define a directory to extract the input zip file into\n",
    "input_folder = os.path.join(os.getcwd(), \"demo_docs/SDoH/SDoH_demo\")\n",
    "if os.path.isdir(input_folder):\n",
    "    shutil.rmtree(input_folder)\n",
    "os.mkdir(input_folder)\n",
    "\n",
    "# Extract files from the input zip into the folder\n",
    "with zipfile.ZipFile(input_zip, \"r\") as zip_ref:\n",
    "    zip_ref.extractall(input_folder)\n",
    "print(f\"Documents extracted to: {input_folder}\")\n",
    "\n",
    "# Make a request with all extracted files\n",
    "print(\"Posting text files from the zip file...\")\n",
    "all_results = []\n",
    "for filename in os.listdir(input_folder):\n",
    "    file_path = os.path.join(input_folder, filename)\n",
    "    with open(file_path, \"r\") as file:\n",
    "        print(f\"Posting {filename}...\")\n",
    "        response = requests.post(api_marketplace_url, headers=mkp_headers, files={'source_data': file})\n",
    "        \n",
    "    # Poll the API until results are available\n",
    "    while response.status_code == 202:\n",
    "        print('Results are not available yet. Waiting 5 seconds before polling again...')\n",
    "        time.sleep(5)\n",
    "        run_identifier = response.json()['id']\n",
    "        response = requests.get(url=f'{api_marketplace_url}/{run_identifier}', headers=headers)\n",
    "\n",
    "    # Check the response\n",
    "    if response.status_code != 200:\n",
    "        raise Exception(f'Unexpected status code: {response.status_code}')\n",
    "    all_results.append(response.json())\n",
    "\n",
    "print(\"All done!\")\n",
    "print(f\"All JSON responses are: {all_results}\")"
   ]
  },
  {
   "cell_type": "markdown",
   "id": "c9624616",
   "metadata": {},
   "source": [
    "Similar to Example one, you could convert the JSON output into a pandas dataframe."
   ]
  },
  {
   "cell_type": "code",
   "execution_count": 6,
   "id": "61b9dbb0",
   "metadata": {
    "pycharm": {
     "name": "#%%\n"
    }
   },
   "outputs": [
    {
     "data": {
      "text/html": [
       "<div>\n",
       "<style scoped>\n",
       "    .dataframe tbody tr th:only-of-type {\n",
       "        vertical-align: middle;\n",
       "    }\n",
       "\n",
       "    .dataframe tbody tr th {\n",
       "        vertical-align: top;\n",
       "    }\n",
       "\n",
       "    .dataframe thead th {\n",
       "        text-align: right;\n",
       "    }\n",
       "</style>\n",
       "<table border=\"1\" class=\"dataframe\">\n",
       "  <thead>\n",
       "    <tr style=\"text-align: right;\">\n",
       "      <th></th>\n",
       "      <th>Doc ID</th>\n",
       "      <th>topic_class</th>\n",
       "      <th>topic</th>\n",
       "      <th>polarity</th>\n",
       "      <th>text</th>\n",
       "      <th>suggested_codes</th>\n",
       "    </tr>\n",
       "  </thead>\n",
       "  <tbody>\n",
       "    <tr>\n",
       "      <th>0</th>\n",
       "      <td>M10</td>\n",
       "      <td>Employment Status</td>\n",
       "      <td>Not employed</td>\n",
       "      <td>FALSE</td>\n",
       "      <td>He works as a payroll representative and previ...</td>\n",
       "      <td>[{'ontology': 'snomed', 'code': '224363007', '...</td>\n",
       "    </tr>\n",
       "    <tr>\n",
       "      <th>1</th>\n",
       "      <td>M10</td>\n",
       "      <td>Substance Abuse</td>\n",
       "      <td>Tobacco abuse</td>\n",
       "      <td>FALSE</td>\n",
       "      <td>... HISTORY : He is a non-cigarette smoker and...</td>\n",
       "      <td>[{'ontology': 'snomed', 'code': '8392000', 'de...</td>\n",
       "    </tr>\n",
       "    <tr>\n",
       "      <th>2</th>\n",
       "      <td>M10</td>\n",
       "      <td>Weight Range Category</td>\n",
       "      <td>Obesity NOS</td>\n",
       "      <td>TRUE</td>\n",
       "      <td>... GENERAL : Presents as an obese 60-year-old...</td>\n",
       "      <td>[{'ontology': 'snomed', 'code': '414915002', '...</td>\n",
       "    </tr>\n",
       "    <tr>\n",
       "      <th>3</th>\n",
       "      <td>M10</td>\n",
       "      <td>Weight Range Category</td>\n",
       "      <td>Obesity NOS</td>\n",
       "      <td>TRUE</td>\n",
       "      <td>ABDOMEN : Obese .</td>\n",
       "      <td>[{'ontology': 'snomed', 'code': '414915002', '...</td>\n",
       "    </tr>\n",
       "    <tr>\n",
       "      <th>4</th>\n",
       "      <td>M1008</td>\n",
       "      <td>Depression</td>\n",
       "      <td>Signs and symptoms of depression</td>\n",
       "      <td>TRUE</td>\n",
       "      <td>... , reflux in 2000 , insomnia , but no snori...</td>\n",
       "      <td>[{'ontology': 'snomed', 'code': '394924000', '...</td>\n",
       "    </tr>\n",
       "    <tr>\n",
       "      <th>5</th>\n",
       "      <td>M1008</td>\n",
       "      <td>Limited English</td>\n",
       "      <td>Limited English NOS</td>\n",
       "      <td>FALSE</td>\n",
       "      <td>... many many years and speaks fluent English ...</td>\n",
       "      <td>[{'ontology': 'snomed', 'code': '161147007', '...</td>\n",
       "    </tr>\n",
       "    <tr>\n",
       "      <th>6</th>\n",
       "      <td>M1008</td>\n",
       "      <td>Living Condition</td>\n",
       "      <td>Live alone</td>\n",
       "      <td>FALSE</td>\n",
       "      <td>SOCIAL HISTORY : She lives with her husband .</td>\n",
       "      <td>[{'ontology': 'snomed', 'code': '365481000', '...</td>\n",
       "    </tr>\n",
       "    <tr>\n",
       "      <th>7</th>\n",
       "      <td>M1008</td>\n",
       "      <td>Substance Abuse</td>\n",
       "      <td>Alcohol abuse</td>\n",
       "      <td>FALSE</td>\n",
       "      <td>She is a nonsmoker and no history of drug or a...</td>\n",
       "      <td>[{'ontology': 'snomed', 'code': '228273003', '...</td>\n",
       "    </tr>\n",
       "    <tr>\n",
       "      <th>8</th>\n",
       "      <td>M1008</td>\n",
       "      <td>Substance Abuse</td>\n",
       "      <td>Illicit drug abuse</td>\n",
       "      <td>FALSE</td>\n",
       "      <td>She is a nonsmoker and no history of drug or a...</td>\n",
       "      <td>[{'ontology': 'snomed', 'code': '707848009', '...</td>\n",
       "    </tr>\n",
       "    <tr>\n",
       "      <th>9</th>\n",
       "      <td>M1008</td>\n",
       "      <td>Substance Abuse</td>\n",
       "      <td>Tobacco abuse</td>\n",
       "      <td>FALSE</td>\n",
       "      <td>She is a nonsmoker and no history of drug ...</td>\n",
       "      <td>[{'ontology': 'snomed', 'code': '8392000', 'de...</td>\n",
       "    </tr>\n",
       "  </tbody>\n",
       "</table>\n",
       "</div>"
      ],
      "text/plain": [
       "  Doc ID            topic_class                             topic polarity                                               text                                    suggested_codes\n",
       "0    M10      Employment Status                      Not employed    FALSE  He works as a payroll representative and previ...  [{'ontology': 'snomed', 'code': '224363007', '...\n",
       "1    M10        Substance Abuse                     Tobacco abuse    FALSE  ... HISTORY : He is a non-cigarette smoker and...  [{'ontology': 'snomed', 'code': '8392000', 'de...\n",
       "2    M10  Weight Range Category                       Obesity NOS     TRUE  ... GENERAL : Presents as an obese 60-year-old...  [{'ontology': 'snomed', 'code': '414915002', '...\n",
       "3    M10  Weight Range Category                       Obesity NOS     TRUE                                  ABDOMEN : Obese .  [{'ontology': 'snomed', 'code': '414915002', '...\n",
       "4  M1008             Depression  Signs and symptoms of depression     TRUE  ... , reflux in 2000 , insomnia , but no snori...  [{'ontology': 'snomed', 'code': '394924000', '...\n",
       "5  M1008        Limited English               Limited English NOS    FALSE  ... many many years and speaks fluent English ...  [{'ontology': 'snomed', 'code': '161147007', '...\n",
       "6  M1008       Living Condition                        Live alone    FALSE      SOCIAL HISTORY : She lives with her husband .  [{'ontology': 'snomed', 'code': '365481000', '...\n",
       "7  M1008        Substance Abuse                     Alcohol abuse    FALSE  She is a nonsmoker and no history of drug or a...  [{'ontology': 'snomed', 'code': '228273003', '...\n",
       "8  M1008        Substance Abuse                Illicit drug abuse    FALSE  She is a nonsmoker and no history of drug or a...  [{'ontology': 'snomed', 'code': '707848009', '...\n",
       "9  M1008        Substance Abuse                     Tobacco abuse    FALSE      She is a nonsmoker and no history of drug ...  [{'ontology': 'snomed', 'code': '8392000', 'de..."
      ]
     },
     "execution_count": 6,
     "metadata": {},
     "output_type": "execute_result"
    }
   ],
   "source": [
    "import pandas as pd\n",
    "\n",
    "# initiate an empty dataframe\n",
    "df = pd.DataFrame()\n",
    "pd.set_option(\"display.max_rows\", None, \"display.max_columns\", None, \"display.width\", 1000)\n",
    "\n",
    "# Retrieve main results from the JSON response, please note this cell would fail if the request failed in the last step\n",
    "for results in all_results:\n",
    "    for inner_results in results:\n",
    "        for result_dict in inner_results['results']:\n",
    "            df_dict = {}\n",
    "            df_dict[\"Doc ID\"] = inner_results[\"doc_id\"]\n",
    "            for key, value_dict in result_dict.items():\n",
    "                df_dict[key] = value_dict['value']\n",
    "            df = pd.concat([df, pd.DataFrame.from_records([{**df_dict}])], ignore_index=True)\n",
    "\n",
    "# Check the dataframe\n",
    "df.head(10)"
   ]
  },
  {
   "cell_type": "markdown",
   "id": "45e1c2f7",
   "metadata": {},
   "source": [
    "That's it! Hope you find this tutorial useful! Bye!"
   ]
  },
  {
   "cell_type": "code",
   "execution_count": null,
   "id": "e2a95d90",
   "metadata": {
    "pycharm": {
     "name": "#%%\n"
    }
   },
   "outputs": [],
   "source": [
    "\n",
    "\n"
   ]
  }
 ],
 "metadata": {
  "kernelspec": {
   "display_name": "Python 3 (ipykernel)",
   "language": "python",
   "name": "python3"
  },
  "language_info": {
   "codemirror_mode": {
    "name": "ipython",
    "version": 3
   },
   "file_extension": ".py",
   "mimetype": "text/x-python",
   "name": "python",
   "nbconvert_exporter": "python",
   "pygments_lexer": "ipython3",
   "version": "3.8.10"
  }
 },
 "nbformat": 4,
 "nbformat_minor": 5
}
