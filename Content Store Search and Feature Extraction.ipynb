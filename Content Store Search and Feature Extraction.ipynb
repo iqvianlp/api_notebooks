{
 "cells": [
  {
   "cell_type": "markdown",
   "source": [
    "# IQVIA NLP - Content Store Search and Feature Extraction\n",
    "\n",
    "## API Description\n",
    "In today’s complex and competitive environment finding the right data to generate the right insight matters. External sources contain vast amounts of rich data but going source by source, searching for and ingesting the right data is time consuming and takes vital time away from developing impactful insights. The IQVIA NLP Content Store APIs are your go-to resource for keeping your team’s focus out of the data weeds and where it belongs: making strategic decisions to achieve your goals.\n",
    "\n",
    "## Accessing the API\n",
    "In order to consume this API, you will first need to request access to the Content Store API via this link:\n",
    "https://api-marketplace.work.iqvia.com/s/communityapi/a085w00000yu12lAAA/external-api-marketplaceiqvianlpcontentstoresearch .\n",
    "\n",
    "Please refer to \"API Documentation\" to learn more about accessing and using the API.\n",
    "\n",
    "## Notebook Description\n",
    "This notebook is designed to show users an example of using the IQVIA NLP - Content Store Search API.\n",
    "\n",
    "### Authorization\n",
    "The instructions for getting your credentials and the API endpoint URL can be found under the section \"Get Started\" and \"How to use the API\" following this link: https://api-marketplace.work.iqvia.com/s/communityapi/a085w00000yu12lAAA/external-api-marketplaceiqvianlpcontentstoresearch"
   ],
   "metadata": {
    "collapsed": false
   }
  },
  {
   "cell_type": "code",
   "execution_count": null,
   "outputs": [],
   "source": [
    "import getpass\n",
    "import requests\n",
    "\n",
    "# In this demo scenario, URL for US based customers\n",
    "# api_marketplace_url = 'https://vt.us-rds.solutions.iqvia.com/easl/api/v1/easl'\n",
    "# In this demo scenario, URL for EU based customers\n",
    "api_marketplace_url = 'https://vt.eu-apim.solutions.iqvia.com/eu/easl/api/v1/easl'\n",
    "\n",
    "mkp_user = input(\"Marketplace clientId: \")\n",
    "mkp_password = getpass.getpass(\"Marketplace clientSecret: \")\n",
    "mkp_headers = {'clientId': mkp_user, 'clientSecret': mkp_password}\n",
    "\n",
    "# Check credentials by making a dummy request\n",
    "print(\"Thanks for inputting your user name and password!\")"
   ],
   "metadata": {
    "collapsed": false,
    "pycharm": {
     "name": "#%%\n"
    }
   }
  },
  {
   "cell_type": "markdown",
   "source": [
    "### Example: Make a request with I2E query on selected I2E index\n",
    "Content Store Search API expects an I2E query and an Index name as input parameter. This example shows how to make a request to the API with a pre-configured API from  as input."
   ],
   "metadata": {
    "collapsed": false
   }
  },
  {
   "cell_type": "code",
   "execution_count": null,
   "outputs": [],
   "source": [
    "import requests\n",
    "import os\n",
    "\n",
    "# Define input query and index to run\n",
    "input_query = os.path.join(os.getcwd(), \"demo_queries/Content_Store_Search-Post_EASL_Run/biomkr_reln-covid19_disease.i2qy\")\n",
    "index_name = \"medline-full\"\n",
    "\n",
    "# Make a request\n",
    "print(\"Posting query request...\")\n",
    "with open(input_query, \"r\") as query:\n",
    "    response = requests.post(api_marketplace_url, headers=mkp_headers, files=dict(query=(input_query, query, \"application/vnd.linguamatics.i2e.i2qy\")), data=dict(index_name=index_name))"
   ],
   "metadata": {
    "collapsed": false,
    "pycharm": {
     "name": "#%%\n"
    }
   }
  },
  {
   "cell_type": "code",
   "execution_count": null,
   "outputs": [],
   "source": [
    "# Check the response\n",
    "if response.status_code == 200:\n",
    "    print(\"Success!\")\n",
    "    body_json = response.json()\n",
    "    print(f\"Raw JSON response from the API is: {body_json}\")\n",
    "else:\n",
    "    raise Exception(f\"Error: {response}\")"
   ],
   "metadata": {
    "collapsed": false,
    "pycharm": {
     "name": "#%%\n"
    }
   }
  },
  {
   "cell_type": "markdown",
   "source": [
    "Now that we have got the JSON response from the Post EASL Run API, we could get the response with the GET endpoint for the run id returned."
   ],
   "metadata": {
    "collapsed": false
   }
  },
  {
   "cell_type": "code",
   "execution_count": null,
   "outputs": [],
   "source": [
    "run_id = body_json[\"id\"]\n",
    "run_url = api_marketplace_url+\"/\"+run_id\n",
    "\n",
    "response = requests.get(run_url, headers=mkp_headers)\n",
    "\n",
    "# Check the response\n",
    "if response.status_code == 200:\n",
    "    print(\"Success!\")\n",
    "    body = response.json()\n",
    "    print(f\"Raw JSON response from the API is: {body}\")\n",
    "else:\n",
    "    raise Exception(f\"Error: {response}\")\n"
   ],
   "metadata": {
    "collapsed": false,
    "pycharm": {
     "name": "#%%\n"
    }
   }
  },
  {
   "cell_type": "markdown",
   "source": [
    "Get the list of document ID returned by the API."
   ],
   "metadata": {
    "collapsed": false
   }
  },
  {
   "cell_type": "code",
   "execution_count": null,
   "outputs": [],
   "source": [
    "doc_id_list = [result[\"Doc\"] for result in body[\"results\"]]\n",
    "print(f\"Document IDs are: {doc_id_list}\")"
   ],
   "metadata": {
    "collapsed": false,
    "pycharm": {
     "name": "#%%\n"
    }
   }
  },
  {
   "cell_type": "markdown",
   "source": [
    "Fetch features from the first two documents in the list."
   ],
   "metadata": {
    "collapsed": false
   }
  },
  {
   "cell_type": "code",
   "execution_count": null,
   "outputs": [],
   "source": [
    "features = [\"chebi\", \"meddra\"]\n",
    "results_json = []\n",
    "fetch_url = f\"https://vt.eu-apim.solutions.iqvia.com/eu/fetch-features/api/v1/fetch-features\"\n",
    "print(f\"Making requests to get features for specified documents...\")\n",
    "for feature in features:\n",
    "    response = requests.get(fetch_url, headers=mkp_headers, params={\"index\": index_name, \"features\": feature, \"docIds\": doc_id_list[:2]})\n",
    "    # Check the response\n",
    "    if response.status_code == 200:\n",
    "        print(\"Success!\")\n",
    "        json_response = response.json()\n",
    "        results_json.append(json_response)\n",
    "    else:\n",
    "        raise Exception(f\"Error: {response}\")\n",
    "print(f\"Raw JSON response from the API for documents of interest: {results_json}\")"
   ],
   "metadata": {
    "collapsed": false,
    "pycharm": {
     "name": "#%%\n"
    }
   }
  },
  {
   "cell_type": "markdown",
   "source": [
    "Convert to pandas dataframe"
   ],
   "metadata": {
    "collapsed": false
   }
  },
  {
   "cell_type": "code",
   "execution_count": null,
   "outputs": [],
   "source": [
    "import pandas as pd\n",
    "\n",
    "# initiate an empty dataframe\n",
    "df = pd.DataFrame()\n",
    "pd.set_option(\"display.max_rows\", None, \"display.max_columns\", None, \"display.width\", 1000)\n",
    "\n",
    "# Retrieve main results from the JSON response, please note this cell would fail if the request failed in the last step\n",
    "\n",
    "for result_list in results_json:\n",
    "    for result_dict in result_list:\n",
    "        results = result_dict[\"results\"]\n",
    "        df_dict = {\"doc_id\": result_dict[\"doc_id\"]}\n",
    "        for output_dict in results:\n",
    "            for key, value_dict in output_dict.items():\n",
    "                df_dict[key] = value_dict['value']\n",
    "        df = pd.concat([df, pd.DataFrame.from_records([{**df_dict}])], ignore_index=True)\n",
    "\n",
    "# df.to_csv(\"content_store_search_output_demo.csv\", index=False)\n",
    "\n",
    "# Check the dataframe\n",
    "df"
   ],
   "metadata": {
    "collapsed": false,
    "pycharm": {
     "name": "#%%\n"
    }
   }
  },
  {
   "cell_type": "markdown",
   "source": [
    "That's it! Hope you find this tutorial useful! Bye!"
   ],
   "metadata": {
    "collapsed": false
   }
  },
  {
   "cell_type": "code",
   "execution_count": null,
   "outputs": [],
   "source": [
    "\n",
    "\n"
   ],
   "metadata": {
    "collapsed": false,
    "pycharm": {
     "name": "#%%\n"
    }
   }
  }
 ],
 "metadata": {
  "kernelspec": {
   "display_name": "Python 3 (ipykernel)",
   "language": "python",
   "name": "python3"
  },
  "language_info": {
   "codemirror_mode": {
    "name": "ipython",
    "version": 3
   },
   "file_extension": ".py",
   "mimetype": "text/x-python",
   "name": "python",
   "nbconvert_exporter": "python",
   "pygments_lexer": "ipython3",
   "version": "3.8.10"
  }
 },
 "nbformat": 4,
 "nbformat_minor": 5
}