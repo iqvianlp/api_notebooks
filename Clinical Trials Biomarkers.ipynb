{
 "cells": [
  {
   "cell_type": "markdown",
   "id": "6b2567ab",
   "metadata": {},
   "source": [
    "# IQVIA NLP - Clinical Trials Biomarkers\n",
    "\n",
    "## API Description\n",
    "Understanding biomarkers for drug efficacy or disease progression is critical in clinical development, but relevant data is often in unstructured text, such as clinical trial records, and drug labels.  For Data Scientists, ClinicalTrials.gov Biomarkers solves this problem by offering an NLP API that extracts gene/protein biomarkers from specific regions of ClinicalTrials.gov records (Inclusion & exclusion criteria, primary and secondary outcomes).\n",
    "\n",
    "This simple API quickly identifies gene/disease biomarkers from ClinicalTrials.gov records, for known indications (mapped to MedDRA), from an NCT ID.  Biomarker-disease relationships are provided (e.g. positive, negative); diseases are mapped to MedDRA and mechanism of action data are also extracted.\n",
    "\n",
    "## Accessing the API\n",
    "In order to consume this API, you will first need to Request access to the Clinical Trials Biomarkers API \n",
    "via this link:\n",
    "https://api-marketplace.work.iqvia.com/s/communityapi/a085w00000ytPu7AAE/external-api-marketplaceclinicaltrialsbiomarkers .\n",
    "\n",
    "Please refer to \"API Documentation\" to learn more about accessing and using the API.\n",
    "\n",
    "## Notebook Description\n",
    "This notebook is designed to biomarkers and their related diseases from from ClinicalTrials.gov records. Users could specify records of interest by supplying ClinicalTrials.gov document identifiers in the 'NCTID' parameter when posting the request.\n",
    "\n",
    "### Authorization\n",
    "The instructions for getting your credentials and the API endpoint URL can be found under the section \"Get Started\" and \"How to use the API\" following this link: https://api-marketplace.work.iqvia.com/s/communityapi/a085w00000ytPu7AAE/external-api-marketplaceclinicaltrialsbiomarkers ."
   ]
  },
  {
   "cell_type": "code",
   "execution_count": 2,
   "id": "b35783ef",
   "metadata": {
    "pycharm": {
     "name": "#%%\n"
    }
   },
   "outputs": [
    {
     "name": "stdout",
     "output_type": "stream",
     "text": [
      "Marketplace clientId: ccb8d0c8612748dc955c794d3fc7b166\n",
      "Marketplace clientSecret: ········\n",
      "Checking your credentials, please wait...\n",
      "Congratulations! Your credentials are accepted!\n"
     ]
    }
   ],
   "source": [
    "import getpass\n",
    "import requests\n",
    "\n",
    "# In this demo scenario, URL for US based customers\n",
    "# api_marketplace_url = 'https://vt.us-rds.solutions.iqvia.com/clinicaltrial/api/v1/biomarkers'\n",
    "# In this demo scenario, URL for EU based customers\n",
    "api_marketplace_url = 'https://vt.eu-apim.solutions.iqvia.com/eu/clinicaltrial/api/v1/biomarkers'\n",
    "\n",
    "mkp_user = input(\"Marketplace clientId: \")\n",
    "mkp_password = getpass.getpass(\"Marketplace clientSecret: \")\n",
    "mkp_headers = {'clientId': mkp_user, 'clientSecret': mkp_password}\n",
    "\n",
    "print(\"Thanks for inputting your user name and password!\")"
   ]
  },
  {
   "cell_type": "markdown",
   "id": "eaa0f4d4",
   "metadata": {},
   "source": [
    "### Example: Make a request for a list of known Clinical Trials documents\n",
    "Clinical Trials Biomarker NLP API expects ClinicalTrials.gov document identifier (NCTID) as input parameter. This example shows how to make a request to the API with a list of NCTIDs.\n"
   ]
  },
  {
   "cell_type": "code",
   "execution_count": 3,
   "id": "a308c317",
   "metadata": {
    "pycharm": {
     "name": "#%%\n"
    }
   },
   "outputs": [
    {
     "name": "stdout",
     "output_type": "stream",
     "text": [
      "Posting request to extract biomarkers and related diseases from specified CT.gov documents...\n",
      "Processing NCT04875351...\n",
      "Success!\n",
      "Processing NCT03180086...\n",
      "Success!\n",
      "[[{'Biomarker': 'ERBB2', 'Relation': 'negative', '[NID] MedDRA': '10006187', '[PT] MedDRA': 'Breast cancer', 'Section': 'Inclusion Criteria & Condition', 'NCTID': 'NCT04875351', 'Source': 'https://clinicaltrials.gov/show/NCT04875351', 'Hit': 'Breast Cancer... Inclusion Criteria: - Early stage (I, II or III) female breast cancer patients, who have completed 4-7 years of primary adjuvant endocrine therapy... - The primary tumor was HER2 negative or positive and node-negative or ...'}, {'Biomarker': 'ESR1', 'Relation': 'positive', '[NID] MedDRA': '10006187', '[PT] MedDRA': 'Breast cancer', 'Section': 'Inclusion Criteria & Condition', 'NCTID': 'NCT04875351', 'Source': 'https://clinicaltrials.gov/show/NCT04875351', 'Hit': 'Breast Cancer... Inclusion Criteria: - Early stage (I, II or III) female breast cancer patients, who have completed 4-7 years of primary adjuvant endocrine therapy... primary tumor was hormone receptor positive (HR+), i.e. estrogen receptor-positive and/or progesterone receptor-positive...'}], [{'Biomarker': '', 'Relation': '', '[NID] MedDRA': '10006187', '[PT] MedDRA': 'Breast cancer', 'Section': 'Condition', 'NCTID': 'NCT03180086', 'Source': 'https://clinicaltrials.gov/show/NCT03180086', 'Hit': 'Breast Cancer'}]]\n"
     ]
    }
   ],
   "source": [
    "import requests\n",
    "\n",
    "# Define input NCTIDs\n",
    "input_nctids = ['NCT04875351', 'NCT03180086']\n",
    "\n",
    "# Make a request\n",
    "print(\"Posting request to extract biomarkers and related diseases from specified CT.gov documents...\")\n",
    "\n",
    "response = requests.get(api_marketplace_url, headers=mkp_headers, params={'NCTID': input_nctids})\n",
    "# Check the response\n",
    "if response.status_code == 200:\n",
    "    print(\"Success!\")\n",
    "    results_json = response.json()\n",
    "else:\n",
    "    raise Exception(f\"Error: {response}\")\n",
    "\n",
    "print(results_json)"
   ]
  },
  {
   "cell_type": "markdown",
   "id": "1d1cb5d7",
   "metadata": {},
   "source": [
    "Now that we have got the JSON responses from the Clinical Trials Biomarker API, we could convert the useful information associated with the keys into a pandas dataframe."
   ]
  },
  {
   "cell_type": "code",
   "execution_count": 6,
   "id": "fb85f8c5",
   "metadata": {
    "pycharm": {
     "name": "#%%\n"
    }
   },
   "outputs": [
    {
     "data": {
      "text/html": [
       "<div>\n",
       "<style scoped>\n",
       "    .dataframe tbody tr th:only-of-type {\n",
       "        vertical-align: middle;\n",
       "    }\n",
       "\n",
       "    .dataframe tbody tr th {\n",
       "        vertical-align: top;\n",
       "    }\n",
       "\n",
       "    .dataframe thead th {\n",
       "        text-align: right;\n",
       "    }\n",
       "</style>\n",
       "<table border=\"1\" class=\"dataframe\">\n",
       "  <thead>\n",
       "    <tr style=\"text-align: right;\">\n",
       "      <th></th>\n",
       "      <th>Biomarker</th>\n",
       "      <th>Relation</th>\n",
       "      <th>[NID] MedDRA</th>\n",
       "      <th>[PT] MedDRA</th>\n",
       "      <th>Section</th>\n",
       "      <th>NCTID</th>\n",
       "      <th>Source</th>\n",
       "      <th>Hit</th>\n",
       "    </tr>\n",
       "  </thead>\n",
       "  <tbody>\n",
       "    <tr>\n",
       "      <th>0</th>\n",
       "      <td>ERBB2</td>\n",
       "      <td>negative</td>\n",
       "      <td>10006187</td>\n",
       "      <td>Breast cancer</td>\n",
       "      <td>Inclusion Criteria &amp; Condition</td>\n",
       "      <td>NCT04875351</td>\n",
       "      <td>https://clinicaltrials.gov/show/NCT04875351</td>\n",
       "      <td>Breast Cancer... Inclusion Criteria: - Early s...</td>\n",
       "    </tr>\n",
       "    <tr>\n",
       "      <th>1</th>\n",
       "      <td>ESR1</td>\n",
       "      <td>positive</td>\n",
       "      <td>10006187</td>\n",
       "      <td>Breast cancer</td>\n",
       "      <td>Inclusion Criteria &amp; Condition</td>\n",
       "      <td>NCT04875351</td>\n",
       "      <td>https://clinicaltrials.gov/show/NCT04875351</td>\n",
       "      <td>Breast Cancer... Inclusion Criteria: - Early s...</td>\n",
       "    </tr>\n",
       "    <tr>\n",
       "      <th>2</th>\n",
       "      <td></td>\n",
       "      <td></td>\n",
       "      <td>10006187</td>\n",
       "      <td>Breast cancer</td>\n",
       "      <td>Condition</td>\n",
       "      <td>NCT03180086</td>\n",
       "      <td>https://clinicaltrials.gov/show/NCT03180086</td>\n",
       "      <td>Breast Cancer</td>\n",
       "    </tr>\n",
       "  </tbody>\n",
       "</table>\n",
       "</div>"
      ],
      "text/plain": [
       "  Biomarker  Relation [NID] MedDRA    [PT] MedDRA                         Section        NCTID                                       Source                                                Hit\n",
       "0     ERBB2  negative     10006187  Breast cancer  Inclusion Criteria & Condition  NCT04875351  https://clinicaltrials.gov/show/NCT04875351  Breast Cancer... Inclusion Criteria: - Early s...\n",
       "1      ESR1  positive     10006187  Breast cancer  Inclusion Criteria & Condition  NCT04875351  https://clinicaltrials.gov/show/NCT04875351  Breast Cancer... Inclusion Criteria: - Early s...\n",
       "2                         10006187  Breast cancer                       Condition  NCT03180086  https://clinicaltrials.gov/show/NCT03180086                                      Breast Cancer"
      ]
     },
     "execution_count": 6,
     "metadata": {},
     "output_type": "execute_result"
    }
   ],
   "source": [
    "import pandas as pd\n",
    "\n",
    "# initiate an empty dataframe\n",
    "df = pd.DataFrame()\n",
    "pd.set_option(\"display.max_rows\", None, \"display.max_columns\", None, \"display.width\", 1000)\n",
    "\n",
    "# Retrieve main results from the JSON response, please note this cell would fail if the request failed in the last step\n",
    "for results in results_json:\n",
    "    df_dict = {}\n",
    "    for result_dict in results[\"results\"]:\n",
    "        for key, value_dict in result_dict.items():\n",
    "            df_dict[key] = value_dict['value']\n",
    "    df_dict[\"Doc Id\"] = results[\"doc_id\"]\n",
    "    df = pd.concat([df, pd.DataFrame.from_records([{**df_dict}])], ignore_index=True)\n",
    "\n",
    "# Check the dataframe\n",
    "df"
   ]
  },
  {
   "cell_type": "markdown",
   "id": "a5ba6687",
   "metadata": {},
   "source": [
    "### Optional: Make a request to ClinicalTrials.gov API to get NCTIDs associated with a specific disease\n",
    "\n",
    "Search URL for the ClincialTrials.gov API that allows user to search for the NCTId's of 10 documents. Search can be customized by modifying the study_fields expr value. In this example, the search will return 10 NCTIds of clinical trials about Breast Cancer."
   ]
  },
  {
   "cell_type": "code",
   "execution_count": 7,
   "id": "c6e5876a",
   "metadata": {
    "pycharm": {
     "name": "#%%\n"
    }
   },
   "outputs": [
    {
     "name": "stdout",
     "output_type": "stream",
     "text": [
      "['NCT04875351', 'NCT03180086', 'NCT03662633', 'NCT02493569', 'NCT03598660', 'NCT04167605', 'NCT04516330', 'NCT04495244', 'NCT03343691', 'NCT05082740']\n"
     ]
    }
   ],
   "source": [
    "import json\n",
    "\n",
    "# Search URL for the ClincialTrials.gov API that allows user to search for the NCTId's of 10 documents\n",
    "# Search can be customized by modifying the study_fields expr value\n",
    "# This search will return 10 NCTIds of clinical trials about Breast Cancer\n",
    "url = \"https://clinicaltrials.gov/api/query/study_fields?expr=Breast+Cancer&fields=NCTId&min_rnk=1&max_rnk=10&fmt=json\"\n",
    "response = requests.get(url)\n",
    "\n",
    "# Read in the JSON from the ClinicalTrials.gov API request\n",
    "j = json.loads(response.text)\n",
    "\n",
    "# initialize list for storing the NCTId's we will submit to endpoint\n",
    "nctids = []\n",
    "\n",
    "# Pull out the NCTId's for each document returned by the ClinicalTrials.gov and add to the list\n",
    "for item in j['StudyFieldsResponse']['StudyFields']:\n",
    "    nctids.append(item['NCTId'][0])\n",
    "\n",
    "print(nctids)"
   ]
  },
  {
   "cell_type": "markdown",
   "id": "d95cfe9e",
   "metadata": {},
   "source": [
    "That's it! Hope you find this tutorial useful! Bye!"
   ]
  },
  {
   "cell_type": "code",
   "execution_count": null,
   "id": "0362076e",
   "metadata": {
    "pycharm": {
     "name": "#%%"
    }
   },
   "outputs": [],
   "source": []
  }
 ],
 "metadata": {
  "kernelspec": {
   "display_name": "Python 3 (ipykernel)",
   "language": "python",
   "name": "python3"
  },
  "language_info": {
   "codemirror_mode": {
    "name": "ipython",
    "version": 3
   },
   "file_extension": ".py",
   "mimetype": "text/x-python",
   "name": "python",
   "nbconvert_exporter": "python",
   "pygments_lexer": "ipython3",
   "version": "3.8.10"
  }
 },
 "nbformat": 4,
 "nbformat_minor": 5
}