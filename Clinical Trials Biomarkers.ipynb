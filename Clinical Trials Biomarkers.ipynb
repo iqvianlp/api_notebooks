{
 "cells": [
  {
   "cell_type": "markdown",
   "id": "6b2567ab",
   "metadata": {},
   "source": [
    "# IQVIA NLP - Clinical Trials Biomarkers\n",
    "\n",
    "## API Description\n",
    "Understanding biomarkers for drug efficacy or disease progression is critical in clinical development, but relevant data is often in unstructured text, such as clinical trial records, and drug labels.  For Data Scientists, ClinicalTrials.gov Biomarkers solves this problem by offering an NLP API that extracts gene/protein biomarkers from specific regions of ClinicalTrials.gov records (Inclusion & exclusion criteria, primary and secondary outcomes).\n",
    "\n",
    "This simple API quickly identifies gene/disease biomarkers from ClinicalTrials.gov records, for known indications (mapped to MedDRA), from an NCT ID.  Biomarker-disease relationships are provided (e.g. positive, negative); diseases are mapped to MedDRA and mechanism of action data are also extracted.\n",
    "\n",
    "## Accessing the API\n",
    "In order to consume this API, you will first need to Request access to the Clinical Trials Biomarkers API \n",
    "via this link:\n",
    "https://api-marketplace.work.iqvia.com/s/communityapi/a085w00000ytPu7AAE/external-api-marketplaceclinicaltrialsbiomarkers .\n",
    "\n",
    "Please refer to \"API Documentation\" to learn more about accessing and using the API.\n",
    "\n",
    "## Notebook Description\n",
    "This notebook is designed to biomarkers and their related diseases from from ClinicalTrials.gov records. Users could specify records of interest by supplying ClinicalTrials.gov document identifiers in the 'NCTID' parameter when posting the request.\n",
    "\n",
    "### Authorization\n",
    "The instructions for getting your credentials and the API endpoint URL can be found under the section \"Get Started\" and \"How to use the API\" following this link: https://api-marketplace.work.iqvia.com/s/communityapi/a085w00000ytPu7AAE/external-api-marketplaceclinicaltrialsbiomarkers ."
   ]
  },
  {
   "cell_type": "code",
   "execution_count": 13,
   "id": "b35783ef",
   "metadata": {
    "pycharm": {
     "name": "#%%\n"
    }
   },
   "outputs": [
    {
     "name": "stdout",
     "output_type": "stream",
     "text": [
      "Please enter the API URL: https://vt.eu-apim-devtest.solutions.iqvia.com/eu/clinicaltrials/api/v2/clinicaltrials/biomarkers\n",
      "Marketplace clientId: c21726a44cf549dda5315fd8d35f467c\n",
      "Marketplace clientSecret: ········\n",
      "Thanks for inputting URL, your user name and password!\n"
     ]
    }
   ],
   "source": [
    "import getpass\n",
    "\n",
    "# Get URL and credentials from customers\n",
    "api_endpoint_url = input('Please enter the API URL: ').rstrip('/')\n",
    "\n",
    "mkp_user = input(\"Marketplace clientId: \")\n",
    "mkp_password = getpass.getpass(\"Marketplace clientSecret: \")\n",
    "mkp_headers = {'clientId': mkp_user, 'clientSecret': mkp_password}\n",
    "\n",
    "print(\"Thanks for inputting URL, your user name and password!\")"
   ]
  },
  {
   "cell_type": "markdown",
   "id": "eaa0f4d4",
   "metadata": {},
   "source": [
    "### Example: Make a request for a list of known Clinical Trials documents\n",
    "Clinical Trials Biomarker NLP API expects ClinicalTrials.gov document identifier (NCTID) as input parameter. This example shows how to make a request to the API with a list of NCTIDs.\n"
   ]
  },
  {
   "cell_type": "code",
   "execution_count": 14,
   "id": "a308c317",
   "metadata": {
    "pycharm": {
     "name": "#%%\n"
    }
   },
   "outputs": [
    {
     "name": "stdout",
     "output_type": "stream",
     "text": [
      "Posting request to extract biomarkers and related diseases from specified CT.gov documents...\n",
      "Results are not available yet. Waiting 10 seconds before polling again...\n",
      "Results are not available yet. Waiting 10 seconds before polling again...\n",
      "Results are not available yet. Waiting 10 seconds before polling again...\n",
      "Success!\n",
      "Results: \n",
      "[{'doc_id': 'NCT04875351', 'results': [{'Biomarker': {'logical_column_id': 0, 'value': 'ERBB2', 'indexed_spans_outer': [[15358, 15362]], 'indexed_spans_inner': [[15358, 15362]], 'text_spans_outer': [[213, 217]], 'text_spans_inner': [[213, 217]]}, 'Relation': {'logical_column_id': 1, 'value': 'negative', 'indexed_spans_outer': [[15363, 15371]], 'indexed_spans_inner': [[15363, 15371]], 'text_spans_outer': [[218, 226]], 'text_spans_inner': [[218, 226]]}, '[SID] Diseases and Disorders': {'logical_column_id': 2, 'value': 'meddra', 'indexed_spans_outer': [[3419, 3432]], 'indexed_spans_inner': [[3419, 3432]], 'text_spans_outer': [[0, 13]], 'text_spans_inner': [[0, 13]]}, '[NID] Diseases and Disorders': {'logical_column_id': 2, 'value': '10006187'}, '[PT] Diseases and Disorders': {'logical_column_id': 2, 'value': 'Breast cancer'}, 'Section': {'logical_column_id': 3, 'value': 'Inclusion Criteria & Brief Title', 'indexed_spans_outer': [[14873, 15708]], 'indexed_spans_inner': [[14873, 15708]], 'text_spans_outer': [[39, 59], [59, 185]], 'text_spans_inner': [[39, 59], [59, 185]]}, 'NCTID': {'logical_column_id': 4, 'value': 'NCT04875351'}, 'text': {'value': 'Breast Cancer Index (BCI) Registry ... Inclusion Criteria: - Early stage (I, II or III) female breast cancer patients, who have completed 4-7 years of primary adjuvant endocrine therapy... - The primary tumor was HER2 negative or positive and node-negative or ...'}}, {'Biomarker': {'logical_column_id': 0, 'value': 'ERBB2', 'indexed_spans_outer': [[15358, 15362]], 'indexed_spans_inner': [[15358, 15362]], 'text_spans_outer': [[191, 195]], 'text_spans_inner': [[191, 195]]}, 'Relation': {'logical_column_id': 1, 'value': 'negative', 'indexed_spans_outer': [[15363, 15371]], 'indexed_spans_inner': [[15363, 15371]], 'text_spans_outer': [[196, 204]], 'text_spans_inner': [[196, 204]]}, '[SID] Diseases and Disorders': {'logical_column_id': 2, 'value': 'meddra', 'indexed_spans_outer': [[9191, 9204]], 'indexed_spans_inner': [[9191, 9204]], 'text_spans_outer': [[0, 13]], 'text_spans_inner': [[0, 13]]}, '[NID] Diseases and Disorders': {'logical_column_id': 2, 'value': '10006187'}, '[PT] Diseases and Disorders': {'logical_column_id': 2, 'value': 'Breast cancer'}, 'Section': {'logical_column_id': 3, 'value': 'Inclusion Criteria & Condition', 'indexed_spans_outer': [[14873, 15708]], 'indexed_spans_inner': [[14873, 15708]], 'text_spans_outer': [[17, 37], [37, 163]], 'text_spans_inner': [[17, 37], [37, 163]]}, 'NCTID': {'logical_column_id': 4, 'value': 'NCT04875351'}, 'text': {'value': 'Breast Cancer... Inclusion Criteria: - Early stage (I, II or III) female breast cancer patients, who have completed 4-7 years of primary adjuvant endocrine therapy... - The primary tumor was HER2 negative or positive and node-negative or ...'}}, {'Biomarker': {'logical_column_id': 0, 'value': 'ERBB2', 'indexed_spans_outer': [[15358, 15362]], 'indexed_spans_inner': [[15358, 15362]], 'text_spans_outer': [[213, 217]], 'text_spans_inner': [[213, 217]]}, 'Relation': {'logical_column_id': 1, 'value': 'negative', 'indexed_spans_outer': [[15363, 15371]], 'indexed_spans_inner': [[15363, 15371]], 'text_spans_outer': [[218, 226]], 'text_spans_inner': [[218, 226]]}, '[SID] Diseases and Disorders': {'logical_column_id': 2, 'value': 'nlm_plus', 'indexed_spans_outer': [[3419, 3432]], 'indexed_spans_inner': [[3419, 3432]], 'text_spans_outer': [[0, 13]], 'text_spans_inner': [[0, 13]]}, '[NID] Diseases and Disorders': {'logical_column_id': 2, 'value': 'D001943'}, '[PT] Diseases and Disorders': {'logical_column_id': 2, 'value': 'Breast Neoplasms'}, 'Section': {'logical_column_id': 3, 'value': 'Inclusion Criteria & Brief Title', 'indexed_spans_outer': [[14873, 15708]], 'indexed_spans_inner': [[14873, 15708]], 'text_spans_outer': [[39, 59], [59, 185]], 'text_spans_inner': [[39, 59], [59, 185]]}, 'NCTID': {'logical_column_id': 4, 'value': 'NCT04875351'}, 'text': {'value': 'Breast Cancer Index (BCI) Registry ... Inclusion Criteria: - Early stage (I, II or III) female breast cancer patients, who have completed 4-7 years of primary adjuvant endocrine therapy... - The primary tumor was HER2 negative or positive and node-negative or ...'}}, {'Biomarker': {'logical_column_id': 0, 'value': 'ERBB2', 'indexed_spans_outer': [[15358, 15362]], 'indexed_spans_inner': [[15358, 15362]], 'text_spans_outer': [[191, 195]], 'text_spans_inner': [[191, 195]]}, 'Relation': {'logical_column_id': 1, 'value': 'negative', 'indexed_spans_outer': [[15363, 15371]], 'indexed_spans_inner': [[15363, 15371]], 'text_spans_outer': [[196, 204]], 'text_spans_inner': [[196, 204]]}, '[SID] Diseases and Disorders': {'logical_column_id': 2, 'value': 'nlm_plus', 'indexed_spans_outer': [[9191, 9204]], 'indexed_spans_inner': [[9191, 9204]], 'text_spans_outer': [[0, 13]], 'text_spans_inner': [[0, 13]]}, '[NID] Diseases and Disorders': {'logical_column_id': 2, 'value': 'D001943'}, '[PT] Diseases and Disorders': {'logical_column_id': 2, 'value': 'Breast Neoplasms'}, 'Section': {'logical_column_id': 3, 'value': 'Inclusion Criteria & Condition', 'indexed_spans_outer': [[14873, 15708]], 'indexed_spans_inner': [[14873, 15708]], 'text_spans_outer': [[17, 37], [37, 163]], 'text_spans_inner': [[17, 37], [37, 163]]}, 'NCTID': {'logical_column_id': 4, 'value': 'NCT04875351'}, 'text': {'value': 'Breast Cancer... Inclusion Criteria: - Early stage (I, II or III) female breast cancer patients, who have completed 4-7 years of primary adjuvant endocrine therapy... - The primary tumor was HER2 negative or positive and node-negative or ...'}}, {'Biomarker': {'logical_column_id': 0, 'value': 'ERBB2', 'indexed_spans_outer': [[15358, 15362]], 'indexed_spans_inner': [[15358, 15362]], 'text_spans_outer': [[213, 217]], 'text_spans_inner': [[213, 217]]}, 'Relation': {'logical_column_id': 1, 'value': 'positive', 'indexed_spans_outer': [[15375, 15383]], 'indexed_spans_inner': [[15375, 15383]], 'text_spans_outer': [[230, 238]], 'text_spans_inner': [[230, 238]]}, '[SID] Diseases and Disorders': {'logical_column_id': 2, 'value': 'meddra', 'indexed_spans_outer': [[3419, 3432]], 'indexed_spans_inner': [[3419, 3432]], 'text_spans_outer': [[0, 13]], 'text_spans_inner': [[0, 13]]}, '[NID] Diseases and Disorders': {'logical_column_id': 2, 'value': '10006187'}, '[PT] Diseases and Disorders': {'logical_column_id': 2, 'value': 'Breast cancer'}, 'Section': {'logical_column_id': 3, 'value': 'Inclusion Criteria & Brief Title', 'indexed_spans_outer': [[14873, 15708]], 'indexed_spans_inner': [[14873, 15708]], 'text_spans_outer': [[39, 59], [59, 185]], 'text_spans_inner': [[39, 59], [59, 185]]}, 'NCTID': {'logical_column_id': 4, 'value': 'NCT04875351'}, 'text': {'value': 'Breast Cancer Index (BCI) Registry ... Inclusion Criteria: - Early stage (I, II or III) female breast cancer patients, who have completed 4-7 years of primary adjuvant endocrine therapy... - The primary tumor was HER2 negative or positive and node-negative or node-positive with ...'}}, {'Biomarker': {'logical_column_id': 0, 'value': 'ERBB2', 'indexed_spans_outer': [[15358, 15362]], 'indexed_spans_inner': [[15358, 15362]], 'text_spans_outer': [[191, 195]], 'text_spans_inner': [[191, 195]]}, 'Relation': {'logical_column_id': 1, 'value': 'positive', 'indexed_spans_outer': [[15375, 15383]], 'indexed_spans_inner': [[15375, 15383]], 'text_spans_outer': [[208, 216]], 'text_spans_inner': [[208, 216]]}, '[SID] Diseases and Disorders': {'logical_column_id': 2, 'value': 'meddra', 'indexed_spans_outer': [[9191, 9204]], 'indexed_spans_inner': [[9191, 9204]], 'text_spans_outer': [[0, 13]], 'text_spans_inner': [[0, 13]]}, '[NID] Diseases and Disorders': {'logical_column_id': 2, 'value': '10006187'}, '[PT] Diseases and Disorders': {'logical_column_id': 2, 'value': 'Breast cancer'}, 'Section': {'logical_column_id': 3, 'value': 'Inclusion Criteria & Condition', 'indexed_spans_outer': [[14873, 15708]], 'indexed_spans_inner': [[14873, 15708]], 'text_spans_outer': [[17, 37], [37, 163]], 'text_spans_inner': [[17, 37], [37, 163]]}, 'NCTID': {'logical_column_id': 4, 'value': 'NCT04875351'}, 'text': {'value': 'Breast Cancer... Inclusion Criteria: - Early stage (I, II or III) female breast cancer patients, who have completed 4-7 years of primary adjuvant endocrine therapy... - The primary tumor was HER2 negative or positive and node-negative or node-positive with ...'}}, {'Biomarker': {'logical_column_id': 0, 'value': 'ERBB2', 'indexed_spans_outer': [[15358, 15362]], 'indexed_spans_inner': [[15358, 15362]], 'text_spans_outer': [[213, 217]], 'text_spans_inner': [[213, 217]]}, 'Relation': {'logical_column_id': 1, 'value': 'positive', 'indexed_spans_outer': [[15375, 15383]], 'indexed_spans_inner': [[15375, 15383]], 'text_spans_outer': [[230, 238]], 'text_spans_inner': [[230, 238]]}, '[SID] Diseases and Disorders': {'logical_column_id': 2, 'value': 'nlm_plus', 'indexed_spans_outer': [[3419, 3432]], 'indexed_spans_inner': [[3419, 3432]], 'text_spans_outer': [[0, 13]], 'text_spans_inner': [[0, 13]]}, '[NID] Diseases and Disorders': {'logical_column_id': 2, 'value': 'D001943'}, '[PT] Diseases and Disorders': {'logical_column_id': 2, 'value': 'Breast Neoplasms'}, 'Section': {'logical_column_id': 3, 'value': 'Inclusion Criteria & Brief Title', 'indexed_spans_outer': [[14873, 15708]], 'indexed_spans_inner': [[14873, 15708]], 'text_spans_outer': [[39, 59], [59, 185]], 'text_spans_inner': [[39, 59], [59, 185]]}, 'NCTID': {'logical_column_id': 4, 'value': 'NCT04875351'}, 'text': {'value': 'Breast Cancer Index (BCI) Registry ... Inclusion Criteria: - Early stage (I, II or III) female breast cancer patients, who have completed 4-7 years of primary adjuvant endocrine therapy... - The primary tumor was HER2 negative or positive and node-negative or node-positive with ...'}}, {'Biomarker': {'logical_column_id': 0, 'value': 'ERBB2', 'indexed_spans_outer': [[15358, 15362]], 'indexed_spans_inner': [[15358, 15362]], 'text_spans_outer': [[191, 195]], 'text_spans_inner': [[191, 195]]}, 'Relation': {'logical_column_id': 1, 'value': 'positive', 'indexed_spans_outer': [[15375, 15383]], 'indexed_spans_inner': [[15375, 15383]], 'text_spans_outer': [[208, 216]], 'text_spans_inner': [[208, 216]]}, '[SID] Diseases and Disorders': {'logical_column_id': 2, 'value': 'nlm_plus', 'indexed_spans_outer': [[9191, 9204]], 'indexed_spans_inner': [[9191, 9204]], 'text_spans_outer': [[0, 13]], 'text_spans_inner': [[0, 13]]}, '[NID] Diseases and Disorders': {'logical_column_id': 2, 'value': 'D001943'}, '[PT] Diseases and Disorders': {'logical_column_id': 2, 'value': 'Breast Neoplasms'}, 'Section': {'logical_column_id': 3, 'value': 'Inclusion Criteria & Condition', 'indexed_spans_outer': [[14873, 15708]], 'indexed_spans_inner': [[14873, 15708]], 'text_spans_outer': [[17, 37], [37, 163]], 'text_spans_inner': [[17, 37], [37, 163]]}, 'NCTID': {'logical_column_id': 4, 'value': 'NCT04875351'}, 'text': {'value': 'Breast Cancer... Inclusion Criteria: - Early stage (I, II or III) female breast cancer patients, who have completed 4-7 years of primary adjuvant endocrine therapy... - The primary tumor was HER2 negative or positive and node-negative or node-positive with ...'}}, {'Biomarker': {'logical_column_id': 0, 'value': 'ESR1', 'indexed_spans_outer': [[15243, 15269]], 'indexed_spans_inner': [[15243, 15269]], 'text_spans_outer': [[201, 227]], 'text_spans_inner': [[201, 227]]}, 'Relation': {'logical_column_id': 1, 'value': 'positive', 'indexed_spans_outer': [[15252, 15269]], 'indexed_spans_inner': [[15252, 15269]], 'text_spans_outer': [[210, 227]], 'text_spans_inner': [[210, 227]]}, '[SID] Diseases and Disorders': {'logical_column_id': 2, 'value': 'meddra', 'indexed_spans_outer': [[3419, 3432]], 'indexed_spans_inner': [[3419, 3432]], 'text_spans_outer': [[0, 13]], 'text_spans_inner': [[0, 13]]}, '[NID] Diseases and Disorders': {'logical_column_id': 2, 'value': '10006187'}, '[PT] Diseases and Disorders': {'logical_column_id': 2, 'value': 'Breast cancer'}, 'Section': {'logical_column_id': 3, 'value': 'Inclusion Criteria & Brief Title', 'indexed_spans_outer': [[14873, 15708]], 'indexed_spans_inner': [[14873, 15708]], 'text_spans_outer': [[39, 59], [59, 185]], 'text_spans_inner': [[39, 59], [59, 185]]}, 'NCTID': {'logical_column_id': 4, 'value': 'NCT04875351'}, 'text': {'value': 'Breast Cancer Index (BCI) Registry ... Inclusion Criteria: - Early stage (I, II or III) female breast cancer patients, who have completed 4-7 years of primary adjuvant endocrine therapy... (HR+), i.e. estrogen receptor-positive and/or progesterone receptor-positive...'}}, {'Biomarker': {'logical_column_id': 0, 'value': 'ESR1', 'indexed_spans_outer': [[15243, 15269]], 'indexed_spans_inner': [[15243, 15269]], 'text_spans_outer': [[201, 227]], 'text_spans_inner': [[201, 227]]}, 'Relation': {'logical_column_id': 1, 'value': 'positive', 'indexed_spans_outer': [[15303, 15320]], 'indexed_spans_inner': [[15303, 15320]], 'text_spans_outer': [[248, 265]], 'text_spans_inner': [[248, 265]]}, '[SID] Diseases and Disorders': {'logical_column_id': 2, 'value': 'meddra', 'indexed_spans_outer': [[3419, 3432]], 'indexed_spans_inner': [[3419, 3432]], 'text_spans_outer': [[0, 13]], 'text_spans_inner': [[0, 13]]}, '[NID] Diseases and Disorders': {'logical_column_id': 2, 'value': '10006187'}, '[PT] Diseases and Disorders': {'logical_column_id': 2, 'value': 'Breast cancer'}, 'Section': {'logical_column_id': 3, 'value': 'Inclusion Criteria & Brief Title', 'indexed_spans_outer': [[14873, 15708]], 'indexed_spans_inner': [[14873, 15708]], 'text_spans_outer': [[39, 59], [59, 185]], 'text_spans_inner': [[39, 59], [59, 185]]}, 'NCTID': {'logical_column_id': 4, 'value': 'NCT04875351'}, 'text': {'value': 'Breast Cancer Index (BCI) Registry ... Inclusion Criteria: - Early stage (I, II or III) female breast cancer patients, who have completed 4-7 years of primary adjuvant endocrine therapy... (HR+), i.e. estrogen receptor-positive and/or progesterone receptor-positive.  ...'}}]}]\n",
      "\n"
     ]
    }
   ],
   "source": [
    "import requests\n",
    "import time\n",
    "\n",
    "# Define input NCTIDs\n",
    "input_nctids = [\"NCT04875351\", \"NCT03180086\"]\n",
    "\n",
    "# Make a request\n",
    "print(\"Posting request to extract biomarkers and related diseases from specified CT.gov documents...\")\n",
    "\n",
    "response = requests.post(api_endpoint_url, headers=mkp_headers, json={\"params\": {\"NCTID\": input_nctids}, 'row_limit': 10})\n",
    "\n",
    "# Poll the API until results are available\n",
    "while response.status_code == 202:\n",
    "    print('Results are not available yet. Waiting 10 seconds before polling again...')\n",
    "    time.sleep(10)\n",
    "    # Use the run id from the Post request to get results\n",
    "    run_identifier = response.json()['id']    \n",
    "    response = requests.get(url=f'{api_endpoint_url}/{run_identifier}', headers=mkp_headers)    \n",
    "    \n",
    "# Check the response\n",
    "if response.status_code == 200:\n",
    "    print(\"Success!\")\n",
    "    results_json = response.json()\n",
    "else:\n",
    "    raise Exception(f\"Unexpected status code: {response.status_code}\")\n",
    "\n",
    "print(f'Results: \\n{results_json}\\n')"
   ]
  },
  {
   "cell_type": "markdown",
   "id": "1d1cb5d7",
   "metadata": {},
   "source": [
    "Now that we have got the JSON responses from the Clinical Trials Biomarker API, we could convert the useful information associated with the keys into a pandas dataframe."
   ]
  },
  {
   "cell_type": "code",
   "execution_count": 17,
   "id": "fb85f8c5",
   "metadata": {
    "pycharm": {
     "name": "#%%\n"
    }
   },
   "outputs": [
    {
     "data": {
      "text/html": [
       "<div>\n",
       "<style scoped>\n",
       "    .dataframe tbody tr th:only-of-type {\n",
       "        vertical-align: middle;\n",
       "    }\n",
       "\n",
       "    .dataframe tbody tr th {\n",
       "        vertical-align: top;\n",
       "    }\n",
       "\n",
       "    .dataframe thead th {\n",
       "        text-align: right;\n",
       "    }\n",
       "</style>\n",
       "<table border=\"1\" class=\"dataframe\">\n",
       "  <thead>\n",
       "    <tr style=\"text-align: right;\">\n",
       "      <th></th>\n",
       "      <th>Biomarker</th>\n",
       "      <th>Relation</th>\n",
       "      <th>[SID] Diseases and Disorders</th>\n",
       "      <th>[NID] Diseases and Disorders</th>\n",
       "      <th>[PT] Diseases and Disorders</th>\n",
       "      <th>Section</th>\n",
       "      <th>NCTID</th>\n",
       "      <th>text</th>\n",
       "      <th>Doc Id</th>\n",
       "    </tr>\n",
       "  </thead>\n",
       "  <tbody>\n",
       "    <tr>\n",
       "      <th>0</th>\n",
       "      <td>ERBB2</td>\n",
       "      <td>negative</td>\n",
       "      <td>meddra</td>\n",
       "      <td>10006187</td>\n",
       "      <td>Breast cancer</td>\n",
       "      <td>Inclusion Criteria &amp; Brief Title</td>\n",
       "      <td>NCT04875351</td>\n",
       "      <td>Breast Cancer Index (BCI) Registry ... Inclusi...</td>\n",
       "      <td>NCT04875351</td>\n",
       "    </tr>\n",
       "    <tr>\n",
       "      <th>1</th>\n",
       "      <td>ERBB2</td>\n",
       "      <td>negative</td>\n",
       "      <td>meddra</td>\n",
       "      <td>10006187</td>\n",
       "      <td>Breast cancer</td>\n",
       "      <td>Inclusion Criteria &amp; Condition</td>\n",
       "      <td>NCT04875351</td>\n",
       "      <td>Breast Cancer... Inclusion Criteria: - Early s...</td>\n",
       "      <td>NCT04875351</td>\n",
       "    </tr>\n",
       "    <tr>\n",
       "      <th>2</th>\n",
       "      <td>ERBB2</td>\n",
       "      <td>negative</td>\n",
       "      <td>nlm_plus</td>\n",
       "      <td>D001943</td>\n",
       "      <td>Breast Neoplasms</td>\n",
       "      <td>Inclusion Criteria &amp; Brief Title</td>\n",
       "      <td>NCT04875351</td>\n",
       "      <td>Breast Cancer Index (BCI) Registry ... Inclusi...</td>\n",
       "      <td>NCT04875351</td>\n",
       "    </tr>\n",
       "    <tr>\n",
       "      <th>3</th>\n",
       "      <td>ERBB2</td>\n",
       "      <td>negative</td>\n",
       "      <td>nlm_plus</td>\n",
       "      <td>D001943</td>\n",
       "      <td>Breast Neoplasms</td>\n",
       "      <td>Inclusion Criteria &amp; Condition</td>\n",
       "      <td>NCT04875351</td>\n",
       "      <td>Breast Cancer... Inclusion Criteria: - Early s...</td>\n",
       "      <td>NCT04875351</td>\n",
       "    </tr>\n",
       "    <tr>\n",
       "      <th>4</th>\n",
       "      <td>ERBB2</td>\n",
       "      <td>positive</td>\n",
       "      <td>meddra</td>\n",
       "      <td>10006187</td>\n",
       "      <td>Breast cancer</td>\n",
       "      <td>Inclusion Criteria &amp; Brief Title</td>\n",
       "      <td>NCT04875351</td>\n",
       "      <td>Breast Cancer Index (BCI) Registry ... Inclusi...</td>\n",
       "      <td>NCT04875351</td>\n",
       "    </tr>\n",
       "    <tr>\n",
       "      <th>5</th>\n",
       "      <td>ERBB2</td>\n",
       "      <td>positive</td>\n",
       "      <td>meddra</td>\n",
       "      <td>10006187</td>\n",
       "      <td>Breast cancer</td>\n",
       "      <td>Inclusion Criteria &amp; Condition</td>\n",
       "      <td>NCT04875351</td>\n",
       "      <td>Breast Cancer... Inclusion Criteria: - Early s...</td>\n",
       "      <td>NCT04875351</td>\n",
       "    </tr>\n",
       "    <tr>\n",
       "      <th>6</th>\n",
       "      <td>ERBB2</td>\n",
       "      <td>positive</td>\n",
       "      <td>nlm_plus</td>\n",
       "      <td>D001943</td>\n",
       "      <td>Breast Neoplasms</td>\n",
       "      <td>Inclusion Criteria &amp; Brief Title</td>\n",
       "      <td>NCT04875351</td>\n",
       "      <td>Breast Cancer Index (BCI) Registry ... Inclusi...</td>\n",
       "      <td>NCT04875351</td>\n",
       "    </tr>\n",
       "    <tr>\n",
       "      <th>7</th>\n",
       "      <td>ERBB2</td>\n",
       "      <td>positive</td>\n",
       "      <td>nlm_plus</td>\n",
       "      <td>D001943</td>\n",
       "      <td>Breast Neoplasms</td>\n",
       "      <td>Inclusion Criteria &amp; Condition</td>\n",
       "      <td>NCT04875351</td>\n",
       "      <td>Breast Cancer... Inclusion Criteria: - Early s...</td>\n",
       "      <td>NCT04875351</td>\n",
       "    </tr>\n",
       "    <tr>\n",
       "      <th>8</th>\n",
       "      <td>ESR1</td>\n",
       "      <td>positive</td>\n",
       "      <td>meddra</td>\n",
       "      <td>10006187</td>\n",
       "      <td>Breast cancer</td>\n",
       "      <td>Inclusion Criteria &amp; Brief Title</td>\n",
       "      <td>NCT04875351</td>\n",
       "      <td>Breast Cancer Index (BCI) Registry ... Inclusi...</td>\n",
       "      <td>NCT04875351</td>\n",
       "    </tr>\n",
       "    <tr>\n",
       "      <th>9</th>\n",
       "      <td>ESR1</td>\n",
       "      <td>positive</td>\n",
       "      <td>meddra</td>\n",
       "      <td>10006187</td>\n",
       "      <td>Breast cancer</td>\n",
       "      <td>Inclusion Criteria &amp; Brief Title</td>\n",
       "      <td>NCT04875351</td>\n",
       "      <td>Breast Cancer Index (BCI) Registry ... Inclusi...</td>\n",
       "      <td>NCT04875351</td>\n",
       "    </tr>\n",
       "  </tbody>\n",
       "</table>\n",
       "</div>"
      ],
      "text/plain": [
       "  Biomarker  Relation [SID] Diseases and Disorders [NID] Diseases and Disorders [PT] Diseases and Disorders                           Section        NCTID                                               text       Doc Id\n",
       "0     ERBB2  negative                       meddra                     10006187               Breast cancer  Inclusion Criteria & Brief Title  NCT04875351  Breast Cancer Index (BCI) Registry ... Inclusi...  NCT04875351\n",
       "1     ERBB2  negative                       meddra                     10006187               Breast cancer    Inclusion Criteria & Condition  NCT04875351  Breast Cancer... Inclusion Criteria: - Early s...  NCT04875351\n",
       "2     ERBB2  negative                     nlm_plus                      D001943            Breast Neoplasms  Inclusion Criteria & Brief Title  NCT04875351  Breast Cancer Index (BCI) Registry ... Inclusi...  NCT04875351\n",
       "3     ERBB2  negative                     nlm_plus                      D001943            Breast Neoplasms    Inclusion Criteria & Condition  NCT04875351  Breast Cancer... Inclusion Criteria: - Early s...  NCT04875351\n",
       "4     ERBB2  positive                       meddra                     10006187               Breast cancer  Inclusion Criteria & Brief Title  NCT04875351  Breast Cancer Index (BCI) Registry ... Inclusi...  NCT04875351\n",
       "5     ERBB2  positive                       meddra                     10006187               Breast cancer    Inclusion Criteria & Condition  NCT04875351  Breast Cancer... Inclusion Criteria: - Early s...  NCT04875351\n",
       "6     ERBB2  positive                     nlm_plus                      D001943            Breast Neoplasms  Inclusion Criteria & Brief Title  NCT04875351  Breast Cancer Index (BCI) Registry ... Inclusi...  NCT04875351\n",
       "7     ERBB2  positive                     nlm_plus                      D001943            Breast Neoplasms    Inclusion Criteria & Condition  NCT04875351  Breast Cancer... Inclusion Criteria: - Early s...  NCT04875351\n",
       "8      ESR1  positive                       meddra                     10006187               Breast cancer  Inclusion Criteria & Brief Title  NCT04875351  Breast Cancer Index (BCI) Registry ... Inclusi...  NCT04875351\n",
       "9      ESR1  positive                       meddra                     10006187               Breast cancer  Inclusion Criteria & Brief Title  NCT04875351  Breast Cancer Index (BCI) Registry ... Inclusi...  NCT04875351"
      ]
     },
     "execution_count": 17,
     "metadata": {},
     "output_type": "execute_result"
    }
   ],
   "source": [
    "import pandas as pd\n",
    "\n",
    "# initiate an empty dataframe\n",
    "df = pd.DataFrame()\n",
    "pd.set_option(\"display.max_rows\", None, \"display.max_columns\", None, \"display.width\", 1000)\n",
    "\n",
    "# Retrieve main results from the JSON response, please note this cell would fail if the request failed in the last step\n",
    "for inner_results in results_json:\n",
    "    for result_dict in inner_results['results']:\n",
    "        df_dict = {}\n",
    "        for key, value_dict in result_dict.items():                                                                                                                                                                                                                                                                                                                           \n",
    "            df_dict[key] = value_dict['value']                                                                                                                                                                                                                                                                                                                                \n",
    "        df_dict['Doc Id'] = inner_results['doc_id']                                                                                                                                                                                                                                                                                                                           \n",
    "        df = pd.concat([df, pd.DataFrame.from_records([{**df_dict}])], ignore_index=True)                                                                                                                                                                                                                                                                                     \n",
    "\n",
    "# Print the DataFrame                                                                                                                                                                                                                                                                                                                                                         \n",
    "df"
   ]
  },
  {
   "cell_type": "markdown",
   "id": "a5ba6687",
   "metadata": {},
   "source": [
    "### Optional: Make a request to ClinicalTrials.gov API to get NCTIDs associated with a specific disease\n",
    "\n",
    "Search URL for the ClincialTrials.gov API that allows user to search for the NCTId's of 10 documents. Search can be customized by modifying the study_fields expr value. In this example, the search will return 10 NCTIds of clinical trials about Breast Cancer."
   ]
  },
  {
   "cell_type": "code",
   "execution_count": 4,
   "id": "c6e5876a",
   "metadata": {
    "pycharm": {
     "name": "#%%\n"
    }
   },
   "outputs": [
    {
     "name": "stdout",
     "output_type": "stream",
     "text": [
      "['NCT04875351', 'NCT03180086', 'NCT03662633', 'NCT02493569', 'NCT03598660', 'NCT04167605', 'NCT04516330', 'NCT04495244', 'NCT03343691', 'NCT05082740']\n"
     ]
    }
   ],
   "source": [
    "import json\n",
    "\n",
    "# Search URL for the ClincialTrials.gov API that allows user to search for the NCTId's of 10 documents\n",
    "# Search can be customized by modifying the study_fields expr value\n",
    "# This search will return 10 NCTIds of clinical trials about Breast Cancer\n",
    "url = \"https://clinicaltrials.gov/api/query/study_fields?expr=Breast+Cancer&fields=NCTId&min_rnk=1&max_rnk=10&fmt=json\"\n",
    "response = requests.get(url)\n",
    "\n",
    "# Read in the JSON from the ClinicalTrials.gov API request\n",
    "j = json.loads(response.text)\n",
    "\n",
    "# initialize list for storing the NCTId's we will submit to endpoint\n",
    "nctids = []\n",
    "\n",
    "# Pull out the NCTId's for each document returned by the ClinicalTrials.gov and add to the list\n",
    "for item in j['StudyFieldsResponse']['StudyFields']:\n",
    "    nctids.append(item['NCTId'][0])\n",
    "\n",
    "print(nctids)"
   ]
  },
  {
   "cell_type": "markdown",
   "id": "d95cfe9e",
   "metadata": {},
   "source": [
    "That's it! Hope you find this tutorial useful! Bye!"
   ]
  },
  {
   "cell_type": "code",
   "execution_count": null,
   "id": "0362076e",
   "metadata": {
    "pycharm": {
     "name": "#%%"
    }
   },
   "outputs": [],
   "source": []
  }
 ],
 "metadata": {
  "kernelspec": {
   "display_name": "Python 3 (ipykernel)",
   "language": "python",
   "name": "python3"
  },
  "language_info": {
   "codemirror_mode": {
    "name": "ipython",
    "version": 3
   },
   "file_extension": ".py",
   "mimetype": "text/x-python",
   "name": "python",
   "nbconvert_exporter": "python",
   "pygments_lexer": "ipython3",
   "version": "3.8.10"
  }
 },
 "nbformat": 4,
 "nbformat_minor": 5
}
