{
 "cells": [
  {
   "cell_type": "markdown",
   "metadata": {},
   "source": [
    "# IQVIA NLP - Adverse Events Coding (MedDRA)\n",
    "\n",
    "## API Description\n",
    "The unstructured format of biomedical Journals, abstracts in Medline, PMC, CT.gov and FDA make Adverse Event Detection hard to capture.\n",
    "\n",
    "For Data Scientists, MedDRA NLP API solves this problem by offering a fast and accurate automated identification and coding of adverse events from a range of publications in Medline, PMC, CT.gov and TDA into standardized MedDRA concepts.\n",
    "\n",
    "## Accessing the API\n",
    "In order to consume this API, you will first need to Request access to the Adverse Events Coding (MedDRA) API\n",
    "via this link:\n",
    "<LINK PLACEHOLDER> .\n",
    "\n",
    "Please refer to \"API Documentation\" to learn more about accessing and using the API.\n",
    "\n",
    "## Notebook Description\n",
    "This notebook is designed to extract adverse events and associated MedDRA codes from MEDLINE, PMC, FDA Drug Labels and/or Clinical Trials. Users could specify records of interest by supplying document identifiers in the 'docIds' parameter when posting the request.\n",
    "\n",
    "### Authorization\n",
    "The instructions for getting your credentials and the API endpoint URL can be found under the section \"Get Started\" and \"How to use the API\" following this link: <LINK PLACEHOLDER> ."
   ]
  },
  {
   "cell_type": "code",
   "execution_count": 4,
   "metadata": {
    "pycharm": {
     "name": "#%%\n"
    }
   },
   "outputs": [
    {
     "name": "stdout",
     "output_type": "stream",
     "text": [
      "Marketplace clientId: e936390e2dc340fcbeebf29e8f8b14e4\n",
      "Marketplace clientSecret: ········\n",
      "Thanks for inputting your user name and password!\n"
     ]
    }
   ],
   "source": [
    "import getpass\n",
    "\n",
    "# In this demo scenario, URL for EU based customers\n",
    "api_base_url = 'https://vt.eu-apim-devtest.solutions.iqvia.com/eu/fetch-meddra/api/v1/meddra/'\n",
    "\n",
    "mkp_user = input(\"Marketplace clientId: \")\n",
    "mkp_password = getpass.getpass(\"Marketplace clientSecret: \")\n",
    "mkp_headers = {'clientId': mkp_user, 'clientSecret': mkp_password}\n",
    "\n",
    "print(\"Thanks for inputting your user name and password!\")"
   ]
  },
  {
   "cell_type": "markdown",
   "metadata": {},
   "source": [
    "### Example: Make a request for a list of known documents\n",
    "docid as input parameter. This example shows how to make a request to the API on MEDLINE with a list of PMIDs."
   ]
  },
  {
   "cell_type": "markdown",
   "metadata": {
    "pycharm": {
     "name": "#%% md\n"
    }
   },
   "source": [
    "Choose the data source of your interest. Choices for data source are MEDLINE, PMC, FDA Drug Labels, and Clinical Trials. In this case, we choose MEDLINE as an example by typing \"a\" to the prompt."
   ]
  },
  {
   "cell_type": "code",
   "execution_count": 5,
   "metadata": {
    "pycharm": {
     "name": "#%%\n"
    }
   },
   "outputs": [
    {
     "name": "stdout",
     "output_type": "stream",
     "text": [
      "Please choose the alphabetic id for the source data of your interest:\n",
      "a: MEDLINE\n",
      "b: PMC\n",
      "c: FDA Drug Labels\n",
      "d: Clinical Trials\n",
      "Source ID:a\n",
      "URL for the endpoint you choose is https://vt.eu-apim-devtest.solutions.iqvia.com/eu/fetch-meddra/api/v1/meddra/medline.\n"
     ]
    }
   ],
   "source": [
    "# Define source data\n",
    "source_dict = {\"a\": \"medline\", \"b\": \"pmc\", \"c\": \"fdadruglabels\", \"d\": \"clinicaltrials\"}\n",
    "source_selected = input(\"Please choose the alphabetic id for the source data of your interest:\\n\"\n",
    "      \"a: MEDLINE\\nb: PMC\\nc: FDA Drug Labels\\nd: Clinical Trials\\nSource ID:\")\n",
    "\n",
    "api_endpoint_url = api_base_url + source_dict[source_selected]\n",
    "print(f\"URL for the endpoint you choose is {api_endpoint_url}.\")"
   ]
  },
  {
   "cell_type": "markdown",
   "metadata": {
    "pycharm": {
     "name": "#%% md\n"
    }
   },
   "source": [
    "Make a GET request to the URL to fetch MedDRA coded adverse events from documents corresponding to the user specified PMIDs.\n",
    "\n",
    "Please note that PMIDs are expected docIds only for MEDLINE endpoint. For PMC endpoint, it is expected to be the PubMed Central ID number, which is 'PMC' followed by 6-9 digits, multiple PMCIDs can be specified per request. For FDA Drug Labels, the docIds expected are DailyMed Set ID, and multiple Set IDs can be specified per request; for Clinical Trials, it is the ClinicalTrials.gov registry number expected, which is 'NCT' followed by 8 digits, and multiple NCTIDs can be specified per request."
   ]
  },
  {
   "cell_type": "code",
   "execution_count": null,
   "metadata": {
    "pycharm": {
     "name": "#%%\n"
    }
   },
   "outputs": [
    {
     "name": "stdout",
     "output_type": "stream",
     "text": [
      "Posting request to extract adverse events and associated MedDRA codes from specified documents...\n",
      "Processing ['33302693', '33302276', '33302636']...\n"
     ]
    }
   ],
   "source": [
    "import requests\n",
    "\n",
    "# Define input IDs\n",
    "docids = ['33302693', '33302276', '33302636']\n",
    "\n",
    "# Make a request\n",
    "print(\"Posting request to extract adverse events and associated MedDRA codes from specified documents...\")\n",
    "\n",
    "\n",
    "print(f\"Processing {docids}...\")\n",
    "response = requests.get(api_endpoint_url, headers=mkp_headers, params={'docIds': docids, \"rowLimit\": 20})\n",
    "# Check the response\n",
    "if response.status_code == 200:\n",
    "    print(\"Success!\")\n",
    "    results_json = response.json()\n",
    "else:\n",
    "    raise Exception(f\"Error: {response}\")\n",
    "\n",
    "print(results_json)"
   ]
  },
  {
   "cell_type": "markdown",
   "metadata": {},
   "source": [
    "Now that we have got the JSON responses from the Adverse Events Coding API, we could convert the useful information associated with the keys into a pandas dataframe."
   ]
  },
  {
   "cell_type": "code",
   "execution_count": 16,
   "metadata": {
    "pycharm": {
     "name": "#%%\n"
    }
   },
   "outputs": [
    {
     "data": {
      "text/html": [
       "<div>\n",
       "<style scoped>\n",
       "    .dataframe tbody tr th:only-of-type {\n",
       "        vertical-align: middle;\n",
       "    }\n",
       "\n",
       "    .dataframe tbody tr th {\n",
       "        vertical-align: top;\n",
       "    }\n",
       "\n",
       "    .dataframe thead th {\n",
       "        text-align: right;\n",
       "    }\n",
       "</style>\n",
       "<table border=\"1\" class=\"dataframe\">\n",
       "  <thead>\n",
       "    <tr style=\"text-align: right;\">\n",
       "      <th></th>\n",
       "      <th>Certainty</th>\n",
       "      <th>[PT] MedDRA PT</th>\n",
       "      <th>[NID] MedDRA PT</th>\n",
       "      <th>Flag</th>\n",
       "      <th>Section</th>\n",
       "      <th>text</th>\n",
       "      <th>Doc Id</th>\n",
       "    </tr>\n",
       "  </thead>\n",
       "  <tbody>\n",
       "    <tr>\n",
       "      <th>0</th>\n",
       "      <td></td>\n",
       "      <td>Myocardial infarction</td>\n",
       "      <td>10028596</td>\n",
       "      <td>Indication</td>\n",
       "      <td>Standard Abstract</td>\n",
       "      <td>The Impella device is used routinely during co...</td>\n",
       "      <td>33302693</td>\n",
       "    </tr>\n",
       "    <tr>\n",
       "      <th>1</th>\n",
       "      <td></td>\n",
       "      <td>Oxidative stress</td>\n",
       "      <td>10080562</td>\n",
       "      <td></td>\n",
       "      <td>Standard Abstract</td>\n",
       "      <td>BACKGROUND Oxidative stress is one of the poss...</td>\n",
       "      <td>33302636</td>\n",
       "    </tr>\n",
       "  </tbody>\n",
       "</table>\n",
       "</div>"
      ],
      "text/plain": [
       "  Certainty         [PT] MedDRA PT [NID] MedDRA PT        Flag            Section                                               text    Doc Id\n",
       "0            Myocardial infarction        10028596  Indication  Standard Abstract  The Impella device is used routinely during co...  33302693\n",
       "1                 Oxidative stress        10080562              Standard Abstract  BACKGROUND Oxidative stress is one of the poss...  33302636"
      ]
     },
     "execution_count": 16,
     "metadata": {},
     "output_type": "execute_result"
    }
   ],
   "source": [
    "import pandas as pd\n",
    "\n",
    "# initiate an empty dataframe\n",
    "df = pd.DataFrame()\n",
    "pd.set_option(\"display.max_rows\", None, \"display.max_columns\", None, \"display.width\", 1000)\n",
    "\n",
    "# Retrieve main results from the JSON response, please note this cell would fail if the request failed in the last step\n",
    "for results in results_json:\n",
    "    df_dict = {}\n",
    "    for result_dict in results[\"results\"]:\n",
    "        for key, value_dict in result_dict.items():\n",
    "            df_dict[key] = value_dict['value']\n",
    "    df_dict[\"Doc Id\"] = results[\"doc_id\"]\n",
    "    df = pd.concat([df, pd.DataFrame.from_records([{**df_dict}])], ignore_index=True)\n",
    "\n",
    "# Check the dataframe\n",
    "df"
   ]
  },
  {
   "cell_type": "markdown",
   "metadata": {},
   "source": [
    "That's it! Hope you find this tutorial useful! Bye!"
   ]
  },
  {
   "cell_type": "code",
   "execution_count": null,
   "metadata": {
    "pycharm": {
     "name": "#%%\n"
    }
   },
   "outputs": [],
   "source": []
  }
 ],
 "metadata": {
  "kernelspec": {
   "display_name": "Python 3 (ipykernel)",
   "language": "python",
   "name": "python3"
  },
  "language_info": {
   "codemirror_mode": {
    "name": "ipython",
    "version": 3
   },
   "file_extension": ".py",
   "mimetype": "text/x-python",
   "name": "python",
   "nbconvert_exporter": "python",
   "pygments_lexer": "ipython3",
   "version": "3.8.10"
  }
 },
 "nbformat": 4,
 "nbformat_minor": 1
}