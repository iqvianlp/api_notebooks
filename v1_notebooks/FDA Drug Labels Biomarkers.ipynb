{
 "cells": [
  {
   "cell_type": "markdown",
   "id": "d995c525",
   "metadata": {},
   "source": [
    "# IQVIA NLP - FDA Drug Label Biomarkers\n",
    "\n",
    "## API Description\n",
    "Understanding biomarkers for drug efficacy or disease progression is critical in clinical development. Relevant data is often in unstructured text, such as clinical trial records, and drug labels.   For Data Scientists, the FDA Drug Label Biomarkers API solves this problem by offering an API that extracts gene/protein biomarkers from specific regions of FDA Drug labels (Indications and Usages section). Biomarker-disease relationships are provided (e.g.positive, negative); diseases are mapped to MedDRA, and mechanism of action data are also extracted.\n",
    "\n",
    "## Accessing the API\n",
    "In order to consume this API, you will first need to Request access to the FDA Drug Label Biomarkers API \n",
    "via this link:\n",
    "https://api-marketplace.work.iqvia.com/s/communityapi/a085w00000ytJqMAAU/api-marketplaceiqvianlpfdadruglabelbiomarkerspreview .\n",
    "\n",
    "Please refer to \"API Documentation\" to learn more about accessing and using the API.\n",
    "\n",
    "## Notebook Description\n",
    "This notebook is designed to biomarkers and their related diseases from from openFDA drug product labeling records. Users could specify records of interest by supplying FDA Drug Label document identifiers in the 'FDAID' parameter when posting the request.\n",
    "\n",
    "### Authorization\n",
    "The instructions for getting your credentials and the API endpoint URL can be found under the section \"Get Started\" and \"How to use the API\" following this link: https://api-marketplace.work.iqvia.com/s/communityapi/a085w00000ytJqMAAU/api-marketplaceiqvianlpfdadruglabelbiomarkerspreview ."
   ]
  },
  {
   "cell_type": "code",
   "execution_count": 5,
   "id": "6043edcd",
   "metadata": {
    "pycharm": {
     "name": "#%%\n"
    }
   },
   "outputs": [
    {
     "name": "stdout",
     "output_type": "stream",
     "text": [
      "Marketplace clientId: 77922ba7e417474a959a705fee4f272f\n",
      "Marketplace clientSecret: ········\n",
      "Thanks for inputting your user name and password!\n"
     ]
    }
   ],
   "source": [
    "import getpass\n",
    "import requests\n",
    "\n",
    "# In this demo scenario, URL for US based customers\n",
    "# api_marketplace_url = 'https://vt.us-rds.solutions.iqvia.com/fda/api/v1/biomarkers'\n",
    "# In this demo scenario, URL for EU based customers\n",
    "api_marketplace_url = 'https://vt.eu-apim.solutions.iqvia.com/eu/fda/api/v1/biomarkers'\n",
    "\n",
    "mkp_user = input(\"Marketplace clientId: \")\n",
    "mkp_password = getpass.getpass(\"Marketplace clientSecret: \")\n",
    "mkp_headers = {'clientId': mkp_user, 'clientSecret': mkp_password}\n",
    "\n",
    "print(\"Thanks for inputting your user name and password!\")"
   ]
  },
  {
   "cell_type": "markdown",
   "id": "ad2293f4",
   "metadata": {},
   "source": [
    "### Example: Make a request for a list of known FDA Drug Label documents\n",
    "FDA Drug Label Biomarker NLP API expects openFDA application number (FDAID) as input parameter. This example shows how to make a request to the API with a list of FDAIDs.\n"
   ]
  },
  {
   "cell_type": "code",
   "execution_count": 6,
   "id": "9cfca417",
   "metadata": {
    "pycharm": {
     "name": "#%%\n"
    }
   },
   "outputs": [
    {
     "name": "stdout",
     "output_type": "stream",
     "text": [
      "Posting request to extract biomarkers and related diseases from specified CT.gov documents...\n",
      "Success!\n",
      "[{'doc_id': 'cdb2c4b4-a20a-3f8f-e053-2a95a90aaf72', 'results': [{'Biomarker': {'logical_column_id': 0, 'value': 'CYP3A4', 'indexed_spans_outer': [[69637, 69644]], 'indexed_spans_inner': [[69637, 69644]], 'text_spans_outer': [[71, 78]], 'text_spans_inner': [[71, 78]]}, 'Relation': {'logical_column_id': 1, 'value': 'inducer', 'indexed_spans_outer': [[69645, 69653]], 'indexed_spans_inner': [[69645, 69653]], 'text_spans_outer': [[79, 87]], 'text_spans_inner': [[79, 87]]}, '[SID] Diseases and Disorder': {'logical_column_id': 2, 'value': 'meddra', 'indexed_spans_outer': [[28552, 28558]], 'indexed_spans_inner': [[28552, 28558]], 'text_spans_outer': [[18, 24]], 'text_spans_inner': [[18, 24]]}, '[NID] Diseases and Disorder': {'logical_column_id': 2, 'value': '10028997'}, '[PT] Diseases and Disorder': {'logical_column_id': 2, 'value': 'Neoplasm malignant'}, 'Section': {'logical_column_id': 3, 'value': 'Clinical Pharmacology & Indications & Usage'}, 'FDAID': {'logical_column_id': 4, 'value': 'ANDA076183'}, 'Label Revision Date': {'logical_column_id': 5, 'value': '20211006'}, 'text': {'value': 'highly emetogenic cancer chemotherapy, including cisplatin greater ... CYP 3A4 Inducers: Ondansetron elimination may be ...'}}, {'Biomarker': {'logical_column_id': 0, 'value': 'CYP3A4', 'indexed_spans_outer': [[69637, 69644]], 'indexed_spans_inner': [[69637, 69644]], 'text_spans_outer': [[69, 76]], 'text_spans_inner': [[69, 76]]}, 'Relation': {'logical_column_id': 1, 'value': 'inducer', 'indexed_spans_outer': [[69645, 69653]], 'indexed_spans_inner': [[69645, 69653]], 'text_spans_outer': [[77, 85]], 'text_spans_inner': [[77, 85]]}, '[SID] Diseases and Disorder': {'logical_column_id': 2, 'value': 'meddra', 'indexed_spans_outer': [[28755, 28761]], 'indexed_spans_inner': [[28755, 28761]], 'text_spans_outer': [[44, 50]], 'text_spans_inner': [[44, 50]]}, '[NID] Diseases and Disorder': {'logical_column_id': 2, 'value': '10028997'}, '[PT] Diseases and Disorder': {'logical_column_id': 2, 'value': 'Neoplasm malignant'}, 'Section': {'logical_column_id': 3, 'value': 'Clinical Pharmacology & Indications & Usage'}, 'FDAID': {'logical_column_id': 4, 'value': 'ANDA076183'}, 'Label Revision Date': {'logical_column_id': 5, 'value': '20211006'}, 'text': {'value': '... repeat courses of moderately emetogenic cancer chemotherapy. ... CYP 3A4 Inducers: Ondansetron elimination may be ...'}}, {'Biomarker': {'logical_column_id': 0, 'value': 'CYP3A4', 'indexed_spans_outer': [[69803, 69809]], 'indexed_spans_inner': [[69803, 69809]], 'text_spans_outer': [[116, 122]], 'text_spans_inner': [[116, 122]]}, 'Relation': {'logical_column_id': 1, 'value': 'inducer', 'indexed_spans_outer': [[69810, 69818]], 'indexed_spans_inner': [[69810, 69818]], 'text_spans_outer': [[123, 131]], 'text_spans_inner': [[123, 131]]}, '[SID] Diseases and Disorder': {'logical_column_id': 2, 'value': 'meddra', 'indexed_spans_outer': [[28552, 28558]], 'indexed_spans_inner': [[28552, 28558]], 'text_spans_outer': [[18, 24]], 'text_spans_inner': [[18, 24]]}, '[NID] Diseases and Disorder': {'logical_column_id': 2, 'value': '10028997'}, '[PT] Diseases and Disorder': {'logical_column_id': 2, 'value': 'Neoplasm malignant'}, 'Section': {'logical_column_id': 3, 'value': 'Clinical Pharmacology & Indications & Usage'}, 'FDAID': {'logical_column_id': 4, 'value': 'ANDA076183'}, 'Label Revision Date': {'logical_column_id': 5, 'value': '20211006'}, 'text': {'value': 'highly emetogenic cancer chemotherapy, including cisplatin greater ... epileptic patients maintained chronically on CYP3A4 inducers, carbamazepine, or phenytoin...'}}, {'Biomarker': {'logical_column_id': 0, 'value': 'CYP3A4', 'indexed_spans_outer': [[69803, 69809]], 'indexed_spans_inner': [[69803, 69809]], 'text_spans_outer': [[114, 120]], 'text_spans_inner': [[114, 120]]}, 'Relation': {'logical_column_id': 1, 'value': 'inducer', 'indexed_spans_outer': [[69810, 69818]], 'indexed_spans_inner': [[69810, 69818]], 'text_spans_outer': [[121, 129]], 'text_spans_inner': [[121, 129]]}, '[SID] Diseases and Disorder': {'logical_column_id': 2, 'value': 'meddra', 'indexed_spans_outer': [[28755, 28761]], 'indexed_spans_inner': [[28755, 28761]], 'text_spans_outer': [[44, 50]], 'text_spans_inner': [[44, 50]]}, '[NID] Diseases and Disorder': {'logical_column_id': 2, 'value': '10028997'}, '[PT] Diseases and Disorder': {'logical_column_id': 2, 'value': 'Neoplasm malignant'}, 'Section': {'logical_column_id': 3, 'value': 'Clinical Pharmacology & Indications & Usage'}, 'FDAID': {'logical_column_id': 4, 'value': 'ANDA076183'}, 'Label Revision Date': {'logical_column_id': 5, 'value': '20211006'}, 'text': {'value': '... repeat courses of moderately emetogenic cancer chemotherapy. ... epileptic patients maintained chronically on CYP3A4 inducers, carbamazepine, or phenytoin...'}}, {'Biomarker': {'logical_column_id': 0, 'value': 'CYP3A4', 'indexed_spans_outer': [[48478, 48484]], 'indexed_spans_inner': [[48478, 48484]], 'text_spans_outer': [[115, 121]], 'text_spans_inner': [[115, 121]]}, 'Relation': {'logical_column_id': 1, 'value': 'inducer', 'indexed_spans_outer': [[48466, 48474]], 'indexed_spans_inner': [[48466, 48474]], 'text_spans_outer': [[103, 111]], 'text_spans_inner': [[103, 111]]}, '[SID] Diseases and Disorder': {'logical_column_id': 2, 'value': 'meddra', 'indexed_spans_outer': [[28552, 28558]], 'indexed_spans_inner': [[28552, 28558]], 'text_spans_outer': [[18, 24]], 'text_spans_inner': [[18, 24]]}, '[NID] Diseases and Disorder': {'logical_column_id': 2, 'value': '10028997'}, '[PT] Diseases and Disorder': {'logical_column_id': 2, 'value': 'Neoplasm malignant'}, 'Section': {'logical_column_id': 3, 'value': 'Drug Interaction & Indications & Usage'}, 'FDAID': {'logical_column_id': 4, 'value': 'ANDA076183'}, 'Label Revision Date': {'logical_column_id': 5, 'value': '20211006'}, 'text': {'value': 'highly emetogenic cancer chemotherapy, including cisplatin greater ... In patients treated with potent inducers of CYP3A4 (i.e., phenytoin, ...'}}]}]\n"
     ]
    }
   ],
   "source": [
    "import requests\n",
    "\n",
    "# Define input FDAIDs\n",
    "input_fdaids = ['NDA204114', 'ANDA076183']\n",
    "\n",
    "# Make a request\n",
    "print(\"Posting request to extract biomarkers and related diseases from specified CT.gov documents...\")\n",
    "\n",
    "response = requests.get(api_marketplace_url, headers=mkp_headers, params={'FDAID': input_fdaids, 'rowLimit': 5})\n",
    "# Check the response\n",
    "if response.status_code == 200:\n",
    "    print(\"Success!\")\n",
    "    results_json = response.json()\n",
    "else:\n",
    "    raise Exception(f\"Error: {response}\")\n",
    "\n",
    "print(results_json)"
   ]
  },
  {
   "cell_type": "markdown",
   "id": "cbba2236",
   "metadata": {},
   "source": [
    "Now that we have got the JSON responses from the FDA Drug Label Biomarker API, we could convert the useful information associated with the keys into a pandas dataframe."
   ]
  },
  {
   "cell_type": "code",
   "execution_count": 7,
   "id": "1810155f",
   "metadata": {
    "pycharm": {
     "name": "#%%\n"
    }
   },
   "outputs": [
    {
     "data": {
      "text/html": [
       "<div>\n",
       "<style scoped>\n",
       "    .dataframe tbody tr th:only-of-type {\n",
       "        vertical-align: middle;\n",
       "    }\n",
       "\n",
       "    .dataframe tbody tr th {\n",
       "        vertical-align: top;\n",
       "    }\n",
       "\n",
       "    .dataframe thead th {\n",
       "        text-align: right;\n",
       "    }\n",
       "</style>\n",
       "<table border=\"1\" class=\"dataframe\">\n",
       "  <thead>\n",
       "    <tr style=\"text-align: right;\">\n",
       "      <th></th>\n",
       "      <th>doc_id</th>\n",
       "      <th>results</th>\n",
       "    </tr>\n",
       "  </thead>\n",
       "  <tbody>\n",
       "    <tr>\n",
       "      <th>0</th>\n",
       "      <td>cdb2c4b4-a20a-3f8f-e053-2a95a90aaf72</td>\n",
       "      <td>[{'Biomarker': {'logical_column_id': 0, 'value...</td>\n",
       "    </tr>\n",
       "  </tbody>\n",
       "</table>\n",
       "</div>"
      ],
      "text/plain": [
       "                                 doc_id                                            results\n",
       "0  cdb2c4b4-a20a-3f8f-e053-2a95a90aaf72  [{'Biomarker': {'logical_column_id': 0, 'value..."
      ]
     },
     "execution_count": 7,
     "metadata": {},
     "output_type": "execute_result"
    }
   ],
   "source": [
    "import pandas as pd\n",
    "\n",
    "# initiate an empty dataframe\n",
    "df = pd.DataFrame()\n",
    "pd.set_option(\"display.max_rows\", None, \"display.max_columns\", None, \"display.width\", 1000)\n",
    "\n",
    "# Retrieve main results from the JSON response, please note this cell would fail if the request failed in the last step\n",
    "for results in results_json:\n",
    "    df_dict = {}\n",
    "    for result_dict in results[\"results\"]:\n",
    "        for key, value_dict in result_dict.items():\n",
    "            df_dict[key] = value_dict['value']\n",
    "    df_dict[\"Doc Id\"] = results[\"doc_id\"]\n",
    "    df = pd.concat([df, pd.DataFrame.from_records([{**df_dict}])], ignore_index=True)\n",
    "\n",
    "# Check the dataframe\n",
    "df"
   ]
  },
  {
   "cell_type": "markdown",
   "id": "264856f7",
   "metadata": {},
   "source": [
    "### Optional: Make a request to openFDA drug product labeling API to get FDAIDs associated with a specific criteria\n",
    "\n",
    "Search URL for the openFDA drug product labeling API that allows user to search for the FDAId's of 10 documents. Search can be customized by modifying the search parameters. In this example, the search will return 10 FDAIds of FDA Drug Labels about prescription drugs with indications and usage for cancer.\n"
   ]
  },
  {
   "cell_type": "code",
   "execution_count": 4,
   "id": "c6aaf6df",
   "metadata": {},
   "outputs": [
    {
     "name": "stdout",
     "output_type": "stream",
     "text": [
      "No openFDA application number found for response results id: ae413477-0e46-4763-8005-091f81dd6070\n",
      "['NDA204114', 'ANDA076183', 'ANDA075798', 'ANDA040584', 'NDA050629', 'ANDA204345', 'ANDA212399', 'NDA021116', 'BLA761310']\n"
     ]
    }
   ],
   "source": [
    "import json\n",
    "\n",
    "# Search URL for the openFDA drug product labeling API\n",
    "# Search can be customized by modifying the search parameters in the URL\n",
    "\n",
    "url = \"https://api.fda.gov/drug/label.json?search=openfda.product_type:prescription+AND+indications_and_usage:'cancer'&limit=10\"\n",
    "\n",
    "# load in JSON reponse from the openFDA API\n",
    "response = requests.get(url)\n",
    "body = json.loads(response.text)\n",
    "\n",
    "# initialize list for FDAID\n",
    "fdaids = []\n",
    "\n",
    "# find the openfda application number in response (if exists) and add to FDAID list\n",
    "for i in body['results']:\n",
    "    try:\n",
    "        #extract the document id (ANDA, ANADA, BA, BLA, BN, BP, DMF,K, MIF, NDA, NADA, P or VM)\n",
    "        x = i[\"openfda\"]\n",
    "        fdaids.append(x['application_number'][0])\n",
    "    except KeyError:\n",
    "        print(f\"No openFDA application number found for response results id: {i['id']}\")\n",
    "        continue\n",
    "\n",
    "print(fdaids)"
   ]
  },
  {
   "cell_type": "markdown",
   "id": "c2b66d4b",
   "metadata": {},
   "source": [
    "That's it! Hope you find this tutorial useful! Bye!"
   ]
  },
  {
   "cell_type": "code",
   "execution_count": null,
   "id": "9b5a2363",
   "metadata": {},
   "outputs": [],
   "source": []
  }
 ],
 "metadata": {
  "kernelspec": {
   "display_name": "Python 3 (ipykernel)",
   "language": "python",
   "name": "python3"
  },
  "language_info": {
   "codemirror_mode": {
    "name": "ipython",
    "version": 3
   },
   "file_extension": ".py",
   "mimetype": "text/x-python",
   "name": "python",
   "nbconvert_exporter": "python",
   "pygments_lexer": "ipython3",
   "version": "3.8.10"
  }
 },
 "nbformat": 4,
 "nbformat_minor": 5
}