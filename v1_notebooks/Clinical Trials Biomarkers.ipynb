{
 "cells": [
  {
   "cell_type": "markdown",
   "id": "6b2567ab",
   "metadata": {},
   "source": [
    "# IQVIA NLP - Clinical Trials Biomarkers\n",
    "\n",
    "## API Description\n",
    "Understanding biomarkers for drug efficacy or disease progression is critical in clinical development, but relevant data is often in unstructured text, such as clinical trial records, and drug labels.  For Data Scientists, ClinicalTrials.gov Biomarkers solves this problem by offering an NLP API that extracts gene/protein biomarkers from specific regions of ClinicalTrials.gov records (Inclusion & exclusion criteria, primary and secondary outcomes).\n",
    "\n",
    "This simple API quickly identifies gene/disease biomarkers from ClinicalTrials.gov records, for known indications (mapped to MedDRA), from an NCT ID.  Biomarker-disease relationships are provided (e.g. positive, negative); diseases are mapped to MedDRA and mechanism of action data are also extracted.\n",
    "\n",
    "## Accessing the API\n",
    "In order to consume this API, you will first need to Request access to the Clinical Trials Biomarkers API \n",
    "via this link:\n",
    "https://api-marketplace.work.iqvia.com/s/communityapi/a085w00000ytPu7AAE/external-api-marketplaceclinicaltrialsbiomarkers .\n",
    "\n",
    "Please refer to \"API Documentation\" to learn more about accessing and using the API.\n",
    "\n",
    "## Notebook Description\n",
    "This notebook is designed to biomarkers and their related diseases from from ClinicalTrials.gov records. Users could specify records of interest by supplying ClinicalTrials.gov document identifiers in the 'NCTID' parameter when posting the request.\n",
    "\n",
    "### Authorization\n",
    "The instructions for getting your credentials and the API endpoint URL can be found under the section \"Get Started\" and \"How to use the API\" following this link: https://api-marketplace.work.iqvia.com/s/communityapi/a085w00000ytPu7AAE/external-api-marketplaceclinicaltrialsbiomarkers ."
   ]
  },
  {
   "cell_type": "code",
   "execution_count": 1,
   "id": "b35783ef",
   "metadata": {
    "pycharm": {
     "name": "#%%\n"
    }
   },
   "outputs": [
    {
     "name": "stdout",
     "output_type": "stream",
     "text": [
      "Marketplace clientId: ccb8d0c8612748dc955c794d3fc7b166\n",
      "Marketplace clientSecret: ········\n",
      "Thanks for inputting your user name and password!\n"
     ]
    }
   ],
   "source": [
    "import getpass\n",
    "import requests\n",
    "\n",
    "# In this demo scenario, URL for US based customers\n",
    "# api_marketplace_url = 'https://vt.us-rds.solutions.iqvia.com/clinicaltrial/api/v1/biomarkers'\n",
    "# In this demo scenario, URL for EU based customers\n",
    "api_marketplace_url = 'https://vt.eu-apim.solutions.iqvia.com/eu/clinicaltrial/api/v1/biomarkers'\n",
    "\n",
    "mkp_user = input(\"Marketplace clientId: \")\n",
    "mkp_password = getpass.getpass(\"Marketplace clientSecret: \")\n",
    "mkp_headers = {'clientId': mkp_user, 'clientSecret': mkp_password}\n",
    "\n",
    "print(\"Thanks for inputting your user name and password!\")"
   ]
  },
  {
   "cell_type": "markdown",
   "id": "eaa0f4d4",
   "metadata": {},
   "source": [
    "### Example: Make a request for a list of known Clinical Trials documents\n",
    "Clinical Trials Biomarker NLP API expects ClinicalTrials.gov document identifier (NCTID) as input parameter. This example shows how to make a request to the API with a list of NCTIDs.\n"
   ]
  },
  {
   "cell_type": "code",
   "execution_count": 2,
   "id": "a308c317",
   "metadata": {
    "pycharm": {
     "name": "#%%\n"
    }
   },
   "outputs": [
    {
     "name": "stdout",
     "output_type": "stream",
     "text": [
      "Posting request to extract biomarkers and related diseases from specified CT.gov documents...\n",
      "Success!\n",
      "[{'doc_id': 'NCT04875351', 'results': [{'Biomarker': {'logical_column_id': 0, 'value': 'ERBB2', 'indexed_spans_outer': [[15358, 15362]], 'indexed_spans_inner': [[15358, 15362]], 'text_spans_outer': [[213, 217]], 'text_spans_inner': [[213, 217]]}, 'Relation': {'logical_column_id': 1, 'value': 'negative', 'indexed_spans_outer': [[15363, 15371]], 'indexed_spans_inner': [[15363, 15371]], 'text_spans_outer': [[218, 226]], 'text_spans_inner': [[218, 226]]}, '[SID] Diseases and Disorders': {'logical_column_id': 2, 'value': 'meddra', 'indexed_spans_outer': [[3419, 3432]], 'indexed_spans_inner': [[3419, 3432]], 'text_spans_outer': [[0, 13]], 'text_spans_inner': [[0, 13]]}, '[NID] Diseases and Disorders': {'logical_column_id': 2, 'value': '10006187'}, '[PT] Diseases and Disorders': {'logical_column_id': 2, 'value': 'Breast cancer'}, 'Section': {'logical_column_id': 3, 'value': 'Inclusion Criteria & Brief Title', 'indexed_spans_outer': [[14873, 15708]], 'indexed_spans_inner': [[14873, 15708]], 'text_spans_outer': [[39, 59], [59, 185]], 'text_spans_inner': [[39, 59], [59, 185]]}, 'NCTID': {'logical_column_id': 4, 'value': 'NCT04875351'}, 'text': {'value': 'Breast Cancer Index (BCI) Registry ... Inclusion Criteria: - Early stage (I, II or III) female breast cancer patients, who have completed 4-7 years of primary adjuvant endocrine therapy... - The primary tumor was HER2 negative or positive and node-negative or ...'}}, {'Biomarker': {'logical_column_id': 0, 'value': 'ERBB2', 'indexed_spans_outer': [[15358, 15362]], 'indexed_spans_inner': [[15358, 15362]], 'text_spans_outer': [[191, 195]], 'text_spans_inner': [[191, 195]]}, 'Relation': {'logical_column_id': 1, 'value': 'negative', 'indexed_spans_outer': [[15363, 15371]], 'indexed_spans_inner': [[15363, 15371]], 'text_spans_outer': [[196, 204]], 'text_spans_inner': [[196, 204]]}, '[SID] Diseases and Disorders': {'logical_column_id': 2, 'value': 'meddra', 'indexed_spans_outer': [[9191, 9204]], 'indexed_spans_inner': [[9191, 9204]], 'text_spans_outer': [[0, 13]], 'text_spans_inner': [[0, 13]]}, '[NID] Diseases and Disorders': {'logical_column_id': 2, 'value': '10006187'}, '[PT] Diseases and Disorders': {'logical_column_id': 2, 'value': 'Breast cancer'}, 'Section': {'logical_column_id': 3, 'value': 'Inclusion Criteria & Condition', 'indexed_spans_outer': [[14873, 15708]], 'indexed_spans_inner': [[14873, 15708]], 'text_spans_outer': [[17, 37], [37, 163]], 'text_spans_inner': [[17, 37], [37, 163]]}, 'NCTID': {'logical_column_id': 4, 'value': 'NCT04875351'}, 'text': {'value': 'Breast Cancer... Inclusion Criteria: - Early stage (I, II or III) female breast cancer patients, who have completed 4-7 years of primary adjuvant endocrine therapy... - The primary tumor was HER2 negative or positive and node-negative or ...'}}, {'Biomarker': {'logical_column_id': 0, 'value': 'ERBB2', 'indexed_spans_outer': [[15358, 15362]], 'indexed_spans_inner': [[15358, 15362]], 'text_spans_outer': [[213, 217]], 'text_spans_inner': [[213, 217]]}, 'Relation': {'logical_column_id': 1, 'value': 'negative', 'indexed_spans_outer': [[15363, 15371]], 'indexed_spans_inner': [[15363, 15371]], 'text_spans_outer': [[218, 226]], 'text_spans_inner': [[218, 226]]}, '[SID] Diseases and Disorders': {'logical_column_id': 2, 'value': 'nlm_plus', 'indexed_spans_outer': [[3419, 3432]], 'indexed_spans_inner': [[3419, 3432]], 'text_spans_outer': [[0, 13]], 'text_spans_inner': [[0, 13]]}, '[NID] Diseases and Disorders': {'logical_column_id': 2, 'value': 'D001943'}, '[PT] Diseases and Disorders': {'logical_column_id': 2, 'value': 'Breast Neoplasms'}, 'Section': {'logical_column_id': 3, 'value': 'Inclusion Criteria & Brief Title', 'indexed_spans_outer': [[14873, 15708]], 'indexed_spans_inner': [[14873, 15708]], 'text_spans_outer': [[39, 59], [59, 185]], 'text_spans_inner': [[39, 59], [59, 185]]}, 'NCTID': {'logical_column_id': 4, 'value': 'NCT04875351'}, 'text': {'value': 'Breast Cancer Index (BCI) Registry ... Inclusion Criteria: - Early stage (I, II or III) female breast cancer patients, who have completed 4-7 years of primary adjuvant endocrine therapy... - The primary tumor was HER2 negative or positive and node-negative or ...'}}, {'Biomarker': {'logical_column_id': 0, 'value': 'ERBB2', 'indexed_spans_outer': [[15358, 15362]], 'indexed_spans_inner': [[15358, 15362]], 'text_spans_outer': [[191, 195]], 'text_spans_inner': [[191, 195]]}, 'Relation': {'logical_column_id': 1, 'value': 'negative', 'indexed_spans_outer': [[15363, 15371]], 'indexed_spans_inner': [[15363, 15371]], 'text_spans_outer': [[196, 204]], 'text_spans_inner': [[196, 204]]}, '[SID] Diseases and Disorders': {'logical_column_id': 2, 'value': 'nlm_plus', 'indexed_spans_outer': [[9191, 9204]], 'indexed_spans_inner': [[9191, 9204]], 'text_spans_outer': [[0, 13]], 'text_spans_inner': [[0, 13]]}, '[NID] Diseases and Disorders': {'logical_column_id': 2, 'value': 'D001943'}, '[PT] Diseases and Disorders': {'logical_column_id': 2, 'value': 'Breast Neoplasms'}, 'Section': {'logical_column_id': 3, 'value': 'Inclusion Criteria & Condition', 'indexed_spans_outer': [[14873, 15708]], 'indexed_spans_inner': [[14873, 15708]], 'text_spans_outer': [[17, 37], [37, 163]], 'text_spans_inner': [[17, 37], [37, 163]]}, 'NCTID': {'logical_column_id': 4, 'value': 'NCT04875351'}, 'text': {'value': 'Breast Cancer... Inclusion Criteria: - Early stage (I, II or III) female breast cancer patients, who have completed 4-7 years of primary adjuvant endocrine therapy... - The primary tumor was HER2 negative or positive and node-negative or ...'}}, {'Biomarker': {'logical_column_id': 0, 'value': 'ERBB2', 'indexed_spans_outer': [[15358, 15362]], 'indexed_spans_inner': [[15358, 15362]], 'text_spans_outer': [[213, 217]], 'text_spans_inner': [[213, 217]]}, 'Relation': {'logical_column_id': 1, 'value': 'positive', 'indexed_spans_outer': [[15375, 15383]], 'indexed_spans_inner': [[15375, 15383]], 'text_spans_outer': [[230, 238]], 'text_spans_inner': [[230, 238]]}, '[SID] Diseases and Disorders': {'logical_column_id': 2, 'value': 'meddra', 'indexed_spans_outer': [[3419, 3432]], 'indexed_spans_inner': [[3419, 3432]], 'text_spans_outer': [[0, 13]], 'text_spans_inner': [[0, 13]]}, '[NID] Diseases and Disorders': {'logical_column_id': 2, 'value': '10006187'}, '[PT] Diseases and Disorders': {'logical_column_id': 2, 'value': 'Breast cancer'}, 'Section': {'logical_column_id': 3, 'value': 'Inclusion Criteria & Brief Title', 'indexed_spans_outer': [[14873, 15708]], 'indexed_spans_inner': [[14873, 15708]], 'text_spans_outer': [[39, 59], [59, 185]], 'text_spans_inner': [[39, 59], [59, 185]]}, 'NCTID': {'logical_column_id': 4, 'value': 'NCT04875351'}, 'text': {'value': 'Breast Cancer Index (BCI) Registry ... Inclusion Criteria: - Early stage (I, II or III) female breast cancer patients, who have completed 4-7 years of primary adjuvant endocrine therapy... - The primary tumor was HER2 negative or positive and node-negative or node-positive with ...'}}, {'Biomarker': {'logical_column_id': 0, 'value': 'ERBB2', 'indexed_spans_outer': [[15358, 15362]], 'indexed_spans_inner': [[15358, 15362]], 'text_spans_outer': [[191, 195]], 'text_spans_inner': [[191, 195]]}, 'Relation': {'logical_column_id': 1, 'value': 'positive', 'indexed_spans_outer': [[15375, 15383]], 'indexed_spans_inner': [[15375, 15383]], 'text_spans_outer': [[208, 216]], 'text_spans_inner': [[208, 216]]}, '[SID] Diseases and Disorders': {'logical_column_id': 2, 'value': 'meddra', 'indexed_spans_outer': [[9191, 9204]], 'indexed_spans_inner': [[9191, 9204]], 'text_spans_outer': [[0, 13]], 'text_spans_inner': [[0, 13]]}, '[NID] Diseases and Disorders': {'logical_column_id': 2, 'value': '10006187'}, '[PT] Diseases and Disorders': {'logical_column_id': 2, 'value': 'Breast cancer'}, 'Section': {'logical_column_id': 3, 'value': 'Inclusion Criteria & Condition', 'indexed_spans_outer': [[14873, 15708]], 'indexed_spans_inner': [[14873, 15708]], 'text_spans_outer': [[17, 37], [37, 163]], 'text_spans_inner': [[17, 37], [37, 163]]}, 'NCTID': {'logical_column_id': 4, 'value': 'NCT04875351'}, 'text': {'value': 'Breast Cancer... Inclusion Criteria: - Early stage (I, II or III) female breast cancer patients, who have completed 4-7 years of primary adjuvant endocrine therapy... - The primary tumor was HER2 negative or positive and node-negative or node-positive with ...'}}, {'Biomarker': {'logical_column_id': 0, 'value': 'ERBB2', 'indexed_spans_outer': [[15358, 15362]], 'indexed_spans_inner': [[15358, 15362]], 'text_spans_outer': [[213, 217]], 'text_spans_inner': [[213, 217]]}, 'Relation': {'logical_column_id': 1, 'value': 'positive', 'indexed_spans_outer': [[15375, 15383]], 'indexed_spans_inner': [[15375, 15383]], 'text_spans_outer': [[230, 238]], 'text_spans_inner': [[230, 238]]}, '[SID] Diseases and Disorders': {'logical_column_id': 2, 'value': 'nlm_plus', 'indexed_spans_outer': [[3419, 3432]], 'indexed_spans_inner': [[3419, 3432]], 'text_spans_outer': [[0, 13]], 'text_spans_inner': [[0, 13]]}, '[NID] Diseases and Disorders': {'logical_column_id': 2, 'value': 'D001943'}, '[PT] Diseases and Disorders': {'logical_column_id': 2, 'value': 'Breast Neoplasms'}, 'Section': {'logical_column_id': 3, 'value': 'Inclusion Criteria & Brief Title', 'indexed_spans_outer': [[14873, 15708]], 'indexed_spans_inner': [[14873, 15708]], 'text_spans_outer': [[39, 59], [59, 185]], 'text_spans_inner': [[39, 59], [59, 185]]}, 'NCTID': {'logical_column_id': 4, 'value': 'NCT04875351'}, 'text': {'value': 'Breast Cancer Index (BCI) Registry ... Inclusion Criteria: - Early stage (I, II or III) female breast cancer patients, who have completed 4-7 years of primary adjuvant endocrine therapy... - The primary tumor was HER2 negative or positive and node-negative or node-positive with ...'}}, {'Biomarker': {'logical_column_id': 0, 'value': 'ERBB2', 'indexed_spans_outer': [[15358, 15362]], 'indexed_spans_inner': [[15358, 15362]], 'text_spans_outer': [[191, 195]], 'text_spans_inner': [[191, 195]]}, 'Relation': {'logical_column_id': 1, 'value': 'positive', 'indexed_spans_outer': [[15375, 15383]], 'indexed_spans_inner': [[15375, 15383]], 'text_spans_outer': [[208, 216]], 'text_spans_inner': [[208, 216]]}, '[SID] Diseases and Disorders': {'logical_column_id': 2, 'value': 'nlm_plus', 'indexed_spans_outer': [[9191, 9204]], 'indexed_spans_inner': [[9191, 9204]], 'text_spans_outer': [[0, 13]], 'text_spans_inner': [[0, 13]]}, '[NID] Diseases and Disorders': {'logical_column_id': 2, 'value': 'D001943'}, '[PT] Diseases and Disorders': {'logical_column_id': 2, 'value': 'Breast Neoplasms'}, 'Section': {'logical_column_id': 3, 'value': 'Inclusion Criteria & Condition', 'indexed_spans_outer': [[14873, 15708]], 'indexed_spans_inner': [[14873, 15708]], 'text_spans_outer': [[17, 37], [37, 163]], 'text_spans_inner': [[17, 37], [37, 163]]}, 'NCTID': {'logical_column_id': 4, 'value': 'NCT04875351'}, 'text': {'value': 'Breast Cancer... Inclusion Criteria: - Early stage (I, II or III) female breast cancer patients, who have completed 4-7 years of primary adjuvant endocrine therapy... - The primary tumor was HER2 negative or positive and node-negative or node-positive with ...'}}, {'Biomarker': {'logical_column_id': 0, 'value': 'ESR1', 'indexed_spans_outer': [[15243, 15269]], 'indexed_spans_inner': [[15243, 15269]], 'text_spans_outer': [[201, 227]], 'text_spans_inner': [[201, 227]]}, 'Relation': {'logical_column_id': 1, 'value': 'positive', 'indexed_spans_outer': [[15252, 15269]], 'indexed_spans_inner': [[15252, 15269]], 'text_spans_outer': [[210, 227]], 'text_spans_inner': [[210, 227]]}, '[SID] Diseases and Disorders': {'logical_column_id': 2, 'value': 'meddra', 'indexed_spans_outer': [[3419, 3432]], 'indexed_spans_inner': [[3419, 3432]], 'text_spans_outer': [[0, 13]], 'text_spans_inner': [[0, 13]]}, '[NID] Diseases and Disorders': {'logical_column_id': 2, 'value': '10006187'}, '[PT] Diseases and Disorders': {'logical_column_id': 2, 'value': 'Breast cancer'}, 'Section': {'logical_column_id': 3, 'value': 'Inclusion Criteria & Brief Title', 'indexed_spans_outer': [[14873, 15708]], 'indexed_spans_inner': [[14873, 15708]], 'text_spans_outer': [[39, 59], [59, 185]], 'text_spans_inner': [[39, 59], [59, 185]]}, 'NCTID': {'logical_column_id': 4, 'value': 'NCT04875351'}, 'text': {'value': 'Breast Cancer Index (BCI) Registry ... Inclusion Criteria: - Early stage (I, II or III) female breast cancer patients, who have completed 4-7 years of primary adjuvant endocrine therapy... (HR+), i.e. estrogen receptor-positive and/or progesterone receptor-positive...'}}, {'Biomarker': {'logical_column_id': 0, 'value': 'ESR1', 'indexed_spans_outer': [[15243, 15269]], 'indexed_spans_inner': [[15243, 15269]], 'text_spans_outer': [[201, 227]], 'text_spans_inner': [[201, 227]]}, 'Relation': {'logical_column_id': 1, 'value': 'positive', 'indexed_spans_outer': [[15303, 15320]], 'indexed_spans_inner': [[15303, 15320]], 'text_spans_outer': [[248, 265]], 'text_spans_inner': [[248, 265]]}, '[SID] Diseases and Disorders': {'logical_column_id': 2, 'value': 'meddra', 'indexed_spans_outer': [[3419, 3432]], 'indexed_spans_inner': [[3419, 3432]], 'text_spans_outer': [[0, 13]], 'text_spans_inner': [[0, 13]]}, '[NID] Diseases and Disorders': {'logical_column_id': 2, 'value': '10006187'}, '[PT] Diseases and Disorders': {'logical_column_id': 2, 'value': 'Breast cancer'}, 'Section': {'logical_column_id': 3, 'value': 'Inclusion Criteria & Brief Title', 'indexed_spans_outer': [[14873, 15708]], 'indexed_spans_inner': [[14873, 15708]], 'text_spans_outer': [[39, 59], [59, 185]], 'text_spans_inner': [[39, 59], [59, 185]]}, 'NCTID': {'logical_column_id': 4, 'value': 'NCT04875351'}, 'text': {'value': 'Breast Cancer Index (BCI) Registry ... Inclusion Criteria: - Early stage (I, II or III) female breast cancer patients, who have completed 4-7 years of primary adjuvant endocrine therapy... (HR+), i.e. estrogen receptor-positive and/or progesterone receptor-positive.  ...'}}, {'Biomarker': {'logical_column_id': 0, 'value': 'ESR1', 'indexed_spans_outer': [[15243, 15269]], 'indexed_spans_inner': [[15243, 15269]], 'text_spans_outer': [[179, 205]], 'text_spans_inner': [[179, 205]]}, 'Relation': {'logical_column_id': 1, 'value': 'positive', 'indexed_spans_outer': [[15252, 15269]], 'indexed_spans_inner': [[15252, 15269]], 'text_spans_outer': [[188, 205]], 'text_spans_inner': [[188, 205]]}, '[SID] Diseases and Disorders': {'logical_column_id': 2, 'value': 'meddra', 'indexed_spans_outer': [[9191, 9204]], 'indexed_spans_inner': [[9191, 9204]], 'text_spans_outer': [[0, 13]], 'text_spans_inner': [[0, 13]]}, '[NID] Diseases and Disorders': {'logical_column_id': 2, 'value': '10006187'}, '[PT] Diseases and Disorders': {'logical_column_id': 2, 'value': 'Breast cancer'}, 'Section': {'logical_column_id': 3, 'value': 'Inclusion Criteria & Condition', 'indexed_spans_outer': [[14873, 15708]], 'indexed_spans_inner': [[14873, 15708]], 'text_spans_outer': [[17, 37], [37, 163]], 'text_spans_inner': [[17, 37], [37, 163]]}, 'NCTID': {'logical_column_id': 4, 'value': 'NCT04875351'}, 'text': {'value': 'Breast Cancer... Inclusion Criteria: - Early stage (I, II or III) female breast cancer patients, who have completed 4-7 years of primary adjuvant endocrine therapy... (HR+), i.e. estrogen receptor-positive and/or progesterone receptor-positive...'}}, {'Biomarker': {'logical_column_id': 0, 'value': 'ESR1', 'indexed_spans_outer': [[15243, 15269]], 'indexed_spans_inner': [[15243, 15269]], 'text_spans_outer': [[179, 205]], 'text_spans_inner': [[179, 205]]}, 'Relation': {'logical_column_id': 1, 'value': 'positive', 'indexed_spans_outer': [[15303, 15320]], 'indexed_spans_inner': [[15303, 15320]], 'text_spans_outer': [[226, 243]], 'text_spans_inner': [[226, 243]]}, '[SID] Diseases and Disorders': {'logical_column_id': 2, 'value': 'meddra', 'indexed_spans_outer': [[9191, 9204]], 'indexed_spans_inner': [[9191, 9204]], 'text_spans_outer': [[0, 13]], 'text_spans_inner': [[0, 13]]}, '[NID] Diseases and Disorders': {'logical_column_id': 2, 'value': '10006187'}, '[PT] Diseases and Disorders': {'logical_column_id': 2, 'value': 'Breast cancer'}, 'Section': {'logical_column_id': 3, 'value': 'Inclusion Criteria & Condition', 'indexed_spans_outer': [[14873, 15708]], 'indexed_spans_inner': [[14873, 15708]], 'text_spans_outer': [[17, 37], [37, 163]], 'text_spans_inner': [[17, 37], [37, 163]]}, 'NCTID': {'logical_column_id': 4, 'value': 'NCT04875351'}, 'text': {'value': 'Breast Cancer... Inclusion Criteria: - Early stage (I, II or III) female breast cancer patients, who have completed 4-7 years of primary adjuvant endocrine therapy... (HR+), i.e. estrogen receptor-positive and/or progesterone receptor-positive.  ...'}}, {'Biomarker': {'logical_column_id': 0, 'value': 'ESR1', 'indexed_spans_outer': [[15243, 15269]], 'indexed_spans_inner': [[15243, 15269]], 'text_spans_outer': [[201, 227]], 'text_spans_inner': [[201, 227]]}, 'Relation': {'logical_column_id': 1, 'value': 'positive', 'indexed_spans_outer': [[15252, 15269]], 'indexed_spans_inner': [[15252, 15269]], 'text_spans_outer': [[210, 227]], 'text_spans_inner': [[210, 227]]}, '[SID] Diseases and Disorders': {'logical_column_id': 2, 'value': 'nlm_plus', 'indexed_spans_outer': [[3419, 3432]], 'indexed_spans_inner': [[3419, 3432]], 'text_spans_outer': [[0, 13]], 'text_spans_inner': [[0, 13]]}, '[NID] Diseases and Disorders': {'logical_column_id': 2, 'value': 'D001943'}, '[PT] Diseases and Disorders': {'logical_column_id': 2, 'value': 'Breast Neoplasms'}, 'Section': {'logical_column_id': 3, 'value': 'Inclusion Criteria & Brief Title', 'indexed_spans_outer': [[14873, 15708]], 'indexed_spans_inner': [[14873, 15708]], 'text_spans_outer': [[39, 59], [59, 185]], 'text_spans_inner': [[39, 59], [59, 185]]}, 'NCTID': {'logical_column_id': 4, 'value': 'NCT04875351'}, 'text': {'value': 'Breast Cancer Index (BCI) Registry ... Inclusion Criteria: - Early stage (I, II or III) female breast cancer patients, who have completed 4-7 years of primary adjuvant endocrine therapy... (HR+), i.e. estrogen receptor-positive and/or progesterone receptor-positive...'}}, {'Biomarker': {'logical_column_id': 0, 'value': 'ESR1', 'indexed_spans_outer': [[15243, 15269]], 'indexed_spans_inner': [[15243, 15269]], 'text_spans_outer': [[201, 227]], 'text_spans_inner': [[201, 227]]}, 'Relation': {'logical_column_id': 1, 'value': 'positive', 'indexed_spans_outer': [[15303, 15320]], 'indexed_spans_inner': [[15303, 15320]], 'text_spans_outer': [[248, 265]], 'text_spans_inner': [[248, 265]]}, '[SID] Diseases and Disorders': {'logical_column_id': 2, 'value': 'nlm_plus', 'indexed_spans_outer': [[3419, 3432]], 'indexed_spans_inner': [[3419, 3432]], 'text_spans_outer': [[0, 13]], 'text_spans_inner': [[0, 13]]}, '[NID] Diseases and Disorders': {'logical_column_id': 2, 'value': 'D001943'}, '[PT] Diseases and Disorders': {'logical_column_id': 2, 'value': 'Breast Neoplasms'}, 'Section': {'logical_column_id': 3, 'value': 'Inclusion Criteria & Brief Title', 'indexed_spans_outer': [[14873, 15708]], 'indexed_spans_inner': [[14873, 15708]], 'text_spans_outer': [[39, 59], [59, 185]], 'text_spans_inner': [[39, 59], [59, 185]]}, 'NCTID': {'logical_column_id': 4, 'value': 'NCT04875351'}, 'text': {'value': 'Breast Cancer Index (BCI) Registry ... Inclusion Criteria: - Early stage (I, II or III) female breast cancer patients, who have completed 4-7 years of primary adjuvant endocrine therapy... (HR+), i.e. estrogen receptor-positive and/or progesterone receptor-positive.  ...'}}, {'Biomarker': {'logical_column_id': 0, 'value': 'ESR1', 'indexed_spans_outer': [[15243, 15269]], 'indexed_spans_inner': [[15243, 15269]], 'text_spans_outer': [[179, 205]], 'text_spans_inner': [[179, 205]]}, 'Relation': {'logical_column_id': 1, 'value': 'positive', 'indexed_spans_outer': [[15252, 15269]], 'indexed_spans_inner': [[15252, 15269]], 'text_spans_outer': [[188, 205]], 'text_spans_inner': [[188, 205]]}, '[SID] Diseases and Disorders': {'logical_column_id': 2, 'value': 'nlm_plus', 'indexed_spans_outer': [[9191, 9204]], 'indexed_spans_inner': [[9191, 9204]], 'text_spans_outer': [[0, 13]], 'text_spans_inner': [[0, 13]]}, '[NID] Diseases and Disorders': {'logical_column_id': 2, 'value': 'D001943'}, '[PT] Diseases and Disorders': {'logical_column_id': 2, 'value': 'Breast Neoplasms'}, 'Section': {'logical_column_id': 3, 'value': 'Inclusion Criteria & Condition', 'indexed_spans_outer': [[14873, 15708]], 'indexed_spans_inner': [[14873, 15708]], 'text_spans_outer': [[17, 37], [37, 163]], 'text_spans_inner': [[17, 37], [37, 163]]}, 'NCTID': {'logical_column_id': 4, 'value': 'NCT04875351'}, 'text': {'value': 'Breast Cancer... Inclusion Criteria: - Early stage (I, II or III) female breast cancer patients, who have completed 4-7 years of primary adjuvant endocrine therapy... (HR+), i.e. estrogen receptor-positive and/or progesterone receptor-positive...'}}, {'Biomarker': {'logical_column_id': 0, 'value': 'ESR1', 'indexed_spans_outer': [[15243, 15269]], 'indexed_spans_inner': [[15243, 15269]], 'text_spans_outer': [[179, 205]], 'text_spans_inner': [[179, 205]]}, 'Relation': {'logical_column_id': 1, 'value': 'positive', 'indexed_spans_outer': [[15303, 15320]], 'indexed_spans_inner': [[15303, 15320]], 'text_spans_outer': [[226, 243]], 'text_spans_inner': [[226, 243]]}, '[SID] Diseases and Disorders': {'logical_column_id': 2, 'value': 'nlm_plus', 'indexed_spans_outer': [[9191, 9204]], 'indexed_spans_inner': [[9191, 9204]], 'text_spans_outer': [[0, 13]], 'text_spans_inner': [[0, 13]]}, '[NID] Diseases and Disorders': {'logical_column_id': 2, 'value': 'D001943'}, '[PT] Diseases and Disorders': {'logical_column_id': 2, 'value': 'Breast Neoplasms'}, 'Section': {'logical_column_id': 3, 'value': 'Inclusion Criteria & Condition', 'indexed_spans_outer': [[14873, 15708]], 'indexed_spans_inner': [[14873, 15708]], 'text_spans_outer': [[17, 37], [37, 163]], 'text_spans_inner': [[17, 37], [37, 163]]}, 'NCTID': {'logical_column_id': 4, 'value': 'NCT04875351'}, 'text': {'value': 'Breast Cancer... Inclusion Criteria: - Early stage (I, II or III) female breast cancer patients, who have completed 4-7 years of primary adjuvant endocrine therapy... (HR+), i.e. estrogen receptor-positive and/or progesterone receptor-positive.  ...'}}, {'Biomarker': {'logical_column_id': 0, 'value': 'HOXB13', 'indexed_spans_outer': [[13841, 13847]], 'indexed_spans_inner': [[13841, 13847]], 'text_spans_outer': [[292, 298]], 'text_spans_inner': [[292, 298]]}, 'Relation': {'logical_column_id': 1, 'value': 'predictive', 'indexed_spans_outer': [[13756, 13766]], 'indexed_spans_inner': [[13756, 13766]], 'text_spans_outer': [[207, 217]], 'text_spans_inner': [[207, 217]]}, '[SID] Diseases and Disorders': {'logical_column_id': 2, 'value': 'meddra', 'indexed_spans_outer': [[13775, 13793]], 'indexed_spans_inner': [[13775, 13793]], 'text_spans_outer': [[226, 244]], 'text_spans_inner': [[226, 244]]}, '[NID] Diseases and Disorders': {'logical_column_id': 2, 'value': '10061819'}, '[PT] Diseases and Disorders': {'logical_column_id': 2, 'value': 'Disease recurrence'}, 'Section': {'logical_column_id': 3, 'value': 'Publication', 'indexed_spans_outer': [[13549, 13958]], 'indexed_spans_inner': [[13549, 13958]], 'text_spans_outer': [[0, 206]], 'text_spans_inner': [[0, 206]]}, 'NCTID': {'logical_column_id': 4, 'value': 'NCT04875351'}, 'text': {'value': 'Sgroi DC, Carney E, Zarrella E, Steffel L, Binns SN, Finkelstein DM, Szymonifka J, Bhan AK, Shepherd LE, Zhang Y, Schnabel CA, Erlander MG, Ingle JN, Porter P, Muss HB, Pritchard KI, Tu D, Rimm DL, Goss PE. Prediction of late disease recurrence and extended adjuvant letrozole benefit by the HOXB13/IL17BR biomarker.  ...'}}, {'Biomarker': {'logical_column_id': 0, 'value': 'HOXB13', 'indexed_spans_outer': [[13841, 13847]], 'indexed_spans_inner': [[13841, 13847]], 'text_spans_outer': [[292, 298]], 'text_spans_inner': [[292, 298]]}, 'Relation': {'logical_column_id': 1, 'value': 'predictive', 'indexed_spans_outer': [[13756, 13766]], 'indexed_spans_inner': [[13756, 13766]], 'text_spans_outer': [[207, 217]], 'text_spans_inner': [[207, 217]]}, '[SID] Diseases and Disorders': {'logical_column_id': 2, 'value': 'meddra', 'indexed_spans_outer': [[13775, 13793]], 'indexed_spans_inner': [[13775, 13793]], 'text_spans_outer': [[226, 244]], 'text_spans_inner': [[226, 244]]}, '[NID] Diseases and Disorders': {'logical_column_id': 2, 'value': '10061819'}, '[PT] Diseases and Disorders': {'logical_column_id': 2, 'value': 'Disease recurrence'}, 'Section': {'logical_column_id': 3, 'value': 'Reference', 'indexed_spans_outer': [[13549, 13958]], 'indexed_spans_inner': [[13549, 13958]], 'text_spans_outer': [[0, 206]], 'text_spans_inner': [[0, 206]]}, 'NCTID': {'logical_column_id': 4, 'value': 'NCT04875351'}, 'text': {'value': 'Sgroi DC, Carney E, Zarrella E, Steffel L, Binns SN, Finkelstein DM, Szymonifka J, Bhan AK, Shepherd LE, Zhang Y, Schnabel CA, Erlander MG, Ingle JN, Porter P, Muss HB, Pritchard KI, Tu D, Rimm DL, Goss PE. Prediction of late disease recurrence and extended adjuvant letrozole benefit by the HOXB13/IL17BR biomarker.  ...'}}, {'Biomarker': {'logical_column_id': 0, 'value': 'IL17RB', 'indexed_spans_outer': [[13848, 13854]], 'indexed_spans_inner': [[13848, 13854]], 'text_spans_outer': [[299, 305]], 'text_spans_inner': [[299, 305]]}, 'Relation': {'logical_column_id': 1, 'value': 'predictive', 'indexed_spans_outer': [[13756, 13766]], 'indexed_spans_inner': [[13756, 13766]], 'text_spans_outer': [[207, 217]], 'text_spans_inner': [[207, 217]]}, '[SID] Diseases and Disorders': {'logical_column_id': 2, 'value': 'meddra', 'indexed_spans_outer': [[13775, 13793]], 'indexed_spans_inner': [[13775, 13793]], 'text_spans_outer': [[226, 244]], 'text_spans_inner': [[226, 244]]}, '[NID] Diseases and Disorders': {'logical_column_id': 2, 'value': '10061819'}, '[PT] Diseases and Disorders': {'logical_column_id': 2, 'value': 'Disease recurrence'}, 'Section': {'logical_column_id': 3, 'value': 'Publication', 'indexed_spans_outer': [[13549, 13958]], 'indexed_spans_inner': [[13549, 13958]], 'text_spans_outer': [[0, 206]], 'text_spans_inner': [[0, 206]]}, 'NCTID': {'logical_column_id': 4, 'value': 'NCT04875351'}, 'text': {'value': 'Sgroi DC, Carney E, Zarrella E, Steffel L, Binns SN, Finkelstein DM, Szymonifka J, Bhan AK, Shepherd LE, Zhang Y, Schnabel CA, Erlander MG, Ingle JN, Porter P, Muss HB, Pritchard KI, Tu D, Rimm DL, Goss PE. Prediction of late disease recurrence and extended adjuvant letrozole benefit by the HOXB13/IL17BR biomarker.  ...'}}, {'Biomarker': {'logical_column_id': 0, 'value': 'IL17RB', 'indexed_spans_outer': [[13848, 13854]], 'indexed_spans_inner': [[13848, 13854]], 'text_spans_outer': [[299, 305]], 'text_spans_inner': [[299, 305]]}, 'Relation': {'logical_column_id': 1, 'value': 'predictive', 'indexed_spans_outer': [[13756, 13766]], 'indexed_spans_inner': [[13756, 13766]], 'text_spans_outer': [[207, 217]], 'text_spans_inner': [[207, 217]]}, '[SID] Diseases and Disorders': {'logical_column_id': 2, 'value': 'meddra', 'indexed_spans_outer': [[13775, 13793]], 'indexed_spans_inner': [[13775, 13793]], 'text_spans_outer': [[226, 244]], 'text_spans_inner': [[226, 244]]}, '[NID] Diseases and Disorders': {'logical_column_id': 2, 'value': '10061819'}, '[PT] Diseases and Disorders': {'logical_column_id': 2, 'value': 'Disease recurrence'}, 'Section': {'logical_column_id': 3, 'value': 'Reference', 'indexed_spans_outer': [[13549, 13958]], 'indexed_spans_inner': [[13549, 13958]], 'text_spans_outer': [[0, 206]], 'text_spans_inner': [[0, 206]]}, 'NCTID': {'logical_column_id': 4, 'value': 'NCT04875351'}, 'text': {'value': 'Sgroi DC, Carney E, Zarrella E, Steffel L, Binns SN, Finkelstein DM, Szymonifka J, Bhan AK, Shepherd LE, Zhang Y, Schnabel CA, Erlander MG, Ingle JN, Porter P, Muss HB, Pritchard KI, Tu D, Rimm DL, Goss PE. Prediction of late disease recurrence and extended adjuvant letrozole benefit by the HOXB13/IL17BR biomarker.  ...'}}, {'Biomarker': {'logical_column_id': 0, 'value': 'PGR', 'indexed_spans_outer': [[15290, 15320]], 'indexed_spans_inner': [[15290, 15320]], 'text_spans_outer': [[234, 264]], 'text_spans_inner': [[234, 264]]}, 'Relation': {'logical_column_id': 1, 'value': 'positive', 'indexed_spans_outer': [[15252, 15269]], 'indexed_spans_inner': [[15252, 15269]], 'text_spans_outer': [[209, 226]], 'text_spans_inner': [[209, 226]]}, '[SID] Diseases and Disorders': {'logical_column_id': 2, 'value': 'meddra', 'indexed_spans_outer': [[3419, 3432]], 'indexed_spans_inner': [[3419, 3432]], 'text_spans_outer': [[0, 13]], 'text_spans_inner': [[0, 13]]}, '[NID] Diseases and Disorders': {'logical_column_id': 2, 'value': '10006187'}, '[PT] Diseases and Disorders': {'logical_column_id': 2, 'value': 'Breast cancer'}, 'Section': {'logical_column_id': 3, 'value': 'Inclusion Criteria & Brief Title', 'indexed_spans_outer': [[14873, 15708]], 'indexed_spans_inner': [[14873, 15708]], 'text_spans_outer': [[39, 59], [59, 185]], 'text_spans_inner': [[39, 59], [59, 185]]}, 'NCTID': {'logical_column_id': 4, 'value': 'NCT04875351'}, 'text': {'value': 'Breast Cancer Index (BCI) Registry ... Inclusion Criteria: - Early stage (I, II or III) female breast cancer patients, who have completed 4-7 years of primary adjuvant endocrine therapy... HR+), i.e. estrogen receptor-positive and/or progesterone receptor-positive.  ...'}}, {'Biomarker': {'logical_column_id': 0, 'value': 'PGR', 'indexed_spans_outer': [[15290, 15320]], 'indexed_spans_inner': [[15290, 15320]], 'text_spans_outer': [[223, 253]], 'text_spans_inner': [[223, 253]]}, 'Relation': {'logical_column_id': 1, 'value': 'positive', 'indexed_spans_outer': [[15303, 15320]], 'indexed_spans_inner': [[15303, 15320]], 'text_spans_outer': [[236, 253]], 'text_spans_inner': [[236, 253]]}, '[SID] Diseases and Disorders': {'logical_column_id': 2, 'value': 'meddra', 'indexed_spans_outer': [[3419, 3432]], 'indexed_spans_inner': [[3419, 3432]], 'text_spans_outer': [[0, 13]], 'text_spans_inner': [[0, 13]]}, '[NID] Diseases and Disorders': {'logical_column_id': 2, 'value': '10006187'}, '[PT] Diseases and Disorders': {'logical_column_id': 2, 'value': 'Breast cancer'}, 'Section': {'logical_column_id': 3, 'value': 'Inclusion Criteria & Brief Title', 'indexed_spans_outer': [[14873, 15708]], 'indexed_spans_inner': [[14873, 15708]], 'text_spans_outer': [[39, 59], [59, 185]], 'text_spans_inner': [[39, 59], [59, 185]]}, 'NCTID': {'logical_column_id': 4, 'value': 'NCT04875351'}, 'text': {'value': 'Breast Cancer Index (BCI) Registry ... Inclusion Criteria: - Early stage (I, II or III) female breast cancer patients, who have completed 4-7 years of primary adjuvant endocrine therapy... estrogen receptor-positive and/or progesterone receptor-positive.  ...'}}, {'Biomarker': {'logical_column_id': 0, 'value': 'PGR', 'indexed_spans_outer': [[15290, 15320]], 'indexed_spans_inner': [[15290, 15320]], 'text_spans_outer': [[212, 242]], 'text_spans_inner': [[212, 242]]}, 'Relation': {'logical_column_id': 1, 'value': 'positive', 'indexed_spans_outer': [[15252, 15269]], 'indexed_spans_inner': [[15252, 15269]], 'text_spans_outer': [[187, 204]], 'text_spans_inner': [[187, 204]]}, '[SID] Diseases and Disorders': {'logical_column_id': 2, 'value': 'meddra', 'indexed_spans_outer': [[9191, 9204]], 'indexed_spans_inner': [[9191, 9204]], 'text_spans_outer': [[0, 13]], 'text_spans_inner': [[0, 13]]}, '[NID] Diseases and Disorders': {'logical_column_id': 2, 'value': '10006187'}, '[PT] Diseases and Disorders': {'logical_column_id': 2, 'value': 'Breast cancer'}, 'Section': {'logical_column_id': 3, 'value': 'Inclusion Criteria & Condition', 'indexed_spans_outer': [[14873, 15708]], 'indexed_spans_inner': [[14873, 15708]], 'text_spans_outer': [[17, 37], [37, 163]], 'text_spans_inner': [[17, 37], [37, 163]]}, 'NCTID': {'logical_column_id': 4, 'value': 'NCT04875351'}, 'text': {'value': 'Breast Cancer... Inclusion Criteria: - Early stage (I, II or III) female breast cancer patients, who have completed 4-7 years of primary adjuvant endocrine therapy... HR+), i.e. estrogen receptor-positive and/or progesterone receptor-positive.  ...'}}, {'Biomarker': {'logical_column_id': 0, 'value': 'PGR', 'indexed_spans_outer': [[15290, 15320]], 'indexed_spans_inner': [[15290, 15320]], 'text_spans_outer': [[201, 231]], 'text_spans_inner': [[201, 231]]}, 'Relation': {'logical_column_id': 1, 'value': 'positive', 'indexed_spans_outer': [[15303, 15320]], 'indexed_spans_inner': [[15303, 15320]], 'text_spans_outer': [[214, 231]], 'text_spans_inner': [[214, 231]]}, '[SID] Diseases and Disorders': {'logical_column_id': 2, 'value': 'meddra', 'indexed_spans_outer': [[9191, 9204]], 'indexed_spans_inner': [[9191, 9204]], 'text_spans_outer': [[0, 13]], 'text_spans_inner': [[0, 13]]}, '[NID] Diseases and Disorders': {'logical_column_id': 2, 'value': '10006187'}, '[PT] Diseases and Disorders': {'logical_column_id': 2, 'value': 'Breast cancer'}, 'Section': {'logical_column_id': 3, 'value': 'Inclusion Criteria & Condition', 'indexed_spans_outer': [[14873, 15708]], 'indexed_spans_inner': [[14873, 15708]], 'text_spans_outer': [[17, 37], [37, 163]], 'text_spans_inner': [[17, 37], [37, 163]]}, 'NCTID': {'logical_column_id': 4, 'value': 'NCT04875351'}, 'text': {'value': 'Breast Cancer... Inclusion Criteria: - Early stage (I, II or III) female breast cancer patients, who have completed 4-7 years of primary adjuvant endocrine therapy... estrogen receptor-positive and/or progesterone receptor-positive.  ...'}}, {'Biomarker': {'logical_column_id': 0, 'value': 'PGR', 'indexed_spans_outer': [[15290, 15320]], 'indexed_spans_inner': [[15290, 15320]], 'text_spans_outer': [[234, 264]], 'text_spans_inner': [[234, 264]]}, 'Relation': {'logical_column_id': 1, 'value': 'positive', 'indexed_spans_outer': [[15252, 15269]], 'indexed_spans_inner': [[15252, 15269]], 'text_spans_outer': [[209, 226]], 'text_spans_inner': [[209, 226]]}, '[SID] Diseases and Disorders': {'logical_column_id': 2, 'value': 'nlm_plus', 'indexed_spans_outer': [[3419, 3432]], 'indexed_spans_inner': [[3419, 3432]], 'text_spans_outer': [[0, 13]], 'text_spans_inner': [[0, 13]]}, '[NID] Diseases and Disorders': {'logical_column_id': 2, 'value': 'D001943'}, '[PT] Diseases and Disorders': {'logical_column_id': 2, 'value': 'Breast Neoplasms'}, 'Section': {'logical_column_id': 3, 'value': 'Inclusion Criteria & Brief Title', 'indexed_spans_outer': [[14873, 15708]], 'indexed_spans_inner': [[14873, 15708]], 'text_spans_outer': [[39, 59], [59, 185]], 'text_spans_inner': [[39, 59], [59, 185]]}, 'NCTID': {'logical_column_id': 4, 'value': 'NCT04875351'}, 'text': {'value': 'Breast Cancer Index (BCI) Registry ... Inclusion Criteria: - Early stage (I, II or III) female breast cancer patients, who have completed 4-7 years of primary adjuvant endocrine therapy... HR+), i.e. estrogen receptor-positive and/or progesterone receptor-positive.  ...'}}, {'Biomarker': {'logical_column_id': 0, 'value': 'PGR', 'indexed_spans_outer': [[15290, 15320]], 'indexed_spans_inner': [[15290, 15320]], 'text_spans_outer': [[223, 253]], 'text_spans_inner': [[223, 253]]}, 'Relation': {'logical_column_id': 1, 'value': 'positive', 'indexed_spans_outer': [[15303, 15320]], 'indexed_spans_inner': [[15303, 15320]], 'text_spans_outer': [[236, 253]], 'text_spans_inner': [[236, 253]]}, '[SID] Diseases and Disorders': {'logical_column_id': 2, 'value': 'nlm_plus', 'indexed_spans_outer': [[3419, 3432]], 'indexed_spans_inner': [[3419, 3432]], 'text_spans_outer': [[0, 13]], 'text_spans_inner': [[0, 13]]}, '[NID] Diseases and Disorders': {'logical_column_id': 2, 'value': 'D001943'}, '[PT] Diseases and Disorders': {'logical_column_id': 2, 'value': 'Breast Neoplasms'}, 'Section': {'logical_column_id': 3, 'value': 'Inclusion Criteria & Brief Title', 'indexed_spans_outer': [[14873, 15708]], 'indexed_spans_inner': [[14873, 15708]], 'text_spans_outer': [[39, 59], [59, 185]], 'text_spans_inner': [[39, 59], [59, 185]]}, 'NCTID': {'logical_column_id': 4, 'value': 'NCT04875351'}, 'text': {'value': 'Breast Cancer Index (BCI) Registry ... Inclusion Criteria: - Early stage (I, II or III) female breast cancer patients, who have completed 4-7 years of primary adjuvant endocrine therapy... estrogen receptor-positive and/or progesterone receptor-positive.  ...'}}, {'Biomarker': {'logical_column_id': 0, 'value': 'PGR', 'indexed_spans_outer': [[15290, 15320]], 'indexed_spans_inner': [[15290, 15320]], 'text_spans_outer': [[212, 242]], 'text_spans_inner': [[212, 242]]}, 'Relation': {'logical_column_id': 1, 'value': 'positive', 'indexed_spans_outer': [[15252, 15269]], 'indexed_spans_inner': [[15252, 15269]], 'text_spans_outer': [[187, 204]], 'text_spans_inner': [[187, 204]]}, '[SID] Diseases and Disorders': {'logical_column_id': 2, 'value': 'nlm_plus', 'indexed_spans_outer': [[9191, 9204]], 'indexed_spans_inner': [[9191, 9204]], 'text_spans_outer': [[0, 13]], 'text_spans_inner': [[0, 13]]}, '[NID] Diseases and Disorders': {'logical_column_id': 2, 'value': 'D001943'}, '[PT] Diseases and Disorders': {'logical_column_id': 2, 'value': 'Breast Neoplasms'}, 'Section': {'logical_column_id': 3, 'value': 'Inclusion Criteria & Condition', 'indexed_spans_outer': [[14873, 15708]], 'indexed_spans_inner': [[14873, 15708]], 'text_spans_outer': [[17, 37], [37, 163]], 'text_spans_inner': [[17, 37], [37, 163]]}, 'NCTID': {'logical_column_id': 4, 'value': 'NCT04875351'}, 'text': {'value': 'Breast Cancer... Inclusion Criteria: - Early stage (I, II or III) female breast cancer patients, who have completed 4-7 years of primary adjuvant endocrine therapy... HR+), i.e. estrogen receptor-positive and/or progesterone receptor-positive.  ...'}}, {'Biomarker': {'logical_column_id': 0, 'value': 'PGR', 'indexed_spans_outer': [[15290, 15320]], 'indexed_spans_inner': [[15290, 15320]], 'text_spans_outer': [[201, 231]], 'text_spans_inner': [[201, 231]]}, 'Relation': {'logical_column_id': 1, 'value': 'positive', 'indexed_spans_outer': [[15303, 15320]], 'indexed_spans_inner': [[15303, 15320]], 'text_spans_outer': [[214, 231]], 'text_spans_inner': [[214, 231]]}, '[SID] Diseases and Disorders': {'logical_column_id': 2, 'value': 'nlm_plus', 'indexed_spans_outer': [[9191, 9204]], 'indexed_spans_inner': [[9191, 9204]], 'text_spans_outer': [[0, 13]], 'text_spans_inner': [[0, 13]]}, '[NID] Diseases and Disorders': {'logical_column_id': 2, 'value': 'D001943'}, '[PT] Diseases and Disorders': {'logical_column_id': 2, 'value': 'Breast Neoplasms'}, 'Section': {'logical_column_id': 3, 'value': 'Inclusion Criteria & Condition', 'indexed_spans_outer': [[14873, 15708]], 'indexed_spans_inner': [[14873, 15708]], 'text_spans_outer': [[17, 37], [37, 163]], 'text_spans_inner': [[17, 37], [37, 163]]}, 'NCTID': {'logical_column_id': 4, 'value': 'NCT04875351'}, 'text': {'value': 'Breast Cancer... Inclusion Criteria: - Early stage (I, II or III) female breast cancer patients, who have completed 4-7 years of primary adjuvant endocrine therapy... estrogen receptor-positive and/or progesterone receptor-positive.  ...'}}]}, {'doc_id': 'NCT03180086', 'results': [{'Biomarker': {'logical_column_id': 0, 'value': 'CYP19A1', 'indexed_spans_outer': [[19540, 19549]], 'indexed_spans_inner': [[19540, 19549]], 'text_spans_outer': [[207, 216]], 'text_spans_inner': [[207, 216]]}, 'Relation': {'logical_column_id': 1, 'value': 'inhibitor', 'indexed_spans_outer': [[19550, 19560]], 'indexed_spans_inner': [[19550, 19560]], 'text_spans_outer': [[217, 227]], 'text_spans_inner': [[217, 227]]}, '[SID] Diseases and Disorders': {'logical_column_id': 2, 'value': 'meddra', 'indexed_spans_outer': [[12073, 12086]], 'indexed_spans_inner': [[12073, 12086]], 'text_spans_outer': [[0, 13]], 'text_spans_inner': [[0, 13]]}, '[NID] Diseases and Disorders': {'logical_column_id': 2, 'value': '10006187'}, '[PT] Diseases and Disorders': {'logical_column_id': 2, 'value': 'Breast cancer'}, 'Section': {'logical_column_id': 3, 'value': 'Exclusion Criteria & Brief Title', 'indexed_spans_outer': [[19129, 19755]], 'indexed_spans_inner': [[19129, 19755]], 'text_spans_outer': [[48, 68], [68, 101], [101, 176]], 'text_spans_inner': [[48, 68], [68, 101], [101, 176]]}, 'NCTID': {'logical_column_id': 4, 'value': 'NCT03180086'}, 'text': {'value': 'Breast Cancer Risk Assessment in Women Aged ... Exclusion Criteria: - women scheduled for acute care - women who had or will have a mammogram within 6 months of their PCP visit... or are taking tamoxifen or aromatase inhibitors for breast cancer prevention  ...'}}, {'Biomarker': {'logical_column_id': 0, 'value': 'CYP19A1', 'indexed_spans_outer': [[19540, 19549]], 'indexed_spans_inner': [[19540, 19549]], 'text_spans_outer': [[176, 185]], 'text_spans_inner': [[176, 185]]}, 'Relation': {'logical_column_id': 1, 'value': 'inhibitor', 'indexed_spans_outer': [[19550, 19560]], 'indexed_spans_inner': [[19550, 19560]], 'text_spans_outer': [[186, 196]], 'text_spans_inner': [[186, 196]]}, '[SID] Diseases and Disorders': {'logical_column_id': 2, 'value': 'meddra', 'indexed_spans_outer': [[16465, 16478]], 'indexed_spans_inner': [[16465, 16478]], 'text_spans_outer': [[0, 13]], 'text_spans_inner': [[0, 13]]}, '[NID] Diseases and Disorders': {'logical_column_id': 2, 'value': '10006187'}, '[PT] Diseases and Disorders': {'logical_column_id': 2, 'value': 'Breast cancer'}, 'Section': {'logical_column_id': 3, 'value': 'Exclusion Criteria & Condition', 'indexed_spans_outer': [[19129, 19755]], 'indexed_spans_inner': [[19129, 19755]], 'text_spans_outer': [[17, 37], [37, 70], [70, 145]], 'text_spans_inner': [[17, 37], [37, 70], [70, 145]]}, 'NCTID': {'logical_column_id': 4, 'value': 'NCT03180086'}, 'text': {'value': 'Breast Cancer... Exclusion Criteria: - women scheduled for acute care - women who had or will have a mammogram within 6 months of their PCP visit... or are taking tamoxifen or aromatase inhibitors for breast cancer prevention  ...'}}, {'Biomarker': {'logical_column_id': 0, 'value': 'CYP19A1', 'indexed_spans_outer': [[19540, 19549]], 'indexed_spans_inner': [[19540, 19549]], 'text_spans_outer': [[207, 216]], 'text_spans_inner': [[207, 216]]}, 'Relation': {'logical_column_id': 1, 'value': 'inhibitor', 'indexed_spans_outer': [[19550, 19560]], 'indexed_spans_inner': [[19550, 19560]], 'text_spans_outer': [[217, 227]], 'text_spans_inner': [[217, 227]]}, '[SID] Diseases and Disorders': {'logical_column_id': 2, 'value': 'nlm_plus', 'indexed_spans_outer': [[12073, 12086]], 'indexed_spans_inner': [[12073, 12086]], 'text_spans_outer': [[0, 13]], 'text_spans_inner': [[0, 13]]}, '[NID] Diseases and Disorders': {'logical_column_id': 2, 'value': 'D001943'}, '[PT] Diseases and Disorders': {'logical_column_id': 2, 'value': 'Breast Neoplasms'}, 'Section': {'logical_column_id': 3, 'value': 'Exclusion Criteria & Brief Title', 'indexed_spans_outer': [[19129, 19755]], 'indexed_spans_inner': [[19129, 19755]], 'text_spans_outer': [[48, 68], [68, 101], [101, 176]], 'text_spans_inner': [[48, 68], [68, 101], [101, 176]]}, 'NCTID': {'logical_column_id': 4, 'value': 'NCT03180086'}, 'text': {'value': 'Breast Cancer Risk Assessment in Women Aged ... Exclusion Criteria: - women scheduled for acute care - women who had or will have a mammogram within 6 months of their PCP visit... or are taking tamoxifen or aromatase inhibitors for breast cancer prevention  ...'}}, {'Biomarker': {'logical_column_id': 0, 'value': 'CYP19A1', 'indexed_spans_outer': [[19540, 19549]], 'indexed_spans_inner': [[19540, 19549]], 'text_spans_outer': [[176, 185]], 'text_spans_inner': [[176, 185]]}, 'Relation': {'logical_column_id': 1, 'value': 'inhibitor', 'indexed_spans_outer': [[19550, 19560]], 'indexed_spans_inner': [[19550, 19560]], 'text_spans_outer': [[186, 196]], 'text_spans_inner': [[186, 196]]}, '[SID] Diseases and Disorders': {'logical_column_id': 2, 'value': 'nlm_plus', 'indexed_spans_outer': [[16465, 16478]], 'indexed_spans_inner': [[16465, 16478]], 'text_spans_outer': [[0, 13]], 'text_spans_inner': [[0, 13]]}, '[NID] Diseases and Disorders': {'logical_column_id': 2, 'value': 'D001943'}, '[PT] Diseases and Disorders': {'logical_column_id': 2, 'value': 'Breast Neoplasms'}, 'Section': {'logical_column_id': 3, 'value': 'Exclusion Criteria & Condition', 'indexed_spans_outer': [[19129, 19755]], 'indexed_spans_inner': [[19129, 19755]], 'text_spans_outer': [[17, 37], [37, 70], [70, 145]], 'text_spans_inner': [[17, 37], [37, 70], [70, 145]]}, 'NCTID': {'logical_column_id': 4, 'value': 'NCT03180086'}, 'text': {'value': 'Breast Cancer... Exclusion Criteria: - women scheduled for acute care - women who had or will have a mammogram within 6 months of their PCP visit... or are taking tamoxifen or aromatase inhibitors for breast cancer prevention  ...'}}]}]\n"
     ]
    }
   ],
   "source": [
    "import requests\n",
    "\n",
    "# Define input NCTIDs\n",
    "input_nctids = ['NCT04875351', 'NCT03180086']\n",
    "\n",
    "# Make a request\n",
    "print(\"Posting request to extract biomarkers and related diseases from specified CT.gov documents...\")\n",
    "\n",
    "response = requests.get(api_marketplace_url, headers=mkp_headers, params={'NCTID': input_nctids})\n",
    "# Check the response\n",
    "if response.status_code == 200:\n",
    "    print(\"Success!\")\n",
    "    results_json = response.json()\n",
    "else:\n",
    "    raise Exception(f\"Error: {response}\")\n",
    "\n",
    "print(results_json)"
   ]
  },
  {
   "cell_type": "markdown",
   "id": "1d1cb5d7",
   "metadata": {},
   "source": [
    "Now that we have got the JSON responses from the Clinical Trials Biomarker API, we could convert the useful information associated with the keys into a pandas dataframe."
   ]
  },
  {
   "cell_type": "code",
   "execution_count": 7,
   "id": "fb85f8c5",
   "metadata": {
    "pycharm": {
     "name": "#%%\n"
    }
   },
   "outputs": [
    {
     "data": {
      "text/html": [
       "<div>\n",
       "<style scoped>\n",
       "    .dataframe tbody tr th:only-of-type {\n",
       "        vertical-align: middle;\n",
       "    }\n",
       "\n",
       "    .dataframe tbody tr th {\n",
       "        vertical-align: top;\n",
       "    }\n",
       "\n",
       "    .dataframe thead th {\n",
       "        text-align: right;\n",
       "    }\n",
       "</style>\n",
       "<table border=\"1\" class=\"dataframe\">\n",
       "  <thead>\n",
       "    <tr style=\"text-align: right;\">\n",
       "      <th></th>\n",
       "      <th>doc_id</th>\n",
       "      <th>results</th>\n",
       "    </tr>\n",
       "  </thead>\n",
       "  <tbody>\n",
       "    <tr>\n",
       "      <th>0</th>\n",
       "      <td>NCT04875351</td>\n",
       "      <td>[{'Biomarker': {'logical_column_id': 0, 'value...</td>\n",
       "    </tr>\n",
       "    <tr>\n",
       "      <th>1</th>\n",
       "      <td>NCT03180086</td>\n",
       "      <td>[{'Biomarker': {'logical_column_id': 0, 'value...</td>\n",
       "    </tr>\n",
       "  </tbody>\n",
       "</table>\n",
       "</div>"
      ],
      "text/plain": [
       "        doc_id                                            results\n",
       "0  NCT04875351  [{'Biomarker': {'logical_column_id': 0, 'value...\n",
       "1  NCT03180086  [{'Biomarker': {'logical_column_id': 0, 'value..."
      ]
     },
     "execution_count": 7,
     "metadata": {},
     "output_type": "execute_result"
    }
   ],
   "source": [
    "import pandas as pd\n",
    "\n",
    "# initiate an empty dataframe\n",
    "df = pd.DataFrame()\n",
    "pd.set_option(\"display.max_rows\", None, \"display.max_columns\", None, \"display.width\", 1000)\n",
    "\n",
    "# Retrieve main results from the JSON response, please note this cell would fail if the request failed in the last step\n",
    "for results in results_json:\n",
    "    df_dict = {}\n",
    "    for result_dict in results[\"results\"]:\n",
    "        for key, value_dict in result_dict.items():\n",
    "            df_dict[key] = value_dict['value']\n",
    "    df_dict[\"Doc Id\"] = results[\"doc_id\"]\n",
    "    df = pd.concat([df, pd.DataFrame.from_records([{**df_dict}])], ignore_index=True)\n",
    "\n",
    "# Check the dataframe\n",
    "df"
   ]
  },
  {
   "cell_type": "markdown",
   "id": "a5ba6687",
   "metadata": {},
   "source": [
    "### Optional: Make a request to ClinicalTrials.gov API to get NCTIDs associated with a specific disease\n",
    "\n",
    "Search URL for the ClincialTrials.gov API that allows user to search for the NCTId's of 10 documents. Search can be customized by modifying the study_fields expr value. In this example, the search will return 10 NCTIds of clinical trials about Breast Cancer."
   ]
  },
  {
   "cell_type": "code",
   "execution_count": 4,
   "id": "c6e5876a",
   "metadata": {
    "pycharm": {
     "name": "#%%\n"
    }
   },
   "outputs": [
    {
     "name": "stdout",
     "output_type": "stream",
     "text": [
      "['NCT04875351', 'NCT03180086', 'NCT03662633', 'NCT02493569', 'NCT03598660', 'NCT04167605', 'NCT04516330', 'NCT04495244', 'NCT03343691', 'NCT05082740']\n"
     ]
    }
   ],
   "source": [
    "import json\n",
    "\n",
    "# Search URL for the ClincialTrials.gov API that allows user to search for the NCTId's of 10 documents\n",
    "# Search can be customized by modifying the study_fields expr value\n",
    "# This search will return 10 NCTIds of clinical trials about Breast Cancer\n",
    "url = \"https://clinicaltrials.gov/api/query/study_fields?expr=Breast+Cancer&fields=NCTId&min_rnk=1&max_rnk=10&fmt=json\"\n",
    "response = requests.get(url)\n",
    "\n",
    "# Read in the JSON from the ClinicalTrials.gov API request\n",
    "j = json.loads(response.text)\n",
    "\n",
    "# initialize list for storing the NCTId's we will submit to endpoint\n",
    "nctids = []\n",
    "\n",
    "# Pull out the NCTId's for each document returned by the ClinicalTrials.gov and add to the list\n",
    "for item in j['StudyFieldsResponse']['StudyFields']:\n",
    "    nctids.append(item['NCTId'][0])\n",
    "\n",
    "print(nctids)"
   ]
  },
  {
   "cell_type": "markdown",
   "id": "d95cfe9e",
   "metadata": {},
   "source": [
    "That's it! Hope you find this tutorial useful! Bye!"
   ]
  },
  {
   "cell_type": "code",
   "execution_count": null,
   "id": "0362076e",
   "metadata": {
    "pycharm": {
     "name": "#%%"
    }
   },
   "outputs": [],
   "source": []
  }
 ],
 "metadata": {
  "kernelspec": {
   "display_name": "Python 3 (ipykernel)",
   "language": "python",
   "name": "python3"
  },
  "language_info": {
   "codemirror_mode": {
    "name": "ipython",
    "version": 3
   },
   "file_extension": ".py",
   "mimetype": "text/x-python",
   "name": "python",
   "nbconvert_exporter": "python",
   "pygments_lexer": "ipython3",
   "version": "3.8.10"
  }
 },
 "nbformat": 4,
 "nbformat_minor": 5
}