{
 "cells": [
  {
   "cell_type": "markdown",
   "id": "85ef04c1",
   "metadata": {},
   "source": [
    "# IQVIA NLP - Social Determinants of Health (SDoH)\n",
    "\n",
    "## API Description\n",
    "An increasing focus on health equity and awareness of the role of social determinants of health has created a growing need for population health analysis and predictive analytics. Social Determinants of Health (SDoH) are often documented in patients unstructured medical records but are poorly represented in structured data, therefore systematically surfacing this information is challenging.\n",
    "\n",
    "This API transforms unstructured medical records into structured normalized SDoH information, organized into classes and groups.\n",
    "\n",
    "## Accessing the API\n",
    "In order to consume this API, you will first need to Request access to the SDoH API via this link:\n",
    "https://api-marketplace.work.iqvia.com/s/communityapi/a085w00000ytJqIAAU/api-marketplaceiqvianlpsocialdeterminantsofhealthpreview\n",
    "\n",
    "Please refer to \"API Documentation\" to learn more about accessing and using the API.\n",
    "\n",
    "## Notebook Description\n",
    "This notebook is designed to show users an example of using the Social Determinents of Health NLP API to extract information such as Healthcare Systems, Education, Environment, Social Context, Food Insecurity, and Economic Stability. Each SDoH has several sub-classifications that are identified via this endpoint.\n",
    "\n",
    "### Authorization\n",
    "The instructions for getting your credentials and the API endpoint URL can be found under the section \"Get Started\" and \"How to use the API\" following this link: https://api-marketplace.work.iqvia.com/s/communityapi/a085w00000ytJqIAAU/api-marketplaceiqvianlpsocialdeterminantsofhealthpreview"
   ]
  },
  {
   "cell_type": "code",
   "execution_count": 3,
   "id": "fbd09f9f",
   "metadata": {
    "pycharm": {
     "name": "#%%\n"
    }
   },
   "outputs": [
    {
     "name": "stdout",
     "output_type": "stream",
     "text": [
      "Marketplace clientId: ee0c518489ae44ca82599a5632295cf4\n",
      "Marketplace clientSecret: ········\n",
      "Checking your credentials, please wait...\n",
      "Congratulations! Your credentials are accepted!\n"
     ]
    }
   ],
   "source": [
    "import getpass\n",
    "import requests\n",
    "\n",
    "# In this demo scenario, URL for US based customers\n",
    "# api_marketplace_url = 'https://vt.us-rds.solutions.iqvia.com/sdoh/api/v1/sdoh/'\n",
    "# In this demo scenario, URL for EU based customers\n",
    "api_marketplace_url = 'https://vt.eu-apim.solutions.iqvia.com/eu/sdoh/api/v1/sdoh/'\n",
    "\n",
    "mkp_user = input(\"Marketplace clientId: \")\n",
    "mkp_password = getpass.getpass(\"Marketplace clientSecret: \")\n",
    "mkp_headers = {'clientId': mkp_user, 'clientSecret': mkp_password}\n",
    "\n",
    "# Check credentials by making a dummy request\n",
    "print(\"Checking your credentials, please wait...\")\n",
    "response = requests.post(api_marketplace_url, headers=mkp_headers, files={'file': \"test\"})\n",
    "\n",
    "if response.status_code == 200:\n",
    "    print(\"Congratulations! Your credentials are accepted!\")\n",
    "else:\n",
    "    raise Exception(f\"Error: {response}\")"
   ]
  },
  {
   "cell_type": "markdown",
   "id": "ca80886d",
   "metadata": {
    "pycharm": {
     "name": "#%% md\n"
    }
   },
   "source": [
    "### Example one: Make a request with text string as input\n",
    "SDoH NLP API expects the String as Request Data Type. This example shows how to make a request to the API with text strings as input."
   ]
  },
  {
   "cell_type": "code",
   "execution_count": 4,
   "id": "b2ed2f9e",
   "metadata": {
    "pycharm": {
     "name": "#%%\n"
    }
   },
   "outputs": [
    {
     "name": "stdout",
     "output_type": "stream",
     "text": [
      "Posting text strings...\n",
      "Success!\n",
      "Raw JSON response from the API is: {'doc_id': 'file', 'results': [{'topic_class': {'logical_column_id': 0, 'value': 'Depression'}, 'topic': {'logical_column_id': 1, 'value': 'Depression NOS', 'original_spans_outer': [[92, 102]], 'original_spans_inner': [[92, 102]], 'indexed_spans_outer': [[3969, 4332]], 'indexed_spans_inner': [[3969, 4332]], 'text_spans_outer': [[31, 41]], 'text_spans_inner': [[31, 41]]}, 'polarity': {'logical_column_id': 2, 'value': 'TRUE', 'original_spans_outer': [[92, 102]], 'original_spans_inner': [[92, 102]], 'indexed_spans_outer': [[3969, 4332]], 'indexed_spans_inner': [[3969, 4332]], 'text_spans_outer': [[31, 41]], 'text_spans_inner': [[31, 41]]}, 'text': {'value': '... history of mild sadness or depression , which was relatively stable ...'}, 'suggested_codes': {'logical_column_id': 3, 'value': [{'ontology': 'snomed', 'code': '35489007', 'description': 'Depressive disorder (disorder)', 'url': 'https://snomedbrowser.com/Codes/Details/35489007'}, {'ontology': 'icd10cm', 'code': 'F32.9', 'description': 'Major depressive disorder, single episode, unspecified', 'url': 'https://icd10cmtool.cdc.gov/?fy=FY2021&q=F32.9'}]}}, {'topic_class': {'logical_column_id': 0, 'value': 'Depression'}, 'topic': {'logical_column_id': 1, 'value': 'Signs and symptoms of depression'}, 'polarity': {'logical_column_id': 2, 'value': 'FALSE', 'original_spans_outer': [[256, 317]], 'original_spans_inner': [[256, 317]], 'indexed_spans_outer': [[10686, 13147]], 'indexed_spans_inner': [[10686, 13147]], 'text_spans_outer': [[4, 65]], 'text_spans_inner': [[4, 65]]}, 'text': {'value': 'She denied any history of suicidal ideation or homicidal ideation .'}, 'suggested_codes': {'logical_column_id': 3, 'value': []}}, {'topic_class': {'logical_column_id': 0, 'value': 'Depression'}, 'topic': {'logical_column_id': 1, 'value': 'Signs and symptoms of depression'}, 'polarity': {'logical_column_id': 2, 'value': 'TRUE', 'original_spans_outer': [[81, 88]], 'original_spans_inner': [[81, 88]], 'indexed_spans_outer': [[3529, 3770]], 'indexed_spans_inner': [[3529, 3770]], 'text_spans_outer': [[30, 37]], 'text_spans_inner': [[30, 37]]}, 'text': {'value': '... a chronic history of mild sadness or depression , which was ...'}, 'suggested_codes': {'logical_column_id': 3, 'value': [{'ontology': 'snomed', 'code': '394924000', 'description': 'Symptoms of depression (finding)', 'url': 'https://snomedbrowser.com/Codes/Details/394924000'}, {'ontology': 'icd10cm', 'code': 'F32.9', 'description': 'Major depressive disorder, single episode, unspecified', 'url': 'https://icd10cmtool.cdc.gov/?fy=FY2021&q=F32.9'}]}}, {'topic_class': {'logical_column_id': 0, 'value': 'Living Condition'}, 'topic': {'logical_column_id': 1, 'value': 'Live alone', 'original_spans_outer': [[17, 40]], 'original_spans_inner': [[17, 40]], 'indexed_spans_outer': [[969, 1850]], 'indexed_spans_inner': [[969, 1850]], 'text_spans_outer': [[17, 40]], 'text_spans_inner': [[17, 40]]}, 'polarity': {'logical_column_id': 2, 'value': 'FALSE'}, 'text': {'value': 'She said she was living with her husband .'}, 'suggested_codes': {'logical_column_id': 3, 'value': [{'ontology': 'snomed', 'code': '365481000', 'description': 'Finding of household composition (finding)', 'url': 'https://snomedbrowser.com/Codes/Details/365481000'}]}}, {'topic_class': {'logical_column_id': 0, 'value': 'Substance Abuse', 'original_spans_outer': [[323, 337]], 'original_spans_inner': [[323, 337]], 'indexed_spans_outer': [[13433, 13967]], 'indexed_spans_inner': [[13433, 13967]], 'text_spans_outer': [[4, 18]], 'text_spans_inner': [[4, 18]]}, 'topic': {'logical_column_id': 1, 'value': 'Alcohol abuse', 'original_spans_outer': [[323, 337]], 'original_spans_inner': [[323, 337]], 'indexed_spans_outer': [[13433, 13967]], 'indexed_spans_inner': [[13433, 13967]], 'text_spans_outer': [[4, 18]], 'text_spans_inner': [[4, 18]]}, 'polarity': {'logical_column_id': 2, 'value': 'FALSE', 'original_spans_outer': [[323, 337]], 'original_spans_inner': [[323, 337]], 'indexed_spans_outer': [[13433, 13967]], 'indexed_spans_inner': [[13433, 13967]], 'text_spans_outer': [[4, 18]], 'text_spans_inner': [[4, 18]]}, 'text': {'value': 'She denied alcohol or illicit drug use .'}, 'suggested_codes': {'logical_column_id': 3, 'value': [{'ontology': 'snomed', 'code': '228273003', 'description': 'Finding relating to alcohol drinking behavior (finding)', 'url': 'https://snomedbrowser.com/Codes/Details/228273003'}]}}]}\n"
     ]
    }
   ],
   "source": [
    "import requests\n",
    "\n",
    "# Define input text\n",
    "input_text = \"She said she was living with her husband. She reported a chronic history of mild sadness or depression, which was relatively stable. When asked about her current psychological experience, she said that she was somewhat sad, but not dwelling on things. She denied any history of suicidal ideation or homicidal ideation. She denied alcohol or illicit drug use.\"\n",
    "\n",
    "# Make a request\n",
    "print(\"Posting text strings...\")\n",
    "response = requests.post(api_marketplace_url, headers=mkp_headers, files={'file': input_text})\n",
    "\n",
    "# Check the response\n",
    "if response.status_code == 200:\n",
    "    print(\"Success!\")\n",
    "    body_json = response.json()\n",
    "    print(f\"Raw JSON response from the API is: {body_json}\")\n",
    "else:\n",
    "    raise Exception(f\"Error: {response}\")\n"
   ]
  },
  {
   "cell_type": "markdown",
   "id": "ac948ae5",
   "metadata": {
    "pycharm": {
     "name": "#%% md\n"
    }
   },
   "source": [
    "Now that we have got the JSON response from the SDoH NLP API, we could convert the useful information associated with the keys into a pandas dataframe."
   ]
  },
  {
   "cell_type": "code",
   "execution_count": 5,
   "id": "cf809901",
   "metadata": {
    "pycharm": {
     "name": "#%%\n"
    }
   },
   "outputs": [
    {
     "data": {
      "text/html": [
       "<div>\n",
       "<style scoped>\n",
       "    .dataframe tbody tr th:only-of-type {\n",
       "        vertical-align: middle;\n",
       "    }\n",
       "\n",
       "    .dataframe tbody tr th {\n",
       "        vertical-align: top;\n",
       "    }\n",
       "\n",
       "    .dataframe thead th {\n",
       "        text-align: right;\n",
       "    }\n",
       "</style>\n",
       "<table border=\"1\" class=\"dataframe\">\n",
       "  <thead>\n",
       "    <tr style=\"text-align: right;\">\n",
       "      <th></th>\n",
       "      <th>topic_class</th>\n",
       "      <th>topic</th>\n",
       "      <th>polarity</th>\n",
       "      <th>text</th>\n",
       "      <th>suggested_codes</th>\n",
       "    </tr>\n",
       "  </thead>\n",
       "  <tbody>\n",
       "    <tr>\n",
       "      <th>0</th>\n",
       "      <td>Depression</td>\n",
       "      <td>Depression NOS</td>\n",
       "      <td>TRUE</td>\n",
       "      <td>... history of mild sadness or depression , wh...</td>\n",
       "      <td>[{'ontology': 'snomed', 'code': '35489007', 'd...</td>\n",
       "    </tr>\n",
       "    <tr>\n",
       "      <th>1</th>\n",
       "      <td>Depression</td>\n",
       "      <td>Signs and symptoms of depression</td>\n",
       "      <td>FALSE</td>\n",
       "      <td>She denied any history of suicidal ideation or...</td>\n",
       "      <td>[]</td>\n",
       "    </tr>\n",
       "    <tr>\n",
       "      <th>2</th>\n",
       "      <td>Depression</td>\n",
       "      <td>Signs and symptoms of depression</td>\n",
       "      <td>TRUE</td>\n",
       "      <td>... a chronic history of mild sadness or depre...</td>\n",
       "      <td>[{'ontology': 'snomed', 'code': '394924000', '...</td>\n",
       "    </tr>\n",
       "    <tr>\n",
       "      <th>3</th>\n",
       "      <td>Living Condition</td>\n",
       "      <td>Live alone</td>\n",
       "      <td>FALSE</td>\n",
       "      <td>She said she was living with her husband .</td>\n",
       "      <td>[{'ontology': 'snomed', 'code': '365481000', '...</td>\n",
       "    </tr>\n",
       "    <tr>\n",
       "      <th>4</th>\n",
       "      <td>Substance Abuse</td>\n",
       "      <td>Alcohol abuse</td>\n",
       "      <td>FALSE</td>\n",
       "      <td>She denied alcohol or illicit drug use .</td>\n",
       "      <td>[{'ontology': 'snomed', 'code': '228273003', '...</td>\n",
       "    </tr>\n",
       "  </tbody>\n",
       "</table>\n",
       "</div>"
      ],
      "text/plain": [
       "        topic_class                             topic polarity                                               text                                    suggested_codes\n",
       "0        Depression                    Depression NOS     TRUE  ... history of mild sadness or depression , wh...  [{'ontology': 'snomed', 'code': '35489007', 'd...\n",
       "1        Depression  Signs and symptoms of depression    FALSE  She denied any history of suicidal ideation or...                                                 []\n",
       "2        Depression  Signs and symptoms of depression     TRUE  ... a chronic history of mild sadness or depre...  [{'ontology': 'snomed', 'code': '394924000', '...\n",
       "3  Living Condition                        Live alone    FALSE         She said she was living with her husband .  [{'ontology': 'snomed', 'code': '365481000', '...\n",
       "4   Substance Abuse                     Alcohol abuse    FALSE           She denied alcohol or illicit drug use .  [{'ontology': 'snomed', 'code': '228273003', '..."
      ]
     },
     "execution_count": 5,
     "metadata": {},
     "output_type": "execute_result"
    }
   ],
   "source": [
    "import pandas as pd\n",
    "\n",
    "# initiate an empty dataframe\n",
    "df = pd.DataFrame()\n",
    "pd.set_option(\"display.max_rows\", None, \"display.max_columns\", None, \"display.width\", 1000)\n",
    "\n",
    "# Retrieve main results from the JSON response, please note this cell would fail if the request failed in the last step\n",
    "results = body_json[\"results\"]\n",
    "for result_dict in results:\n",
    "    df_dict = {}\n",
    "    for key, value_dict in result_dict.items():\n",
    "        df_dict[key] = value_dict['value']\n",
    "    df = pd.concat([df, pd.DataFrame.from_records([{**df_dict}])], ignore_index=True)\n",
    "\n",
    "# Check the dataframe\n",
    "df"
   ]
  },
  {
   "cell_type": "markdown",
   "id": "325b533a",
   "metadata": {},
   "source": [
    "### Example two: Make a request with a zip file as input"
   ]
  },
  {
   "cell_type": "code",
   "execution_count": null,
   "id": "1f1b2417",
   "metadata": {
    "pycharm": {
     "name": "#%%\n"
    }
   },
   "outputs": [
    {
     "name": "stdout",
     "output_type": "stream",
     "text": [
      "Documents extracted to: C:\\Users\\Hui.Feng\\Documents\\Git\\api-marketplace-demo\\demo_docs/SDoH/SDoH_demo\n",
      "Posting text files from the zip file...\n",
      "Posting M1.txt...\n",
      "Success! Adding response to the full results!\n",
      "Posting M10.txt...\n",
      "Success! Adding response to the full results!\n",
      "Posting M11.txt...\n",
      "Success! Adding response to the full results!\n",
      "Posting M12.txt...\n",
      "Success! Adding response to the full results!\n",
      "Posting M13.txt...\n",
      "Success! Adding response to the full results!\n",
      "Posting M14.txt...\n",
      "Success! Adding response to the full results!\n",
      "Posting M15.txt...\n"
     ]
    }
   ],
   "source": [
    "import os\n",
    "import shutil\n",
    "import zipfile\n",
    "\n",
    "# Define input zip location\n",
    "input_zip = os.path.join(os.path.dirname(os.getcwd()), \"demo_docs/SDoH/SDoH_demo.zip\")\n",
    "\n",
    "# Define a directory to extract the input zip file into\n",
    "input_folder = os.path.join(os.path.dirname(os.getcwd()), \"demo_docs/SDoH/SDoH_demo\")\n",
    "if os.path.isdir(input_folder):\n",
    "    shutil.rmtree(input_folder)\n",
    "os.mkdir(input_folder)\n",
    "\n",
    "# Extract files from the input zip into the folder\n",
    "with zipfile.ZipFile(input_zip, \"r\") as zip_ref:\n",
    "    zip_ref.extractall(input_folder)\n",
    "print(f\"Documents extracted to: {input_folder}\")\n",
    "\n",
    "# Make a request with all extracted files\n",
    "print(\"Posting text files from the zip file...\")\n",
    "responses = []\n",
    "for filename in os.listdir(input_folder):\n",
    "    file_path = os.path.join(input_folder, filename)\n",
    "    with open(file_path, \"r\") as file:\n",
    "        print(f\"Posting {filename}...\")\n",
    "        response = requests.post(api_marketplace_url, headers=mkp_headers, files={'file': file})\n",
    "        if response.status_code == 200:\n",
    "            print(\"Success! Adding response to the full results!\")\n",
    "            responses.append(response.json())\n",
    "        else:\n",
    "            print(f\"Error: {response}\")\n",
    "            exit()\n",
    "print(\"All done!\")\n",
    "print(f\"JSON responses are: {responses}\")"
   ]
  },
  {
   "cell_type": "markdown",
   "id": "c9624616",
   "metadata": {},
   "source": [
    "Similar to Example one, you could convert the JSON output into a pandas dataframe."
   ]
  },
  {
   "cell_type": "code",
   "execution_count": 19,
   "id": "61b9dbb0",
   "metadata": {
    "pycharm": {
     "name": "#%%\n"
    }
   },
   "outputs": [
    {
     "data": {
      "text/html": [
       "<div>\n",
       "<style scoped>\n",
       "    .dataframe tbody tr th:only-of-type {\n",
       "        vertical-align: middle;\n",
       "    }\n",
       "\n",
       "    .dataframe tbody tr th {\n",
       "        vertical-align: top;\n",
       "    }\n",
       "\n",
       "    .dataframe thead th {\n",
       "        text-align: right;\n",
       "    }\n",
       "</style>\n",
       "<table border=\"1\" class=\"dataframe\">\n",
       "  <thead>\n",
       "    <tr style=\"text-align: right;\">\n",
       "      <th></th>\n",
       "      <th>topic_class</th>\n",
       "      <th>topic</th>\n",
       "      <th>polarity</th>\n",
       "      <th>text</th>\n",
       "      <th>suggested_codes</th>\n",
       "    </tr>\n",
       "  </thead>\n",
       "  <tbody>\n",
       "    <tr>\n",
       "      <th>0</th>\n",
       "      <td>Employment Status</td>\n",
       "      <td>Not employed</td>\n",
       "      <td>FALSE</td>\n",
       "      <td>He works as a payroll representative and previ...</td>\n",
       "      <td>[{'ontology': 'snomed', 'code': '224363007', '...</td>\n",
       "    </tr>\n",
       "    <tr>\n",
       "      <th>1</th>\n",
       "      <td>Substance Abuse</td>\n",
       "      <td>Tobacco abuse</td>\n",
       "      <td>FALSE</td>\n",
       "      <td>... HISTORY : He is a non-cigarette smoker and...</td>\n",
       "      <td>[{'ontology': 'snomed', 'code': '8392000', 'de...</td>\n",
       "    </tr>\n",
       "    <tr>\n",
       "      <th>2</th>\n",
       "      <td>Weight Range Category</td>\n",
       "      <td>Obesity NOS</td>\n",
       "      <td>TRUE</td>\n",
       "      <td>... GENERAL : Presents as an obese 60-year-old...</td>\n",
       "      <td>[{'ontology': 'snomed', 'code': '414915002', '...</td>\n",
       "    </tr>\n",
       "    <tr>\n",
       "      <th>3</th>\n",
       "      <td>Weight Range Category</td>\n",
       "      <td>Obesity NOS</td>\n",
       "      <td>TRUE</td>\n",
       "      <td>ABDOMEN : Obese .</td>\n",
       "      <td>[{'ontology': 'snomed', 'code': '414915002', '...</td>\n",
       "    </tr>\n",
       "    <tr>\n",
       "      <th>4</th>\n",
       "      <td>Depression</td>\n",
       "      <td>Signs and symptoms of depression</td>\n",
       "      <td>TRUE</td>\n",
       "      <td>... , reflux in 2000 , insomnia , but no snori...</td>\n",
       "      <td>[{'ontology': 'snomed', 'code': '394924000', '...</td>\n",
       "    </tr>\n",
       "    <tr>\n",
       "      <th>5</th>\n",
       "      <td>Limited English</td>\n",
       "      <td>Limited English NOS</td>\n",
       "      <td>FALSE</td>\n",
       "      <td>... many many years and speaks fluent English ...</td>\n",
       "      <td>[{'ontology': 'snomed', 'code': '161147007', '...</td>\n",
       "    </tr>\n",
       "    <tr>\n",
       "      <th>6</th>\n",
       "      <td>Living Condition</td>\n",
       "      <td>Live alone</td>\n",
       "      <td>FALSE</td>\n",
       "      <td>SOCIAL HISTORY : She lives with her husband .</td>\n",
       "      <td>[{'ontology': 'snomed', 'code': '365481000', '...</td>\n",
       "    </tr>\n",
       "    <tr>\n",
       "      <th>7</th>\n",
       "      <td>Substance Abuse</td>\n",
       "      <td>Alcohol abuse</td>\n",
       "      <td>FALSE</td>\n",
       "      <td>She is a nonsmoker and no history of drug or a...</td>\n",
       "      <td>[{'ontology': 'snomed', 'code': '228273003', '...</td>\n",
       "    </tr>\n",
       "    <tr>\n",
       "      <th>8</th>\n",
       "      <td>Substance Abuse</td>\n",
       "      <td>Illicit drug abuse</td>\n",
       "      <td>FALSE</td>\n",
       "      <td>She is a nonsmoker and no history of drug or a...</td>\n",
       "      <td>[{'ontology': 'snomed', 'code': '707848009', '...</td>\n",
       "    </tr>\n",
       "    <tr>\n",
       "      <th>9</th>\n",
       "      <td>Substance Abuse</td>\n",
       "      <td>Tobacco abuse</td>\n",
       "      <td>FALSE</td>\n",
       "      <td>She is a nonsmoker and no history of drug ...</td>\n",
       "      <td>[{'ontology': 'snomed', 'code': '8392000', 'de...</td>\n",
       "    </tr>\n",
       "  </tbody>\n",
       "</table>\n",
       "</div>"
      ],
      "text/plain": [
       "             topic_class                             topic polarity                                               text                                    suggested_codes\n",
       "0      Employment Status                      Not employed    FALSE  He works as a payroll representative and previ...  [{'ontology': 'snomed', 'code': '224363007', '...\n",
       "1        Substance Abuse                     Tobacco abuse    FALSE  ... HISTORY : He is a non-cigarette smoker and...  [{'ontology': 'snomed', 'code': '8392000', 'de...\n",
       "2  Weight Range Category                       Obesity NOS     TRUE  ... GENERAL : Presents as an obese 60-year-old...  [{'ontology': 'snomed', 'code': '414915002', '...\n",
       "3  Weight Range Category                       Obesity NOS     TRUE                                  ABDOMEN : Obese .  [{'ontology': 'snomed', 'code': '414915002', '...\n",
       "4             Depression  Signs and symptoms of depression     TRUE  ... , reflux in 2000 , insomnia , but no snori...  [{'ontology': 'snomed', 'code': '394924000', '...\n",
       "5        Limited English               Limited English NOS    FALSE  ... many many years and speaks fluent English ...  [{'ontology': 'snomed', 'code': '161147007', '...\n",
       "6       Living Condition                        Live alone    FALSE      SOCIAL HISTORY : She lives with her husband .  [{'ontology': 'snomed', 'code': '365481000', '...\n",
       "7        Substance Abuse                     Alcohol abuse    FALSE  She is a nonsmoker and no history of drug or a...  [{'ontology': 'snomed', 'code': '228273003', '...\n",
       "8        Substance Abuse                Illicit drug abuse    FALSE  She is a nonsmoker and no history of drug or a...  [{'ontology': 'snomed', 'code': '707848009', '...\n",
       "9        Substance Abuse                     Tobacco abuse    FALSE      She is a nonsmoker and no history of drug ...  [{'ontology': 'snomed', 'code': '8392000', 'de..."
      ]
     },
     "execution_count": 19,
     "metadata": {},
     "output_type": "execute_result"
    }
   ],
   "source": [
    "import pandas as pd\n",
    "\n",
    "# initiate an empty dataframe\n",
    "df = pd.DataFrame()\n",
    "pd.set_option(\"display.max_rows\", None, \"display.max_columns\", None, \"display.width\", 1000)\n",
    "\n",
    "# Retrieve main results from the JSON response, please note this cell would fail if the request failed in the last step\n",
    "for body_json in responses:\n",
    "    results = body_json[\"results\"]\n",
    "    for result_dict in results:\n",
    "        df_dict = {}\n",
    "        for key, value_dict in result_dict.items():\n",
    "            df_dict[key] = value_dict['value']\n",
    "        df_dict[\"Doc ID\"] = body_json[\"doc_id\"]\n",
    "        df = pd.concat([df, pd.DataFrame.from_records([{**df_dict}])], ignore_index=True)\n",
    "\n",
    "# Check the dataframe\n",
    "df.head(10)"
   ]
  },
  {
   "cell_type": "markdown",
   "id": "45e1c2f7",
   "metadata": {},
   "source": [
    "That's it! Hope you find this tutorial useful! Bye!"
   ]
  },
  {
   "cell_type": "code",
   "execution_count": null,
   "id": "e2a95d90",
   "metadata": {
    "pycharm": {
     "name": "#%%\n"
    }
   },
   "outputs": [],
   "source": [
    "\n",
    "\n"
   ]
  }
 ],
 "metadata": {
  "kernelspec": {
   "display_name": "Python 3 (ipykernel)",
   "language": "python",
   "name": "python3"
  },
  "language_info": {
   "codemirror_mode": {
    "name": "ipython",
    "version": 3
   },
   "file_extension": ".py",
   "mimetype": "text/x-python",
   "name": "python",
   "nbconvert_exporter": "python",
   "pygments_lexer": "ipython3",
   "version": "3.8.10"
  }
 },
 "nbformat": 4,
 "nbformat_minor": 5
}