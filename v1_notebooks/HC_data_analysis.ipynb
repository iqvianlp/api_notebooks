{
 "cells": [
  {
   "cell_type": "markdown",
   "metadata": {
    "collapsed": true,
    "pycharm": {
     "name": "#%% md\n"
    }
   },
   "source": [
    "# IQVIA NLP API\n",
    "\n",
    "## Optional: Analysing results from APIs\n",
    "\n",
    "This session is optional. In this session, we will demonstrate how to use the results from different IQVIA NLP API to gain insights of the input data.\n",
    "\n",
    "Please note, in order to save your API usage and time, we have provided the pre-run results in this package. The input for these results are synthetic data, please do not take any of the analysis results shown in this demo as scientific proofs.\n",
    "\n",
    "### Insights of the population from Social Determinants of Health (SDoH) API results\n",
    "\n",
    "Load the data as a pandas dataframe."
   ]
  },
  {
   "cell_type": "code",
   "execution_count": 24,
   "metadata": {
    "pycharm": {
     "name": "#%%\n"
    },
    "scrolled": true
   },
   "outputs": [
    {
     "name": "stdout",
     "output_type": "stream",
     "text": [
      "Pre-run SDoH results loaded! Preview:\n"
     ]
    },
    {
     "data": {
      "text/html": [
       "<div>\n",
       "<style scoped>\n",
       "    .dataframe tbody tr th:only-of-type {\n",
       "        vertical-align: middle;\n",
       "    }\n",
       "\n",
       "    .dataframe tbody tr th {\n",
       "        vertical-align: top;\n",
       "    }\n",
       "\n",
       "    .dataframe thead th {\n",
       "        text-align: right;\n",
       "    }\n",
       "</style>\n",
       "<table border=\"1\" class=\"dataframe\">\n",
       "  <thead>\n",
       "    <tr style=\"text-align: right;\">\n",
       "      <th></th>\n",
       "      <th>topic_class</th>\n",
       "      <th>topic</th>\n",
       "      <th>text</th>\n",
       "      <th>polarity</th>\n",
       "      <th>suggested_codes</th>\n",
       "      <th>Doc ID</th>\n",
       "    </tr>\n",
       "  </thead>\n",
       "  <tbody>\n",
       "    <tr>\n",
       "      <th>0</th>\n",
       "      <td>Employment Status</td>\n",
       "      <td>Not employed</td>\n",
       "      <td>He works as a payroll representative and previ...</td>\n",
       "      <td>FALSE</td>\n",
       "      <td>[{'ontology': 'snomed', 'code': '224363007', '...</td>\n",
       "      <td>M10.txt</td>\n",
       "    </tr>\n",
       "    <tr>\n",
       "      <th>1</th>\n",
       "      <td>Substance Abuse</td>\n",
       "      <td>Tobacco abuse</td>\n",
       "      <td>... HISTORY : He is a non-cigarette smoker and...</td>\n",
       "      <td>FALSE</td>\n",
       "      <td>[{'ontology': 'snomed', 'code': '8392000', 'de...</td>\n",
       "      <td>M10.txt</td>\n",
       "    </tr>\n",
       "    <tr>\n",
       "      <th>2</th>\n",
       "      <td>Weight Range Category</td>\n",
       "      <td>Obesity NOS</td>\n",
       "      <td>... GENERAL : Presents as an obese 60-year-old...</td>\n",
       "      <td>TRUE</td>\n",
       "      <td>[{'ontology': 'snomed', 'code': '414915002', '...</td>\n",
       "      <td>M10.txt</td>\n",
       "    </tr>\n",
       "    <tr>\n",
       "      <th>3</th>\n",
       "      <td>Weight Range Category</td>\n",
       "      <td>Obesity NOS</td>\n",
       "      <td>ABDOMEN : Obese .</td>\n",
       "      <td>TRUE</td>\n",
       "      <td>[{'ontology': 'snomed', 'code': '414915002', '...</td>\n",
       "      <td>M10.txt</td>\n",
       "    </tr>\n",
       "    <tr>\n",
       "      <th>4</th>\n",
       "      <td>Ambulatory Issue</td>\n",
       "      <td>Difficulty ambulating</td>\n",
       "      <td>... , snapping , malalignment , difficulty wit...</td>\n",
       "      <td>TRUE</td>\n",
       "      <td>[{'ontology': 'snomed', 'code': '719232003', '...</td>\n",
       "      <td>M104.txt</td>\n",
       "    </tr>\n",
       "    <tr>\n",
       "      <th>5</th>\n",
       "      <td>Ambulatory Issue</td>\n",
       "      <td>Difficulty ambulating</td>\n",
       "      <td>... over time and is having difficulty ambulat...</td>\n",
       "      <td>TRUE</td>\n",
       "      <td>[{'ontology': 'snomed', 'code': '719232003', '...</td>\n",
       "      <td>M106.txt</td>\n",
       "    </tr>\n",
       "    <tr>\n",
       "      <th>6</th>\n",
       "      <td>Physical Inactivity</td>\n",
       "      <td>Counseling to increase physical activity</td>\n",
       "      <td>... patient was given crutches and instructed ...</td>\n",
       "      <td>TRUE</td>\n",
       "      <td>[{'ontology': 'snomed', 'code': '129861002', '...</td>\n",
       "      <td>M106.txt</td>\n",
       "    </tr>\n",
       "    <tr>\n",
       "      <th>7</th>\n",
       "      <td>Ambulatory Issue</td>\n",
       "      <td>Difficulty ambulating</td>\n",
       "      <td>... time and it is currently difficult for her...</td>\n",
       "      <td>TRUE</td>\n",
       "      <td>[{'ontology': 'snomed', 'code': '719232003', '...</td>\n",
       "      <td>M107.txt</td>\n",
       "    </tr>\n",
       "    <tr>\n",
       "      <th>8</th>\n",
       "      <td>Depression</td>\n",
       "      <td>Depression NOS</td>\n",
       "      <td>... patient is on fluoxetine for depression an...</td>\n",
       "      <td>TRUE</td>\n",
       "      <td>[{'ontology': 'snomed', 'code': '35489007', 'd...</td>\n",
       "      <td>M108.txt</td>\n",
       "    </tr>\n",
       "    <tr>\n",
       "      <th>9</th>\n",
       "      <td>Living Condition</td>\n",
       "      <td>Live alone</td>\n",
       "      <td>... is a nonsmoker , and lives with her husban...</td>\n",
       "      <td>FALSE</td>\n",
       "      <td>[{'ontology': 'snomed', 'code': '365481000', '...</td>\n",
       "      <td>M108.txt</td>\n",
       "    </tr>\n",
       "  </tbody>\n",
       "</table>\n",
       "</div>"
      ],
      "text/plain": [
       "             topic_class                                     topic                                               text polarity                                    suggested_codes    Doc ID\n",
       "0      Employment Status                              Not employed  He works as a payroll representative and previ...    FALSE  [{'ontology': 'snomed', 'code': '224363007', '...   M10.txt\n",
       "1        Substance Abuse                             Tobacco abuse  ... HISTORY : He is a non-cigarette smoker and...    FALSE  [{'ontology': 'snomed', 'code': '8392000', 'de...   M10.txt\n",
       "2  Weight Range Category                               Obesity NOS  ... GENERAL : Presents as an obese 60-year-old...     TRUE  [{'ontology': 'snomed', 'code': '414915002', '...   M10.txt\n",
       "3  Weight Range Category                               Obesity NOS                                  ABDOMEN : Obese .     TRUE  [{'ontology': 'snomed', 'code': '414915002', '...   M10.txt\n",
       "4       Ambulatory Issue                     Difficulty ambulating  ... , snapping , malalignment , difficulty wit...     TRUE  [{'ontology': 'snomed', 'code': '719232003', '...  M104.txt\n",
       "5       Ambulatory Issue                     Difficulty ambulating  ... over time and is having difficulty ambulat...     TRUE  [{'ontology': 'snomed', 'code': '719232003', '...  M106.txt\n",
       "6    Physical Inactivity  Counseling to increase physical activity  ... patient was given crutches and instructed ...     TRUE  [{'ontology': 'snomed', 'code': '129861002', '...  M106.txt\n",
       "7       Ambulatory Issue                     Difficulty ambulating  ... time and it is currently difficult for her...     TRUE  [{'ontology': 'snomed', 'code': '719232003', '...  M107.txt\n",
       "8             Depression                            Depression NOS  ... patient is on fluoxetine for depression an...     TRUE  [{'ontology': 'snomed', 'code': '35489007', 'd...  M108.txt\n",
       "9       Living Condition                                Live alone  ... is a nonsmoker , and lives with her husban...    FALSE  [{'ontology': 'snomed', 'code': '365481000', '...  M108.txt"
      ]
     },
     "execution_count": 24,
     "metadata": {},
     "output_type": "execute_result"
    }
   ],
   "source": [
    "import os\n",
    "import pandas as pd\n",
    "\n",
    "pd.set_option(\"display.max_rows\", None, \"display.max_columns\", None, \"display.width\", 1000)\n",
    "\n",
    "df_sdoh = pd.read_csv(os.path.join(os.path.dirname(os.getcwd()), \"demo_docs/HC_data_analysis/SDoH_prerun.csv\"), dtype=str, encoding=\"utf-8\")\n",
    "\n",
    "print(\"Pre-run SDoH results loaded! Preview:\")\n",
    "df_sdoh.head(10)"
   ]
  },
  {
   "cell_type": "markdown",
   "metadata": {
    "pycharm": {
     "name": "#%% md\n"
    }
   },
   "source": [
    "Keep only columns of interest."
   ]
  },
  {
   "cell_type": "code",
   "execution_count": 25,
   "metadata": {
    "pycharm": {
     "name": "#%%\n"
    },
    "scrolled": true
   },
   "outputs": [
    {
     "data": {
      "text/html": [
       "<div>\n",
       "<style scoped>\n",
       "    .dataframe tbody tr th:only-of-type {\n",
       "        vertical-align: middle;\n",
       "    }\n",
       "\n",
       "    .dataframe tbody tr th {\n",
       "        vertical-align: top;\n",
       "    }\n",
       "\n",
       "    .dataframe thead th {\n",
       "        text-align: right;\n",
       "    }\n",
       "</style>\n",
       "<table border=\"1\" class=\"dataframe\">\n",
       "  <thead>\n",
       "    <tr style=\"text-align: right;\">\n",
       "      <th></th>\n",
       "      <th>topic_class</th>\n",
       "      <th>topic</th>\n",
       "      <th>polarity</th>\n",
       "      <th>Doc ID</th>\n",
       "    </tr>\n",
       "  </thead>\n",
       "  <tbody>\n",
       "    <tr>\n",
       "      <th>0</th>\n",
       "      <td>Employment Status</td>\n",
       "      <td>Not employed</td>\n",
       "      <td>FALSE</td>\n",
       "      <td>M10.txt</td>\n",
       "    </tr>\n",
       "    <tr>\n",
       "      <th>1</th>\n",
       "      <td>Substance Abuse</td>\n",
       "      <td>Tobacco abuse</td>\n",
       "      <td>FALSE</td>\n",
       "      <td>M10.txt</td>\n",
       "    </tr>\n",
       "    <tr>\n",
       "      <th>2</th>\n",
       "      <td>Weight Range Category</td>\n",
       "      <td>Obesity NOS</td>\n",
       "      <td>TRUE</td>\n",
       "      <td>M10.txt</td>\n",
       "    </tr>\n",
       "    <tr>\n",
       "      <th>4</th>\n",
       "      <td>Ambulatory Issue</td>\n",
       "      <td>Difficulty ambulating</td>\n",
       "      <td>TRUE</td>\n",
       "      <td>M104.txt</td>\n",
       "    </tr>\n",
       "    <tr>\n",
       "      <th>5</th>\n",
       "      <td>Ambulatory Issue</td>\n",
       "      <td>Difficulty ambulating</td>\n",
       "      <td>TRUE</td>\n",
       "      <td>M106.txt</td>\n",
       "    </tr>\n",
       "    <tr>\n",
       "      <th>6</th>\n",
       "      <td>Physical Inactivity</td>\n",
       "      <td>Counseling to increase physical activity</td>\n",
       "      <td>TRUE</td>\n",
       "      <td>M106.txt</td>\n",
       "    </tr>\n",
       "    <tr>\n",
       "      <th>7</th>\n",
       "      <td>Ambulatory Issue</td>\n",
       "      <td>Difficulty ambulating</td>\n",
       "      <td>TRUE</td>\n",
       "      <td>M107.txt</td>\n",
       "    </tr>\n",
       "    <tr>\n",
       "      <th>8</th>\n",
       "      <td>Depression</td>\n",
       "      <td>Depression NOS</td>\n",
       "      <td>TRUE</td>\n",
       "      <td>M108.txt</td>\n",
       "    </tr>\n",
       "    <tr>\n",
       "      <th>9</th>\n",
       "      <td>Living Condition</td>\n",
       "      <td>Live alone</td>\n",
       "      <td>FALSE</td>\n",
       "      <td>M108.txt</td>\n",
       "    </tr>\n",
       "    <tr>\n",
       "      <th>10</th>\n",
       "      <td>Substance Abuse</td>\n",
       "      <td>Tobacco abuse</td>\n",
       "      <td>FALSE</td>\n",
       "      <td>M108.txt</td>\n",
       "    </tr>\n",
       "  </tbody>\n",
       "</table>\n",
       "</div>"
      ],
      "text/plain": [
       "              topic_class                                     topic polarity    Doc ID\n",
       "0       Employment Status                              Not employed    FALSE   M10.txt\n",
       "1         Substance Abuse                             Tobacco abuse    FALSE   M10.txt\n",
       "2   Weight Range Category                               Obesity NOS     TRUE   M10.txt\n",
       "4        Ambulatory Issue                     Difficulty ambulating     TRUE  M104.txt\n",
       "5        Ambulatory Issue                     Difficulty ambulating     TRUE  M106.txt\n",
       "6     Physical Inactivity  Counseling to increase physical activity     TRUE  M106.txt\n",
       "7        Ambulatory Issue                     Difficulty ambulating     TRUE  M107.txt\n",
       "8              Depression                            Depression NOS     TRUE  M108.txt\n",
       "9        Living Condition                                Live alone    FALSE  M108.txt\n",
       "10        Substance Abuse                             Tobacco abuse    FALSE  M108.txt"
      ]
     },
     "execution_count": 25,
     "metadata": {},
     "output_type": "execute_result"
    }
   ],
   "source": [
    "df_sdoh = df_sdoh[[\"topic_class\", \"topic\", \"polarity\", \"Doc ID\"]].drop_duplicates()\n",
    "\n",
    "df_sdoh.head(10)"
   ]
  },
  {
   "cell_type": "markdown",
   "metadata": {},
   "source": [
    "First, let's explore at a high-level to find out the SDoH topics which the population is suffering the most."
   ]
  },
  {
   "cell_type": "code",
   "execution_count": 26,
   "metadata": {
    "pycharm": {
     "name": "#%%\n"
    },
    "scrolled": true
   },
   "outputs": [
    {
     "data": {
      "text/html": [
       "<div>\n",
       "<style scoped>\n",
       "    .dataframe tbody tr th:only-of-type {\n",
       "        vertical-align: middle;\n",
       "    }\n",
       "\n",
       "    .dataframe tbody tr th {\n",
       "        vertical-align: top;\n",
       "    }\n",
       "\n",
       "    .dataframe thead th {\n",
       "        text-align: right;\n",
       "    }\n",
       "</style>\n",
       "<table border=\"1\" class=\"dataframe\">\n",
       "  <thead>\n",
       "    <tr style=\"text-align: right;\">\n",
       "      <th></th>\n",
       "      <th>topic_class</th>\n",
       "      <th>polarity</th>\n",
       "      <th>count</th>\n",
       "    </tr>\n",
       "  </thead>\n",
       "  <tbody>\n",
       "    <tr>\n",
       "      <th>0</th>\n",
       "      <td>Ambulatory Issue</td>\n",
       "      <td>FALSE</td>\n",
       "      <td>8</td>\n",
       "    </tr>\n",
       "    <tr>\n",
       "      <th>1</th>\n",
       "      <td>Ambulatory Issue</td>\n",
       "      <td>TRUE</td>\n",
       "      <td>13</td>\n",
       "    </tr>\n",
       "    <tr>\n",
       "      <th>2</th>\n",
       "      <td>Depression</td>\n",
       "      <td>FALSE</td>\n",
       "      <td>9</td>\n",
       "    </tr>\n",
       "    <tr>\n",
       "      <th>3</th>\n",
       "      <td>Depression</td>\n",
       "      <td>TRUE</td>\n",
       "      <td>32</td>\n",
       "    </tr>\n",
       "    <tr>\n",
       "      <th>4</th>\n",
       "      <td>Employment Status</td>\n",
       "      <td>FALSE</td>\n",
       "      <td>4</td>\n",
       "    </tr>\n",
       "    <tr>\n",
       "      <th>5</th>\n",
       "      <td>Employment Status</td>\n",
       "      <td>TRUE</td>\n",
       "      <td>2</td>\n",
       "    </tr>\n",
       "    <tr>\n",
       "      <th>6</th>\n",
       "      <td>Limited English</td>\n",
       "      <td>FALSE</td>\n",
       "      <td>1</td>\n",
       "    </tr>\n",
       "    <tr>\n",
       "      <th>7</th>\n",
       "      <td>Living Condition</td>\n",
       "      <td>FALSE</td>\n",
       "      <td>13</td>\n",
       "    </tr>\n",
       "    <tr>\n",
       "      <th>8</th>\n",
       "      <td>Living Condition</td>\n",
       "      <td>TRUE</td>\n",
       "      <td>3</td>\n",
       "    </tr>\n",
       "    <tr>\n",
       "      <th>9</th>\n",
       "      <td>Physical Inactivity</td>\n",
       "      <td>TRUE</td>\n",
       "      <td>7</td>\n",
       "    </tr>\n",
       "    <tr>\n",
       "      <th>10</th>\n",
       "      <td>Stress</td>\n",
       "      <td>FALSE</td>\n",
       "      <td>1</td>\n",
       "    </tr>\n",
       "    <tr>\n",
       "      <th>11</th>\n",
       "      <td>Stress</td>\n",
       "      <td>NeedReview</td>\n",
       "      <td>1</td>\n",
       "    </tr>\n",
       "    <tr>\n",
       "      <th>12</th>\n",
       "      <td>Stress</td>\n",
       "      <td>TRUE</td>\n",
       "      <td>7</td>\n",
       "    </tr>\n",
       "    <tr>\n",
       "      <th>13</th>\n",
       "      <td>Substance Abuse</td>\n",
       "      <td>FALSE</td>\n",
       "      <td>34</td>\n",
       "    </tr>\n",
       "    <tr>\n",
       "      <th>14</th>\n",
       "      <td>Substance Abuse</td>\n",
       "      <td>TRUE</td>\n",
       "      <td>30</td>\n",
       "    </tr>\n",
       "    <tr>\n",
       "      <th>15</th>\n",
       "      <td>Victim of Crime and Violence</td>\n",
       "      <td>TRUE</td>\n",
       "      <td>2</td>\n",
       "    </tr>\n",
       "    <tr>\n",
       "      <th>16</th>\n",
       "      <td>Weight Range Category</td>\n",
       "      <td>TRUE</td>\n",
       "      <td>23</td>\n",
       "    </tr>\n",
       "  </tbody>\n",
       "</table>\n",
       "</div>"
      ],
      "text/plain": [
       "                     topic_class    polarity  count\n",
       "0               Ambulatory Issue       FALSE      8\n",
       "1               Ambulatory Issue        TRUE     13\n",
       "2                     Depression       FALSE      9\n",
       "3                     Depression        TRUE     32\n",
       "4              Employment Status       FALSE      4\n",
       "5              Employment Status        TRUE      2\n",
       "6                Limited English       FALSE      1\n",
       "7               Living Condition       FALSE     13\n",
       "8               Living Condition        TRUE      3\n",
       "9            Physical Inactivity        TRUE      7\n",
       "10                        Stress       FALSE      1\n",
       "11                        Stress  NeedReview      1\n",
       "12                        Stress        TRUE      7\n",
       "13               Substance Abuse       FALSE     34\n",
       "14               Substance Abuse        TRUE     30\n",
       "15  Victim of Crime and Violence        TRUE      2\n",
       "16         Weight Range Category        TRUE     23"
      ]
     },
     "execution_count": 26,
     "metadata": {},
     "output_type": "execute_result"
    }
   ],
   "source": [
    "# construct a new dataframe from the data by counting the unique values in \"polarity\" for each topic class\n",
    "df_topic_cnt_1 = df_sdoh.groupby(by=[\"topic_class\", \"polarity\"])[\"polarity\"].count().reset_index(name=\"count\")\n",
    "\n",
    "df_topic_cnt_1\n"
   ]
  },
  {
   "cell_type": "code",
   "execution_count": 27,
   "metadata": {
    "pycharm": {
     "name": "#%%\n"
    },
    "scrolled": true
   },
   "outputs": [
    {
     "data": {
      "text/html": [
       "<div>\n",
       "<style scoped>\n",
       "    .dataframe tbody tr th:only-of-type {\n",
       "        vertical-align: middle;\n",
       "    }\n",
       "\n",
       "    .dataframe tbody tr th {\n",
       "        vertical-align: top;\n",
       "    }\n",
       "\n",
       "    .dataframe thead th {\n",
       "        text-align: right;\n",
       "    }\n",
       "</style>\n",
       "<table border=\"1\" class=\"dataframe\">\n",
       "  <thead>\n",
       "    <tr style=\"text-align: right;\">\n",
       "      <th>polarity</th>\n",
       "      <th>FALSE</th>\n",
       "      <th>NeedReview</th>\n",
       "      <th>TRUE</th>\n",
       "    </tr>\n",
       "    <tr>\n",
       "      <th>topic_class</th>\n",
       "      <th></th>\n",
       "      <th></th>\n",
       "      <th></th>\n",
       "    </tr>\n",
       "  </thead>\n",
       "  <tbody>\n",
       "    <tr>\n",
       "      <th>Ambulatory Issue</th>\n",
       "      <td>8.0</td>\n",
       "      <td>NaN</td>\n",
       "      <td>13.0</td>\n",
       "    </tr>\n",
       "    <tr>\n",
       "      <th>Depression</th>\n",
       "      <td>9.0</td>\n",
       "      <td>NaN</td>\n",
       "      <td>32.0</td>\n",
       "    </tr>\n",
       "    <tr>\n",
       "      <th>Employment Status</th>\n",
       "      <td>4.0</td>\n",
       "      <td>NaN</td>\n",
       "      <td>2.0</td>\n",
       "    </tr>\n",
       "    <tr>\n",
       "      <th>Limited English</th>\n",
       "      <td>1.0</td>\n",
       "      <td>NaN</td>\n",
       "      <td>NaN</td>\n",
       "    </tr>\n",
       "    <tr>\n",
       "      <th>Living Condition</th>\n",
       "      <td>13.0</td>\n",
       "      <td>NaN</td>\n",
       "      <td>3.0</td>\n",
       "    </tr>\n",
       "    <tr>\n",
       "      <th>Physical Inactivity</th>\n",
       "      <td>NaN</td>\n",
       "      <td>NaN</td>\n",
       "      <td>7.0</td>\n",
       "    </tr>\n",
       "    <tr>\n",
       "      <th>Stress</th>\n",
       "      <td>1.0</td>\n",
       "      <td>1.0</td>\n",
       "      <td>7.0</td>\n",
       "    </tr>\n",
       "    <tr>\n",
       "      <th>Substance Abuse</th>\n",
       "      <td>34.0</td>\n",
       "      <td>NaN</td>\n",
       "      <td>30.0</td>\n",
       "    </tr>\n",
       "    <tr>\n",
       "      <th>Victim of Crime and Violence</th>\n",
       "      <td>NaN</td>\n",
       "      <td>NaN</td>\n",
       "      <td>2.0</td>\n",
       "    </tr>\n",
       "    <tr>\n",
       "      <th>Weight Range Category</th>\n",
       "      <td>NaN</td>\n",
       "      <td>NaN</td>\n",
       "      <td>23.0</td>\n",
       "    </tr>\n",
       "  </tbody>\n",
       "</table>\n",
       "</div>"
      ],
      "text/plain": [
       "polarity                      FALSE  NeedReview  TRUE\n",
       "topic_class                                          \n",
       "Ambulatory Issue                8.0         NaN  13.0\n",
       "Depression                      9.0         NaN  32.0\n",
       "Employment Status               4.0         NaN   2.0\n",
       "Limited English                 1.0         NaN   NaN\n",
       "Living Condition               13.0         NaN   3.0\n",
       "Physical Inactivity             NaN         NaN   7.0\n",
       "Stress                          1.0         1.0   7.0\n",
       "Substance Abuse                34.0         NaN  30.0\n",
       "Victim of Crime and Violence    NaN         NaN   2.0\n",
       "Weight Range Category           NaN         NaN  23.0"
      ]
     },
     "execution_count": 27,
     "metadata": {},
     "output_type": "execute_result"
    }
   ],
   "source": [
    "# transform the new dataframe to get each unique polarity mention count having its column\n",
    "\n",
    "df_topic_cnt_2 = df_topic_cnt_1.pivot(index=\"topic_class\", columns=\"polarity\", values=\"count\")\n",
    "\n",
    "df_topic_cnt_2"
   ]
  },
  {
   "cell_type": "code",
   "execution_count": 28,
   "metadata": {
    "pycharm": {
     "name": "#%%\n"
    },
    "scrolled": true
   },
   "outputs": [
    {
     "data": {
      "image/png": "[encoded data removed]",
      "text/plain": [
       "<Figure size 432x288 with 1 Axes>"
      ]
     },
     "metadata": {
      "needs_background": "light"
     },
     "output_type": "display_data"
    }
   ],
   "source": [
    "from matplotlib import pyplot as plt\n",
    "\n",
    "# plot the new dataframe\n",
    "polarity_cnt_cols = list(set(df_topic_cnt_2))\n",
    "\n",
    "df_topic_cnt_2.plot(y=polarity_cnt_cols, use_index=True, kind=\"bar\", rot=75)\n",
    "plt.show()"
   ]
  },
  {
   "cell_type": "markdown",
   "metadata": {
    "pycharm": {
     "name": "#%% md\n"
    }
   },
   "source": [
    "From the above results, we could clearly see that within this population, the most suffered issues are depression. We could also see that a large population is suffering from substance abuse.\n",
    "\n",
    "As the next step, let's dive deeper into the data to find out the exact substance abuse categories the population is suffering from."
   ]
  },
  {
   "cell_type": "code",
   "execution_count": 29,
   "metadata": {
    "pycharm": {
     "name": "#%%\n"
    },
    "scrolled": true
   },
   "outputs": [
    {
     "data": {
      "text/html": [
       "<div>\n",
       "<style scoped>\n",
       "    .dataframe tbody tr th:only-of-type {\n",
       "        vertical-align: middle;\n",
       "    }\n",
       "\n",
       "    .dataframe tbody tr th {\n",
       "        vertical-align: top;\n",
       "    }\n",
       "\n",
       "    .dataframe thead th {\n",
       "        text-align: right;\n",
       "    }\n",
       "</style>\n",
       "<table border=\"1\" class=\"dataframe\">\n",
       "  <thead>\n",
       "    <tr style=\"text-align: right;\">\n",
       "      <th></th>\n",
       "      <th>topic_class</th>\n",
       "      <th>topic</th>\n",
       "      <th>polarity</th>\n",
       "      <th>Doc ID</th>\n",
       "    </tr>\n",
       "  </thead>\n",
       "  <tbody>\n",
       "    <tr>\n",
       "      <th>20</th>\n",
       "      <td>Substance Abuse</td>\n",
       "      <td>Tobacco abuse</td>\n",
       "      <td>TRUE</td>\n",
       "      <td>M12.txt</td>\n",
       "    </tr>\n",
       "    <tr>\n",
       "      <th>39</th>\n",
       "      <td>Substance Abuse</td>\n",
       "      <td>Illicit drug abuse</td>\n",
       "      <td>TRUE</td>\n",
       "      <td>M139.txt</td>\n",
       "    </tr>\n",
       "    <tr>\n",
       "      <th>43</th>\n",
       "      <td>Substance Abuse</td>\n",
       "      <td>Prescription drug abuse</td>\n",
       "      <td>TRUE</td>\n",
       "      <td>M139.txt</td>\n",
       "    </tr>\n",
       "    <tr>\n",
       "      <th>45</th>\n",
       "      <td>Substance Abuse</td>\n",
       "      <td>Substance abuse NOS</td>\n",
       "      <td>TRUE</td>\n",
       "      <td>M139.txt</td>\n",
       "    </tr>\n",
       "    <tr>\n",
       "      <th>47</th>\n",
       "      <td>Substance Abuse</td>\n",
       "      <td>Past illicit drug abuse</td>\n",
       "      <td>TRUE</td>\n",
       "      <td>M139.txt</td>\n",
       "    </tr>\n",
       "  </tbody>\n",
       "</table>\n",
       "</div>"
      ],
      "text/plain": [
       "        topic_class                    topic polarity    Doc ID\n",
       "20  Substance Abuse            Tobacco abuse     TRUE   M12.txt\n",
       "39  Substance Abuse       Illicit drug abuse     TRUE  M139.txt\n",
       "43  Substance Abuse  Prescription drug abuse     TRUE  M139.txt\n",
       "45  Substance Abuse      Substance abuse NOS     TRUE  M139.txt\n",
       "47  Substance Abuse  Past illicit drug abuse     TRUE  M139.txt"
      ]
     },
     "execution_count": 29,
     "metadata": {},
     "output_type": "execute_result"
    }
   ],
   "source": [
    "# construct a new dataframe for substance abuse where \"polarity\" is \"TRUE\"\n",
    "df_sub_abuse = df_sdoh.loc[(df_sdoh[\"topic_class\"] == \"Substance Abuse\") & (df_sdoh[\"polarity\"] == \"TRUE\")]\n",
    "\n",
    "df_sub_abuse.head()"
   ]
  },
  {
   "cell_type": "code",
   "execution_count": 30,
   "metadata": {
    "pycharm": {
     "name": "#%%\n"
    },
    "scrolled": true
   },
   "outputs": [
    {
     "data": {
      "text/html": [
       "<div>\n",
       "<style scoped>\n",
       "    .dataframe tbody tr th:only-of-type {\n",
       "        vertical-align: middle;\n",
       "    }\n",
       "\n",
       "    .dataframe tbody tr th {\n",
       "        vertical-align: top;\n",
       "    }\n",
       "\n",
       "    .dataframe thead th {\n",
       "        text-align: right;\n",
       "    }\n",
       "</style>\n",
       "<table border=\"1\" class=\"dataframe\">\n",
       "  <thead>\n",
       "    <tr style=\"text-align: right;\">\n",
       "      <th></th>\n",
       "      <th>count</th>\n",
       "    </tr>\n",
       "    <tr>\n",
       "      <th>topic</th>\n",
       "      <th></th>\n",
       "    </tr>\n",
       "  </thead>\n",
       "  <tbody>\n",
       "    <tr>\n",
       "      <th>Alcohol abuse</th>\n",
       "      <td>3</td>\n",
       "    </tr>\n",
       "    <tr>\n",
       "      <th>Illicit drug abuse</th>\n",
       "      <td>9</td>\n",
       "    </tr>\n",
       "    <tr>\n",
       "      <th>Past illicit drug abuse</th>\n",
       "      <td>1</td>\n",
       "    </tr>\n",
       "    <tr>\n",
       "      <th>Past tobacco abuse</th>\n",
       "      <td>4</td>\n",
       "    </tr>\n",
       "    <tr>\n",
       "      <th>Prescription drug abuse</th>\n",
       "      <td>3</td>\n",
       "    </tr>\n",
       "    <tr>\n",
       "      <th>Substance abuse NOS</th>\n",
       "      <td>2</td>\n",
       "    </tr>\n",
       "    <tr>\n",
       "      <th>Tobacco abuse</th>\n",
       "      <td>8</td>\n",
       "    </tr>\n",
       "  </tbody>\n",
       "</table>\n",
       "</div>"
      ],
      "text/plain": [
       "                         count\n",
       "topic                         \n",
       "Alcohol abuse                3\n",
       "Illicit drug abuse           9\n",
       "Past illicit drug abuse      1\n",
       "Past tobacco abuse           4\n",
       "Prescription drug abuse      3\n",
       "Substance abuse NOS          2\n",
       "Tobacco abuse                8"
      ]
     },
     "execution_count": 30,
     "metadata": {},
     "output_type": "execute_result"
    }
   ],
   "source": [
    "# count the number of rows for each topic under \"Substance Abuse\"\n",
    "df_sub_abuse_topic_cnt = df_sub_abuse.groupby(by=\"topic\")[\"topic\"].count().reset_index(name=\"count\")\n",
    "\n",
    "df_sub_abuse_topic_cnt = df_sub_abuse_topic_cnt.set_index(\"topic\")\n",
    "\n",
    "df_sub_abuse_topic_cnt"
   ]
  },
  {
   "cell_type": "code",
   "execution_count": 31,
   "metadata": {
    "pycharm": {
     "name": "#%%\n"
    },
    "scrolled": true
   },
   "outputs": [
    {
     "data": {
      "image/png": "[encoded data removed]",
      "text/plain": [
       "<Figure size 432x288 with 1 Axes>"
      ]
     },
     "metadata": {},
     "output_type": "display_data"
    }
   ],
   "source": [
    "# create a pie chart to see the frequency of each topic for substance abuse\n",
    "\n",
    "df_sub_abuse_topic_cnt.plot.pie(y=\"count\", legend=None, ylabel=\"\", autopct='%1.1f%%')\n",
    "plt.legend(bbox_to_anchor=(1.04,1.2))\n",
    "plt.show()"
   ]
  },
  {
   "cell_type": "markdown",
   "metadata": {
    "pycharm": {
     "name": "#%% md\n"
    }
   },
   "source": [
    "From the figure above, we could see that drug abuse is the most common issue (total proportion: 43.3%) among the population. Within the population who have drug abuse issues, about 76.9% are suffering from illicit drug abuse and 23.1% from prescription drug abuse. Tobacco abuse comes very high in the second place - 40% of the mentioned substance abuse issues are tobacco abuse. 10% of the mentioned substance abuse issues are alcohol abuse.\n",
    "\n",
    "Similarly, you could study the distribution of other subcategories associated with each topic within the population. Or you could select one patient (hint: use the \"Doc ID\" column) to understand the specific issues associated with the patient."
   ]
  },
  {
   "cell_type": "markdown",
   "metadata": {
    "pycharm": {
     "name": "#%% md\n"
    }
   },
   "source": [
    "### Insights of the population from Healthcare Concepts API and SDoH API combined results\n",
    "\n",
    "Healthcare concepts API extracts features related to a patient's medical status. Social determinants of health features describe the population's daily life issues. If we could combine these features, we could have a much better picture of patient profile related to specific diseases.\n",
    "\n",
    "In this section, we will demonstrate how to explore patient profiles with results from the APIs with two examples. In the first example, we will show you how to find the diabetes population and explore the associated features within the population. In the second example, we will show you how to visualise the correlations between age groups and social determinants of health features.\n",
    "\n",
    "#### Example one. Diabetes patient profiles\n",
    "\n",
    "Let's first load another dataset (pre-run results from Healthcare Concepts API) as a pandas dataframe and find out the patients who have diabetes.\n"
   ]
  },
  {
   "cell_type": "code",
   "execution_count": 32,
   "metadata": {
    "pycharm": {
     "name": "#%%\n"
    },
    "scrolled": true
   },
   "outputs": [
    {
     "name": "stdout",
     "output_type": "stream",
     "text": [
      "Pre-run Healthcare Concepts results loaded! Preview:\n"
     ]
    },
    {
     "data": {
      "text/html": [
       "<div>\n",
       "<style scoped>\n",
       "    .dataframe tbody tr th:only-of-type {\n",
       "        vertical-align: middle;\n",
       "    }\n",
       "\n",
       "    .dataframe tbody tr th {\n",
       "        vertical-align: top;\n",
       "    }\n",
       "\n",
       "    .dataframe thead th {\n",
       "        text-align: right;\n",
       "    }\n",
       "</style>\n",
       "<table border=\"1\" class=\"dataframe\">\n",
       "  <thead>\n",
       "    <tr style=\"text-align: right;\">\n",
       "      <th></th>\n",
       "      <th>concept</th>\n",
       "      <th>category</th>\n",
       "      <th>preferred_term</th>\n",
       "      <th>text</th>\n",
       "      <th>Doc ID</th>\n",
       "    </tr>\n",
       "  </thead>\n",
       "  <tbody>\n",
       "    <tr>\n",
       "      <th>0</th>\n",
       "      <td>5-0 nylon suture</td>\n",
       "      <td>MedicalEquipment</td>\n",
       "      <td>Sutures</td>\n",
       "      <td>... the area were closed with 5-0 nylon suture .</td>\n",
       "      <td>M1.txt</td>\n",
       "    </tr>\n",
       "    <tr>\n",
       "      <th>1</th>\n",
       "      <td>a consultation</td>\n",
       "      <td>TreatmentAndProcedures</td>\n",
       "      <td>Consultation (procedure)</td>\n",
       "      <td>This is a consultation for the patient in rega...</td>\n",
       "      <td>M1.txt</td>\n",
       "    </tr>\n",
       "    <tr>\n",
       "      <th>2</th>\n",
       "      <td>A sterile dressing</td>\n",
       "      <td>TreatmentAndProcedures</td>\n",
       "      <td>Application of dressing (procedure)</td>\n",
       "      <td>A sterile dressing was applied .</td>\n",
       "      <td>M1.txt</td>\n",
       "    </tr>\n",
       "    <tr>\n",
       "      <th>3</th>\n",
       "      <td>A sterile dressing</td>\n",
       "      <td>MedicalEquipment</td>\n",
       "      <td>Bandages</td>\n",
       "      <td>A sterile dressing was applied .</td>\n",
       "      <td>M1.txt</td>\n",
       "    </tr>\n",
       "    <tr>\n",
       "      <th>4</th>\n",
       "      <td>A sterile dressing</td>\n",
       "      <td>TreatmentAndProcedures</td>\n",
       "      <td>Sterilisation</td>\n",
       "      <td>A sterile dressing was applied .</td>\n",
       "      <td>M1.txt</td>\n",
       "    </tr>\n",
       "    <tr>\n",
       "      <th>5</th>\n",
       "      <td>an obvious skin lesion</td>\n",
       "      <td>BodyStructure</td>\n",
       "      <td>Skin</td>\n",
       "      <td>There was an obvious skin lesion there and thi...</td>\n",
       "      <td>M1.txt</td>\n",
       "    </tr>\n",
       "    <tr>\n",
       "      <th>6</th>\n",
       "      <td>anesthetic</td>\n",
       "      <td>MedicationClass</td>\n",
       "      <td>Agent Affecting Nervous System</td>\n",
       "      <td>Local anesthetic medication was infiltrated ar...</td>\n",
       "      <td>M1.txt</td>\n",
       "    </tr>\n",
       "    <tr>\n",
       "      <th>7</th>\n",
       "      <td>anesthetic</td>\n",
       "      <td>MedicationName</td>\n",
       "      <td>Anesthetic Agent</td>\n",
       "      <td>Local anesthetic medication was infiltrated ar...</td>\n",
       "      <td>M1.txt</td>\n",
       "    </tr>\n",
       "    <tr>\n",
       "      <th>8</th>\n",
       "      <td>biopsy</td>\n",
       "      <td>ExaminationName</td>\n",
       "      <td>Biopsy</td>\n",
       "      <td>A punch biopsy of the worrisome skin lesion ...</td>\n",
       "      <td>M1.txt</td>\n",
       "    </tr>\n",
       "    <tr>\n",
       "      <th>9</th>\n",
       "      <td>biopsy</td>\n",
       "      <td>ExaminationName</td>\n",
       "      <td>Biopsy</td>\n",
       "      <td>A punch biopsy of the worrisome skin lesion ...</td>\n",
       "      <td>M1.txt</td>\n",
       "    </tr>\n",
       "  </tbody>\n",
       "</table>\n",
       "</div>"
      ],
      "text/plain": [
       "                  concept                category                       preferred_term                                               text  Doc ID\n",
       "0        5-0 nylon suture        MedicalEquipment                              Sutures   ... the area were closed with 5-0 nylon suture .  M1.txt\n",
       "1          a consultation  TreatmentAndProcedures             Consultation (procedure)  This is a consultation for the patient in rega...  M1.txt\n",
       "2      A sterile dressing  TreatmentAndProcedures  Application of dressing (procedure)                   A sterile dressing was applied .  M1.txt\n",
       "3      A sterile dressing        MedicalEquipment                             Bandages                   A sterile dressing was applied .  M1.txt\n",
       "4      A sterile dressing  TreatmentAndProcedures                        Sterilisation                   A sterile dressing was applied .  M1.txt\n",
       "5  an obvious skin lesion           BodyStructure                                 Skin  There was an obvious skin lesion there and thi...  M1.txt\n",
       "6              anesthetic         MedicationClass       Agent Affecting Nervous System  Local anesthetic medication was infiltrated ar...  M1.txt\n",
       "7              anesthetic          MedicationName                     Anesthetic Agent  Local anesthetic medication was infiltrated ar...  M1.txt\n",
       "8                  biopsy         ExaminationName                               Biopsy    A punch biopsy of the worrisome skin lesion ...  M1.txt\n",
       "9                  biopsy         ExaminationName                               Biopsy    A punch biopsy of the worrisome skin lesion ...  M1.txt"
      ]
     },
     "execution_count": 32,
     "metadata": {},
     "output_type": "execute_result"
    }
   ],
   "source": [
    "# read in the dataset\n",
    "df_hcc = pd.read_csv(os.path.join(os.path.dirname(os.getcwd()), \"demo_docs/HC_data_analysis/HealthcareConcepts_prerun.csv\"), dtype=str, encoding=\"utf-8\")\n",
    "\n",
    "print(\"Pre-run Healthcare Concepts results loaded! Preview:\")\n",
    "df_hcc.head(10)"
   ]
  },
  {
   "cell_type": "code",
   "execution_count": 33,
   "metadata": {
    "pycharm": {
     "name": "#%%\n"
    },
    "scrolled": true
   },
   "outputs": [
    {
     "name": "stdout",
     "output_type": "stream",
     "text": [
      "['MedicalEquipment' 'TreatmentAndProcedures' 'BodyStructure'\n",
      " 'MedicationClass' 'MedicationName' 'ExaminationName' 'DiseaseOrSymptom'\n",
      " 'Age' 'Gender' 'RouteOfMedication' 'MeasurementValue' 'Dosage'\n",
      " 'GeneORProtein' 'PopulationGroup' 'Frequency' 'MeasurementUnit'\n",
      " 'FamilyRelation' 'Date' 'HealthcareProfession' 'CareEnvironment' 'Time'\n",
      " 'MedicationForm' 'AdministrativeEvent' 'ConditionScale']\n"
     ]
    },
    {
     "data": {
      "text/html": [
       "<div>\n",
       "<style scoped>\n",
       "    .dataframe tbody tr th:only-of-type {\n",
       "        vertical-align: middle;\n",
       "    }\n",
       "\n",
       "    .dataframe tbody tr th {\n",
       "        vertical-align: top;\n",
       "    }\n",
       "\n",
       "    .dataframe thead th {\n",
       "        text-align: right;\n",
       "    }\n",
       "</style>\n",
       "<table border=\"1\" class=\"dataframe\">\n",
       "  <thead>\n",
       "    <tr style=\"text-align: right;\">\n",
       "      <th></th>\n",
       "      <th>concept</th>\n",
       "      <th>category</th>\n",
       "      <th>preferred_term</th>\n",
       "      <th>text</th>\n",
       "      <th>Doc ID</th>\n",
       "    </tr>\n",
       "  </thead>\n",
       "  <tbody>\n",
       "    <tr>\n",
       "      <th>95</th>\n",
       "      <td>0.4</td>\n",
       "      <td>MeasurementValue</td>\n",
       "      <td>0.4</td>\n",
       "      <td>... 40 mg daily , Flomax 0.4 mg daily , Detrol...</td>\n",
       "      <td>M10.txt</td>\n",
       "    </tr>\n",
       "    <tr>\n",
       "      <th>96</th>\n",
       "      <td>0.4 mg daily</td>\n",
       "      <td>Dosage</td>\n",
       "      <td>0.4 mg every 1d</td>\n",
       "      <td>... 40 mg daily , Flomax 0.4 mg daily , Detrol...</td>\n",
       "      <td>M10.txt</td>\n",
       "    </tr>\n",
       "    <tr>\n",
       "      <th>97</th>\n",
       "      <td>1</td>\n",
       "      <td>MeasurementValue</td>\n",
       "      <td>1</td>\n",
       "      <td>... of the pancreas , approximately 1 cm , mos...</td>\n",
       "      <td>M10.txt</td>\n",
       "    </tr>\n",
       "    <tr>\n",
       "      <th>98</th>\n",
       "      <td>1</td>\n",
       "      <td>MeasurementValue</td>\n",
       "      <td>1</td>\n",
       "      <td>... the tail and size of 1 cm , the likelihood...</td>\n",
       "      <td>M10.txt</td>\n",
       "    </tr>\n",
       "    <tr>\n",
       "      <th>99</th>\n",
       "      <td>1+ pitting edema</td>\n",
       "      <td>DiseaseOrSymptom</td>\n",
       "      <td>1+ pitting edema (finding)</td>\n",
       "      <td>EXTREMITIES : Revealed about 1+ pitting edema .</td>\n",
       "      <td>M10.txt</td>\n",
       "    </tr>\n",
       "    <tr>\n",
       "      <th>100</th>\n",
       "      <td>1.8-cm</td>\n",
       "      <td>MeasurementValue</td>\n",
       "      <td>1.8</td>\n",
       "      <td>The CAT scan revealed 1.8-cm lesion of his lef...</td>\n",
       "      <td>M10.txt</td>\n",
       "    </tr>\n",
       "    <tr>\n",
       "      <th>101</th>\n",
       "      <td>1.8-cm lesion</td>\n",
       "      <td>BodyStructure</td>\n",
       "      <td>Lesion (morphologic abnormality)</td>\n",
       "      <td>The CAT scan revealed 1.8-cm lesion of his lef...</td>\n",
       "      <td>M10.txt</td>\n",
       "    </tr>\n",
       "    <tr>\n",
       "      <th>102</th>\n",
       "      <td>4</td>\n",
       "      <td>MeasurementValue</td>\n",
       "      <td>4</td>\n",
       "      <td>... 0.4 mg daily , Detrol 4 mg daily , Zyrtec ...</td>\n",
       "      <td>M10.txt</td>\n",
       "    </tr>\n",
       "    <tr>\n",
       "      <th>103</th>\n",
       "      <td>4 mg daily</td>\n",
       "      <td>Dosage</td>\n",
       "      <td>4 mg every 1d</td>\n",
       "      <td>... 0.4 mg daily , Detrol 4 mg daily , Zyrtec ...</td>\n",
       "      <td>M10.txt</td>\n",
       "    </tr>\n",
       "    <tr>\n",
       "      <th>104</th>\n",
       "      <td>5</td>\n",
       "      <td>MeasurementValue</td>\n",
       "      <td>5</td>\n",
       "      <td>MEDICATIONS : Include glipizide 5 mg b.i.d. , ...</td>\n",
       "      <td>M10.txt</td>\n",
       "    </tr>\n",
       "  </tbody>\n",
       "</table>\n",
       "</div>"
      ],
      "text/plain": [
       "              concept          category                    preferred_term                                               text   Doc ID\n",
       "95                0.4  MeasurementValue                               0.4  ... 40 mg daily , Flomax 0.4 mg daily , Detrol...  M10.txt\n",
       "96       0.4 mg daily            Dosage                   0.4 mg every 1d  ... 40 mg daily , Flomax 0.4 mg daily , Detrol...  M10.txt\n",
       "97                  1  MeasurementValue                                 1  ... of the pancreas , approximately 1 cm , mos...  M10.txt\n",
       "98                  1  MeasurementValue                                 1  ... the tail and size of 1 cm , the likelihood...  M10.txt\n",
       "99   1+ pitting edema  DiseaseOrSymptom        1+ pitting edema (finding)    EXTREMITIES : Revealed about 1+ pitting edema .  M10.txt\n",
       "100            1.8-cm  MeasurementValue                               1.8  The CAT scan revealed 1.8-cm lesion of his lef...  M10.txt\n",
       "101     1.8-cm lesion     BodyStructure  Lesion (morphologic abnormality)  The CAT scan revealed 1.8-cm lesion of his lef...  M10.txt\n",
       "102                 4  MeasurementValue                                 4  ... 0.4 mg daily , Detrol 4 mg daily , Zyrtec ...  M10.txt\n",
       "103        4 mg daily            Dosage                     4 mg every 1d  ... 0.4 mg daily , Detrol 4 mg daily , Zyrtec ...  M10.txt\n",
       "104                 5  MeasurementValue                                 5  MEDICATIONS : Include glipizide 5 mg b.i.d. , ...  M10.txt"
      ]
     },
     "execution_count": 33,
     "metadata": {},
     "output_type": "execute_result"
    }
   ],
   "source": [
    "# find patients with diabetes, with Doc ID as unique patient identifier\n",
    "df_tmp = df_hcc.loc[df_hcc[\"preferred_term\"].str.contains(\"diabetes|Diabetes\")]\n",
    "diabetes_pt_ids = df_tmp[\"Doc ID\"].unique().tolist()\n",
    "\n",
    "# create a dataframe with all data related to the patient list\n",
    "df_diabetes_hcc = df_hcc.loc[df_hcc[\"Doc ID\"].isin(diabetes_pt_ids)]\n",
    "\n",
    "# take a look at all categories\n",
    "print(df_hcc[\"category\"].unique())\n",
    "\n",
    "# preview the result\n",
    "df_diabetes_hcc.head(10)"
   ]
  },
  {
   "cell_type": "markdown",
   "metadata": {
    "pycharm": {
     "name": "#%% md\n"
    }
   },
   "source": [
    "Let's take a look at the dataset and see the age group distribution for population with diabetes."
   ]
  },
  {
   "cell_type": "code",
   "execution_count": 34,
   "metadata": {
    "pycharm": {
     "name": "#%%\n"
    },
    "scrolled": true
   },
   "outputs": [
    {
     "data": {
      "image/png": "[encoded data removed]",
      "text/plain": [
       "<Figure size 432x288 with 1 Axes>"
      ]
     },
     "metadata": {},
     "output_type": "display_data"
    }
   ],
   "source": [
    "df_diabetes_age = df_diabetes_hcc.loc[df_diabetes_hcc[\"category\"] == \"Age\"]\n",
    "\n",
    "df_diabetes_age = df_diabetes_age.groupby(by=\"preferred_term\")[\"preferred_term\"].count().reset_index(name=\"count\").set_index(\"preferred_term\")\n",
    "\n",
    "df_diabetes_age.plot.pie(y=\"count\", ylabel=\"\", autopct='%1.1f%%')\n",
    "plt.legend(bbox_to_anchor=(1.04,1.2))\n",
    "plt.show()\n"
   ]
  },
  {
   "cell_type": "markdown",
   "metadata": {
    "pycharm": {
     "name": "#%% md\n"
    }
   },
   "source": [
    "As the figure shows, majority of diabetes population are adults (63.0%) and seniors (18.5%). Interestingly, there are younger groups who also have diabetes. We could select these groups and take a deeper look."
   ]
  },
  {
   "cell_type": "code",
   "execution_count": 35,
   "metadata": {
    "pycharm": {
     "name": "#%%\n"
    },
    "scrolled": true
   },
   "outputs": [
    {
     "data": {
      "text/html": [
       "<div>\n",
       "<style scoped>\n",
       "    .dataframe tbody tr th:only-of-type {\n",
       "        vertical-align: middle;\n",
       "    }\n",
       "\n",
       "    .dataframe tbody tr th {\n",
       "        vertical-align: top;\n",
       "    }\n",
       "\n",
       "    .dataframe thead th {\n",
       "        text-align: right;\n",
       "    }\n",
       "</style>\n",
       "<table border=\"1\" class=\"dataframe\">\n",
       "  <thead>\n",
       "    <tr style=\"text-align: right;\">\n",
       "      <th></th>\n",
       "      <th>preferred_term</th>\n",
       "      <th>count</th>\n",
       "    </tr>\n",
       "  </thead>\n",
       "  <tbody>\n",
       "    <tr>\n",
       "      <th>0</th>\n",
       "      <td>Diabetes Mellitus</td>\n",
       "      <td>27</td>\n",
       "    </tr>\n",
       "    <tr>\n",
       "      <th>1</th>\n",
       "      <td>Diabetes Mellitus, Type 2</td>\n",
       "      <td>2</td>\n",
       "    </tr>\n",
       "    <tr>\n",
       "      <th>2</th>\n",
       "      <td>Diabetes mellitus</td>\n",
       "      <td>9</td>\n",
       "    </tr>\n",
       "    <tr>\n",
       "      <th>3</th>\n",
       "      <td>Diabetes mellitus type 2 (disorder)</td>\n",
       "      <td>1</td>\n",
       "    </tr>\n",
       "    <tr>\n",
       "      <th>4</th>\n",
       "      <td>Type 2 Diabetes Mellitus</td>\n",
       "      <td>1</td>\n",
       "    </tr>\n",
       "    <tr>\n",
       "      <th>5</th>\n",
       "      <td>Type 2 diabetes mellitus</td>\n",
       "      <td>1</td>\n",
       "    </tr>\n",
       "  </tbody>\n",
       "</table>\n",
       "</div>"
      ],
      "text/plain": [
       "                        preferred_term  count\n",
       "0                    Diabetes Mellitus     27\n",
       "1            Diabetes Mellitus, Type 2      2\n",
       "2                    Diabetes mellitus      9\n",
       "3  Diabetes mellitus type 2 (disorder)      1\n",
       "4             Type 2 Diabetes Mellitus      1\n",
       "5             Type 2 diabetes mellitus      1"
      ]
     },
     "execution_count": 35,
     "metadata": {},
     "output_type": "execute_result"
    }
   ],
   "source": [
    "# find the younger groups with diabetes\n",
    "df_tmp = df_diabetes_hcc.loc[df_diabetes_hcc[\"preferred_term\"].isin([\"Adolescents\", \"Children\", \"Infants\", \"Prenatal\"])]\n",
    "diabetes_young_ids = df_tmp[\"Doc ID\"].unique().tolist()\n",
    "\n",
    "df_diabetes_young = df_diabetes_hcc.loc[(df_diabetes_hcc[\"preferred_term\"].str.contains(\"diabetes|Diabetes\")) & (df_diabetes_hcc[\"Doc ID\"].isin(diabetes_young_ids))]\n",
    "df_diabetes_young = df_diabetes_young.groupby(by=\"preferred_term\")[\"preferred_term\"].count().reset_index(name=\"count\")\n",
    "\n",
    "df_diabetes_young"
   ]
  },
  {
   "cell_type": "markdown",
   "metadata": {
    "pycharm": {
     "name": "#%% md\n"
    }
   },
   "source": [
    "However, as shown in the table above, it is hard to know which specific type of diabetes the younger groups are having based on the information from this dataset, as the majority of the mentions do not contain the type.\n",
    "\n",
    "There are other types of correlations between features worth exploring within this dataset. Please give it a try yourself. Next, let's move on to see how we incorporate the social determinants of health features into this analysis.\n",
    "\n",
    "Let's reuse the dataframe from the previous section, and select the rows from the SDoH API results where \"polarity\" is \"TRUE\" within the diabetes patient list."
   ]
  },
  {
   "cell_type": "code",
   "execution_count": 36,
   "metadata": {
    "pycharm": {
     "name": "#%%\n"
    },
    "scrolled": true
   },
   "outputs": [
    {
     "data": {
      "text/html": [
       "<div>\n",
       "<style scoped>\n",
       "    .dataframe tbody tr th:only-of-type {\n",
       "        vertical-align: middle;\n",
       "    }\n",
       "\n",
       "    .dataframe tbody tr th {\n",
       "        vertical-align: top;\n",
       "    }\n",
       "\n",
       "    .dataframe thead th {\n",
       "        text-align: right;\n",
       "    }\n",
       "</style>\n",
       "<table border=\"1\" class=\"dataframe\">\n",
       "  <thead>\n",
       "    <tr style=\"text-align: right;\">\n",
       "      <th></th>\n",
       "      <th>topic_class</th>\n",
       "      <th>topic</th>\n",
       "      <th>polarity</th>\n",
       "      <th>Doc ID</th>\n",
       "    </tr>\n",
       "  </thead>\n",
       "  <tbody>\n",
       "    <tr>\n",
       "      <th>2</th>\n",
       "      <td>Weight Range Category</td>\n",
       "      <td>Obesity NOS</td>\n",
       "      <td>TRUE</td>\n",
       "      <td>M10.txt</td>\n",
       "    </tr>\n",
       "    <tr>\n",
       "      <th>18</th>\n",
       "      <td>Weight Range Category</td>\n",
       "      <td>Obesity class 3</td>\n",
       "      <td>TRUE</td>\n",
       "      <td>M114.txt</td>\n",
       "    </tr>\n",
       "    <tr>\n",
       "      <th>23</th>\n",
       "      <td>Ambulatory Issue</td>\n",
       "      <td>Ambulate with assistive device (crutches)</td>\n",
       "      <td>TRUE</td>\n",
       "      <td>M127.txt</td>\n",
       "    </tr>\n",
       "    <tr>\n",
       "      <th>24</th>\n",
       "      <td>Depression</td>\n",
       "      <td>Signs and symptoms of depression</td>\n",
       "      <td>TRUE</td>\n",
       "      <td>M13.txt</td>\n",
       "    </tr>\n",
       "    <tr>\n",
       "      <th>69</th>\n",
       "      <td>Substance Abuse</td>\n",
       "      <td>Alcohol abuse</td>\n",
       "      <td>TRUE</td>\n",
       "      <td>M150.txt</td>\n",
       "    </tr>\n",
       "    <tr>\n",
       "      <th>70</th>\n",
       "      <td>Weight Range Category</td>\n",
       "      <td>Normal weight</td>\n",
       "      <td>TRUE</td>\n",
       "      <td>M150.txt</td>\n",
       "    </tr>\n",
       "    <tr>\n",
       "      <th>71</th>\n",
       "      <td>Depression</td>\n",
       "      <td>Signs and symptoms of depression</td>\n",
       "      <td>TRUE</td>\n",
       "      <td>M151.txt</td>\n",
       "    </tr>\n",
       "    <tr>\n",
       "      <th>72</th>\n",
       "      <td>Physical Inactivity</td>\n",
       "      <td>Mention of inactivity</td>\n",
       "      <td>TRUE</td>\n",
       "      <td>M151.txt</td>\n",
       "    </tr>\n",
       "    <tr>\n",
       "      <th>73</th>\n",
       "      <td>Physical Inactivity</td>\n",
       "      <td>Mention of physical activity type</td>\n",
       "      <td>TRUE</td>\n",
       "      <td>M151.txt</td>\n",
       "    </tr>\n",
       "    <tr>\n",
       "      <th>76</th>\n",
       "      <td>Weight Range Category</td>\n",
       "      <td>Obesity class 1</td>\n",
       "      <td>TRUE</td>\n",
       "      <td>M151.txt</td>\n",
       "    </tr>\n",
       "  </tbody>\n",
       "</table>\n",
       "</div>"
      ],
      "text/plain": [
       "              topic_class                                      topic polarity    Doc ID\n",
       "2   Weight Range Category                                Obesity NOS     TRUE   M10.txt\n",
       "18  Weight Range Category                            Obesity class 3     TRUE  M114.txt\n",
       "23       Ambulatory Issue  Ambulate with assistive device (crutches)     TRUE  M127.txt\n",
       "24             Depression           Signs and symptoms of depression     TRUE   M13.txt\n",
       "69        Substance Abuse                              Alcohol abuse     TRUE  M150.txt\n",
       "70  Weight Range Category                              Normal weight     TRUE  M150.txt\n",
       "71             Depression           Signs and symptoms of depression     TRUE  M151.txt\n",
       "72    Physical Inactivity                      Mention of inactivity     TRUE  M151.txt\n",
       "73    Physical Inactivity          Mention of physical activity type     TRUE  M151.txt\n",
       "76  Weight Range Category                            Obesity class 1     TRUE  M151.txt"
      ]
     },
     "execution_count": 36,
     "metadata": {},
     "output_type": "execute_result"
    }
   ],
   "source": [
    "df_diabetes_sdoh = df_sdoh.loc[(df_sdoh[\"polarity\"] == \"TRUE\") & (df_sdoh[\"Doc ID\"].isin(diabetes_pt_ids))].drop_duplicates()\n",
    "\n",
    "df_diabetes_sdoh.head(10)"
   ]
  },
  {
   "cell_type": "markdown",
   "metadata": {
    "pycharm": {
     "name": "#%% md\n"
    }
   },
   "source": [
    "Let's see which SDoH features are most common within diabetes population."
   ]
  },
  {
   "cell_type": "code",
   "execution_count": 37,
   "metadata": {
    "pycharm": {
     "name": "#%%\n"
    },
    "scrolled": true
   },
   "outputs": [
    {
     "data": {
      "image/png": "[encoded data removed]",
      "text/plain": [
       "<Figure size 432x288 with 1 Axes>"
      ]
     },
     "metadata": {
      "needs_background": "light"
     },
     "output_type": "display_data"
    }
   ],
   "source": [
    "df_topic_cnt_diabetes_sdoh = df_diabetes_sdoh.groupby(by=[\"topic_class\"])[\"topic_class\"].count().reset_index(name=\"count\").set_index(\"topic_class\")\n",
    "\n",
    "df_topic_cnt_diabetes_sdoh.plot(kind=\"bar\", rot=75)\n",
    "plt.show()"
   ]
  },
  {
   "cell_type": "markdown",
   "metadata": {
    "pycharm": {
     "name": "#%% md\n"
    }
   },
   "source": [
    "As shown from the bar chart, the most common SDoH features associated with diabetes population are depression and weight issues. There are significant less proportion of population suffering from substance abuse within the diabetes population comparing with the full population described in this dataset (please refer to the bar chart in the previous section).\n",
    "\n",
    "#### Example two. Age group and SDoH features\n",
    "\n",
    "Now, let's combine the healthcare concept and SDoH dataset to see what we could learn from there.\n",
    "\n",
    "The two dataframes should be merged based on \"Doc ID\"."
   ]
  },
  {
   "cell_type": "code",
   "execution_count": 38,
   "metadata": {
    "pycharm": {
     "name": "#%%\n"
    },
    "scrolled": true
   },
   "outputs": [
    {
     "name": "stdout",
     "output_type": "stream",
     "text": [
      "(162, 4)\n"
     ]
    },
    {
     "data": {
      "text/html": [
       "<div>\n",
       "<style scoped>\n",
       "    .dataframe tbody tr th:only-of-type {\n",
       "        vertical-align: middle;\n",
       "    }\n",
       "\n",
       "    .dataframe tbody tr th {\n",
       "        vertical-align: top;\n",
       "    }\n",
       "\n",
       "    .dataframe thead th {\n",
       "        text-align: right;\n",
       "    }\n",
       "</style>\n",
       "<table border=\"1\" class=\"dataframe\">\n",
       "  <thead>\n",
       "    <tr style=\"text-align: right;\">\n",
       "      <th></th>\n",
       "      <th>preferred_term</th>\n",
       "      <th>Doc ID</th>\n",
       "      <th>topic_class</th>\n",
       "      <th>topic</th>\n",
       "    </tr>\n",
       "  </thead>\n",
       "  <tbody>\n",
       "    <tr>\n",
       "      <th>0</th>\n",
       "      <td>Adults</td>\n",
       "      <td>M10.txt</td>\n",
       "      <td>Weight Range Category</td>\n",
       "      <td>Obesity NOS</td>\n",
       "    </tr>\n",
       "    <tr>\n",
       "      <th>1</th>\n",
       "      <td>Children</td>\n",
       "      <td>M10.txt</td>\n",
       "      <td>Weight Range Category</td>\n",
       "      <td>Obesity NOS</td>\n",
       "    </tr>\n",
       "    <tr>\n",
       "      <th>2</th>\n",
       "      <td>Seniors</td>\n",
       "      <td>M104.txt</td>\n",
       "      <td>Ambulatory Issue</td>\n",
       "      <td>Difficulty ambulating</td>\n",
       "    </tr>\n",
       "    <tr>\n",
       "      <th>3</th>\n",
       "      <td>Adults</td>\n",
       "      <td>M106.txt</td>\n",
       "      <td>Ambulatory Issue</td>\n",
       "      <td>Difficulty ambulating</td>\n",
       "    </tr>\n",
       "    <tr>\n",
       "      <th>4</th>\n",
       "      <td>Adults</td>\n",
       "      <td>M106.txt</td>\n",
       "      <td>Physical Inactivity</td>\n",
       "      <td>Counseling to increase physical activity</td>\n",
       "    </tr>\n",
       "    <tr>\n",
       "      <th>5</th>\n",
       "      <td>Adults</td>\n",
       "      <td>M107.txt</td>\n",
       "      <td>Ambulatory Issue</td>\n",
       "      <td>Difficulty ambulating</td>\n",
       "    </tr>\n",
       "    <tr>\n",
       "      <th>6</th>\n",
       "      <td>Adults</td>\n",
       "      <td>M108.txt</td>\n",
       "      <td>Depression</td>\n",
       "      <td>Depression NOS</td>\n",
       "    </tr>\n",
       "    <tr>\n",
       "      <th>7</th>\n",
       "      <td>Adults</td>\n",
       "      <td>M114.txt</td>\n",
       "      <td>Weight Range Category</td>\n",
       "      <td>Obesity class 3</td>\n",
       "    </tr>\n",
       "    <tr>\n",
       "      <th>8</th>\n",
       "      <td>Adults</td>\n",
       "      <td>M12.txt</td>\n",
       "      <td>Substance Abuse</td>\n",
       "      <td>Tobacco abuse</td>\n",
       "    </tr>\n",
       "    <tr>\n",
       "      <th>9</th>\n",
       "      <td>Children</td>\n",
       "      <td>M12.txt</td>\n",
       "      <td>Substance Abuse</td>\n",
       "      <td>Tobacco abuse</td>\n",
       "    </tr>\n",
       "  </tbody>\n",
       "</table>\n",
       "</div>"
      ],
      "text/plain": [
       "  preferred_term    Doc ID            topic_class                                     topic\n",
       "0         Adults   M10.txt  Weight Range Category                               Obesity NOS\n",
       "1       Children   M10.txt  Weight Range Category                               Obesity NOS\n",
       "2        Seniors  M104.txt       Ambulatory Issue                     Difficulty ambulating\n",
       "3         Adults  M106.txt       Ambulatory Issue                     Difficulty ambulating\n",
       "4         Adults  M106.txt    Physical Inactivity  Counseling to increase physical activity\n",
       "5         Adults  M107.txt       Ambulatory Issue                     Difficulty ambulating\n",
       "6         Adults  M108.txt             Depression                            Depression NOS\n",
       "7         Adults  M114.txt  Weight Range Category                           Obesity class 3\n",
       "8         Adults   M12.txt        Substance Abuse                             Tobacco abuse\n",
       "9       Children   M12.txt        Substance Abuse                             Tobacco abuse"
      ]
     },
     "execution_count": 38,
     "metadata": {},
     "output_type": "execute_result"
    }
   ],
   "source": [
    "# find rows in heathcare concept results mentioning \"Age\"\n",
    "df_pop_hcc = df_hcc.loc[df_hcc[\"category\"] == \"Age\"][['preferred_term','Doc ID']].drop_duplicates()\n",
    "\n",
    "# find out rows in sdoh results with \"TRUE\" polarity\n",
    "df_pop_sdoh = df_sdoh.loc[df_sdoh[\"polarity\"] == \"TRUE\"][['topic_class', 'topic', 'Doc ID']].drop_duplicates()\n",
    "\n",
    "# combine data\n",
    "df_pop = df_pop_hcc.merge(df_pop_sdoh, on=\"Doc ID\", how=\"inner\")\n",
    "\n",
    "print(df_pop.shape)\n",
    "df_pop.head(10)"
   ]
  },
  {
   "cell_type": "markdown",
   "metadata": {
    "pycharm": {
     "name": "#%% md\n"
    }
   },
   "source": [
    "Let's first get an idea of age group distribution within the population described in this dataset."
   ]
  },
  {
   "cell_type": "code",
   "execution_count": 39,
   "metadata": {
    "pycharm": {
     "name": "#%%\n"
    },
    "scrolled": true
   },
   "outputs": [
    {
     "data": {
      "image/png": "[encoded data removed]",
      "text/plain": [
       "<Figure size 432x288 with 1 Axes>"
      ]
     },
     "metadata": {},
     "output_type": "display_data"
    }
   ],
   "source": [
    "df_pop_cnt = df_pop.groupby(by=\"preferred_term\")[\"preferred_term\"].count().reset_index(name=\"count\")\n",
    "df_pop_cnt = df_pop_cnt[[\"preferred_term\", \"count\"]].set_index(\"preferred_term\")\n",
    "\n",
    "df_pop_cnt.plot.pie(y=\"count\", ylabel=\"\", autopct='%1.1f%%')\n",
    "plt.legend(bbox_to_anchor=(1.04,1.2))\n",
    "plt.show()"
   ]
  },
  {
   "cell_type": "markdown",
   "metadata": {
    "pycharm": {
     "name": "#%% md\n"
    }
   },
   "source": [
    "From the pie chart, we could see that majority of population (59.3%) in this dataset are adults. Please note there are 4.3% prenatal mentions, but from what we know about the dataset, those records actually belong to the mums during pregnancy. Similarly, the 4.3% infants mentions in the dataset are also from records of the parents.\n",
    "\n",
    "Let's plot the SDoH features associated with each group with network."
   ]
  },
  {
   "cell_type": "code",
   "execution_count": 41,
   "metadata": {
    "pycharm": {
     "name": "#%%\n"
    },
    "scrolled": false
   },
   "outputs": [
    {
     "data": {
      "image/png": "[encoded data removed]",
      "text/plain": [
       "<Figure size 864x432 with 1 Axes>"
      ]
     },
     "metadata": {},
     "output_type": "display_data"
    }
   ],
   "source": [
    "import networkx as nx\n",
    "\n",
    "G = nx.from_pandas_edgelist(df_pop, source='topic_class', target='preferred_term', edge_attr=None)\n",
    "\n",
    "plt.figure(figsize = (12,6))\n",
    "\n",
    "options = {\n",
    "    \"node_color\": \"black\",\n",
    "    \"node_size\": 10,\n",
    "    \"linewidths\": 0.8,\n",
    "    \"width\": 0.1,\n",
    "}\n",
    "nx.draw(G, with_labels = True, **options)\n",
    "plt.show()\n"
   ]
  },
  {
   "cell_type": "markdown",
   "metadata": {
    "pycharm": {
     "name": "#%% md\n"
    }
   },
   "source": [
    "From the network plot, we could find the social determinants of health features associated with different age groups in this dataset. Depression is correlated to all age groups. Adults are correlated to all kinds of social determinant problems, and is the only group correlated to unemployment. Seniors are less likely to be correlated to victim of crime and violence.\n",
    "\n",
    "## Summary\n",
    "\n",
    "Here comes to the end of the session. To recap, in this demo, we showed some examples of using our SDoH NLP API and Healthcare Concepts NLP API to gain insights of medical data. Just to re-emphasis: the input for these results are synthetic data, please do not take any of the analysis results shown in this demo as scientific proofs.\n",
    "\n",
    "Hope you enjoyed the session! If you are keen to do something similar to your own data, why not register and get a free license to use the IQVIA NLP API to try it out yourself?\n",
    "\n",
    "Thank you for your attention! Bye!"
   ]
  },
  {
   "cell_type": "code",
   "execution_count": null,
   "metadata": {
    "pycharm": {
     "name": "#%%\n"
    },
    "scrolled": true
   },
   "outputs": [],
   "source": []
  },
  {
   "cell_type": "code",
   "execution_count": null,
   "metadata": {
    "scrolled": true
   },
   "outputs": [],
   "source": []
  }
 ],
 "metadata": {
  "kernelspec": {
   "display_name": "Python 3 (ipykernel)",
   "language": "python",
   "name": "python3"
  },
  "language_info": {
   "codemirror_mode": {
    "name": "ipython",
    "version": 3
   },
   "file_extension": ".py",
   "mimetype": "text/x-python",
   "name": "python",
   "nbconvert_exporter": "python",
   "pygments_lexer": "ipython3",
   "version": "3.8.10"
  }
 },
 "nbformat": 4,
 "nbformat_minor": 1
}