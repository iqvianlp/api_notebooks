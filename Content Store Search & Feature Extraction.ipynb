{
 "cells": [
  {
   "cell_type": "markdown",
   "id": "0a73f289",
   "metadata": {},
   "source": [
    "# IQVIA NLP - Content Store Search and Feature Extraction\n",
    "\n",
    "## API Description\n",
    "In today’s complex and competitive environment finding the right data to generate the right insight matters. External sources contain vast amounts of rich data but going source by source, searching for and ingesting the right data is time consuming and takes vital time away from developing impactful insights. The IQVIA NLP Content Store APIs are your go-to resource for keeping your team’s focus out of the data weeds and where it belongs: making strategic decisions to achieve your goals.\n",
    "\n",
    "## Accessing the API\n",
    "In order to consume this API, you will first need to request access to the Content Store Search API via this link:\n",
    "https://api-marketplace.work.iqvia.com/s/communityapi/a085w00000yu12lAAA/external-api-marketplaceiqvianlpcontentstoresearch\n",
    "\n",
    "And the access to the Content Store Feature Extraction API via this link:\n",
    "https://api-marketplace.work.iqvia.com/s/communityapi/a085w00000yu12qAAA/external-api-marketplaceiqvianlpcontentstorefeatureextraction .\n",
    "\n",
    "Please refer to \"API Documentation\" to learn more about accessing and using the API.\n",
    "\n",
    "## Notebook Description\n",
    "This notebook is designed to show users an example of using the IQVIA NLP - Content Store Search API and IQVIA NLP - Content Store Feature Extraction API.\n",
    "\n",
    "### Authorization\n",
    "The instructions for getting your credentials and the API endpoint URL can be found under the section \"Get Started\" and \"How to use the API\" following this link: https://api-marketplace.work.iqvia.com/s/communityapi/a085w00000yu12lAAA/external-api-marketplaceiqvianlpcontentstoresearch"
   ]
  },
  {
   "cell_type": "code",
   "execution_count": 2,
   "id": "301249eb",
   "metadata": {
    "pycharm": {
     "name": "#%%\n"
    }
   },
   "outputs": [
    {
     "name": "stdout",
     "output_type": "stream",
     "text": [
      "Please enter the Content Store Search API URL: https://vt.eu-apim-devtest.solutions.iqvia.com/eu/easl/api/v2/easl\n",
      "Marketplace clientId: a99b627bb38a4be38d2804869e3b4c40\n",
      "Marketplace clientSecret: ········\n",
      "Thanks for inputting URL, your user name and password!\n"
     ]
    }
   ],
   "source": [
    "import getpass\n",
    "\n",
    "# Get URL and credentials from customers\n",
    "api_endpoint_url = input('Please enter the Content Store Search API URL: ').rstrip('/')\n",
    "\n",
    "mkp_user = input(\"Marketplace clientId: \")\n",
    "mkp_password = getpass.getpass(\"Marketplace clientSecret: \")\n",
    "mkp_headers = {'clientId': mkp_user, 'clientSecret': mkp_password}\n",
    "\n",
    "print(\"Thanks for inputting URL, your user name and password!\")"
   ]
  },
  {
   "cell_type": "markdown",
   "id": "3c190075",
   "metadata": {
    "pycharm": {
     "name": "#%% md\n"
    }
   },
   "source": [
    "### Example: Make a request with I2E query on selected I2E index\n",
    "Content Store Search API expects an I2E query and an Index name as input parameter. This example shows how to make a request to the API with a pre-configured API from  as input."
   ]
  },
  {
   "cell_type": "code",
   "execution_count": 3,
   "id": "c0413fe6",
   "metadata": {
    "pycharm": {
     "name": "#%%\n"
    }
   },
   "outputs": [
    {
     "name": "stdout",
     "output_type": "stream",
     "text": [
      "Posting query request...\n",
      "Success!\n",
      "Number of document found: 509\n",
      "Sampled results: [{'Doc': '36374780', 'IndexName': 'medline-full'}, {'Doc': '36366324', 'IndexName': 'medline-full'}, {'Doc': '36366282', 'IndexName': 'medline-full'}, {'Doc': '36363686', 'IndexName': 'medline-full'}, {'Doc': '36363472', 'IndexName': 'medline-full'}]\n"
     ]
    }
   ],
   "source": [
    "import requests\n",
    "import os\n",
    "import time\n",
    "\n",
    "# Define input query and index to run\n",
    "input_query = os.path.join(os.getcwd(), \"demo_queries/Content_Store_Search-Post_EASL_Run/biomkr_reln-covid19_disease.i2qy\")\n",
    "index_name = \"medline-full\"\n",
    "\n",
    "# Make a request\n",
    "print(\"Posting query request...\")\n",
    "with open(input_query, \"r\") as query:\n",
    "    response = requests.post(api_endpoint_url, headers=mkp_headers, files={'query': (input_query, query, \"application/octet-stream\")}, data={'index_name': index_name})\n",
    "\n",
    "# Poll the API until results are available\n",
    "while response.status_code == 202:\n",
    "    print('Results are not available yet. Waiting 5 seconds before polling again...')\n",
    "    time.sleep(5)\n",
    "    # Use the run id from the Post request to get results\n",
    "    run_identifier = response.json()['id']    \n",
    "    response = requests.get(url=f'{api_endpoint_url}/{run_identifier}', headers=mkp_headers)\n",
    "    \n",
    "# Check the response\n",
    "if response.status_code == 200:\n",
    "    print(\"Success!\")\n",
    "    results_json = response.json()\n",
    "else:\n",
    "    raise Exception(f\"Unexpected status code: {response.status_code}\")\n",
    "\n",
    "print(f\"Number of document found: {len(results_json)}\")\n",
    "print(f\"Sampled results: {results_json[:5]}\")"
   ]
  },
  {
   "cell_type": "markdown",
   "id": "64eeb2d3",
   "metadata": {},
   "source": [
    "Get the list of document ID returned by the Content Store Search API."
   ]
  },
  {
   "cell_type": "code",
   "execution_count": 4,
   "id": "afdcdad8",
   "metadata": {
    "pycharm": {
     "name": "#%%\n"
    }
   },
   "outputs": [
    {
     "name": "stdout",
     "output_type": "stream",
     "text": [
      "Sampled Document IDs from results: ['36374780', '36366324', '36366282', '36363686', '36363472']\n"
     ]
    }
   ],
   "source": [
    "doc_id_list = [result[\"Doc\"] for result in results_json]\n",
    "print(f\"Sampled Document IDs from results: {doc_id_list[:5]}\")"
   ]
  },
  {
   "cell_type": "markdown",
   "id": "9d2650a7",
   "metadata": {
    "pycharm": {
     "name": "#%% md\n"
    }
   },
   "source": [
    "Fetch features from the first two documents in the list."
   ]
  },
  {
   "cell_type": "code",
   "execution_count": 7,
   "id": "90e9ea97",
   "metadata": {
    "pycharm": {
     "name": "#%%\n"
    },
    "scrolled": false
   },
   "outputs": [
    {
     "name": "stdout",
     "output_type": "stream",
     "text": [
      "Please enter the Content Store Feature Extraction API URL: https://vt.eu-apim-devtest.solutions.iqvia.com/eu/fetch-features/api/v2/fetch-features\n",
      "Is your Content Store Feature Extraction clientId the same as Content Store Search (y/n)?n\n",
      "Content Store Feature Extraction API clientId: 39f89fc1b1ba4613b41a993642bde651\n",
      "Content Store Feature Extraction API clientSecret: ········\n",
      "Thanks for inputting your user name and password!\n",
      "Making requests to get features for specified documents...\n",
      "Success!\n",
      "JSON response from the API: [{'doc_id': '36374780', 'results': [{'Concept': {'logical_column_id': 0, 'value': 'Covid-19', 'indexed_spans_outer': [[1959, 1967]], 'indexed_spans_inner': [[1959, 1967]], 'text_spans_outer': [[36, 44]], 'text_spans_inner': [[36, 44]]}, '[PT] Concept': {'logical_column_id': 0, 'value': 'COVID-19'}, '[SID] Concept': {'logical_column_id': 0, 'value': 'meddra'}, '[NID] Concept': {'logical_column_id': 0, 'value': '10084268'}, 'Ontology': {'logical_column_id': 1, 'value': 'MedDRA', 'indexed_spans_outer': [[1959, 1967]], 'indexed_spans_inner': [[1959, 1967]], 'text_spans_outer': [[36, 44]], 'text_spans_inner': [[36, 44]]}, 'text': {'value': '... the findings from patients with Covid-19 and responses to novel vaccines...'}}, {'Concept': {'logical_column_id': 0, 'value': 'Covid-19', 'indexed_spans_outer': [[2001, 2009]], 'indexed_spans_inner': [[2001, 2009]], 'text_spans_outer': [[0, 8]], 'text_spans_inner': [[0, 8]]}, '[PT] Concept': {'logical_column_id': 0, 'value': 'COVID-19'}, '[SID] Concept': {'logical_column_id': 0, 'value': 'meddra'}, '[NID] Concept': {'logical_column_id': 0, 'value': '10084268'}, 'Ontology': {'logical_column_id': 1, 'value': 'MedDRA', 'indexed_spans_outer': [[2001, 2009]], 'indexed_spans_inner': [[2001, 2009]], 'text_spans_outer': [[0, 8]], 'text_spans_inner': [[0, 8]]}, 'text': {'value': 'Covid-19 is an example where MAIT ...'}}, {'Concept': {'logical_column_id': 0, 'value': 'immunology', 'indexed_spans_outer': [[799, 809]], 'indexed_spans_inner': [[799, 809]], 'text_spans_outer': [[12, 22]], 'text_spans_inner': [[12, 22]]}, '[PT] Concept': {'logical_column_id': 0, 'value': 'Immunology test'}, '[SID] Concept': {'logical_column_id': 0, 'value': 'meddra'}, '[NID] Concept': {'logical_column_id': 0, 'value': '10062297'}, 'Ontology': {'logical_column_id': 1, 'value': 'MedDRA', 'indexed_spans_outer': [[799, 809]], 'indexed_spans_inner': [[799, 809]], 'text_spans_outer': [[12, 22]], 'text_spans_inner': [[12, 22]]}, 'text': {'value': 'Seminars in immunology'}}, {'Concept': {'logical_column_id': 0, 'value': 'ligands', 'indexed_spans_outer': [[1607, 1614]], 'indexed_spans_inner': [[1607, 1614]], 'text_spans_outer': [[36, 43]], 'text_spans_inner': [[36, 43]]}, '[PT] Concept': {'logical_column_id': 0, 'value': 'ligand'}, '[SID] Concept': {'logical_column_id': 0, 'value': 'chebi'}, '[NID] Concept': {'logical_column_id': 0, 'value': '52214'}, 'Ontology': {'logical_column_id': 1, 'value': 'Chemicals (ChEBI)', 'indexed_spans_outer': [[1607, 1614]], 'indexed_spans_inner': [[1607, 1614]], 'text_spans_outer': [[36, 43]], 'text_spans_inner': [[36, 43]]}, 'text': {'value': '... cells, recognise quite distinct ligands, they share functional features ...'}}, {'Concept': {'logical_column_id': 0, 'value': 'SARS-COV2', 'indexed_spans_outer': [[4667, 4676]], 'indexed_spans_inner': [[4667, 4676]], 'text_spans_outer': [[0, 9]], 'text_spans_inner': [[0, 9]]}, '[PT] Concept': {'logical_column_id': 0, 'value': 'Severe acute respiratory syndrome'}, '[SID] Concept': {'logical_column_id': 0, 'value': 'meddra'}, '[NID] Concept': {'logical_column_id': 0, 'value': '10061982'}, 'Ontology': {'logical_column_id': 1, 'value': 'MedDRA', 'indexed_spans_outer': [[4667, 4676]], 'indexed_spans_inner': [[4667, 4676]], 'text_spans_outer': [[0, 9]], 'text_spans_inner': [[0, 9]]}, 'text': {'value': 'SARS-COV2'}}, {'Concept': {'logical_column_id': 0, 'value': 'vaccination', 'indexed_spans_outer': [[1021, 1032]], 'indexed_spans_inner': [[1021, 1032]], 'text_spans_outer': [[31, 42]], 'text_spans_inner': [[31, 42]]}, '[PT] Concept': {'logical_column_id': 0, 'value': 'Immunisation'}, '[SID] Concept': {'logical_column_id': 0, 'value': 'meddra'}, '[NID] Concept': {'logical_column_id': 0, 'value': '10021430'}, 'Ontology': {'logical_column_id': 1, 'value': 'MedDRA', 'indexed_spans_outer': [[1021, 1032]], 'indexed_spans_inner': [[1021, 1032]], 'text_spans_outer': [[31, 42]], 'text_spans_inner': [[31, 42]]}, 'text': {'value': '... in human viral disease and vaccination.'}}, {'Concept': {'logical_column_id': 0, 'value': 'vaccines', 'indexed_spans_outer': [[1991, 1999]], 'indexed_spans_inner': [[1991, 1999]], 'text_spans_outer': [[36, 44]], 'text_spans_inner': [[36, 44]]}, '[PT] Concept': {'logical_column_id': 0, 'value': 'Immunisation'}, '[SID] Concept': {'logical_column_id': 0, 'value': 'meddra'}, '[NID] Concept': {'logical_column_id': 0, 'value': '10021430'}, 'Ontology': {'logical_column_id': 1, 'value': 'MedDRA', 'indexed_spans_outer': [[1991, 1999]], 'indexed_spans_inner': [[1991, 1999]], 'text_spans_outer': [[36, 44]], 'text_spans_inner': [[36, 44]]}, 'text': {'value': '... Covid-19 and responses to novel vaccines.'}}, {'Concept': {'logical_column_id': 0, 'value': 'Viral infection', 'indexed_spans_outer': [[4787, 4802]], 'indexed_spans_inner': [[4787, 4802]], 'text_spans_outer': [[0, 15]], 'text_spans_inner': [[0, 15]]}, '[PT] Concept': {'logical_column_id': 0, 'value': 'Viral infection'}, '[SID] Concept': {'logical_column_id': 0, 'value': 'meddra'}, '[NID] Concept': {'logical_column_id': 0, 'value': '10047461'}, 'Ontology': {'logical_column_id': 1, 'value': 'MedDRA', 'indexed_spans_outer': [[4787, 4802]], 'indexed_spans_inner': [[4787, 4802]], 'text_spans_outer': [[0, 15]], 'text_spans_inner': [[0, 15]]}, 'text': {'value': 'Viral infection'}}]}, {'doc_id': '36366324', 'results': [{'Concept': {'logical_column_id': 0, 'value': 'antigens', 'indexed_spans_outer': [[1592, 1600]], 'indexed_spans_inner': [[1592, 1600]], 'text_spans_outer': [[42, 50]], 'text_spans_inner': [[42, 50]]}, '[PT] Concept': {'logical_column_id': 0, 'value': 'antigen'}, '[SID] Concept': {'logical_column_id': 0, 'value': 'chebi'}, '[NID] Concept': {'logical_column_id': 0, 'value': '59132'}, 'Ontology': {'logical_column_id': 1, 'value': 'Chemicals (ChEBI)', 'indexed_spans_outer': [[1592, 1600]], 'indexed_spans_inner': [[1592, 1600]], 'text_spans_outer': [[42, 50]], 'text_spans_inner': [[42, 50]]}, 'text': {'value': '... in antibody titers against SARS-CoV-2 antigens remain unclear.'}}, {'Concept': {'logical_column_id': 0, 'value': 'biomarker', 'indexed_spans_outer': [[7787, 7796]], 'indexed_spans_inner': [[7787, 7796]], 'text_spans_outer': [[8, 17]], 'text_spans_inner': [[8, 17]]}, '[PT] Concept': {'logical_column_id': 0, 'value': 'biomarker'}, '[SID] Concept': {'logical_column_id': 0, 'value': 'chebi'}, '[NID] Concept': {'logical_column_id': 0, 'value': '59163'}, 'Ontology': {'logical_column_id': 1, 'value': 'Chemicals (ChEBI)', 'indexed_spans_outer': [[7787, 7796]], 'indexed_spans_inner': [[7787, 7796]], 'text_spans_outer': [[8, 17]], 'text_spans_inner': [[8, 17]]}, 'text': {'value': 'vaccine biomarker'}}, {'Concept': {'logical_column_id': 0, 'value': 'coronavirus disease 2019', 'indexed_spans_outer': [[1331, 1355]], 'indexed_spans_inner': [[1331, 1355]], 'text_spans_outer': [[48, 72]], 'text_spans_inner': [[48, 72]]}, '[PT] Concept': {'logical_column_id': 0, 'value': 'COVID-19'}, '[SID] Concept': {'logical_column_id': 0, 'value': 'meddra'}, '[NID] Concept': {'logical_column_id': 0, 'value': '10084268'}, 'Ontology': {'logical_column_id': 1, 'value': 'MedDRA', 'indexed_spans_outer': [[1331, 1355]], 'indexed_spans_inner': [[1331, 1355]], 'text_spans_outer': [[48, 72]], 'text_spans_inner': [[48, 72]]}, 'text': {'value': '... preventive and therapeutic measures against coronavirus disease 2019, the complete characterization of ...'}}, {'Concept': {'logical_column_id': 0, 'value': 'COVID-19', 'indexed_spans_outer': [[957, 965]], 'indexed_spans_inner': [[957, 965]], 'text_spans_outer': [[28, 36]], 'text_spans_inner': [[28, 36]]}, '[PT] Concept': {'logical_column_id': 0, 'value': 'COVID-19'}, '[SID] Concept': {'logical_column_id': 0, 'value': 'meddra'}, '[NID] Concept': {'logical_column_id': 0, 'value': '10084268'}, 'Ontology': {'logical_column_id': 1, 'value': 'MedDRA', 'indexed_spans_outer': [[957, 965]], 'indexed_spans_inner': [[957, 965]], 'text_spans_outer': [[28, 36]], 'text_spans_inner': [[28, 36]]}, 'text': {'value': 'Longitudinal Analyses after COVID-19 Recovery or Prolonged Infection Reveal ...'}}, {'Concept': {'logical_column_id': 0, 'value': 'COVID-19', 'indexed_spans_outer': [[7612, 7620]], 'indexed_spans_inner': [[7612, 7620]], 'text_spans_outer': [[0, 8]], 'text_spans_inner': [[0, 8]]}, '[PT] Concept': {'logical_column_id': 0, 'value': 'COVID-19'}, '[SID] Concept': {'logical_column_id': 0, 'value': 'meddra'}, '[NID] Concept': {'logical_column_id': 0, 'value': '10084268'}, 'Ontology': {'logical_column_id': 1, 'value': 'MedDRA', 'indexed_spans_outer': [[7612, 7620]], 'indexed_spans_inner': [[7612, 7620]], 'text_spans_outer': [[0, 8]], 'text_spans_inner': [[0, 8]]}, 'text': {'value': 'COVID-19'}}, {'Concept': {'logical_column_id': 0, 'value': 'COVID-19 pneumonia', 'indexed_spans_outer': [[2507, 2525]], 'indexed_spans_inner': [[2507, 2525]], 'text_spans_outer': [[35, 53]], 'text_spans_inner': [[35, 53]]}, '[PT] Concept': {'logical_column_id': 0, 'value': 'COVID-19 pneumonia'}, '[SID] Concept': {'logical_column_id': 0, 'value': 'meddra'}, '[NID] Concept': {'logical_column_id': 0, 'value': '10084380'}, 'Ontology': {'logical_column_id': 1, 'value': 'MedDRA', 'indexed_spans_outer': [[2507, 2525]], 'indexed_spans_inner': [[2507, 2525]], 'text_spans_outer': [[35, 53]], 'text_spans_inner': [[35, 53]]}, 'text': {'value': '... individuals and a patient with COVID-19 pneumonia for 1 year.'}}, {'Concept': {'logical_column_id': 0, 'value': 'CXCL10', 'indexed_spans_outer': [[2251, 2257]], 'indexed_spans_inner': [[2251, 2257]], 'text_spans_outer': [[22, 28]], 'text_spans_inner': [[22, 28]]}, '[PT] Concept': {'logical_column_id': 0, 'value': 'chemokine ligand 10'}, '[SID] Concept': {'logical_column_id': 0, 'value': 'chebi'}, '[NID] Concept': {'logical_column_id': 0, 'value': '138157'}, 'Ontology': {'logical_column_id': 1, 'value': 'Chemicals (ChEBI)', 'indexed_spans_outer': [[2251, 2257]], 'indexed_spans_inner': [[2251, 2257]], 'text_spans_outer': [[22, 28]], 'text_spans_inner': [[22, 28]]}, 'text': {'value': '... that IL-10, CCL2, CXCL10, and IL-12p40 are candidate ...'}}, {'Concept': {'logical_column_id': 0, 'value': 'immunodeficiency', 'indexed_spans_outer': [[7718, 7734]], 'indexed_spans_inner': [[7718, 7734]], 'text_spans_outer': [[0, 16]], 'text_spans_inner': [[0, 16]]}, '[PT] Concept': {'logical_column_id': 0, 'value': 'Immunodeficiency'}, '[SID] Concept': {'logical_column_id': 0, 'value': 'meddra'}, '[NID] Concept': {'logical_column_id': 0, 'value': '10061598'}, 'Ontology': {'logical_column_id': 1, 'value': 'MedDRA', 'indexed_spans_outer': [[7718, 7734]], 'indexed_spans_inner': [[7718, 7734]], 'text_spans_outer': [[0, 16]], 'text_spans_inner': [[0, 16]]}, 'text': {'value': 'immunodeficiency'}}, {'Concept': {'logical_column_id': 0, 'value': 'Immunological', 'indexed_spans_outer': [[1012, 1025]], 'indexed_spans_inner': [[1012, 1025]], 'text_spans_outer': [[41, 54]], 'text_spans_inner': [[41, 54]]}, '[PT] Concept': {'logical_column_id': 0, 'value': 'Immunology test'}, '[SID] Concept': {'logical_column_id': 0, 'value': 'meddra'}, '[NID] Concept': {'logical_column_id': 0, 'value': '10062297'}, 'Ontology': {'logical_column_id': 1, 'value': 'MedDRA', 'indexed_spans_outer': [[1012, 1025]], 'indexed_spans_inner': [[1012, 1025]], 'text_spans_outer': [[41, 54]], 'text_spans_inner': [[41, 54]]}, 'text': {'value': '... or Prolonged Infection Reveal Unique Immunological Signatures after Repeated Vaccinations.'}}, {'Concept': {'logical_column_id': 0, 'value': 'infected', 'indexed_spans_outer': [[1725, 1733]], 'indexed_spans_inner': [[1725, 1733]], 'text_spans_outer': [[41, 49]], 'text_spans_inner': [[41, 49]]}, '[PT] Concept': {'logical_column_id': 0, 'value': 'Infection'}, '[SID] Concept': {'logical_column_id': 0, 'value': 'meddra'}, '[NID] Concept': {'logical_column_id': 0, 'value': '10021789'}, 'Ontology': {'logical_column_id': 1, 'value': 'MedDRA', 'indexed_spans_outer': [[1725, 1733]], 'indexed_spans_inner': [[1725, 1733]], 'text_spans_outer': [[41, 49]], 'text_spans_inner': [[41, 49]]}, 'text': {'value': '... investigation of immune responses in infected, recovered, and vaccinated ...'}}, {'Concept': {'logical_column_id': 0, 'value': 'infected', 'indexed_spans_outer': [[1927, 1935]], 'indexed_spans_inner': [[1927, 1935]], 'text_spans_outer': [[39, 47]], 'text_spans_inner': [[39, 47]]}, '[PT] Concept': {'logical_column_id': 0, 'value': 'Infection'}, '[SID] Concept': {'logical_column_id': 0, 'value': 'meddra'}, '[NID] Concept': {'logical_column_id': 0, 'value': '10021789'}, 'Ontology': {'logical_column_id': 1, 'value': 'MedDRA', 'indexed_spans_outer': [[1927, 1935]], 'indexed_spans_inner': [[1927, 1935]], 'text_spans_outer': [[39, 47]], 'text_spans_inner': [[39, 47]]}, 'text': {'value': '... memory B-cell response in patients infected with the original SARS-CoV-2 strain ...'}}, {'Concept': {'logical_column_id': 0, 'value': 'Infection', 'indexed_spans_outer': [[988, 997]], 'indexed_spans_inner': [[988, 997]], 'text_spans_outer': [[41, 50]], 'text_spans_inner': [[41, 50]]}, '[PT] Concept': {'logical_column_id': 0, 'value': 'Infection'}, '[SID] Concept': {'logical_column_id': 0, 'value': 'meddra'}, '[NID] Concept': {'logical_column_id': 0, 'value': '10021789'}, 'Ontology': {'logical_column_id': 1, 'value': 'MedDRA', 'indexed_spans_outer': [[988, 997]], 'indexed_spans_inner': [[988, 997]], 'text_spans_outer': [[41, 50]], 'text_spans_inner': [[41, 50]]}, 'text': {'value': '... after COVID-19 Recovery or Prolonged Infection Reveal Unique Immunological Signatures after ...'}}, {'Concept': {'logical_column_id': 0, 'value': 'investigated', 'indexed_spans_outer': [[1879, 1891]], 'indexed_spans_inner': [[1879, 1891]], 'text_spans_outer': [[3, 15]], 'text_spans_inner': [[3, 15]]}, '[PT] Concept': {'logical_column_id': 0, 'value': 'Investigation'}, '[SID] Concept': {'logical_column_id': 0, 'value': 'meddra'}, '[NID] Concept': {'logical_column_id': 0, 'value': '10062026'}, 'Ontology': {'logical_column_id': 1, 'value': 'MedDRA', 'indexed_spans_outer': [[1879, 1891]], 'indexed_spans_inner': [[1879, 1891]], 'text_spans_outer': [[3, 15]], 'text_spans_inner': [[3, 15]]}, 'text': {'value': 'We investigated memory B-cell response in patients ...'}}, {'Concept': {'logical_column_id': 0, 'value': 'investigated', 'indexed_spans_outer': [[1879, 1891]], 'indexed_spans_inner': [[1879, 1891]], 'text_spans_outer': [[3, 15]], 'text_spans_inner': [[3, 15]]}, '[PT] Concept': {'logical_column_id': 0, 'value': 'Investigations'}, '[SID] Concept': {'logical_column_id': 0, 'value': 'meddra'}, '[NID] Concept': {'logical_column_id': 0, 'value': '10022891'}, 'Ontology': {'logical_column_id': 1, 'value': 'MedDRA', 'indexed_spans_outer': [[1879, 1891]], 'indexed_spans_inner': [[1879, 1891]], 'text_spans_outer': [[3, 15]], 'text_spans_inner': [[3, 15]]}, 'text': {'value': 'We investigated memory B-cell response in patients ...'}}, {'Concept': {'logical_column_id': 0, 'value': 'lead', 'indexed_spans_outer': [[2846, 2850]], 'indexed_spans_inner': [[2846, 2850]], 'text_spans_outer': [[33, 37]], 'text_spans_inner': [[33, 37]]}, '[PT] Concept': {'logical_column_id': 0, 'value': 'Blood lead'}, '[SID] Concept': {'logical_column_id': 0, 'value': 'meddra'}, '[NID] Concept': {'logical_column_id': 0, 'value': '10005639'}, 'Ontology': {'logical_column_id': 1, 'value': 'MedDRA', 'indexed_spans_outer': [[2846, 2850]], 'indexed_spans_inner': [[2846, 2850]], 'text_spans_outer': [[33, 37]], 'text_spans_inner': [[33, 37]]}, 'text': {'value': '... systems of mRNA vaccines and lead to the development of novel ...'}}, {'Concept': {'logical_column_id': 0, 'value': 'mRNA', 'indexed_spans_outer': [[2828, 2832]], 'indexed_spans_inner': [[2828, 2832]], 'text_spans_outer': [[37, 41]], 'text_spans_inner': [[37, 41]]}, '[PT] Concept': {'logical_column_id': 0, 'value': 'messenger RNA'}, '[SID] Concept': {'logical_column_id': 0, 'value': 'chebi'}, '[NID] Concept': {'logical_column_id': 0, 'value': '33699'}, 'Ontology': {'logical_column_id': 1, 'value': 'Chemicals (ChEBI)', 'indexed_spans_outer': [[2828, 2832]], 'indexed_spans_inner': [[2828, 2832]], 'text_spans_outer': [[37, 41]], 'text_spans_inner': [[37, 41]]}, 'text': {'value': '... and safety evaluation systems of mRNA vaccines and lead to the ...'}}, {'Concept': {'logical_column_id': 0, 'value': 'neutralizing antibody', 'indexed_spans_outer': [[1847, 1868]], 'indexed_spans_inner': [[1847, 1868]], 'text_spans_outer': [[41, 62]], 'text_spans_inner': [[41, 62]]}, '[PT] Concept': {'logical_column_id': 0, 'value': 'Neutralising antibodies'}, '[SID] Concept': {'logical_column_id': 0, 'value': 'meddra'}, '[NID] Concept': {'logical_column_id': 0, 'value': '10058063'}, 'Ontology': {'logical_column_id': 1, 'value': 'MedDRA', 'indexed_spans_outer': [[1847, 1868]], 'indexed_spans_inner': [[1847, 1868]], 'text_spans_outer': [[41, 62]], 'text_spans_inner': [[41, 62]]}, 'text': {'value': '... cytokines and their correlation with neutralizing antibody titer.'}}, {'Concept': {'logical_column_id': 0, 'value': 'post-vaccination', 'indexed_spans_outer': [[2070, 2086]], 'indexed_spans_inner': [[2070, 2086]], 'text_spans_outer': [[48, 64]], 'text_spans_inner': [[48, 64]]}, '[PT] Concept': {'logical_column_id': 0, 'value': 'Immunisation'}, '[SID] Concept': {'logical_column_id': 0, 'value': 'meddra'}, '[NID] Concept': {'logical_column_id': 0, 'value': '10021430'}, 'Ontology': {'logical_column_id': 1, 'value': 'MedDRA', 'indexed_spans_outer': [[2070, 2086]], 'indexed_spans_inner': [[2070, 2086]], 'text_spans_outer': [[48, 64]], 'text_spans_inner': [[48, 64]]}, 'text': {'value': 'Longitudinal correlation analyses revealed that post-vaccination neutralizing potential was more strongly ...'}}, {'Concept': {'logical_column_id': 0, 'value': 'preventive', 'indexed_spans_outer': [[1287, 1297]], 'indexed_spans_inner': [[1287, 1297]], 'text_spans_outer': [[11, 21]], 'text_spans_inner': [[11, 21]]}, '[PT] Concept': {'logical_column_id': 0, 'value': 'Prophylaxis'}, '[SID] Concept': {'logical_column_id': 0, 'value': 'meddra'}, '[NID] Concept': {'logical_column_id': 0, 'value': '10036898'}, 'Ontology': {'logical_column_id': 1, 'value': 'MedDRA', 'indexed_spans_outer': [[1287, 1297]], 'indexed_spans_inner': [[1287, 1297]], 'text_spans_outer': [[11, 21]], 'text_spans_inner': [[11, 21]]}, 'text': {'value': 'To develop preventive and therapeutic measures against coronavirus ...'}}, {'Concept': {'logical_column_id': 0, 'value': 'SARS-CoV-2', 'indexed_spans_outer': [[1581, 1591]], 'indexed_spans_inner': [[1581, 1591]], 'text_spans_outer': [[41, 51]], 'text_spans_inner': [[41, 51]]}, '[PT] Concept': {'logical_column_id': 0, 'value': 'Severe acute respiratory syndrome'}, '[SID] Concept': {'logical_column_id': 0, 'value': 'meddra'}, '[NID] Concept': {'logical_column_id': 0, 'value': '10061982'}, 'Ontology': {'logical_column_id': 1, 'value': 'MedDRA', 'indexed_spans_outer': [[1581, 1591]], 'indexed_spans_inner': [[1581, 1591]], 'text_spans_outer': [[41, 51]], 'text_spans_inner': [[41, 51]]}, 'text': {'value': '... variation in antibody titers against SARS-CoV-2 antigens remain unclear.'}}, {'Concept': {'logical_column_id': 0, 'value': 'SARS-CoV-2', 'indexed_spans_outer': [[1954, 1964]], 'indexed_spans_inner': [[1954, 1964]], 'text_spans_outer': [[40, 50]], 'text_spans_inner': [[40, 50]]}, '[PT] Concept': {'logical_column_id': 0, 'value': 'Severe acute respiratory syndrome'}, '[SID] Concept': {'logical_column_id': 0, 'value': 'meddra'}, '[NID] Concept': {'logical_column_id': 0, 'value': '10061982'}, 'Ontology': {'logical_column_id': 1, 'value': 'MedDRA', 'indexed_spans_outer': [[1954, 1964]], 'indexed_spans_inner': [[1954, 1964]], 'text_spans_outer': [[40, 50]], 'text_spans_inner': [[40, 50]]}, 'text': {'value': '... patients infected with the original SARS-CoV-2 strain or other variants, ...'}}, {'Concept': {'logical_column_id': 0, 'value': 'serum-neutralizing antibody', 'indexed_spans_outer': [[2300, 2327]], 'indexed_spans_inner': [[2300, 2327]], 'text_spans_outer': [[41, 68]], 'text_spans_inner': [[41, 68]]}, '[PT] Concept': {'logical_column_id': 0, 'value': 'Neutralising antibodies'}, '[SID] Concept': {'logical_column_id': 0, 'value': 'meddra'}, '[NID] Concept': {'logical_column_id': 0, 'value': '10058063'}, 'Ontology': {'logical_column_id': 1, 'value': 'MedDRA', 'indexed_spans_outer': [[2300, 2327]], 'indexed_spans_inner': [[2300, 2327]], 'text_spans_outer': [[41, 68]], 'text_spans_inner': [[41, 68]]}, 'text': {'value': '... IL-12p40 are candidate biomarkers of serum-neutralizing antibody titer after the vaccination of ...'}}, {'Concept': {'logical_column_id': 0, 'value': 'triple-vaccinated', 'indexed_spans_outer': [[2458, 2475]], 'indexed_spans_inner': [[2458, 2475]], 'text_spans_outer': [[45, 62]], 'text_spans_inner': [[45, 62]]}, '[PT] Concept': {'logical_column_id': 0, 'value': 'Immunisation'}, '[SID] Concept': {'logical_column_id': 0, 'value': 'meddra'}, '[NID] Concept': {'logical_column_id': 0, 'value': '10021430'}, 'Ontology': {'logical_column_id': 1, 'value': 'MedDRA', 'indexed_spans_outer': [[2458, 2475]], 'indexed_spans_inner': [[2458, 2475]], 'text_spans_outer': [[45, 62]], 'text_spans_inner': [[45, 62]]}, 'text': {'value': '... virus-specific antibody gene families in triple-vaccinated individuals and a patient with ...'}}, {'Concept': {'logical_column_id': 0, 'value': 'vaccinated', 'indexed_spans_outer': [[1750, 1760]], 'indexed_spans_inner': [[1750, 1760]], 'text_spans_outer': [[29, 39]], 'text_spans_inner': [[29, 39]]}, '[PT] Concept': {'logical_column_id': 0, 'value': 'Immunisation'}, '[SID] Concept': {'logical_column_id': 0, 'value': 'meddra'}, '[NID] Concept': {'logical_column_id': 0, 'value': '10021430'}, 'Ontology': {'logical_column_id': 1, 'value': 'MedDRA', 'indexed_spans_outer': [[1750, 1760]], 'indexed_spans_inner': [[1750, 1760]], 'text_spans_outer': [[29, 39]], 'text_spans_inner': [[29, 39]]}, 'text': {'value': '... infected, recovered, and vaccinated individuals.'}}, {'Concept': {'logical_column_id': 0, 'value': 'vaccinated', 'indexed_spans_outer': [[1998, 2008]], 'indexed_spans_inner': [[1998, 2008]], 'text_spans_outer': [[27, 37]], 'text_spans_inner': [[27, 37]]}, '[PT] Concept': {'logical_column_id': 0, 'value': 'Immunisation'}, '[SID] Concept': {'logical_column_id': 0, 'value': 'meddra'}, '[NID] Concept': {'logical_column_id': 0, 'value': '10021430'}, 'Ontology': {'logical_column_id': 1, 'value': 'MedDRA', 'indexed_spans_outer': [[1998, 2008]], 'indexed_spans_inner': [[1998, 2008]], 'text_spans_outer': [[27, 37]], 'text_spans_inner': [[27, 37]]}, 'text': {'value': '... other variants, and in vaccinated individuals.'}}, {'Concept': {'logical_column_id': 0, 'value': 'vaccination', 'indexed_spans_outer': [[1468, 1479]], 'indexed_spans_inner': [[1468, 1479]], 'text_spans_outer': [[45, 56]], 'text_spans_inner': [[45, 56]]}, '[PT] Concept': {'logical_column_id': 0, 'value': 'Immunisation'}, '[SID] Concept': {'logical_column_id': 0, 'value': 'meddra'}, '[NID] Concept': {'logical_column_id': 0, 'value': '10021430'}, 'Ontology': {'logical_column_id': 1, 'value': 'MedDRA', 'indexed_spans_outer': [[1468, 1479]], 'indexed_spans_inner': [[1468, 1479]], 'text_spans_outer': [[45, 56]], 'text_spans_inner': [[45, 56]]}, 'text': {'value': '... activation following viral infection and vaccination are critical.'}}, {'Concept': {'logical_column_id': 0, 'value': 'vaccination', 'indexed_spans_outer': [[2344, 2355]], 'indexed_spans_inner': [[2344, 2355]], 'text_spans_outer': [[48, 59]], 'text_spans_inner': [[48, 59]]}, '[PT] Concept': {'logical_column_id': 0, 'value': 'Immunisation'}, '[SID] Concept': {'logical_column_id': 0, 'value': 'meddra'}, '[NID] Concept': {'logical_column_id': 0, 'value': '10021430'}, 'Ontology': {'logical_column_id': 1, 'value': 'MedDRA', 'indexed_spans_outer': [[2344, 2355]], 'indexed_spans_inner': [[2344, 2355]], 'text_spans_outer': [[48, 59]], 'text_spans_inner': [[48, 59]]}, 'text': {'value': '... serum-neutralizing antibody titer after the vaccination of recovered individuals.'}}, {'Concept': {'logical_column_id': 0, 'value': 'vaccination', 'indexed_spans_outer': [[2758, 2769]], 'indexed_spans_inner': [[2758, 2769]], 'text_spans_outer': [[44, 55]], 'text_spans_inner': [[44, 55]]}, '[PT] Concept': {'logical_column_id': 0, 'value': 'Immunisation'}, '[SID] Concept': {'logical_column_id': 0, 'value': 'meddra'}, '[NID] Concept': {'logical_column_id': 0, 'value': '10021430'}, 'Ontology': {'logical_column_id': 1, 'value': 'MedDRA', 'indexed_spans_outer': [[2758, 2769]], 'indexed_spans_inner': [[2758, 2769]], 'text_spans_outer': [[44, 55]], 'text_spans_inner': [[44, 55]]}, 'text': {'value': '... biomarkers that correlate with repeated vaccination may support the efficacy and ...'}}, {'Concept': {'logical_column_id': 0, 'value': 'Vaccinations', 'indexed_spans_outer': [[1052, 1064]], 'indexed_spans_inner': [[1052, 1064]], 'text_spans_outer': [[51, 63]], 'text_spans_inner': [[51, 63]]}, '[PT] Concept': {'logical_column_id': 0, 'value': 'Immunisation'}, '[SID] Concept': {'logical_column_id': 0, 'value': 'meddra'}, '[NID] Concept': {'logical_column_id': 0, 'value': '10021430'}, 'Ontology': {'logical_column_id': 1, 'value': 'MedDRA', 'indexed_spans_outer': [[1052, 1064]], 'indexed_spans_inner': [[1052, 1064]], 'text_spans_outer': [[51, 63]], 'text_spans_inner': [[51, 63]]}, 'text': {'value': '... Unique Immunological Signatures after Repeated Vaccinations.'}}, {'Concept': {'logical_column_id': 0, 'value': 'vaccine', 'indexed_spans_outer': [[2879, 2886]], 'indexed_spans_inner': [[2879, 2886]], 'text_spans_outer': [[32, 39]], 'text_spans_inner': [[32, 39]]}, '[PT] Concept': {'logical_column_id': 0, 'value': 'Immunisation'}, '[SID] Concept': {'logical_column_id': 0, 'value': 'meddra'}, '[NID] Concept': {'logical_column_id': 0, 'value': '10021430'}, 'Ontology': {'logical_column_id': 1, 'value': 'MedDRA', 'indexed_spans_outer': [[2879, 2886]], 'indexed_spans_inner': [[2879, 2886]], 'text_spans_outer': [[32, 39]], 'text_spans_inner': [[32, 39]]}, 'text': {'value': '... to the development of novel vaccine strategies.'}}, {'Concept': {'logical_column_id': 0, 'value': 'vaccine', 'indexed_spans_outer': [[7779, 7786]], 'indexed_spans_inner': [[7779, 7786]], 'text_spans_outer': [[0, 7]], 'text_spans_inner': [[0, 7]]}, '[PT] Concept': {'logical_column_id': 0, 'value': 'Immunisation'}, '[SID] Concept': {'logical_column_id': 0, 'value': 'meddra'}, '[NID] Concept': {'logical_column_id': 0, 'value': '10021430'}, 'Ontology': {'logical_column_id': 1, 'value': 'MedDRA', 'indexed_spans_outer': [[7779, 7786]], 'indexed_spans_inner': [[7779, 7786]], 'text_spans_outer': [[0, 7]], 'text_spans_inner': [[0, 7]]}, 'text': {'value': 'vaccine biomarker'}}, {'Concept': {'logical_column_id': 0, 'value': 'Vaccines', 'indexed_spans_outer': [[809, 817]], 'indexed_spans_inner': [[809, 817]], 'text_spans_outer': [[0, 8]], 'text_spans_inner': [[0, 8]]}, '[PT] Concept': {'logical_column_id': 0, 'value': 'Immunisation'}, '[SID] Concept': {'logical_column_id': 0, 'value': 'meddra'}, '[NID] Concept': {'logical_column_id': 0, 'value': '10021430'}, 'Ontology': {'logical_column_id': 1, 'value': 'MedDRA', 'indexed_spans_outer': [[809, 817]], 'indexed_spans_inner': [[809, 817]], 'text_spans_outer': [[0, 8]], 'text_spans_inner': [[0, 8]]}, 'text': {'value': 'Vaccines'}}, {'Concept': {'logical_column_id': 0, 'value': 'vaccines', 'indexed_spans_outer': [[2833, 2841]], 'indexed_spans_inner': [[2833, 2841]], 'text_spans_outer': [[38, 46]], 'text_spans_inner': [[38, 46]]}, '[PT] Concept': {'logical_column_id': 0, 'value': 'Immunisation'}, '[SID] Concept': {'logical_column_id': 0, 'value': 'meddra'}, '[NID] Concept': {'logical_column_id': 0, 'value': '10021430'}, 'Ontology': {'logical_column_id': 1, 'value': 'MedDRA', 'indexed_spans_outer': [[2833, 2841]], 'indexed_spans_inner': [[2833, 2841]], 'text_spans_outer': [[38, 46]], 'text_spans_inner': [[38, 46]]}, 'text': {'value': '... safety evaluation systems of mRNA vaccines and lead to the development ...'}}, {'Concept': {'logical_column_id': 0, 'value': 'viral infection', 'indexed_spans_outer': [[1448, 1463]], 'indexed_spans_inner': [[1448, 1463]], 'text_spans_outer': [[46, 61]], 'text_spans_inner': [[46, 61]]}, '[PT] Concept': {'logical_column_id': 0, 'value': 'Viral infection'}, '[SID] Concept': {'logical_column_id': 0, 'value': 'meddra'}, '[NID] Concept': {'logical_column_id': 0, 'value': '10047461'}, 'Ontology': {'logical_column_id': 1, 'value': 'MedDRA', 'indexed_spans_outer': [[1448, 1463]], 'indexed_spans_inner': [[1448, 1463]], 'text_spans_outer': [[46, 61]], 'text_spans_inner': [[46, 61]]}, 'text': {'value': '... and sustained immune activation following viral infection and vaccination are critical.'}}]}]\n"
     ]
    }
   ],
   "source": [
    "features = [\"chebi\", \"meddra\"]\n",
    "results_json = []\n",
    "fetch_url = input('Please enter the Content Store Feature Extraction API URL: ').rstrip('/')\n",
    "\n",
    "id_validation = input(\"Is your Content Store Feature Extraction clientId the same as Content Store Search (y/n)?\")\n",
    "\n",
    "if id_validation.lower() == \"y\":\n",
    "    print(\"Thank you!\")\n",
    "elif id_validation.lower() == \"n\":\n",
    "    mkp_user = input(\"Content Store Feature Extraction API clientId: \")\n",
    "    mkp_password = getpass.getpass(\"Content Store Feature Extraction API clientSecret: \")\n",
    "    mkp_headers = {'clientId': mkp_user, 'clientSecret': mkp_password}\n",
    "    print(\"Thanks for inputting your user name and password!\")\n",
    "else:\n",
    "    print(\"Please type in 'y' or 'n'.\")\n",
    "\n",
    "print(f\"Making requests to get features for specified documents...\")\n",
    "\n",
    "response = requests.post(fetch_url, headers=mkp_headers, json={\"index_name\": index_name, \"params\": {\"features\": features, \"docIds\": doc_id_list[:2]}})\n",
    "\n",
    "# Poll the API until results are available\n",
    "while response.status_code == 202:\n",
    "    print('Results are not available yet. Waiting 5 seconds before polling again...')\n",
    "    time.sleep(5)\n",
    "    # Use the run id from the Post request to get results\n",
    "    run_identifier = response.json()['id']    \n",
    "    response = requests.get(url=f'{fetch_url}/{run_identifier}', headers=mkp_headers)\n",
    "    \n",
    "# Check the response\n",
    "if response.status_code == 200:\n",
    "    print(\"Success!\")\n",
    "    results_json = response.json()\n",
    "else:\n",
    "    raise Exception(f\"Unexpected status code: {response.status_code}\")\n",
    "\n",
    "print(f\"JSON response from the API: {results_json}\")"
   ]
  },
  {
   "cell_type": "markdown",
   "id": "04387a91",
   "metadata": {
    "pycharm": {
     "name": "#%% md\n"
    }
   },
   "source": [
    "Convert to pandas dataframe"
   ]
  },
  {
   "cell_type": "code",
   "execution_count": 9,
   "id": "12b23660",
   "metadata": {
    "pycharm": {
     "name": "#%%\n"
    }
   },
   "outputs": [
    {
     "data": {
      "text/html": [
       "<div>\n",
       "<style scoped>\n",
       "    .dataframe tbody tr th:only-of-type {\n",
       "        vertical-align: middle;\n",
       "    }\n",
       "\n",
       "    .dataframe tbody tr th {\n",
       "        vertical-align: top;\n",
       "    }\n",
       "\n",
       "    .dataframe thead th {\n",
       "        text-align: right;\n",
       "    }\n",
       "</style>\n",
       "<table border=\"1\" class=\"dataframe\">\n",
       "  <thead>\n",
       "    <tr style=\"text-align: right;\">\n",
       "      <th></th>\n",
       "      <th>Doc Id</th>\n",
       "      <th>Concept</th>\n",
       "      <th>[PT] Concept</th>\n",
       "      <th>[SID] Concept</th>\n",
       "      <th>[NID] Concept</th>\n",
       "      <th>Ontology</th>\n",
       "      <th>text</th>\n",
       "    </tr>\n",
       "  </thead>\n",
       "  <tbody>\n",
       "    <tr>\n",
       "      <th>0</th>\n",
       "      <td>36374780</td>\n",
       "      <td>Covid-19</td>\n",
       "      <td>COVID-19</td>\n",
       "      <td>meddra</td>\n",
       "      <td>10084268</td>\n",
       "      <td>MedDRA</td>\n",
       "      <td>... the findings from patients with Covid-19 a...</td>\n",
       "    </tr>\n",
       "    <tr>\n",
       "      <th>1</th>\n",
       "      <td>36374780</td>\n",
       "      <td>Covid-19</td>\n",
       "      <td>COVID-19</td>\n",
       "      <td>meddra</td>\n",
       "      <td>10084268</td>\n",
       "      <td>MedDRA</td>\n",
       "      <td>Covid-19 is an example where MAIT ...</td>\n",
       "    </tr>\n",
       "    <tr>\n",
       "      <th>2</th>\n",
       "      <td>36374780</td>\n",
       "      <td>immunology</td>\n",
       "      <td>Immunology test</td>\n",
       "      <td>meddra</td>\n",
       "      <td>10062297</td>\n",
       "      <td>MedDRA</td>\n",
       "      <td>Seminars in immunology</td>\n",
       "    </tr>\n",
       "    <tr>\n",
       "      <th>3</th>\n",
       "      <td>36374780</td>\n",
       "      <td>ligands</td>\n",
       "      <td>ligand</td>\n",
       "      <td>chebi</td>\n",
       "      <td>52214</td>\n",
       "      <td>Chemicals (ChEBI)</td>\n",
       "      <td>... cells, recognise quite distinct ligands, t...</td>\n",
       "    </tr>\n",
       "    <tr>\n",
       "      <th>4</th>\n",
       "      <td>36374780</td>\n",
       "      <td>SARS-COV2</td>\n",
       "      <td>Severe acute respiratory syndrome</td>\n",
       "      <td>meddra</td>\n",
       "      <td>10061982</td>\n",
       "      <td>MedDRA</td>\n",
       "      <td>SARS-COV2</td>\n",
       "    </tr>\n",
       "    <tr>\n",
       "      <th>5</th>\n",
       "      <td>36374780</td>\n",
       "      <td>vaccination</td>\n",
       "      <td>Immunisation</td>\n",
       "      <td>meddra</td>\n",
       "      <td>10021430</td>\n",
       "      <td>MedDRA</td>\n",
       "      <td>... in human viral disease and vaccination.</td>\n",
       "    </tr>\n",
       "    <tr>\n",
       "      <th>6</th>\n",
       "      <td>36374780</td>\n",
       "      <td>vaccines</td>\n",
       "      <td>Immunisation</td>\n",
       "      <td>meddra</td>\n",
       "      <td>10021430</td>\n",
       "      <td>MedDRA</td>\n",
       "      <td>... Covid-19 and responses to novel vaccines.</td>\n",
       "    </tr>\n",
       "    <tr>\n",
       "      <th>7</th>\n",
       "      <td>36374780</td>\n",
       "      <td>Viral infection</td>\n",
       "      <td>Viral infection</td>\n",
       "      <td>meddra</td>\n",
       "      <td>10047461</td>\n",
       "      <td>MedDRA</td>\n",
       "      <td>Viral infection</td>\n",
       "    </tr>\n",
       "    <tr>\n",
       "      <th>8</th>\n",
       "      <td>36366324</td>\n",
       "      <td>antigens</td>\n",
       "      <td>antigen</td>\n",
       "      <td>chebi</td>\n",
       "      <td>59132</td>\n",
       "      <td>Chemicals (ChEBI)</td>\n",
       "      <td>... in antibody titers against SARS-CoV-2 anti...</td>\n",
       "    </tr>\n",
       "    <tr>\n",
       "      <th>9</th>\n",
       "      <td>36366324</td>\n",
       "      <td>biomarker</td>\n",
       "      <td>biomarker</td>\n",
       "      <td>chebi</td>\n",
       "      <td>59163</td>\n",
       "      <td>Chemicals (ChEBI)</td>\n",
       "      <td>vaccine biomarker</td>\n",
       "    </tr>\n",
       "  </tbody>\n",
       "</table>\n",
       "</div>"
      ],
      "text/plain": [
       "     Doc Id          Concept                       [PT] Concept [SID] Concept [NID] Concept           Ontology                                               text\n",
       "0  36374780         Covid-19                           COVID-19        meddra      10084268             MedDRA  ... the findings from patients with Covid-19 a...\n",
       "1  36374780         Covid-19                           COVID-19        meddra      10084268             MedDRA              Covid-19 is an example where MAIT ...\n",
       "2  36374780       immunology                    Immunology test        meddra      10062297             MedDRA                             Seminars in immunology\n",
       "3  36374780          ligands                             ligand         chebi         52214  Chemicals (ChEBI)  ... cells, recognise quite distinct ligands, t...\n",
       "4  36374780        SARS-COV2  Severe acute respiratory syndrome        meddra      10061982             MedDRA                                          SARS-COV2\n",
       "5  36374780      vaccination                       Immunisation        meddra      10021430             MedDRA        ... in human viral disease and vaccination.\n",
       "6  36374780         vaccines                       Immunisation        meddra      10021430             MedDRA      ... Covid-19 and responses to novel vaccines.\n",
       "7  36374780  Viral infection                    Viral infection        meddra      10047461             MedDRA                                    Viral infection\n",
       "8  36366324         antigens                            antigen         chebi         59132  Chemicals (ChEBI)  ... in antibody titers against SARS-CoV-2 anti...\n",
       "9  36366324        biomarker                          biomarker         chebi         59163  Chemicals (ChEBI)                                  vaccine biomarker"
      ]
     },
     "execution_count": 9,
     "metadata": {},
     "output_type": "execute_result"
    }
   ],
   "source": [
    "import pandas as pd\n",
    "\n",
    "# initiate an empty dataframe\n",
    "df = pd.DataFrame()\n",
    "pd.set_option(\"display.max_rows\", None, \"display.max_columns\", None, \"display.width\", 1000)\n",
    "\n",
    "# Retrieve main results from the JSON response, please note this cell would fail if the request failed in the last step\n",
    "for inner_results in results_json:\n",
    "    for result_dict in inner_results['results']:\n",
    "        df_dict = {}\n",
    "        df_dict['Doc Id'] = inner_results['doc_id']\n",
    "        for key, value_dict in result_dict.items():                                                                                                                                                                                                                                                                                                                           \n",
    "            df_dict[key] = value_dict['value']                                                                                                                                                                                                                                                                                                                                                                                                                                                                                                                                                                                                                \n",
    "        df = pd.concat([df, pd.DataFrame.from_records([{**df_dict}])], ignore_index=True)                                                                                                                                                                                                                                                                                     \n",
    "\n",
    "# Print the DataFrame                                                                                                                                                                                                                                                                                                                                                         \n",
    "df.head(10)"
   ]
  },
  {
   "cell_type": "markdown",
   "id": "ea414f49",
   "metadata": {
    "pycharm": {
     "name": "#%% md\n"
    }
   },
   "source": [
    "That's it! Hope you find this tutorial useful! Bye!"
   ]
  },
  {
   "cell_type": "code",
   "execution_count": null,
   "id": "ae879555",
   "metadata": {
    "pycharm": {
     "name": "#%%"
    }
   },
   "outputs": [],
   "source": []
  }
 ],
 "metadata": {
  "kernelspec": {
   "display_name": "Python 3 (ipykernel)",
   "language": "python",
   "name": "python3"
  },
  "language_info": {
   "codemirror_mode": {
    "name": "ipython",
    "version": 3
   },
   "file_extension": ".py",
   "mimetype": "text/x-python",
   "name": "python",
   "nbconvert_exporter": "python",
   "pygments_lexer": "ipython3",
   "version": "3.8.10"
  }
 },
 "nbformat": 4,
 "nbformat_minor": 5
}