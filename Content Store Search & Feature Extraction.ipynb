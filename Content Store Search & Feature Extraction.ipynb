{
 "cells": [
  {
   "cell_type": "markdown",
   "id": "0a73f289",
   "metadata": {},
   "source": [
    "# IQVIA NLP - Content Store Search and Feature Extraction\n",
    "\n",
    "## API Description\n",
    "In today’s complex and competitive environment finding the right data to generate the right insight matters. External sources contain vast amounts of rich data but going source by source, searching for and ingesting the right data is time consuming and takes vital time away from developing impactful insights. The IQVIA NLP Content Store APIs are your go-to resource for keeping your team’s focus out of the data weeds and where it belongs: making strategic decisions to achieve your goals.\n",
    "\n",
    "## Accessing the API\n",
    "In order to consume this API, you will first need to request access to the Content Store Search API via this link:\n",
    "https://api-marketplace.work.iqvia.com/s/communityapi/a085w00000yu12lAAA/external-api-marketplaceiqvianlpcontentstoresearch\n",
    "\n",
    "And the access to the Content Store Feature Extraction API via this link:\n",
    "https://api-marketplace.work.iqvia.com/s/communityapi/a085w00000yu12qAAA/external-api-marketplaceiqvianlpcontentstorefeatureextraction .\n",
    "\n",
    "Please refer to \"API Documentation\" to learn more about accessing and using the API.\n",
    "\n",
    "## Notebook Description\n",
    "This notebook is designed to show users an example of using the IQVIA NLP - Content Store Search API and IQVIA NLP - Content Store Feature Extraction API.\n",
    "\n",
    "### Authorization\n",
    "The instructions for getting your credentials and the API endpoint URL can be found under the section \"Get Started\" and \"How to use the API\" following this link: https://api-marketplace.work.iqvia.com/s/communityapi/a085w00000yu12lAAA/external-api-marketplaceiqvianlpcontentstoresearch"
   ]
  },
  {
   "cell_type": "code",
   "execution_count": 1,
   "id": "301249eb",
   "metadata": {
    "pycharm": {
     "name": "#%%\n"
    }
   },
   "outputs": [
    {
     "name": "stdout",
     "output_type": "stream",
     "text": [
      "Please enter the Content Store Search API URL: https://vt.eu-apim-devtest.solutions.iqvia.com/eu/easl/api/v2/easl\n",
      "Marketplace clientId: a99b627bb38a4be38d2804869e3b4c40\n",
      "Marketplace clientSecret: ········\n",
      "Thanks for inputting URL, your user name and password!\n"
     ]
    }
   ],
   "source": [
    "import getpass\n",
    "\n",
    "# Get URL and credentials from customers\n",
    "api_endpoint_url = input('Please enter the Content Store Search API URL: ').rstrip('/')\n",
    "\n",
    "mkp_user = input(\"Marketplace clientId: \")\n",
    "mkp_password = getpass.getpass(\"Marketplace clientSecret: \")\n",
    "mkp_headers = {'clientId': mkp_user, 'clientSecret': mkp_password}\n",
    "\n",
    "print(\"Thanks for inputting URL, your user name and password!\")"
   ]
  },
  {
   "cell_type": "markdown",
   "id": "3c190075",
   "metadata": {
    "pycharm": {
     "name": "#%% md\n"
    }
   },
   "source": [
    "### Example: Make a request with I2E query on selected I2E index\n",
    "Content Store Search API expects an I2E query and an Index name as input parameter. This example shows how to make a request to the API with a pre-configured API from  as input."
   ]
  },
  {
   "cell_type": "code",
   "execution_count": 4,
   "id": "c0413fe6",
   "metadata": {
    "pycharm": {
     "name": "#%%\n"
    }
   },
   "outputs": [
    {
     "name": "stdout",
     "output_type": "stream",
     "text": [
      "Posting query request...\n",
      "Success!\n",
      "Number of document found: 509\n",
      "Sampled results: [{'Doc': '36374780', 'IndexName': 'medline-full'}, {'Doc': '36366324', 'IndexName': 'medline-full'}, {'Doc': '36366282', 'IndexName': 'medline-full'}, {'Doc': '36363686', 'IndexName': 'medline-full'}, {'Doc': '36363472', 'IndexName': 'medline-full'}]\n"
     ]
    }
   ],
   "source": [
    "import requests\n",
    "import os\n",
    "import time\n",
    "\n",
    "# Define input query and index to run\n",
    "input_query = os.path.join(os.getcwd(), \"demo_queries/Content_Store_Search-Post_EASL_Run/biomkr_reln-covid19_disease.i2qy\")\n",
    "index_name = \"medline-full\"\n",
    "\n",
    "# Make a request\n",
    "print(\"Posting query request...\")\n",
    "with open(input_query, \"r\") as query:\n",
    "    response = requests.post(api_endpoint_url, headers=mkp_headers, files={'query': (input_query, query, \"application/octet-stream\")}, data={'index_name': index_name})\n",
    "\n",
    "# Poll the API until results are available\n",
    "while response.status_code == 202:\n",
    "    print('Results are not available yet. Waiting 5 seconds before polling again...')\n",
    "    time.sleep(5)\n",
    "    # Use the run id from the Post request to get results\n",
    "    run_identifier = response.json()['id']    \n",
    "    response = requests.get(url=f'{api_endpoint_url}/{run_identifier}', headers=mkp_headers)\n",
    "    \n",
    "# Check the response\n",
    "if response.status_code == 200:\n",
    "    print(\"Success!\")\n",
    "    results_json = response.json()\n",
    "else:\n",
    "    raise Exception(f\"Unexpected status code: {response.status_code}\")\n",
    "\n",
    "print(f\"Number of document found: {len(results_json)}\")\n",
    "print(f\"Sampled results: {results_json[:5]}\")"
   ]
  },
  {
   "cell_type": "markdown",
   "id": "64eeb2d3",
   "metadata": {},
   "source": [
    "Get the list of document ID returned by the Content Store Search API."
   ]
  },
  {
   "cell_type": "code",
   "execution_count": 6,
   "id": "afdcdad8",
   "metadata": {
    "pycharm": {
     "name": "#%%\n"
    }
   },
   "outputs": [
    {
     "name": "stdout",
     "output_type": "stream",
     "text": [
      "Sampled Document IDs from results: ['36374780', '36366324', '36366282', '36363686', '36363472']\n"
     ]
    }
   ],
   "source": [
    "doc_id_list = [result[\"Doc\"] for result in results_json]\n",
    "print(f\"Sampled Document IDs from results: {doc_id_list[:5]}\")"
   ]
  },
  {
   "cell_type": "markdown",
   "id": "9d2650a7",
   "metadata": {
    "pycharm": {
     "name": "#%% md\n"
    }
   },
   "source": [
    "Fetch features from the first two documents in the list."
   ]
  },
  {
   "cell_type": "code",
   "execution_count": 8,
   "id": "90e9ea97",
   "metadata": {
    "pycharm": {
     "name": "#%%\n"
    }
   },
   "outputs": [
    {
     "name": "stdout",
     "output_type": "stream",
     "text": [
      "Please enter the Content Store Feature Extraction API URL: https://vt.eu-apim-devtest.solutions.iqvia.com/eu/fetch-features/api/v2/fetch-features\n",
      "Is your Content Store Feature Extraction clientId the same as Content Store Search (y/n)?n\n",
      "Content Store Feature Extraction API clientId: 39f89fc1b1ba4613b41a993642bde651\n",
      "Content Store Feature Extraction API clientSecret: ········\n",
      "Thanks for inputting your user name and password!\n",
      "Making requests to get features for specified documents...\n"
     ]
    },
    {
     "ename": "Exception",
     "evalue": "Unexpected status code: 500",
     "output_type": "error",
     "traceback": [
      "\u001b[1;31m---------------------------------------------------------------------------\u001b[0m",
      "\u001b[1;31mException\u001b[0m                                 Traceback (most recent call last)",
      "Input \u001b[1;32mIn [8]\u001b[0m, in \u001b[0;36m<cell line: 30>\u001b[1;34m()\u001b[0m\n\u001b[0;32m     33\u001b[0m     \u001b[38;5;28mprint\u001b[39m(\u001b[38;5;124mf\u001b[39m\u001b[38;5;124m\"\u001b[39m\u001b[38;5;124mRun Id from the API is: \u001b[39m\u001b[38;5;132;01m{\u001b[39;00mresults_json[\u001b[38;5;124m'\u001b[39m\u001b[38;5;124mid\u001b[39m\u001b[38;5;124m'\u001b[39m]\u001b[38;5;132;01m}\u001b[39;00m\u001b[38;5;130;01m\\n\u001b[39;00m\u001b[38;5;124mStatus of the run is: \u001b[39m\u001b[38;5;132;01m{\u001b[39;00mresults_json[\u001b[38;5;124m'\u001b[39m\u001b[38;5;124mstatus\u001b[39m\u001b[38;5;124m'\u001b[39m]\u001b[38;5;132;01m}\u001b[39;00m\u001b[38;5;124m\"\u001b[39m)\n\u001b[0;32m     34\u001b[0m \u001b[38;5;28;01melse\u001b[39;00m:\n\u001b[1;32m---> 35\u001b[0m     \u001b[38;5;28;01mraise\u001b[39;00m \u001b[38;5;167;01mException\u001b[39;00m(\u001b[38;5;124mf\u001b[39m\u001b[38;5;124m\"\u001b[39m\u001b[38;5;124mUnexpected status code: \u001b[39m\u001b[38;5;132;01m{\u001b[39;00mresponse\u001b[38;5;241m.\u001b[39mstatus_code\u001b[38;5;132;01m}\u001b[39;00m\u001b[38;5;124m\"\u001b[39m)\n\u001b[0;32m     37\u001b[0m \u001b[38;5;28mprint\u001b[39m(\u001b[38;5;124mf\u001b[39m\u001b[38;5;124m\"\u001b[39m\u001b[38;5;124mExample of the JSON response from the API for one document: \u001b[39m\u001b[38;5;132;01m{\u001b[39;00mresults_json[\u001b[38;5;241m0\u001b[39m][\u001b[38;5;241m0\u001b[39m]\u001b[38;5;132;01m}\u001b[39;00m\u001b[38;5;124m\"\u001b[39m)\n",
      "\u001b[1;31mException\u001b[0m: Unexpected status code: 500"
     ]
    }
   ],
   "source": [
    "features = [\"chebi\", \"meddra\"]\n",
    "results_json = []\n",
    "fetch_url = input('Please enter the Content Store Feature Extraction API URL: ').rstrip('/')\n",
    "\n",
    "id_validation = input(\"Is your Content Store Feature Extraction clientId the same as Content Store Search (y/n)?\")\n",
    "\n",
    "if id_validation.lower() == \"y\":\n",
    "    print(\"Thank you!\")\n",
    "elif id_validation.lower() == \"n\":\n",
    "    mkp_user = input(\"Content Store Feature Extraction API clientId: \")\n",
    "    mkp_password = getpass.getpass(\"Content Store Feature Extraction API clientSecret: \")\n",
    "    mkp_headers = {'clientId': mkp_user, 'clientSecret': mkp_password}\n",
    "    print(\"Thanks for inputting your user name and password!\")\n",
    "else:\n",
    "    print(\"Please type in 'y' or 'n'.\")\n",
    "\n",
    "print(f\"Making requests to get features for specified documents...\")\n",
    "\n",
    "response = requests.post(fetch_url, headers=mkp_headers, json={\"index\": index_name, \"params\": {\"features\": features, \"docIds\": doc_id_list[:2]}})\n",
    "\n",
    "# Poll the API until results are available\n",
    "while response.status_code == 202:\n",
    "    print('Results are not available yet. Waiting 5 seconds before polling again...')\n",
    "    time.sleep(5)\n",
    "    # Use the run id from the Post request to get results\n",
    "    run_identifier = response.json()['id']    \n",
    "    response = requests.get(url=f'{fetch_url}/{run_identifier}', headers=mkp_headers)\n",
    "    \n",
    "# Check the response\n",
    "if response.status_code == 200:\n",
    "    print(\"Success!\")\n",
    "    results_json = response.json()\n",
    "else:\n",
    "    raise Exception(f\"Unexpected status code: {response.status_code}\")\n",
    "\n",
    "print(f\"JSON response from the API: {results_json}\")"
   ]
  },
  {
   "cell_type": "markdown",
   "id": "04387a91",
   "metadata": {
    "pycharm": {
     "name": "#%% md\n"
    }
   },
   "source": [
    "Convert to pandas dataframe"
   ]
  },
  {
   "cell_type": "code",
   "execution_count": 18,
   "id": "12b23660",
   "metadata": {
    "pycharm": {
     "name": "#%%\n"
    }
   },
   "outputs": [
    {
     "data": {
      "text/html": [
       "<div>\n",
       "<style scoped>\n",
       "    .dataframe tbody tr th:only-of-type {\n",
       "        vertical-align: middle;\n",
       "    }\n",
       "\n",
       "    .dataframe tbody tr th {\n",
       "        vertical-align: top;\n",
       "    }\n",
       "\n",
       "    .dataframe thead th {\n",
       "        text-align: right;\n",
       "    }\n",
       "</style>\n",
       "<table border=\"1\" class=\"dataframe\">\n",
       "  <thead>\n",
       "    <tr style=\"text-align: right;\">\n",
       "      <th></th>\n",
       "      <th>doc_id</th>\n",
       "      <th>Concept</th>\n",
       "      <th>[PT] Concept</th>\n",
       "      <th>[SID] Concept</th>\n",
       "      <th>[NID] Concept</th>\n",
       "      <th>Ontology</th>\n",
       "      <th>text</th>\n",
       "    </tr>\n",
       "  </thead>\n",
       "  <tbody>\n",
       "    <tr>\n",
       "      <th>0</th>\n",
       "      <td>36422480</td>\n",
       "      <td>protease inhibitor</td>\n",
       "      <td>protease inhibitor</td>\n",
       "      <td>chebi</td>\n",
       "      <td>37670</td>\n",
       "      <td>Chemicals (ChEBI)</td>\n",
       "      <td>... blocked by a clinically proven protease in...</td>\n",
       "    </tr>\n",
       "    <tr>\n",
       "      <th>1</th>\n",
       "      <td>36417336</td>\n",
       "      <td>colchicine</td>\n",
       "      <td>colchicine</td>\n",
       "      <td>chebi</td>\n",
       "      <td>23359</td>\n",
       "      <td>Chemicals (ChEBI)</td>\n",
       "      <td>Effect of colchicine vs standard care on cardi...</td>\n",
       "    </tr>\n",
       "    <tr>\n",
       "      <th>2</th>\n",
       "      <td>36422480</td>\n",
       "      <td>taste disorders</td>\n",
       "      <td>Taste disorders</td>\n",
       "      <td>meddra</td>\n",
       "      <td>10043131</td>\n",
       "      <td>MedDRA</td>\n",
       "      <td>Acute-onset smell and taste disorders in the c...</td>\n",
       "    </tr>\n",
       "    <tr>\n",
       "      <th>3</th>\n",
       "      <td>36417336</td>\n",
       "      <td>weight</td>\n",
       "      <td>Weight</td>\n",
       "      <td>meddra</td>\n",
       "      <td>10047890</td>\n",
       "      <td>MedDRA</td>\n",
       "      <td>... an unhealthy phenotype: normal weight but ...</td>\n",
       "    </tr>\n",
       "  </tbody>\n",
       "</table>\n",
       "</div>"
      ],
      "text/plain": [
       "     doc_id             Concept        [PT] Concept [SID] Concept [NID] Concept           Ontology                                               text\n",
       "0  36422480  protease inhibitor  protease inhibitor         chebi         37670  Chemicals (ChEBI)  ... blocked by a clinically proven protease in...\n",
       "1  36417336          colchicine          colchicine         chebi         23359  Chemicals (ChEBI)  Effect of colchicine vs standard care on cardi...\n",
       "2  36422480     taste disorders     Taste disorders        meddra      10043131             MedDRA  Acute-onset smell and taste disorders in the c...\n",
       "3  36417336              weight              Weight        meddra      10047890             MedDRA  ... an unhealthy phenotype: normal weight but ..."
      ]
     },
     "execution_count": 18,
     "metadata": {},
     "output_type": "execute_result"
    }
   ],
   "source": [
    "import pandas as pd\n",
    "\n",
    "# initiate an empty dataframe\n",
    "df = pd.DataFrame()\n",
    "pd.set_option(\"display.max_rows\", None, \"display.max_columns\", None, \"display.width\", 1000)\n",
    "\n",
    "# Retrieve main results from the JSON response, please note this cell would fail if the request failed in the last step\n",
    "for inner_results in results_json:\n",
    "    for result_dict in inner_results['results']:\n",
    "        df_dict = {}\n",
    "        df_dict['Doc Id'] = inner_results['doc_id']\n",
    "        for key, value_dict in result_dict.items():                                                                                                                                                                                                                                                                                                                           \n",
    "            df_dict[key] = value_dict['value']                                                                                                                                                                                                                                                                                                                                                                                                                                                                                                                                                                                                                \n",
    "        df = pd.concat([df, pd.DataFrame.from_records([{**df_dict}])], ignore_index=True)                                                                                                                                                                                                                                                                                     \n",
    "\n",
    "# Print the DataFrame                                                                                                                                                                                                                                                                                                                                                         \n",
    "print(f'DataFrame: \\n{df.head(10)}\\n')"
   ]
  },
  {
   "cell_type": "markdown",
   "id": "ea414f49",
   "metadata": {
    "pycharm": {
     "name": "#%% md\n"
    }
   },
   "source": [
    "That's it! Hope you find this tutorial useful! Bye!"
   ]
  },
  {
   "cell_type": "code",
   "execution_count": null,
   "id": "ae879555",
   "metadata": {
    "pycharm": {
     "name": "#%%"
    }
   },
   "outputs": [],
   "source": []
  }
 ],
 "metadata": {
  "kernelspec": {
   "display_name": "Python 3 (ipykernel)",
   "language": "python",
   "name": "python3"
  },
  "language_info": {
   "codemirror_mode": {
    "name": "ipython",
    "version": 3
   },
   "file_extension": ".py",
   "mimetype": "text/x-python",
   "name": "python",
   "nbconvert_exporter": "python",
   "pygments_lexer": "ipython3",
   "version": "3.8.10"
  }
 },
 "nbformat": 4,
 "nbformat_minor": 5
}
